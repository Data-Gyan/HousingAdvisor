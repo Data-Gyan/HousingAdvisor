{
 "cells": [
  {
   "cell_type": "code",
   "execution_count": 453,
   "metadata": {},
   "outputs": [],
   "source": [
    "import numpy as np\n",
    "import pandas as pd\n",
    "import seaborn as sns\n",
    "import category_encoders as ce\n",
    "import matplotlib.pyplot as plt\n",
    "from sklearn.pipeline import Pipeline\n",
    "from sklearn.compose import ColumnTransformer\n",
    "from sklearn.preprocessing import StandardScaler\n",
    "from sklearn.preprocessing import OrdinalEncoder, OneHotEncoder\n",
    "from sklearn.model_selection import KFold, cross_val_score\n",
    "from sklearn.linear_model import LinearRegression, Ridge, Lasso\n",
    "from sklearn.tree import DecisionTreeRegressor\n",
    "from sklearn.ensemble import RandomForestRegressor, ExtraTreesRegressor, GradientBoostingRegressor, AdaBoostRegressor\n",
    "from sklearn.neural_network import MLPRegressor\n",
    "from sklearn.decomposition import PCA\n",
    "from xgboost import XGBRegressor\n",
    "from sklearn.svm import SVR\n",
    "from sklearn.model_selection import train_test_split \n",
    "from sklearn.metrics import mean_absolute_error"
   ]
  },
  {
   "cell_type": "code",
   "execution_count": 421,
   "metadata": {},
   "outputs": [
    {
     "data": {
      "text/html": [
       "<div>\n",
       "<style scoped>\n",
       "    .dataframe tbody tr th:only-of-type {\n",
       "        vertical-align: middle;\n",
       "    }\n",
       "\n",
       "    .dataframe tbody tr th {\n",
       "        vertical-align: top;\n",
       "    }\n",
       "\n",
       "    .dataframe thead th {\n",
       "        text-align: right;\n",
       "    }\n",
       "</style>\n",
       "<table border=\"1\" class=\"dataframe\">\n",
       "  <thead>\n",
       "    <tr style=\"text-align: right;\">\n",
       "      <th></th>\n",
       "      <th>property_type</th>\n",
       "      <th>sector</th>\n",
       "      <th>price</th>\n",
       "      <th>bedRoom</th>\n",
       "      <th>bathroom</th>\n",
       "      <th>balcony</th>\n",
       "      <th>agePossession</th>\n",
       "      <th>built_up_area</th>\n",
       "      <th>servant room</th>\n",
       "      <th>store room</th>\n",
       "      <th>furnishing_type</th>\n",
       "      <th>luxury_category</th>\n",
       "      <th>floor_category</th>\n",
       "    </tr>\n",
       "  </thead>\n",
       "  <tbody>\n",
       "    <tr>\n",
       "      <th>0</th>\n",
       "      <td>flat</td>\n",
       "      <td>sector 36</td>\n",
       "      <td>0.82</td>\n",
       "      <td>3.0</td>\n",
       "      <td>2.0</td>\n",
       "      <td>2</td>\n",
       "      <td>New Property</td>\n",
       "      <td>850.0</td>\n",
       "      <td>0.0</td>\n",
       "      <td>0.0</td>\n",
       "      <td>0.0</td>\n",
       "      <td>Low</td>\n",
       "      <td>Low Floor</td>\n",
       "    </tr>\n",
       "    <tr>\n",
       "      <th>1</th>\n",
       "      <td>flat</td>\n",
       "      <td>sector 89</td>\n",
       "      <td>0.95</td>\n",
       "      <td>2.0</td>\n",
       "      <td>2.0</td>\n",
       "      <td>2</td>\n",
       "      <td>New Property</td>\n",
       "      <td>1226.0</td>\n",
       "      <td>1.0</td>\n",
       "      <td>0.0</td>\n",
       "      <td>0.0</td>\n",
       "      <td>Low</td>\n",
       "      <td>Mid Floor</td>\n",
       "    </tr>\n",
       "  </tbody>\n",
       "</table>\n",
       "</div>"
      ],
      "text/plain": [
       "  property_type     sector  price  bedRoom  bathroom balcony agePossession  \\\n",
       "0          flat  sector 36   0.82      3.0       2.0       2  New Property   \n",
       "1          flat  sector 89   0.95      2.0       2.0       2  New Property   \n",
       "\n",
       "   built_up_area  servant room  store room  furnishing_type luxury_category  \\\n",
       "0          850.0           0.0         0.0              0.0             Low   \n",
       "1         1226.0           1.0         0.0              0.0             Low   \n",
       "\n",
       "  floor_category  \n",
       "0      Low Floor  \n",
       "1      Mid Floor  "
      ]
     },
     "execution_count": 421,
     "metadata": {},
     "output_type": "execute_result"
    }
   ],
   "source": [
    "df = pd.read_csv('./data/gurgaon_properties_post_feature_selection_v2.csv')\n",
    "df.head(2)"
   ]
  },
  {
   "cell_type": "code",
   "execution_count": 422,
   "metadata": {},
   "outputs": [
    {
     "name": "stdout",
     "output_type": "stream",
     "text": [
      "<class 'pandas.core.frame.DataFrame'>\n",
      "RangeIndex: 3554 entries, 0 to 3553\n",
      "Data columns (total 13 columns):\n",
      " #   Column           Non-Null Count  Dtype  \n",
      "---  ------           --------------  -----  \n",
      " 0   property_type    3554 non-null   object \n",
      " 1   sector           3554 non-null   object \n",
      " 2   price            3554 non-null   float64\n",
      " 3   bedRoom          3554 non-null   float64\n",
      " 4   bathroom         3554 non-null   float64\n",
      " 5   balcony          3554 non-null   object \n",
      " 6   agePossession    3554 non-null   object \n",
      " 7   built_up_area    3554 non-null   float64\n",
      " 8   servant room     3554 non-null   float64\n",
      " 9   store room       3554 non-null   float64\n",
      " 10  furnishing_type  3554 non-null   float64\n",
      " 11  luxury_category  3554 non-null   object \n",
      " 12  floor_category   3554 non-null   object \n",
      "dtypes: float64(7), object(6)\n",
      "memory usage: 361.1+ KB\n"
     ]
    }
   ],
   "source": [
    "df.info()\n",
    "# some features should be numeric like:\n",
    "# - 'balcony' : Numeric or Ordinal at the very least\n",
    "# - 'agePossession' : We can have a new feature named 'ready_to_move' based on Underconstruction values\n",
    "#           generally older the property lesser the price hence ordinal encoding should be meaningful (except Under Construction)\n",
    "# - 'luxury_category' : Can be ordinal encoded ...if iyt has effective role in the price\n",
    "# - 'floor_category' : Can be ordinal but House data is mixed that will have different effect"
   ]
  },
  {
   "cell_type": "code",
   "execution_count": 423,
   "metadata": {},
   "outputs": [
    {
     "data": {
      "text/html": [
       "<div>\n",
       "<style scoped>\n",
       "    .dataframe tbody tr th:only-of-type {\n",
       "        vertical-align: middle;\n",
       "    }\n",
       "\n",
       "    .dataframe tbody tr th {\n",
       "        vertical-align: top;\n",
       "    }\n",
       "\n",
       "    .dataframe thead th {\n",
       "        text-align: right;\n",
       "    }\n",
       "</style>\n",
       "<table border=\"1\" class=\"dataframe\">\n",
       "  <thead>\n",
       "    <tr style=\"text-align: right;\">\n",
       "      <th></th>\n",
       "      <th>property_type</th>\n",
       "      <th>sector</th>\n",
       "      <th>price</th>\n",
       "      <th>bedRoom</th>\n",
       "      <th>bathroom</th>\n",
       "      <th>balcony</th>\n",
       "      <th>agePossession</th>\n",
       "      <th>built_up_area</th>\n",
       "      <th>servant room</th>\n",
       "      <th>store room</th>\n",
       "      <th>furnishing_type</th>\n",
       "      <th>luxury_category</th>\n",
       "      <th>floor_category</th>\n",
       "    </tr>\n",
       "  </thead>\n",
       "  <tbody>\n",
       "    <tr>\n",
       "      <th>0</th>\n",
       "      <td>flat</td>\n",
       "      <td>sector 36</td>\n",
       "      <td>0.82</td>\n",
       "      <td>3.0</td>\n",
       "      <td>2.0</td>\n",
       "      <td>2</td>\n",
       "      <td>New Property</td>\n",
       "      <td>850.0</td>\n",
       "      <td>0.0</td>\n",
       "      <td>0.0</td>\n",
       "      <td>unfurnished</td>\n",
       "      <td>Low</td>\n",
       "      <td>Low Floor</td>\n",
       "    </tr>\n",
       "    <tr>\n",
       "      <th>1</th>\n",
       "      <td>flat</td>\n",
       "      <td>sector 89</td>\n",
       "      <td>0.95</td>\n",
       "      <td>2.0</td>\n",
       "      <td>2.0</td>\n",
       "      <td>2</td>\n",
       "      <td>New Property</td>\n",
       "      <td>1226.0</td>\n",
       "      <td>1.0</td>\n",
       "      <td>0.0</td>\n",
       "      <td>unfurnished</td>\n",
       "      <td>Low</td>\n",
       "      <td>Mid Floor</td>\n",
       "    </tr>\n",
       "    <tr>\n",
       "      <th>2</th>\n",
       "      <td>flat</td>\n",
       "      <td>sohna road</td>\n",
       "      <td>0.32</td>\n",
       "      <td>2.0</td>\n",
       "      <td>2.0</td>\n",
       "      <td>1</td>\n",
       "      <td>New Property</td>\n",
       "      <td>1000.0</td>\n",
       "      <td>0.0</td>\n",
       "      <td>0.0</td>\n",
       "      <td>unfurnished</td>\n",
       "      <td>Low</td>\n",
       "      <td>High Floor</td>\n",
       "    </tr>\n",
       "    <tr>\n",
       "      <th>3</th>\n",
       "      <td>flat</td>\n",
       "      <td>sector 92</td>\n",
       "      <td>1.60</td>\n",
       "      <td>3.0</td>\n",
       "      <td>4.0</td>\n",
       "      <td>3+</td>\n",
       "      <td>Relatively New</td>\n",
       "      <td>1615.0</td>\n",
       "      <td>1.0</td>\n",
       "      <td>0.0</td>\n",
       "      <td>semifurnished</td>\n",
       "      <td>High</td>\n",
       "      <td>Mid Floor</td>\n",
       "    </tr>\n",
       "    <tr>\n",
       "      <th>4</th>\n",
       "      <td>flat</td>\n",
       "      <td>sector 102</td>\n",
       "      <td>0.48</td>\n",
       "      <td>2.0</td>\n",
       "      <td>2.0</td>\n",
       "      <td>1</td>\n",
       "      <td>Relatively New</td>\n",
       "      <td>582.0</td>\n",
       "      <td>0.0</td>\n",
       "      <td>1.0</td>\n",
       "      <td>unfurnished</td>\n",
       "      <td>High</td>\n",
       "      <td>Mid Floor</td>\n",
       "    </tr>\n",
       "  </tbody>\n",
       "</table>\n",
       "</div>"
      ],
      "text/plain": [
       "  property_type      sector  price  bedRoom  bathroom balcony   agePossession  \\\n",
       "0          flat   sector 36   0.82      3.0       2.0       2    New Property   \n",
       "1          flat   sector 89   0.95      2.0       2.0       2    New Property   \n",
       "2          flat  sohna road   0.32      2.0       2.0       1    New Property   \n",
       "3          flat   sector 92   1.60      3.0       4.0      3+  Relatively New   \n",
       "4          flat  sector 102   0.48      2.0       2.0       1  Relatively New   \n",
       "\n",
       "   built_up_area  servant room  store room furnishing_type luxury_category  \\\n",
       "0          850.0           0.0         0.0     unfurnished             Low   \n",
       "1         1226.0           1.0         0.0     unfurnished             Low   \n",
       "2         1000.0           0.0         0.0     unfurnished             Low   \n",
       "3         1615.0           1.0         0.0   semifurnished            High   \n",
       "4          582.0           0.0         1.0     unfurnished            High   \n",
       "\n",
       "  floor_category  \n",
       "0      Low Floor  \n",
       "1      Mid Floor  \n",
       "2     High Floor  \n",
       "3      Mid Floor  \n",
       "4      Mid Floor  "
      ]
     },
     "execution_count": 423,
     "metadata": {},
     "output_type": "execute_result"
    }
   ],
   "source": [
    "df['furnishing_type'].value_counts()\n",
    "# 0 -> unfurnished\n",
    "# 1 -> semifurnished\n",
    "# 2 -> furnished\n",
    "df['furnishing_type'] = df['furnishing_type'].replace({0.0:'unfurnished',1.0:'semifurnished',2.0:'furnished'})\n",
    "df.head()"
   ]
  },
  {
   "cell_type": "code",
   "execution_count": 425,
   "metadata": {},
   "outputs": [],
   "source": [
    "X = df.drop(columns=['price'])\n",
    "y = df['price']\n",
    "# Applying the log1p transformation to the target variable\n",
    "y_transformed = np.log1p(y)"
   ]
  },
  {
   "attachments": {},
   "cell_type": "markdown",
   "metadata": {},
   "source": [
    "## Ordinal encoding"
   ]
  },
  {
   "cell_type": "code",
   "execution_count": 426,
   "metadata": {},
   "outputs": [],
   "source": [
    "# columns to encode (categorical columns)\n",
    "\n",
    "columns_to_encode = ['property_type', 'sector', 'balcony', 'agePossession', 'furnishing_type', 'luxury_category', 'floor_category']\n",
    "columns_to_scale = ['bedRoom', 'bathroom', 'built_up_area', 'servant room', 'store room']\n",
    "\n",
    "# Creating a column transformer for preprocessing\n",
    "preprocessor = ColumnTransformer(\n",
    "  transformers = [\n",
    "   ('num', StandardScaler(), columns_to_scale),\n",
    "   ('cat', OrdinalEncoder(), columns_to_encode)\n",
    "  ],remainder='passthrough'\n",
    ")"
   ]
  },
  {
   "attachments": {},
   "cell_type": "markdown",
   "metadata": {},
   "source": [
    "Note:\n",
    "Ordinal encoding will introduce ranking for categorical data\n",
    "This will impact LinearRegression adversely"
   ]
  },
  {
   "cell_type": "code",
   "execution_count": 427,
   "metadata": {},
   "outputs": [],
   "source": [
    "# Creating a pipeline\n",
    "pipeline = Pipeline([\n",
    "    ('preprocessor', preprocessor),\n",
    "    ('regressor', LinearRegression())\n",
    "])"
   ]
  },
  {
   "cell_type": "code",
   "execution_count": 428,
   "metadata": {},
   "outputs": [
    {
     "data": {
      "image/png": "[encoded data removed]",
      "text/plain": [
       "<Figure size 500x500 with 1 Axes>"
      ]
     },
     "metadata": {},
     "output_type": "display_data"
    }
   ],
   "source": [
    "# k-fold cross validation\n",
    "kfold = KFold(n_splits=10, shuffle=True, random_state=42)\n",
    "scores = cross_val_score(pipeline, X, y_transformed,cv=kfold, scoring='r2' )\n",
    "sns.displot(scores, kde=True)\n",
    "plt.show()"
   ]
  },
  {
   "cell_type": "code",
   "execution_count": 429,
   "metadata": {},
   "outputs": [
    {
     "name": "stdout",
     "output_type": "stream",
     "text": [
      "Validation Score : \n",
      " Mean = 0.736 STD = 0.032 \n",
      " Max  = 0.796 Min = 0.681\n"
     ]
    }
   ],
   "source": [
    "print(\"Validation Score : \\n Mean =\", round(scores.mean(),3), \"STD =\", round(scores.std(),3), \"\\n\",\n",
    "      \"Max  =\", round(scores.max(), 3), \"Min =\", round(scores.min(),3))"
   ]
  },
  {
   "attachments": {},
   "cell_type": "markdown",
   "metadata": {},
   "source": [
    "Try to get MAE (Mean Absolute Error) in this model."
   ]
  },
  {
   "cell_type": "code",
   "execution_count": 430,
   "metadata": {},
   "outputs": [
    {
     "data": {
      "text/html": [
       "<style>#sk-container-id-9 {color: black;background-color: white;}#sk-container-id-9 pre{padding: 0;}#sk-container-id-9 div.sk-toggleable {background-color: white;}#sk-container-id-9 label.sk-toggleable__label {cursor: pointer;display: block;width: 100%;margin-bottom: 0;padding: 0.3em;box-sizing: border-box;text-align: center;}#sk-container-id-9 label.sk-toggleable__label-arrow:before {content: \"▸\";float: left;margin-right: 0.25em;color: #696969;}#sk-container-id-9 label.sk-toggleable__label-arrow:hover:before {color: black;}#sk-container-id-9 div.sk-estimator:hover label.sk-toggleable__label-arrow:before {color: black;}#sk-container-id-9 div.sk-toggleable__content {max-height: 0;max-width: 0;overflow: hidden;text-align: left;background-color: #f0f8ff;}#sk-container-id-9 div.sk-toggleable__content pre {margin: 0.2em;color: black;border-radius: 0.25em;background-color: #f0f8ff;}#sk-container-id-9 input.sk-toggleable__control:checked~div.sk-toggleable__content {max-height: 200px;max-width: 100%;overflow: auto;}#sk-container-id-9 input.sk-toggleable__control:checked~label.sk-toggleable__label-arrow:before {content: \"▾\";}#sk-container-id-9 div.sk-estimator input.sk-toggleable__control:checked~label.sk-toggleable__label {background-color: #d4ebff;}#sk-container-id-9 div.sk-label input.sk-toggleable__control:checked~label.sk-toggleable__label {background-color: #d4ebff;}#sk-container-id-9 input.sk-hidden--visually {border: 0;clip: rect(1px 1px 1px 1px);clip: rect(1px, 1px, 1px, 1px);height: 1px;margin: -1px;overflow: hidden;padding: 0;position: absolute;width: 1px;}#sk-container-id-9 div.sk-estimator {font-family: monospace;background-color: #f0f8ff;border: 1px dotted black;border-radius: 0.25em;box-sizing: border-box;margin-bottom: 0.5em;}#sk-container-id-9 div.sk-estimator:hover {background-color: #d4ebff;}#sk-container-id-9 div.sk-parallel-item::after {content: \"\";width: 100%;border-bottom: 1px solid gray;flex-grow: 1;}#sk-container-id-9 div.sk-label:hover label.sk-toggleable__label {background-color: #d4ebff;}#sk-container-id-9 div.sk-serial::before {content: \"\";position: absolute;border-left: 1px solid gray;box-sizing: border-box;top: 0;bottom: 0;left: 50%;z-index: 0;}#sk-container-id-9 div.sk-serial {display: flex;flex-direction: column;align-items: center;background-color: white;padding-right: 0.2em;padding-left: 0.2em;position: relative;}#sk-container-id-9 div.sk-item {position: relative;z-index: 1;}#sk-container-id-9 div.sk-parallel {display: flex;align-items: stretch;justify-content: center;background-color: white;position: relative;}#sk-container-id-9 div.sk-item::before, #sk-container-id-9 div.sk-parallel-item::before {content: \"\";position: absolute;border-left: 1px solid gray;box-sizing: border-box;top: 0;bottom: 0;left: 50%;z-index: -1;}#sk-container-id-9 div.sk-parallel-item {display: flex;flex-direction: column;z-index: 1;position: relative;background-color: white;}#sk-container-id-9 div.sk-parallel-item:first-child::after {align-self: flex-end;width: 50%;}#sk-container-id-9 div.sk-parallel-item:last-child::after {align-self: flex-start;width: 50%;}#sk-container-id-9 div.sk-parallel-item:only-child::after {width: 0;}#sk-container-id-9 div.sk-dashed-wrapped {border: 1px dashed gray;margin: 0 0.4em 0.5em 0.4em;box-sizing: border-box;padding-bottom: 0.4em;background-color: white;}#sk-container-id-9 div.sk-label label {font-family: monospace;font-weight: bold;display: inline-block;line-height: 1.2em;}#sk-container-id-9 div.sk-label-container {text-align: center;}#sk-container-id-9 div.sk-container {/* jupyter's `normalize.less` sets `[hidden] { display: none; }` but bootstrap.min.css set `[hidden] { display: none !important; }` so we also need the `!important` here to be able to override the default hidden behavior on the sphinx rendered scikit-learn.org. See: https://github.com/scikit-learn/scikit-learn/issues/21755 */display: inline-block !important;position: relative;}#sk-container-id-9 div.sk-text-repr-fallback {display: none;}</style><div id=\"sk-container-id-9\" class=\"sk-top-container\"><div class=\"sk-text-repr-fallback\"><pre>Pipeline(steps=[(&#x27;preprocessor&#x27;,\n",
       "                 ColumnTransformer(remainder=&#x27;passthrough&#x27;,\n",
       "                                   transformers=[(&#x27;num&#x27;, StandardScaler(),\n",
       "                                                  [&#x27;bedRoom&#x27;, &#x27;bathroom&#x27;,\n",
       "                                                   &#x27;built_up_area&#x27;,\n",
       "                                                   &#x27;servant room&#x27;,\n",
       "                                                   &#x27;store room&#x27;]),\n",
       "                                                 (&#x27;cat&#x27;, OrdinalEncoder(),\n",
       "                                                  [&#x27;property_type&#x27;, &#x27;sector&#x27;,\n",
       "                                                   &#x27;balcony&#x27;, &#x27;agePossession&#x27;,\n",
       "                                                   &#x27;furnishing_type&#x27;,\n",
       "                                                   &#x27;luxury_category&#x27;,\n",
       "                                                   &#x27;floor_category&#x27;])])),\n",
       "                (&#x27;regressor&#x27;, LinearRegression())])</pre><b>In a Jupyter environment, please rerun this cell to show the HTML representation or trust the notebook. <br />On GitHub, the HTML representation is unable to render, please try loading this page with nbviewer.org.</b></div><div class=\"sk-container\" hidden><div class=\"sk-item sk-dashed-wrapped\"><div class=\"sk-label-container\"><div class=\"sk-label sk-toggleable\"><input class=\"sk-toggleable__control sk-hidden--visually\" id=\"sk-estimator-id-73\" type=\"checkbox\" ><label for=\"sk-estimator-id-73\" class=\"sk-toggleable__label sk-toggleable__label-arrow\">Pipeline</label><div class=\"sk-toggleable__content\"><pre>Pipeline(steps=[(&#x27;preprocessor&#x27;,\n",
       "                 ColumnTransformer(remainder=&#x27;passthrough&#x27;,\n",
       "                                   transformers=[(&#x27;num&#x27;, StandardScaler(),\n",
       "                                                  [&#x27;bedRoom&#x27;, &#x27;bathroom&#x27;,\n",
       "                                                   &#x27;built_up_area&#x27;,\n",
       "                                                   &#x27;servant room&#x27;,\n",
       "                                                   &#x27;store room&#x27;]),\n",
       "                                                 (&#x27;cat&#x27;, OrdinalEncoder(),\n",
       "                                                  [&#x27;property_type&#x27;, &#x27;sector&#x27;,\n",
       "                                                   &#x27;balcony&#x27;, &#x27;agePossession&#x27;,\n",
       "                                                   &#x27;furnishing_type&#x27;,\n",
       "                                                   &#x27;luxury_category&#x27;,\n",
       "                                                   &#x27;floor_category&#x27;])])),\n",
       "                (&#x27;regressor&#x27;, LinearRegression())])</pre></div></div></div><div class=\"sk-serial\"><div class=\"sk-item sk-dashed-wrapped\"><div class=\"sk-label-container\"><div class=\"sk-label sk-toggleable\"><input class=\"sk-toggleable__control sk-hidden--visually\" id=\"sk-estimator-id-74\" type=\"checkbox\" ><label for=\"sk-estimator-id-74\" class=\"sk-toggleable__label sk-toggleable__label-arrow\">preprocessor: ColumnTransformer</label><div class=\"sk-toggleable__content\"><pre>ColumnTransformer(remainder=&#x27;passthrough&#x27;,\n",
       "                  transformers=[(&#x27;num&#x27;, StandardScaler(),\n",
       "                                 [&#x27;bedRoom&#x27;, &#x27;bathroom&#x27;, &#x27;built_up_area&#x27;,\n",
       "                                  &#x27;servant room&#x27;, &#x27;store room&#x27;]),\n",
       "                                (&#x27;cat&#x27;, OrdinalEncoder(),\n",
       "                                 [&#x27;property_type&#x27;, &#x27;sector&#x27;, &#x27;balcony&#x27;,\n",
       "                                  &#x27;agePossession&#x27;, &#x27;furnishing_type&#x27;,\n",
       "                                  &#x27;luxury_category&#x27;, &#x27;floor_category&#x27;])])</pre></div></div></div><div class=\"sk-parallel\"><div class=\"sk-parallel-item\"><div class=\"sk-item\"><div class=\"sk-label-container\"><div class=\"sk-label sk-toggleable\"><input class=\"sk-toggleable__control sk-hidden--visually\" id=\"sk-estimator-id-75\" type=\"checkbox\" ><label for=\"sk-estimator-id-75\" class=\"sk-toggleable__label sk-toggleable__label-arrow\">num</label><div class=\"sk-toggleable__content\"><pre>[&#x27;bedRoom&#x27;, &#x27;bathroom&#x27;, &#x27;built_up_area&#x27;, &#x27;servant room&#x27;, &#x27;store room&#x27;]</pre></div></div></div><div class=\"sk-serial\"><div class=\"sk-item\"><div class=\"sk-estimator sk-toggleable\"><input class=\"sk-toggleable__control sk-hidden--visually\" id=\"sk-estimator-id-76\" type=\"checkbox\" ><label for=\"sk-estimator-id-76\" class=\"sk-toggleable__label sk-toggleable__label-arrow\">StandardScaler</label><div class=\"sk-toggleable__content\"><pre>StandardScaler()</pre></div></div></div></div></div></div><div class=\"sk-parallel-item\"><div class=\"sk-item\"><div class=\"sk-label-container\"><div class=\"sk-label sk-toggleable\"><input class=\"sk-toggleable__control sk-hidden--visually\" id=\"sk-estimator-id-77\" type=\"checkbox\" ><label for=\"sk-estimator-id-77\" class=\"sk-toggleable__label sk-toggleable__label-arrow\">cat</label><div class=\"sk-toggleable__content\"><pre>[&#x27;property_type&#x27;, &#x27;sector&#x27;, &#x27;balcony&#x27;, &#x27;agePossession&#x27;, &#x27;furnishing_type&#x27;, &#x27;luxury_category&#x27;, &#x27;floor_category&#x27;]</pre></div></div></div><div class=\"sk-serial\"><div class=\"sk-item\"><div class=\"sk-estimator sk-toggleable\"><input class=\"sk-toggleable__control sk-hidden--visually\" id=\"sk-estimator-id-78\" type=\"checkbox\" ><label for=\"sk-estimator-id-78\" class=\"sk-toggleable__label sk-toggleable__label-arrow\">OrdinalEncoder</label><div class=\"sk-toggleable__content\"><pre>OrdinalEncoder()</pre></div></div></div></div></div></div><div class=\"sk-parallel-item\"><div class=\"sk-item\"><div class=\"sk-label-container\"><div class=\"sk-label sk-toggleable\"><input class=\"sk-toggleable__control sk-hidden--visually\" id=\"sk-estimator-id-79\" type=\"checkbox\" ><label for=\"sk-estimator-id-79\" class=\"sk-toggleable__label sk-toggleable__label-arrow\">remainder</label><div class=\"sk-toggleable__content\"><pre>[]</pre></div></div></div><div class=\"sk-serial\"><div class=\"sk-item\"><div class=\"sk-estimator sk-toggleable\"><input class=\"sk-toggleable__control sk-hidden--visually\" id=\"sk-estimator-id-80\" type=\"checkbox\" ><label for=\"sk-estimator-id-80\" class=\"sk-toggleable__label sk-toggleable__label-arrow\">passthrough</label><div class=\"sk-toggleable__content\"><pre>passthrough</pre></div></div></div></div></div></div></div></div><div class=\"sk-item\"><div class=\"sk-estimator sk-toggleable\"><input class=\"sk-toggleable__control sk-hidden--visually\" id=\"sk-estimator-id-81\" type=\"checkbox\" ><label for=\"sk-estimator-id-81\" class=\"sk-toggleable__label sk-toggleable__label-arrow\">LinearRegression</label><div class=\"sk-toggleable__content\"><pre>LinearRegression()</pre></div></div></div></div></div></div></div>"
      ],
      "text/plain": [
       "Pipeline(steps=[('preprocessor',\n",
       "                 ColumnTransformer(remainder='passthrough',\n",
       "                                   transformers=[('num', StandardScaler(),\n",
       "                                                  ['bedRoom', 'bathroom',\n",
       "                                                   'built_up_area',\n",
       "                                                   'servant room',\n",
       "                                                   'store room']),\n",
       "                                                 ('cat', OrdinalEncoder(),\n",
       "                                                  ['property_type', 'sector',\n",
       "                                                   'balcony', 'agePossession',\n",
       "                                                   'furnishing_type',\n",
       "                                                   'luxury_category',\n",
       "                                                   'floor_category'])])),\n",
       "                ('regressor', LinearRegression())])"
      ]
     },
     "execution_count": 430,
     "metadata": {},
     "output_type": "execute_result"
    }
   ],
   "source": [
    "from sklearn.model_selection import train_test_split \n",
    "from sklearn.metrics import mean_absolute_error\n",
    "\n",
    "X_train, X_test, y_train, y_test = train_test_split(X, y_transformed, test_size=0.2, random_state=42)\n",
    "pipeline.fit(X_train, y_train)"
   ]
  },
  {
   "cell_type": "code",
   "execution_count": 431,
   "metadata": {},
   "outputs": [
    {
     "data": {
      "text/plain": [
       "0.9463822160089357"
      ]
     },
     "execution_count": 431,
     "metadata": {},
     "output_type": "execute_result"
    }
   ],
   "source": [
    "y_pred = pipeline.predict(X_test)\n",
    "# mae = mean_absolute_error(y_test, y_pred)\n",
    "mae = mean_absolute_error(np.expm1(y_test), np.expm1(y_pred))\n",
    "mae"
   ]
  },
  {
   "attachments": {},
   "cell_type": "markdown",
   "metadata": {},
   "source": [
    "# Run multiple algorithm based models and see their Score and MAE\n",
    "Make a function which accepts model name and returns these two scores"
   ]
  },
  {
   "cell_type": "code",
   "execution_count": 432,
   "metadata": {},
   "outputs": [],
   "source": [
    "def scorer(model_name, model):\n",
    "    \n",
    "    output = []\n",
    "    \n",
    "    output.append(model_name)\n",
    "    \n",
    "    pipeline = Pipeline([\n",
    "        ('preprocessor', preprocessor),\n",
    "        ('regressor', model)\n",
    "    ])\n",
    "    \n",
    "    # K-fold cross-validation\n",
    "    kfold = KFold(n_splits=10, shuffle=True, random_state=42)\n",
    "    scores = cross_val_score(pipeline, X, y_transformed, cv=kfold, scoring='r2')\n",
    "    \n",
    "    output.append(scores.mean())\n",
    "    \n",
    "    X_train, X_test, y_train, y_test = train_test_split(X,y_transformed,test_size=0.2,random_state=42)\n",
    "    \n",
    "    pipeline.fit(X_train,y_train)\n",
    "    \n",
    "    y_pred = pipeline.predict(X_test)\n",
    "    \n",
    "    y_pred = np.expm1(y_pred)\n",
    "    \n",
    "    output.append(mean_absolute_error(np.expm1(y_test),y_pred))\n",
    "    \n",
    "    return output"
   ]
  },
  {
   "cell_type": "code",
   "execution_count": 433,
   "metadata": {},
   "outputs": [],
   "source": [
    "model_dict = {\n",
    "    'linerar_reg': LinearRegression(),\n",
    "    'svr': SVR(),\n",
    "    'ridge': Ridge(),\n",
    "    'LASSO': Lasso(),\n",
    "    'decision tree': DecisionTreeRegressor(),\n",
    "    'random forest': RandomForestRegressor(),\n",
    "    'extra tree': ExtraTreesRegressor(),\n",
    "    'gradient boosting': GradientBoostingRegressor(),\n",
    "    'adaboost': AdaBoostRegressor(),\n",
    "    'mlp': MLPRegressor(),\n",
    "    'xgboost': XGBRegressor()\n",
    "}"
   ]
  },
  {
   "cell_type": "code",
   "execution_count": 434,
   "metadata": {},
   "outputs": [
    {
     "name": "stderr",
     "output_type": "stream",
     "text": [
      "/Users/vivektyagi/miniconda3/envs/envDS/lib/python3.9/site-packages/sklearn/neural_network/_multilayer_perceptron.py:679: ConvergenceWarning: Stochastic Optimizer: Maximum iterations (200) reached and the optimization hasn't converged yet.\n",
      "  warnings.warn(\n"
     ]
    },
    {
     "data": {
      "text/html": [
       "<div>\n",
       "<style scoped>\n",
       "    .dataframe tbody tr th:only-of-type {\n",
       "        vertical-align: middle;\n",
       "    }\n",
       "\n",
       "    .dataframe tbody tr th {\n",
       "        vertical-align: top;\n",
       "    }\n",
       "\n",
       "    .dataframe thead th {\n",
       "        text-align: right;\n",
       "    }\n",
       "</style>\n",
       "<table border=\"1\" class=\"dataframe\">\n",
       "  <thead>\n",
       "    <tr style=\"text-align: right;\">\n",
       "      <th></th>\n",
       "      <th>model</th>\n",
       "      <th>r2_score</th>\n",
       "      <th>mae</th>\n",
       "    </tr>\n",
       "  </thead>\n",
       "  <tbody>\n",
       "    <tr>\n",
       "      <th>10</th>\n",
       "      <td>xgboost</td>\n",
       "      <td>0.891701</td>\n",
       "      <td>0.511324</td>\n",
       "    </tr>\n",
       "    <tr>\n",
       "      <th>5</th>\n",
       "      <td>random forest</td>\n",
       "      <td>0.881537</td>\n",
       "      <td>0.537158</td>\n",
       "    </tr>\n",
       "    <tr>\n",
       "      <th>6</th>\n",
       "      <td>extra tree</td>\n",
       "      <td>0.867722</td>\n",
       "      <td>0.548438</td>\n",
       "    </tr>\n",
       "    <tr>\n",
       "      <th>7</th>\n",
       "      <td>gradient boosting</td>\n",
       "      <td>0.872621</td>\n",
       "      <td>0.576528</td>\n",
       "    </tr>\n",
       "    <tr>\n",
       "      <th>9</th>\n",
       "      <td>mlp</td>\n",
       "      <td>0.811052</td>\n",
       "      <td>0.696730</td>\n",
       "    </tr>\n",
       "    <tr>\n",
       "      <th>4</th>\n",
       "      <td>decision tree</td>\n",
       "      <td>0.773039</td>\n",
       "      <td>0.767395</td>\n",
       "    </tr>\n",
       "    <tr>\n",
       "      <th>8</th>\n",
       "      <td>adaboost</td>\n",
       "      <td>0.759255</td>\n",
       "      <td>0.798427</td>\n",
       "    </tr>\n",
       "    <tr>\n",
       "      <th>1</th>\n",
       "      <td>svr</td>\n",
       "      <td>0.764202</td>\n",
       "      <td>0.847264</td>\n",
       "    </tr>\n",
       "    <tr>\n",
       "      <th>2</th>\n",
       "      <td>ridge</td>\n",
       "      <td>0.736313</td>\n",
       "      <td>0.946339</td>\n",
       "    </tr>\n",
       "    <tr>\n",
       "      <th>0</th>\n",
       "      <td>linerar_reg</td>\n",
       "      <td>0.736310</td>\n",
       "      <td>0.946382</td>\n",
       "    </tr>\n",
       "    <tr>\n",
       "      <th>3</th>\n",
       "      <td>LASSO</td>\n",
       "      <td>0.059434</td>\n",
       "      <td>1.528906</td>\n",
       "    </tr>\n",
       "  </tbody>\n",
       "</table>\n",
       "</div>"
      ],
      "text/plain": [
       "                model  r2_score       mae\n",
       "10            xgboost  0.891701  0.511324\n",
       "5       random forest  0.881537  0.537158\n",
       "6          extra tree  0.867722  0.548438\n",
       "7   gradient boosting  0.872621  0.576528\n",
       "9                 mlp  0.811052  0.696730\n",
       "4       decision tree  0.773039  0.767395\n",
       "8            adaboost  0.759255  0.798427\n",
       "1                 svr  0.764202  0.847264\n",
       "2               ridge  0.736313  0.946339\n",
       "0         linerar_reg  0.736310  0.946382\n",
       "3               LASSO  0.059434  1.528906"
      ]
     },
     "execution_count": 434,
     "metadata": {},
     "output_type": "execute_result"
    }
   ],
   "source": [
    "model_output = []\n",
    "for model_name, model in model_dict.items():\n",
    "    model_output.append(scorer(model_name, model))\n",
    "\n",
    "matrics = pd.DataFrame(model_output, columns=['model', 'r2_score', 'mae'])\n",
    "matrics.sort_values(by='mae')"
   ]
  },
  {
   "attachments": {},
   "cell_type": "markdown",
   "metadata": {},
   "source": [
    "Test new startegy with 3 features with OHE - ['sector', 'agePossession', 'furnishing_type']"
   ]
  },
  {
   "cell_type": "code",
   "execution_count": 436,
   "metadata": {},
   "outputs": [],
   "source": [
    "# columns to encode (categorical columns)\n",
    "columns_to_encode_Ord = ['property_type', 'balcony', 'luxury_category', 'floor_category']\n",
    "columns_to_encodeOHE = ['sector', 'agePossession', 'furnishing_type']\n",
    "columns_to_scale = ['bedRoom', 'bathroom', 'built_up_area', 'servant room', 'store room']\n",
    "\n",
    "preprocessor = ColumnTransformer(\n",
    "  transformers = [\n",
    "   ('num', StandardScaler(), columns_to_scale),\n",
    "   ('cat1', OrdinalEncoder(), columns_to_encode_Ord),\n",
    "   ('cat2', OneHotEncoder(drop='first'), columns_to_encodeOHE)\n",
    "  ],remainder='passthrough'\n",
    ")"
   ]
  },
  {
   "cell_type": "code",
   "execution_count": 437,
   "metadata": {},
   "outputs": [
    {
     "name": "stdout",
     "output_type": "stream",
     "text": [
      " Score Mean =  0.854615702298591 \n",
      " Score STD =  0.015992342195195786 \n",
      " Model MAE =  0.6496719932511692\n"
     ]
    }
   ],
   "source": [
    "#create a pipeline using this preprocessor and model\n",
    "pipeline = Pipeline([\n",
    "    ('preprocessor', preprocessor),\n",
    "    ('regressor', LinearRegression())\n",
    "])\n",
    "\n",
    "# k-fold cross validation\n",
    "kfold = KFold(n_splits=10, shuffle=True, random_state=42)\n",
    "scores = cross_val_score(pipeline, X, y_transformed, cv=kfold, scoring='r2' )\n",
    "\n",
    "X_train, X_test, y_train, y_test = train_test_split(X, y_transformed, test_size=0.2, random_state=42)\n",
    "pipeline.fit(X_train, y_train)\n",
    "y_pred = pipeline.predict(X_test)\n",
    "\n",
    "mae = mean_absolute_error(np.expm1(y_test), np.expm1(y_pred))\n",
    "\n",
    "print(\" Score Mean = \", scores.mean(), \"\\n\", \"Score STD = \", scores.std(), \"\\n\", \"Model MAE = \", mae)"
   ]
  },
  {
   "attachments": {},
   "cell_type": "markdown",
   "metadata": {},
   "source": [
    "Check all the models on new strategy of applying OneHotEncoding to some features"
   ]
  },
  {
   "cell_type": "code",
   "execution_count": 438,
   "metadata": {},
   "outputs": [
    {
     "data": {
      "text/html": [
       "<div>\n",
       "<style scoped>\n",
       "    .dataframe tbody tr th:only-of-type {\n",
       "        vertical-align: middle;\n",
       "    }\n",
       "\n",
       "    .dataframe tbody tr th {\n",
       "        vertical-align: top;\n",
       "    }\n",
       "\n",
       "    .dataframe thead th {\n",
       "        text-align: right;\n",
       "    }\n",
       "</style>\n",
       "<table border=\"1\" class=\"dataframe\">\n",
       "  <thead>\n",
       "    <tr style=\"text-align: right;\">\n",
       "      <th></th>\n",
       "      <th>model</th>\n",
       "      <th>r2_score</th>\n",
       "      <th>mae</th>\n",
       "    </tr>\n",
       "  </thead>\n",
       "  <tbody>\n",
       "    <tr>\n",
       "      <th>6</th>\n",
       "      <td>extra tree</td>\n",
       "      <td>0.885355</td>\n",
       "      <td>0.477680</td>\n",
       "    </tr>\n",
       "    <tr>\n",
       "      <th>10</th>\n",
       "      <td>xgboost</td>\n",
       "      <td>0.892370</td>\n",
       "      <td>0.503674</td>\n",
       "    </tr>\n",
       "    <tr>\n",
       "      <th>9</th>\n",
       "      <td>mlp</td>\n",
       "      <td>0.882263</td>\n",
       "      <td>0.505959</td>\n",
       "    </tr>\n",
       "    <tr>\n",
       "      <th>1</th>\n",
       "      <td>svr</td>\n",
       "      <td>0.882774</td>\n",
       "      <td>0.533683</td>\n",
       "    </tr>\n",
       "    <tr>\n",
       "      <th>5</th>\n",
       "      <td>random forest</td>\n",
       "      <td>0.870567</td>\n",
       "      <td>0.536422</td>\n",
       "    </tr>\n",
       "    <tr>\n",
       "      <th>7</th>\n",
       "      <td>gradient boosting</td>\n",
       "      <td>0.856448</td>\n",
       "      <td>0.602104</td>\n",
       "    </tr>\n",
       "    <tr>\n",
       "      <th>4</th>\n",
       "      <td>decision tree</td>\n",
       "      <td>0.793638</td>\n",
       "      <td>0.629878</td>\n",
       "    </tr>\n",
       "    <tr>\n",
       "      <th>0</th>\n",
       "      <td>linerar_reg</td>\n",
       "      <td>0.854616</td>\n",
       "      <td>0.649672</td>\n",
       "    </tr>\n",
       "    <tr>\n",
       "      <th>2</th>\n",
       "      <td>ridge</td>\n",
       "      <td>0.854915</td>\n",
       "      <td>0.653729</td>\n",
       "    </tr>\n",
       "    <tr>\n",
       "      <th>8</th>\n",
       "      <td>adaboost</td>\n",
       "      <td>0.721731</td>\n",
       "      <td>0.874405</td>\n",
       "    </tr>\n",
       "    <tr>\n",
       "      <th>3</th>\n",
       "      <td>LASSO</td>\n",
       "      <td>-0.003598</td>\n",
       "      <td>1.576392</td>\n",
       "    </tr>\n",
       "  </tbody>\n",
       "</table>\n",
       "</div>"
      ],
      "text/plain": [
       "                model  r2_score       mae\n",
       "6          extra tree  0.885355  0.477680\n",
       "10            xgboost  0.892370  0.503674\n",
       "9                 mlp  0.882263  0.505959\n",
       "1                 svr  0.882774  0.533683\n",
       "5       random forest  0.870567  0.536422\n",
       "7   gradient boosting  0.856448  0.602104\n",
       "4       decision tree  0.793638  0.629878\n",
       "0         linerar_reg  0.854616  0.649672\n",
       "2               ridge  0.854915  0.653729\n",
       "8            adaboost  0.721731  0.874405\n",
       "3               LASSO -0.003598  1.576392"
      ]
     },
     "execution_count": 438,
     "metadata": {},
     "output_type": "execute_result"
    }
   ],
   "source": [
    "model_output = []\n",
    "for model_name, model in model_dict.items():\n",
    "    model_output.append(scorer(model_name, model))\n",
    "\n",
    "matrics = pd.DataFrame(model_output, columns=['model', 'r2_score', 'mae'])\n",
    "matrics.sort_values(by='mae')"
   ]
  },
  {
   "attachments": {},
   "cell_type": "markdown",
   "metadata": {},
   "source": [
    "OneHotEncoding with PCA"
   ]
  },
  {
   "cell_type": "code",
   "execution_count": 445,
   "metadata": {},
   "outputs": [
    {
     "name": "stdout",
     "output_type": "stream",
     "text": [
      " Score Mean =  0.7644414727636658 \n",
      " Score STD =  0.028840370479173618 \n",
      " Model MAE =  0.9061825500645798\n"
     ]
    }
   ],
   "source": [
    "# columns to encode (categorical columns)\n",
    "columns_to_encode_Ord = ['property_type', 'balcony', 'luxury_category', 'floor_category']\n",
    "columns_to_encodeOHE = ['sector', 'agePossession', 'furnishing_type']\n",
    "columns_to_scale = ['bedRoom', 'bathroom', 'built_up_area', 'servant room', 'store room']\n",
    "\n",
    "\n",
    "# Creating a column transformer for preprocessing\n",
    "preprocessor = ColumnTransformer(\n",
    "  transformers = [\n",
    "   ('num', StandardScaler(), columns_to_scale),\n",
    "   ('cat1', OrdinalEncoder(), columns_to_encode_Ord),\n",
    "   ('cat2', OneHotEncoder(drop='first',sparse_output=False), columns_to_encodeOHE)\n",
    "  ],remainder='passthrough'\n",
    ")\n",
    "\n",
    "# Creating a pipeline\n",
    "pipeline = Pipeline([\n",
    "    ('preprocessor', preprocessor),\n",
    "    ('pca', PCA(n_components=0.95)),\n",
    "    ('regression', LinearRegression())\n",
    "])\n",
    "\n",
    "kfold = KFold(n_splits=10, shuffle=True, random_state=42)\n",
    "scores = cross_val_score(pipeline, X, y_transformed,cv=kfold, scoring='r2' )\n",
    "\n",
    "#print(scores.mean(), scores.std())\n",
    "X_train, X_test, y_train, y_test = train_test_split(X, y_transformed, test_size=0.2, random_state=42)\n",
    "pipeline.fit(X_train, y_train)\n",
    "y_pred = pipeline.predict(X_test)\n",
    "\n",
    "mae = mean_absolute_error(np.expm1(y_test), np.expm1(y_pred))\n",
    "\n",
    "print(\" Score Mean = \", scores.mean(), \"\\n\", \"Score STD = \", scores.std(), \"\\n\", \"Model MAE = \", mae)"
   ]
  },
  {
   "cell_type": "code",
   "execution_count": 446,
   "metadata": {},
   "outputs": [
    {
     "name": "stderr",
     "output_type": "stream",
     "text": [
      "/Users/vivektyagi/miniconda3/envs/envDS/lib/python3.9/site-packages/sklearn/neural_network/_multilayer_perceptron.py:679: ConvergenceWarning: Stochastic Optimizer: Maximum iterations (200) reached and the optimization hasn't converged yet.\n",
      "  warnings.warn(\n",
      "/Users/vivektyagi/miniconda3/envs/envDS/lib/python3.9/site-packages/sklearn/neural_network/_multilayer_perceptron.py:679: ConvergenceWarning: Stochastic Optimizer: Maximum iterations (200) reached and the optimization hasn't converged yet.\n",
      "  warnings.warn(\n",
      "/Users/vivektyagi/miniconda3/envs/envDS/lib/python3.9/site-packages/sklearn/neural_network/_multilayer_perceptron.py:679: ConvergenceWarning: Stochastic Optimizer: Maximum iterations (200) reached and the optimization hasn't converged yet.\n",
      "  warnings.warn(\n",
      "/Users/vivektyagi/miniconda3/envs/envDS/lib/python3.9/site-packages/sklearn/neural_network/_multilayer_perceptron.py:679: ConvergenceWarning: Stochastic Optimizer: Maximum iterations (200) reached and the optimization hasn't converged yet.\n",
      "  warnings.warn(\n"
     ]
    },
    {
     "data": {
      "text/html": [
       "<div>\n",
       "<style scoped>\n",
       "    .dataframe tbody tr th:only-of-type {\n",
       "        vertical-align: middle;\n",
       "    }\n",
       "\n",
       "    .dataframe tbody tr th {\n",
       "        vertical-align: top;\n",
       "    }\n",
       "\n",
       "    .dataframe thead th {\n",
       "        text-align: right;\n",
       "    }\n",
       "</style>\n",
       "<table border=\"1\" class=\"dataframe\">\n",
       "  <thead>\n",
       "    <tr style=\"text-align: right;\">\n",
       "      <th></th>\n",
       "      <th>model</th>\n",
       "      <th>r2_score</th>\n",
       "      <th>mae</th>\n",
       "    </tr>\n",
       "  </thead>\n",
       "  <tbody>\n",
       "    <tr>\n",
       "      <th>6</th>\n",
       "      <td>extra tree</td>\n",
       "      <td>0.839684</td>\n",
       "      <td>0.594826</td>\n",
       "    </tr>\n",
       "    <tr>\n",
       "      <th>5</th>\n",
       "      <td>random forest</td>\n",
       "      <td>0.820492</td>\n",
       "      <td>0.638745</td>\n",
       "    </tr>\n",
       "    <tr>\n",
       "      <th>10</th>\n",
       "      <td>xgboost</td>\n",
       "      <td>0.824887</td>\n",
       "      <td>0.652724</td>\n",
       "    </tr>\n",
       "    <tr>\n",
       "      <th>1</th>\n",
       "      <td>svr</td>\n",
       "      <td>0.823528</td>\n",
       "      <td>0.664194</td>\n",
       "    </tr>\n",
       "    <tr>\n",
       "      <th>9</th>\n",
       "      <td>mlp</td>\n",
       "      <td>0.818917</td>\n",
       "      <td>0.684729</td>\n",
       "    </tr>\n",
       "    <tr>\n",
       "      <th>7</th>\n",
       "      <td>gradient boosting</td>\n",
       "      <td>0.823669</td>\n",
       "      <td>0.694301</td>\n",
       "    </tr>\n",
       "    <tr>\n",
       "      <th>4</th>\n",
       "      <td>decision tree</td>\n",
       "      <td>0.623741</td>\n",
       "      <td>0.819411</td>\n",
       "    </tr>\n",
       "    <tr>\n",
       "      <th>0</th>\n",
       "      <td>linerar_reg</td>\n",
       "      <td>0.764441</td>\n",
       "      <td>0.906183</td>\n",
       "    </tr>\n",
       "    <tr>\n",
       "      <th>2</th>\n",
       "      <td>ridge</td>\n",
       "      <td>0.764486</td>\n",
       "      <td>0.906239</td>\n",
       "    </tr>\n",
       "    <tr>\n",
       "      <th>8</th>\n",
       "      <td>adaboost</td>\n",
       "      <td>0.690633</td>\n",
       "      <td>0.910837</td>\n",
       "    </tr>\n",
       "    <tr>\n",
       "      <th>3</th>\n",
       "      <td>LASSO</td>\n",
       "      <td>-0.003598</td>\n",
       "      <td>1.576392</td>\n",
       "    </tr>\n",
       "  </tbody>\n",
       "</table>\n",
       "</div>"
      ],
      "text/plain": [
       "                model  r2_score       mae\n",
       "6          extra tree  0.839684  0.594826\n",
       "5       random forest  0.820492  0.638745\n",
       "10            xgboost  0.824887  0.652724\n",
       "1                 svr  0.823528  0.664194\n",
       "9                 mlp  0.818917  0.684729\n",
       "7   gradient boosting  0.823669  0.694301\n",
       "4       decision tree  0.623741  0.819411\n",
       "0         linerar_reg  0.764441  0.906183\n",
       "2               ridge  0.764486  0.906239\n",
       "8            adaboost  0.690633  0.910837\n",
       "3               LASSO -0.003598  1.576392"
      ]
     },
     "execution_count": 446,
     "metadata": {},
     "output_type": "execute_result"
    }
   ],
   "source": [
    "# columns to encode (categorical columns)\n",
    "columns_to_encode_Ord = ['property_type', 'balcony', 'luxury_category', 'floor_category']\n",
    "columns_to_encodeOHE = ['sector', 'agePossession', 'furnishing_type']\n",
    "columns_to_scale = ['bedRoom', 'bathroom', 'built_up_area', 'servant room', 'store room']\n",
    "\n",
    "\n",
    "# Creating a column transformer for preprocessing\n",
    "preprocessor = ColumnTransformer(\n",
    "  transformers = [\n",
    "   ('num', StandardScaler(), columns_to_scale),\n",
    "   ('cat1', OrdinalEncoder(), columns_to_encode_Ord),\n",
    "   ('cat2', OneHotEncoder(drop='first',sparse_output=False), columns_to_encodeOHE)\n",
    "  ],remainder='passthrough'\n",
    ")\n",
    "    \n",
    "\n",
    "def scorer(model_name, model):\n",
    "\n",
    "    output = []\n",
    "    output.append(model_name)\n",
    "    \n",
    "    #create a pipeline using this preprocessor and model\n",
    "    pipeline = Pipeline([\n",
    "        ('preprocessor', preprocessor),\n",
    "        ('pca', PCA(n_components=0.95)),\n",
    "        ('regressor', model)\n",
    "    ])\n",
    "\n",
    "    # k-fold cross validation\n",
    "    kfold = KFold(n_splits=10, shuffle=True, random_state=42)\n",
    "    scores = cross_val_score(pipeline, X, y_transformed, cv=kfold, scoring='r2' )\n",
    "    output.append(scores.mean())\n",
    "\n",
    "    X_train, X_test, y_train, y_test = train_test_split(X, y_transformed, test_size=0.2, random_state=42)\n",
    "    pipeline.fit(X_train, y_train)\n",
    "    y_pred = pipeline.predict(X_test)\n",
    "    \n",
    "    mae = mean_absolute_error(np.expm1(y_test), np.expm1(y_pred))\n",
    "\n",
    "    output.append(mae)\n",
    "\n",
    "    return output\n",
    "\n",
    "model_output = []\n",
    "for model_name, model in model_dict.items():\n",
    "    model_output.append(scorer(model_name, model))\n",
    "\n",
    "matrics = pd.DataFrame(model_output, columns=['model', 'r2_score', 'mae'])\n",
    "matrics.sort_values(by='mae')"
   ]
  },
  {
   "attachments": {},
   "cell_type": "markdown",
   "metadata": {},
   "source": [
    "PCA messedup the whole thing. Not a suitable algorithm even for 95% explainability of std."
   ]
  },
  {
   "attachments": {},
   "cell_type": "markdown",
   "metadata": {},
   "source": [
    "# Target Encoding"
   ]
  },
  {
   "attachments": {},
   "cell_type": "markdown",
   "metadata": {},
   "source": [
    "Check for LinearRegression while Target Encoding is added for 'sector' column"
   ]
  },
  {
   "cell_type": "code",
   "execution_count": 451,
   "metadata": {},
   "outputs": [
    {
     "name": "stdout",
     "output_type": "stream",
     "text": [
      " Score Mean =  0.828976628370946 \n",
      " Score STD =  0.018936274205272774 \n",
      " Model MAE =  0.7127278833922408\n"
     ]
    }
   ],
   "source": [
    "# columns to encode (categorical columns)\n",
    "columns_to_encode_Ord = ['property_type', 'balcony', 'luxury_category', 'floor_category']\n",
    "columns_to_encodeOHE = ['agePossession', 'furnishing_type']\n",
    "columns_to_scale = ['bedRoom', 'bathroom', 'built_up_area', 'servant room', 'store room']\n",
    "\n",
    "\n",
    "# Creating a column transformer for preprocessing\n",
    "preprocessor = ColumnTransformer(\n",
    "  transformers = [\n",
    "   ('num', StandardScaler(), columns_to_scale),\n",
    "   ('cat1', OrdinalEncoder(), columns_to_encode_Ord),\n",
    "   ('cat2', OneHotEncoder(drop='first',sparse_output=False), columns_to_encodeOHE),\n",
    "   ('target', ce.TargetEncoder(), ['sector'])\n",
    "  ],remainder='passthrough'\n",
    ")\n",
    "\n",
    "pipeline = Pipeline([\n",
    "    ('preprocessor', preprocessor),\n",
    "    ('regression', LinearRegression())\n",
    "])\n",
    "\n",
    "kfold = KFold(n_splits=10, shuffle=True, random_state=42)\n",
    "scores = cross_val_score(pipeline, X, y_transformed,cv=kfold, scoring='r2' )\n",
    "\n",
    "X_train, X_test, y_train, y_test = train_test_split(X, y_transformed, test_size=0.2, random_state=42)\n",
    "pipeline.fit(X_train, y_train)\n",
    "y_pred = pipeline.predict(X_test)\n",
    "\n",
    "mae = mean_absolute_error(np.expm1(y_test), np.expm1(y_pred))\n",
    "\n",
    "print(\" Score Mean = \", scores.mean(), \"\\n\", \"Score STD = \", scores.std(), \"\\n\", \"Model MAE = \", mae)"
   ]
  },
  {
   "attachments": {},
   "cell_type": "markdown",
   "metadata": {},
   "source": [
    "Target Encoding alongwith OneHotEncoder, OrdinalEncoder, StandardScalar.\n",
    "Check for all 11 algorithms/model types "
   ]
  },
  {
   "cell_type": "code",
   "execution_count": 457,
   "metadata": {},
   "outputs": [
    {
     "data": {
      "text/html": [
       "<div>\n",
       "<style scoped>\n",
       "    .dataframe tbody tr th:only-of-type {\n",
       "        vertical-align: middle;\n",
       "    }\n",
       "\n",
       "    .dataframe tbody tr th {\n",
       "        vertical-align: top;\n",
       "    }\n",
       "\n",
       "    .dataframe thead th {\n",
       "        text-align: right;\n",
       "    }\n",
       "</style>\n",
       "<table border=\"1\" class=\"dataframe\">\n",
       "  <thead>\n",
       "    <tr style=\"text-align: right;\">\n",
       "      <th></th>\n",
       "      <th>model</th>\n",
       "      <th>r2_score</th>\n",
       "      <th>mae</th>\n",
       "    </tr>\n",
       "  </thead>\n",
       "  <tbody>\n",
       "    <tr>\n",
       "      <th>5</th>\n",
       "      <td>random forest</td>\n",
       "      <td>0.893991</td>\n",
       "      <td>0.468424</td>\n",
       "    </tr>\n",
       "    <tr>\n",
       "      <th>6</th>\n",
       "      <td>extra tree</td>\n",
       "      <td>0.893289</td>\n",
       "      <td>0.473730</td>\n",
       "    </tr>\n",
       "    <tr>\n",
       "      <th>10</th>\n",
       "      <td>xgboost</td>\n",
       "      <td>0.900439</td>\n",
       "      <td>0.482847</td>\n",
       "    </tr>\n",
       "    <tr>\n",
       "      <th>7</th>\n",
       "      <td>gradient boosting</td>\n",
       "      <td>0.883556</td>\n",
       "      <td>0.526344</td>\n",
       "    </tr>\n",
       "    <tr>\n",
       "      <th>4</th>\n",
       "      <td>decision tree</td>\n",
       "      <td>0.815894</td>\n",
       "      <td>0.559555</td>\n",
       "    </tr>\n",
       "    <tr>\n",
       "      <th>1</th>\n",
       "      <td>svr</td>\n",
       "      <td>0.863047</td>\n",
       "      <td>0.584449</td>\n",
       "    </tr>\n",
       "    <tr>\n",
       "      <th>9</th>\n",
       "      <td>mlp</td>\n",
       "      <td>0.848601</td>\n",
       "      <td>0.606782</td>\n",
       "    </tr>\n",
       "    <tr>\n",
       "      <th>8</th>\n",
       "      <td>adaboost</td>\n",
       "      <td>0.813812</td>\n",
       "      <td>0.691883</td>\n",
       "    </tr>\n",
       "    <tr>\n",
       "      <th>0</th>\n",
       "      <td>linerar_reg</td>\n",
       "      <td>0.828977</td>\n",
       "      <td>0.712728</td>\n",
       "    </tr>\n",
       "    <tr>\n",
       "      <th>2</th>\n",
       "      <td>ridge</td>\n",
       "      <td>0.828992</td>\n",
       "      <td>0.713246</td>\n",
       "    </tr>\n",
       "    <tr>\n",
       "      <th>3</th>\n",
       "      <td>LASSO</td>\n",
       "      <td>-0.003598</td>\n",
       "      <td>1.576392</td>\n",
       "    </tr>\n",
       "  </tbody>\n",
       "</table>\n",
       "</div>"
      ],
      "text/plain": [
       "                model  r2_score       mae\n",
       "5       random forest  0.893991  0.468424\n",
       "6          extra tree  0.893289  0.473730\n",
       "10            xgboost  0.900439  0.482847\n",
       "7   gradient boosting  0.883556  0.526344\n",
       "4       decision tree  0.815894  0.559555\n",
       "1                 svr  0.863047  0.584449\n",
       "9                 mlp  0.848601  0.606782\n",
       "8            adaboost  0.813812  0.691883\n",
       "0         linerar_reg  0.828977  0.712728\n",
       "2               ridge  0.828992  0.713246\n",
       "3               LASSO -0.003598  1.576392"
      ]
     },
     "execution_count": 457,
     "metadata": {},
     "output_type": "execute_result"
    }
   ],
   "source": [
    "# columns to encode (categorical columns)\n",
    "columns_to_encode_Ord = ['property_type', 'balcony', 'luxury_category', 'floor_category']\n",
    "columns_to_encodeOHE = ['agePossession', 'furnishing_type']\n",
    "columns_to_scale = ['bedRoom', 'bathroom', 'built_up_area', 'servant room', 'store room']\n",
    "column_to_target = ['sector']\n",
    "\n",
    "# Creating a column transformer for preprocessing\n",
    "preprocessor = ColumnTransformer(\n",
    "  transformers = [\n",
    "   ('target', ce.TargetEncoder(), column_to_target),\n",
    "   ('num', StandardScaler(), columns_to_scale),\n",
    "   ('cat1', OrdinalEncoder(), columns_to_encode_Ord),\n",
    "   ('cat2', OneHotEncoder(drop='first',sparse_output=False), columns_to_encodeOHE),\n",
    "  ],remainder='passthrough'\n",
    ")\n",
    "\n",
    "def scorer(model_name, model):\n",
    "\n",
    "    output = []\n",
    "    output.append(model_name)\n",
    "    \n",
    "    #create a pipeline using this preprocessor and model\n",
    "    pipeline = Pipeline([\n",
    "        ('preprocessor', preprocessor),\n",
    "        ('regressor', model)\n",
    "    ])\n",
    "\n",
    "    # k-fold cross validation\n",
    "    kfold = KFold(n_splits=10, shuffle=True, random_state=42)\n",
    "    scores = cross_val_score(pipeline, X, y_transformed, cv=kfold, scoring='r2' )\n",
    "    output.append(scores.mean())\n",
    "\n",
    "    X_train, X_test, y_train, y_test = train_test_split(X, y_transformed, test_size=0.2, random_state=42)\n",
    "    pipeline.fit(X_train, y_train)\n",
    "    y_pred = pipeline.predict(X_test)\n",
    "    \n",
    "    mae = mean_absolute_error(np.expm1(y_test), np.expm1(y_pred))\n",
    "\n",
    "    output.append(mae)\n",
    "\n",
    "    return output\n",
    "\n",
    "model_output = []\n",
    "for model_name, model in model_dict.items():\n",
    "    model_output.append(scorer(model_name, model))\n",
    "\n",
    "matrics = pd.DataFrame(model_output, columns=['model', 'r2_score', 'mae'])\n",
    "matrics.sort_values(by='mae')"
   ]
  },
  {
   "attachments": {},
   "cell_type": "markdown",
   "metadata": {},
   "source": [
    "# Conclusion:\n",
    "OrdinalEncoding = ['property_type', 'balcony', 'luxury_category', 'floor_category']             \n",
    "OneHotEncoding = ['agePossession', 'furnishing_type']               \n",
    "StandardScaler = ['bedRoom', 'bathroom', 'built_up_area', 'servant room', 'store room']             \n",
    "TargetEncoding = ['sector']             \n",
    "\n",
    "With the above encoding, RandomForest gives the best results.\n",
    "We can go for Hyperparameter tuninng for this RandomForest algorithm."
   ]
  },
  {
   "attachments": {},
   "cell_type": "markdown",
   "metadata": {},
   "source": [
    "# Hyperparameter Tuning\n",
    "RandomForestRegressor"
   ]
  },
  {
   "cell_type": "code",
   "execution_count": 461,
   "metadata": {},
   "outputs": [
    {
     "name": "stdout",
     "output_type": "stream",
     "text": [
      "Fitting 10 folds for each of 128 candidates, totalling 1280 fits\n"
     ]
    },
    {
     "name": "stderr",
     "output_type": "stream",
     "text": [
      "/Users/vivektyagi/miniconda3/envs/envDS/lib/python3.9/site-packages/sklearn/ensemble/_forest.py:414: FutureWarning: `max_features='auto'` has been deprecated in 1.1 and will be removed in 1.3. To keep the past behaviour, explicitly set `max_features=1.0` or remove this parameter as it is also the default value for RandomForestRegressors and ExtraTreesRegressors.\n",
      "  warn(\n",
      "/Users/vivektyagi/miniconda3/envs/envDS/lib/python3.9/site-packages/sklearn/ensemble/_forest.py:414: FutureWarning: `max_features='auto'` has been deprecated in 1.1 and will be removed in 1.3. To keep the past behaviour, explicitly set `max_features=1.0` or remove this parameter as it is also the default value for RandomForestRegressors and ExtraTreesRegressors.\n",
      "  warn(\n",
      "/Users/vivektyagi/miniconda3/envs/envDS/lib/python3.9/site-packages/sklearn/ensemble/_forest.py:414: FutureWarning: `max_features='auto'` has been deprecated in 1.1 and will be removed in 1.3. To keep the past behaviour, explicitly set `max_features=1.0` or remove this parameter as it is also the default value for RandomForestRegressors and ExtraTreesRegressors.\n",
      "  warn(\n",
      "/Users/vivektyagi/miniconda3/envs/envDS/lib/python3.9/site-packages/sklearn/ensemble/_forest.py:414: FutureWarning: `max_features='auto'` has been deprecated in 1.1 and will be removed in 1.3. To keep the past behaviour, explicitly set `max_features=1.0` or remove this parameter as it is also the default value for RandomForestRegressors and ExtraTreesRegressors.\n",
      "  warn(\n",
      "/Users/vivektyagi/miniconda3/envs/envDS/lib/python3.9/site-packages/sklearn/ensemble/_forest.py:414: FutureWarning: `max_features='auto'` has been deprecated in 1.1 and will be removed in 1.3. To keep the past behaviour, explicitly set `max_features=1.0` or remove this parameter as it is also the default value for RandomForestRegressors and ExtraTreesRegressors.\n",
      "  warn(\n",
      "/Users/vivektyagi/miniconda3/envs/envDS/lib/python3.9/site-packages/sklearn/ensemble/_forest.py:414: FutureWarning: `max_features='auto'` has been deprecated in 1.1 and will be removed in 1.3. To keep the past behaviour, explicitly set `max_features=1.0` or remove this parameter as it is also the default value for RandomForestRegressors and ExtraTreesRegressors.\n",
      "  warn(\n",
      "/Users/vivektyagi/miniconda3/envs/envDS/lib/python3.9/site-packages/sklearn/ensemble/_forest.py:414: FutureWarning: `max_features='auto'` has been deprecated in 1.1 and will be removed in 1.3. To keep the past behaviour, explicitly set `max_features=1.0` or remove this parameter as it is also the default value for RandomForestRegressors and ExtraTreesRegressors.\n",
      "  warn(\n",
      "/Users/vivektyagi/miniconda3/envs/envDS/lib/python3.9/site-packages/sklearn/ensemble/_forest.py:414: FutureWarning: `max_features='auto'` has been deprecated in 1.1 and will be removed in 1.3. To keep the past behaviour, explicitly set `max_features=1.0` or remove this parameter as it is also the default value for RandomForestRegressors and ExtraTreesRegressors.\n",
      "  warn(\n"
     ]
    },
    {
     "name": "stdout",
     "output_type": "stream",
     "text": [
      "[CV 1/10] END regressor__max_depth=None, regressor__max_features=auto, regressor__max_samples=0.1, regressor__n_estimators=50;, score=0.878 total time=   0.4s\n",
      "[CV 2/10] END regressor__max_depth=None, regressor__max_features=auto, regressor__max_samples=0.1, regressor__n_estimators=50;, score=0.901 total time=   0.4s\n",
      "[CV 3/10] END regressor__max_depth=None, regressor__max_features=auto, regressor__max_samples=0.1, regressor__n_estimators=50;, score=0.890 total time=   0.4s\n",
      "[CV 4/10] END regressor__max_depth=None, regressor__max_features=auto, regressor__max_samples=0.1, regressor__n_estimators=50;, score=0.888 total time=   0.4s\n",
      "[CV 6/10] END regressor__max_depth=None, regressor__max_features=auto, regressor__max_samples=0.1, regressor__n_estimators=50;, score=0.858 total time=   0.4s\n",
      "[CV 5/10] END regressor__max_depth=None, regressor__max_features=auto, regressor__max_samples=0.1, regressor__n_estimators=50;, score=0.869 total time=   0.5s\n"
     ]
    },
    {
     "name": "stderr",
     "output_type": "stream",
     "text": [
      "/Users/vivektyagi/miniconda3/envs/envDS/lib/python3.9/site-packages/sklearn/ensemble/_forest.py:414: FutureWarning: `max_features='auto'` has been deprecated in 1.1 and will be removed in 1.3. To keep the past behaviour, explicitly set `max_features=1.0` or remove this parameter as it is also the default value for RandomForestRegressors and ExtraTreesRegressors.\n",
      "  warn(\n",
      "/Users/vivektyagi/miniconda3/envs/envDS/lib/python3.9/site-packages/sklearn/ensemble/_forest.py:414: FutureWarning: `max_features='auto'` has been deprecated in 1.1 and will be removed in 1.3. To keep the past behaviour, explicitly set `max_features=1.0` or remove this parameter as it is also the default value for RandomForestRegressors and ExtraTreesRegressors.\n",
      "  warn(\n",
      "/Users/vivektyagi/miniconda3/envs/envDS/lib/python3.9/site-packages/sklearn/ensemble/_forest.py:414: FutureWarning: `max_features='auto'` has been deprecated in 1.1 and will be removed in 1.3. To keep the past behaviour, explicitly set `max_features=1.0` or remove this parameter as it is also the default value for RandomForestRegressors and ExtraTreesRegressors.\n",
      "  warn(\n",
      "/Users/vivektyagi/miniconda3/envs/envDS/lib/python3.9/site-packages/sklearn/ensemble/_forest.py:414: FutureWarning: `max_features='auto'` has been deprecated in 1.1 and will be removed in 1.3. To keep the past behaviour, explicitly set `max_features=1.0` or remove this parameter as it is also the default value for RandomForestRegressors and ExtraTreesRegressors.\n",
      "  warn(\n"
     ]
    },
    {
     "name": "stdout",
     "output_type": "stream",
     "text": [
      "[CV 7/10] END regressor__max_depth=None, regressor__max_features=auto, regressor__max_samples=0.1, regressor__n_estimators=50;, score=0.877 total time=   0.5s\n",
      "[CV 8/10] END regressor__max_depth=None, regressor__max_features=auto, regressor__max_samples=0.1, regressor__n_estimators=50;, score=0.871 total time=   0.5s\n"
     ]
    },
    {
     "name": "stderr",
     "output_type": "stream",
     "text": [
      "/Users/vivektyagi/miniconda3/envs/envDS/lib/python3.9/site-packages/sklearn/ensemble/_forest.py:414: FutureWarning: `max_features='auto'` has been deprecated in 1.1 and will be removed in 1.3. To keep the past behaviour, explicitly set `max_features=1.0` or remove this parameter as it is also the default value for RandomForestRegressors and ExtraTreesRegressors.\n",
      "  warn(\n",
      "/Users/vivektyagi/miniconda3/envs/envDS/lib/python3.9/site-packages/sklearn/ensemble/_forest.py:414: FutureWarning: `max_features='auto'` has been deprecated in 1.1 and will be removed in 1.3. To keep the past behaviour, explicitly set `max_features=1.0` or remove this parameter as it is also the default value for RandomForestRegressors and ExtraTreesRegressors.\n",
      "  warn(\n",
      "/Users/vivektyagi/miniconda3/envs/envDS/lib/python3.9/site-packages/sklearn/ensemble/_forest.py:414: FutureWarning: `max_features='auto'` has been deprecated in 1.1 and will be removed in 1.3. To keep the past behaviour, explicitly set `max_features=1.0` or remove this parameter as it is also the default value for RandomForestRegressors and ExtraTreesRegressors.\n",
      "  warn(\n",
      "/Users/vivektyagi/miniconda3/envs/envDS/lib/python3.9/site-packages/sklearn/ensemble/_forest.py:414: FutureWarning: `max_features='auto'` has been deprecated in 1.1 and will be removed in 1.3. To keep the past behaviour, explicitly set `max_features=1.0` or remove this parameter as it is also the default value for RandomForestRegressors and ExtraTreesRegressors.\n",
      "  warn(\n",
      "/Users/vivektyagi/miniconda3/envs/envDS/lib/python3.9/site-packages/sklearn/ensemble/_forest.py:414: FutureWarning: `max_features='auto'` has been deprecated in 1.1 and will be removed in 1.3. To keep the past behaviour, explicitly set `max_features=1.0` or remove this parameter as it is also the default value for RandomForestRegressors and ExtraTreesRegressors.\n",
      "  warn(\n"
     ]
    },
    {
     "name": "stdout",
     "output_type": "stream",
     "text": [
      "[CV 9/10] END regressor__max_depth=None, regressor__max_features=auto, regressor__max_samples=0.1, regressor__n_estimators=50;, score=0.842 total time=   0.6s\n",
      "[CV 10/10] END regressor__max_depth=None, regressor__max_features=auto, regressor__max_samples=0.1, regressor__n_estimators=50;, score=0.864 total time=   0.6s\n"
     ]
    },
    {
     "name": "stderr",
     "output_type": "stream",
     "text": [
      "/Users/vivektyagi/miniconda3/envs/envDS/lib/python3.9/site-packages/sklearn/ensemble/_forest.py:414: FutureWarning: `max_features='auto'` has been deprecated in 1.1 and will be removed in 1.3. To keep the past behaviour, explicitly set `max_features=1.0` or remove this parameter as it is also the default value for RandomForestRegressors and ExtraTreesRegressors.\n",
      "  warn(\n"
     ]
    },
    {
     "name": "stdout",
     "output_type": "stream",
     "text": [
      "[CV 1/10] END regressor__max_depth=None, regressor__max_features=auto, regressor__max_samples=0.1, regressor__n_estimators=100;, score=0.881 total time=   1.0s\n",
      "[CV 2/10] END regressor__max_depth=None, regressor__max_features=auto, regressor__max_samples=0.1, regressor__n_estimators=100;, score=0.904 total time=   0.9s\n",
      "[CV 3/10] END regressor__max_depth=None, regressor__max_features=auto, regressor__max_samples=0.1, regressor__n_estimators=100;, score=0.898 total time=   0.9s\n",
      "[CV 4/10] END regressor__max_depth=None, regressor__max_features=auto, regressor__max_samples=0.1, regressor__n_estimators=100;, score=0.881 total time=   0.9s\n",
      "[CV 5/10] END regressor__max_depth=None, regressor__max_features=auto, regressor__max_samples=0.1, regressor__n_estimators=100;, score=0.869 total time=   0.9s\n",
      "[CV 6/10] END regressor__max_depth=None, regressor__max_features=auto, regressor__max_samples=0.1, regressor__n_estimators=100;, score=0.864 total time=   0.9s\n"
     ]
    },
    {
     "name": "stderr",
     "output_type": "stream",
     "text": [
      "/Users/vivektyagi/miniconda3/envs/envDS/lib/python3.9/site-packages/sklearn/ensemble/_forest.py:414: FutureWarning: `max_features='auto'` has been deprecated in 1.1 and will be removed in 1.3. To keep the past behaviour, explicitly set `max_features=1.0` or remove this parameter as it is also the default value for RandomForestRegressors and ExtraTreesRegressors.\n",
      "  warn(\n",
      "/Users/vivektyagi/miniconda3/envs/envDS/lib/python3.9/site-packages/sklearn/ensemble/_forest.py:414: FutureWarning: `max_features='auto'` has been deprecated in 1.1 and will be removed in 1.3. To keep the past behaviour, explicitly set `max_features=1.0` or remove this parameter as it is also the default value for RandomForestRegressors and ExtraTreesRegressors.\n",
      "  warn(\n",
      "/Users/vivektyagi/miniconda3/envs/envDS/lib/python3.9/site-packages/sklearn/ensemble/_forest.py:414: FutureWarning: `max_features='auto'` has been deprecated in 1.1 and will be removed in 1.3. To keep the past behaviour, explicitly set `max_features=1.0` or remove this parameter as it is also the default value for RandomForestRegressors and ExtraTreesRegressors.\n",
      "  warn(\n",
      "/Users/vivektyagi/miniconda3/envs/envDS/lib/python3.9/site-packages/sklearn/ensemble/_forest.py:414: FutureWarning: `max_features='auto'` has been deprecated in 1.1 and will be removed in 1.3. To keep the past behaviour, explicitly set `max_features=1.0` or remove this parameter as it is also the default value for RandomForestRegressors and ExtraTreesRegressors.\n",
      "  warn(\n",
      "/Users/vivektyagi/miniconda3/envs/envDS/lib/python3.9/site-packages/sklearn/ensemble/_forest.py:414: FutureWarning: `max_features='auto'` has been deprecated in 1.1 and will be removed in 1.3. To keep the past behaviour, explicitly set `max_features=1.0` or remove this parameter as it is also the default value for RandomForestRegressors and ExtraTreesRegressors.\n",
      "  warn(\n",
      "/Users/vivektyagi/miniconda3/envs/envDS/lib/python3.9/site-packages/sklearn/ensemble/_forest.py:414: FutureWarning: `max_features='auto'` has been deprecated in 1.1 and will be removed in 1.3. To keep the past behaviour, explicitly set `max_features=1.0` or remove this parameter as it is also the default value for RandomForestRegressors and ExtraTreesRegressors.\n",
      "  warn(\n"
     ]
    },
    {
     "name": "stdout",
     "output_type": "stream",
     "text": [
      "[CV 7/10] END regressor__max_depth=None, regressor__max_features=auto, regressor__max_samples=0.1, regressor__n_estimators=100;, score=0.870 total time=   0.7s\n",
      "[CV 8/10] END regressor__max_depth=None, regressor__max_features=auto, regressor__max_samples=0.1, regressor__n_estimators=100;, score=0.876 total time=   0.8s\n"
     ]
    },
    {
     "name": "stderr",
     "output_type": "stream",
     "text": [
      "/Users/vivektyagi/miniconda3/envs/envDS/lib/python3.9/site-packages/sklearn/ensemble/_forest.py:414: FutureWarning: `max_features='auto'` has been deprecated in 1.1 and will be removed in 1.3. To keep the past behaviour, explicitly set `max_features=1.0` or remove this parameter as it is also the default value for RandomForestRegressors and ExtraTreesRegressors.\n",
      "  warn(\n",
      "/Users/vivektyagi/miniconda3/envs/envDS/lib/python3.9/site-packages/sklearn/ensemble/_forest.py:414: FutureWarning: `max_features='auto'` has been deprecated in 1.1 and will be removed in 1.3. To keep the past behaviour, explicitly set `max_features=1.0` or remove this parameter as it is also the default value for RandomForestRegressors and ExtraTreesRegressors.\n",
      "  warn(\n"
     ]
    },
    {
     "name": "stdout",
     "output_type": "stream",
     "text": [
      "[CV 9/10] END regressor__max_depth=None, regressor__max_features=auto, regressor__max_samples=0.1, regressor__n_estimators=100;, score=0.852 total time=   0.9s\n",
      "[CV 10/10] END regressor__max_depth=None, regressor__max_features=auto, regressor__max_samples=0.1, regressor__n_estimators=100;, score=0.869 total time=   0.9s\n"
     ]
    },
    {
     "name": "stderr",
     "output_type": "stream",
     "text": [
      "/Users/vivektyagi/miniconda3/envs/envDS/lib/python3.9/site-packages/sklearn/ensemble/_forest.py:414: FutureWarning: `max_features='auto'` has been deprecated in 1.1 and will be removed in 1.3. To keep the past behaviour, explicitly set `max_features=1.0` or remove this parameter as it is also the default value for RandomForestRegressors and ExtraTreesRegressors.\n",
      "  warn(\n",
      "/Users/vivektyagi/miniconda3/envs/envDS/lib/python3.9/site-packages/sklearn/ensemble/_forest.py:414: FutureWarning: `max_features='auto'` has been deprecated in 1.1 and will be removed in 1.3. To keep the past behaviour, explicitly set `max_features=1.0` or remove this parameter as it is also the default value for RandomForestRegressors and ExtraTreesRegressors.\n",
      "  warn(\n"
     ]
    },
    {
     "name": "stdout",
     "output_type": "stream",
     "text": [
      "[CV 1/10] END regressor__max_depth=None, regressor__max_features=auto, regressor__max_samples=0.1, regressor__n_estimators=200;, score=0.884 total time=   1.5s\n",
      "[CV 2/10] END regressor__max_depth=None, regressor__max_features=auto, regressor__max_samples=0.1, regressor__n_estimators=200;, score=0.908 total time=   1.5s\n",
      "[CV 3/10] END regressor__max_depth=None, regressor__max_features=auto, regressor__max_samples=0.1, regressor__n_estimators=200;, score=0.897 total time=   1.5s\n",
      "[CV 4/10] END regressor__max_depth=None, regressor__max_features=auto, regressor__max_samples=0.1, regressor__n_estimators=200;, score=0.880 total time=   1.5s\n"
     ]
    },
    {
     "name": "stderr",
     "output_type": "stream",
     "text": [
      "/Users/vivektyagi/miniconda3/envs/envDS/lib/python3.9/site-packages/sklearn/ensemble/_forest.py:414: FutureWarning: `max_features='auto'` has been deprecated in 1.1 and will be removed in 1.3. To keep the past behaviour, explicitly set `max_features=1.0` or remove this parameter as it is also the default value for RandomForestRegressors and ExtraTreesRegressors.\n",
      "  warn(\n",
      "/Users/vivektyagi/miniconda3/envs/envDS/lib/python3.9/site-packages/sklearn/ensemble/_forest.py:414: FutureWarning: `max_features='auto'` has been deprecated in 1.1 and will be removed in 1.3. To keep the past behaviour, explicitly set `max_features=1.0` or remove this parameter as it is also the default value for RandomForestRegressors and ExtraTreesRegressors.\n",
      "  warn(\n",
      "/Users/vivektyagi/miniconda3/envs/envDS/lib/python3.9/site-packages/sklearn/ensemble/_forest.py:414: FutureWarning: `max_features='auto'` has been deprecated in 1.1 and will be removed in 1.3. To keep the past behaviour, explicitly set `max_features=1.0` or remove this parameter as it is also the default value for RandomForestRegressors and ExtraTreesRegressors.\n",
      "  warn(\n",
      "/Users/vivektyagi/miniconda3/envs/envDS/lib/python3.9/site-packages/sklearn/ensemble/_forest.py:414: FutureWarning: `max_features='auto'` has been deprecated in 1.1 and will be removed in 1.3. To keep the past behaviour, explicitly set `max_features=1.0` or remove this parameter as it is also the default value for RandomForestRegressors and ExtraTreesRegressors.\n",
      "  warn(\n"
     ]
    },
    {
     "name": "stdout",
     "output_type": "stream",
     "text": [
      "[CV 5/10] END regressor__max_depth=None, regressor__max_features=auto, regressor__max_samples=0.1, regressor__n_estimators=200;, score=0.873 total time=   1.5s\n",
      "[CV 6/10] END regressor__max_depth=None, regressor__max_features=auto, regressor__max_samples=0.1, regressor__n_estimators=200;, score=0.867 total time=   1.5s\n"
     ]
    },
    {
     "name": "stderr",
     "output_type": "stream",
     "text": [
      "/Users/vivektyagi/miniconda3/envs/envDS/lib/python3.9/site-packages/sklearn/ensemble/_forest.py:414: FutureWarning: `max_features='auto'` has been deprecated in 1.1 and will be removed in 1.3. To keep the past behaviour, explicitly set `max_features=1.0` or remove this parameter as it is also the default value for RandomForestRegressors and ExtraTreesRegressors.\n",
      "  warn(\n",
      "/Users/vivektyagi/miniconda3/envs/envDS/lib/python3.9/site-packages/sklearn/ensemble/_forest.py:414: FutureWarning: `max_features='auto'` has been deprecated in 1.1 and will be removed in 1.3. To keep the past behaviour, explicitly set `max_features=1.0` or remove this parameter as it is also the default value for RandomForestRegressors and ExtraTreesRegressors.\n",
      "  warn(\n"
     ]
    },
    {
     "name": "stdout",
     "output_type": "stream",
     "text": [
      "[CV 7/10] END regressor__max_depth=None, regressor__max_features=auto, regressor__max_samples=0.1, regressor__n_estimators=200;, score=0.877 total time=   1.6s\n",
      "[CV 8/10] END regressor__max_depth=None, regressor__max_features=auto, regressor__max_samples=0.1, regressor__n_estimators=200;, score=0.875 total time=   1.6s\n"
     ]
    },
    {
     "name": "stderr",
     "output_type": "stream",
     "text": [
      "/Users/vivektyagi/miniconda3/envs/envDS/lib/python3.9/site-packages/sklearn/ensemble/_forest.py:414: FutureWarning: `max_features='auto'` has been deprecated in 1.1 and will be removed in 1.3. To keep the past behaviour, explicitly set `max_features=1.0` or remove this parameter as it is also the default value for RandomForestRegressors and ExtraTreesRegressors.\n",
      "  warn(\n",
      "/Users/vivektyagi/miniconda3/envs/envDS/lib/python3.9/site-packages/sklearn/ensemble/_forest.py:414: FutureWarning: `max_features='auto'` has been deprecated in 1.1 and will be removed in 1.3. To keep the past behaviour, explicitly set `max_features=1.0` or remove this parameter as it is also the default value for RandomForestRegressors and ExtraTreesRegressors.\n",
      "  warn(\n"
     ]
    },
    {
     "name": "stdout",
     "output_type": "stream",
     "text": [
      "[CV 9/10] END regressor__max_depth=None, regressor__max_features=auto, regressor__max_samples=0.1, regressor__n_estimators=200;, score=0.849 total time=   1.5s\n",
      "[CV 10/10] END regressor__max_depth=None, regressor__max_features=auto, regressor__max_samples=0.1, regressor__n_estimators=200;, score=0.865 total time=   1.5s\n"
     ]
    },
    {
     "name": "stderr",
     "output_type": "stream",
     "text": [
      "/Users/vivektyagi/miniconda3/envs/envDS/lib/python3.9/site-packages/sklearn/ensemble/_forest.py:414: FutureWarning: `max_features='auto'` has been deprecated in 1.1 and will be removed in 1.3. To keep the past behaviour, explicitly set `max_features=1.0` or remove this parameter as it is also the default value for RandomForestRegressors and ExtraTreesRegressors.\n",
      "  warn(\n",
      "/Users/vivektyagi/miniconda3/envs/envDS/lib/python3.9/site-packages/sklearn/ensemble/_forest.py:414: FutureWarning: `max_features='auto'` has been deprecated in 1.1 and will be removed in 1.3. To keep the past behaviour, explicitly set `max_features=1.0` or remove this parameter as it is also the default value for RandomForestRegressors and ExtraTreesRegressors.\n",
      "  warn(\n"
     ]
    },
    {
     "name": "stdout",
     "output_type": "stream",
     "text": [
      "[CV 1/10] END regressor__max_depth=None, regressor__max_features=auto, regressor__max_samples=0.1, regressor__n_estimators=300;, score=0.884 total time=   2.2s\n",
      "[CV 2/10] END regressor__max_depth=None, regressor__max_features=auto, regressor__max_samples=0.1, regressor__n_estimators=300;, score=0.906 total time=   2.3s\n"
     ]
    },
    {
     "name": "stderr",
     "output_type": "stream",
     "text": [
      "/Users/vivektyagi/miniconda3/envs/envDS/lib/python3.9/site-packages/sklearn/ensemble/_forest.py:414: FutureWarning: `max_features='auto'` has been deprecated in 1.1 and will be removed in 1.3. To keep the past behaviour, explicitly set `max_features=1.0` or remove this parameter as it is also the default value for RandomForestRegressors and ExtraTreesRegressors.\n",
      "  warn(\n",
      "/Users/vivektyagi/miniconda3/envs/envDS/lib/python3.9/site-packages/sklearn/ensemble/_forest.py:414: FutureWarning: `max_features='auto'` has been deprecated in 1.1 and will be removed in 1.3. To keep the past behaviour, explicitly set `max_features=1.0` or remove this parameter as it is also the default value for RandomForestRegressors and ExtraTreesRegressors.\n",
      "  warn(\n"
     ]
    },
    {
     "name": "stdout",
     "output_type": "stream",
     "text": [
      "[CV 3/10] END regressor__max_depth=None, regressor__max_features=auto, regressor__max_samples=0.1, regressor__n_estimators=300;, score=0.896 total time=   2.4s\n",
      "[CV 4/10] END regressor__max_depth=None, regressor__max_features=auto, regressor__max_samples=0.1, regressor__n_estimators=300;, score=0.884 total time=   2.5s\n"
     ]
    },
    {
     "name": "stderr",
     "output_type": "stream",
     "text": [
      "/Users/vivektyagi/miniconda3/envs/envDS/lib/python3.9/site-packages/sklearn/ensemble/_forest.py:414: FutureWarning: `max_features='auto'` has been deprecated in 1.1 and will be removed in 1.3. To keep the past behaviour, explicitly set `max_features=1.0` or remove this parameter as it is also the default value for RandomForestRegressors and ExtraTreesRegressors.\n",
      "  warn(\n",
      "/Users/vivektyagi/miniconda3/envs/envDS/lib/python3.9/site-packages/sklearn/ensemble/_forest.py:414: FutureWarning: `max_features='auto'` has been deprecated in 1.1 and will be removed in 1.3. To keep the past behaviour, explicitly set `max_features=1.0` or remove this parameter as it is also the default value for RandomForestRegressors and ExtraTreesRegressors.\n",
      "  warn(\n"
     ]
    },
    {
     "name": "stdout",
     "output_type": "stream",
     "text": [
      "[CV 6/10] END regressor__max_depth=None, regressor__max_features=auto, regressor__max_samples=0.1, regressor__n_estimators=300;, score=0.867 total time=   2.3s\n",
      "[CV 5/10] END regressor__max_depth=None, regressor__max_features=auto, regressor__max_samples=0.1, regressor__n_estimators=300;, score=0.875 total time=   2.4s\n",
      "[CV 1/10] END regressor__max_depth=None, regressor__max_features=auto, regressor__max_samples=0.25, regressor__n_estimators=50;, score=0.882 total time=   0.8s\n",
      "[CV 2/10] END regressor__max_depth=None, regressor__max_features=auto, regressor__max_samples=0.25, regressor__n_estimators=50;, score=0.916 total time=   0.7s\n"
     ]
    },
    {
     "name": "stderr",
     "output_type": "stream",
     "text": [
      "/Users/vivektyagi/miniconda3/envs/envDS/lib/python3.9/site-packages/sklearn/ensemble/_forest.py:414: FutureWarning: `max_features='auto'` has been deprecated in 1.1 and will be removed in 1.3. To keep the past behaviour, explicitly set `max_features=1.0` or remove this parameter as it is also the default value for RandomForestRegressors and ExtraTreesRegressors.\n",
      "  warn(\n",
      "/Users/vivektyagi/miniconda3/envs/envDS/lib/python3.9/site-packages/sklearn/ensemble/_forest.py:414: FutureWarning: `max_features='auto'` has been deprecated in 1.1 and will be removed in 1.3. To keep the past behaviour, explicitly set `max_features=1.0` or remove this parameter as it is also the default value for RandomForestRegressors and ExtraTreesRegressors.\n",
      "  warn(\n",
      "/Users/vivektyagi/miniconda3/envs/envDS/lib/python3.9/site-packages/sklearn/ensemble/_forest.py:414: FutureWarning: `max_features='auto'` has been deprecated in 1.1 and will be removed in 1.3. To keep the past behaviour, explicitly set `max_features=1.0` or remove this parameter as it is also the default value for RandomForestRegressors and ExtraTreesRegressors.\n",
      "  warn(\n",
      "/Users/vivektyagi/miniconda3/envs/envDS/lib/python3.9/site-packages/sklearn/ensemble/_forest.py:414: FutureWarning: `max_features='auto'` has been deprecated in 1.1 and will be removed in 1.3. To keep the past behaviour, explicitly set `max_features=1.0` or remove this parameter as it is also the default value for RandomForestRegressors and ExtraTreesRegressors.\n",
      "  warn(\n"
     ]
    },
    {
     "name": "stdout",
     "output_type": "stream",
     "text": [
      "[CV 3/10] END regressor__max_depth=None, regressor__max_features=auto, regressor__max_samples=0.25, regressor__n_estimators=50;, score=0.907 total time=   0.5s\n",
      "[CV 4/10] END regressor__max_depth=None, regressor__max_features=auto, regressor__max_samples=0.25, regressor__n_estimators=50;, score=0.894 total time=   0.5s\n",
      "[CV 7/10] END regressor__max_depth=None, regressor__max_features=auto, regressor__max_samples=0.1, regressor__n_estimators=300;, score=0.874 total time=   2.3s\n",
      "[CV 8/10] END regressor__max_depth=None, regressor__max_features=auto, regressor__max_samples=0.1, regressor__n_estimators=300;, score=0.875 total time=   2.3s\n",
      "[CV 5/10] END regressor__max_depth=None, regressor__max_features=auto, regressor__max_samples=0.25, regressor__n_estimators=50;, score=0.887 total time=   0.6s\n"
     ]
    },
    {
     "name": "stderr",
     "output_type": "stream",
     "text": [
      "/Users/vivektyagi/miniconda3/envs/envDS/lib/python3.9/site-packages/sklearn/ensemble/_forest.py:414: FutureWarning: `max_features='auto'` has been deprecated in 1.1 and will be removed in 1.3. To keep the past behaviour, explicitly set `max_features=1.0` or remove this parameter as it is also the default value for RandomForestRegressors and ExtraTreesRegressors.\n",
      "  warn(\n",
      "/Users/vivektyagi/miniconda3/envs/envDS/lib/python3.9/site-packages/sklearn/ensemble/_forest.py:414: FutureWarning: `max_features='auto'` has been deprecated in 1.1 and will be removed in 1.3. To keep the past behaviour, explicitly set `max_features=1.0` or remove this parameter as it is also the default value for RandomForestRegressors and ExtraTreesRegressors.\n",
      "  warn(\n",
      "/Users/vivektyagi/miniconda3/envs/envDS/lib/python3.9/site-packages/sklearn/ensemble/_forest.py:414: FutureWarning: `max_features='auto'` has been deprecated in 1.1 and will be removed in 1.3. To keep the past behaviour, explicitly set `max_features=1.0` or remove this parameter as it is also the default value for RandomForestRegressors and ExtraTreesRegressors.\n",
      "  warn(\n",
      "/Users/vivektyagi/miniconda3/envs/envDS/lib/python3.9/site-packages/sklearn/ensemble/_forest.py:414: FutureWarning: `max_features='auto'` has been deprecated in 1.1 and will be removed in 1.3. To keep the past behaviour, explicitly set `max_features=1.0` or remove this parameter as it is also the default value for RandomForestRegressors and ExtraTreesRegressors.\n",
      "  warn(\n",
      "/Users/vivektyagi/miniconda3/envs/envDS/lib/python3.9/site-packages/sklearn/ensemble/_forest.py:414: FutureWarning: `max_features='auto'` has been deprecated in 1.1 and will be removed in 1.3. To keep the past behaviour, explicitly set `max_features=1.0` or remove this parameter as it is also the default value for RandomForestRegressors and ExtraTreesRegressors.\n",
      "  warn(\n"
     ]
    },
    {
     "name": "stdout",
     "output_type": "stream",
     "text": [
      "[CV 6/10] END regressor__max_depth=None, regressor__max_features=auto, regressor__max_samples=0.25, regressor__n_estimators=50;, score=0.868 total time=   0.7s\n"
     ]
    },
    {
     "name": "stderr",
     "output_type": "stream",
     "text": [
      "/Users/vivektyagi/miniconda3/envs/envDS/lib/python3.9/site-packages/sklearn/ensemble/_forest.py:414: FutureWarning: `max_features='auto'` has been deprecated in 1.1 and will be removed in 1.3. To keep the past behaviour, explicitly set `max_features=1.0` or remove this parameter as it is also the default value for RandomForestRegressors and ExtraTreesRegressors.\n",
      "  warn(\n"
     ]
    },
    {
     "name": "stdout",
     "output_type": "stream",
     "text": [
      "[CV 7/10] END regressor__max_depth=None, regressor__max_features=auto, regressor__max_samples=0.25, regressor__n_estimators=50;, score=0.886 total time=   0.8s\n",
      "[CV 9/10] END regressor__max_depth=None, regressor__max_features=auto, regressor__max_samples=0.25, regressor__n_estimators=50;, score=0.864 total time=   0.8s\n",
      "[CV 8/10] END regressor__max_depth=None, regressor__max_features=auto, regressor__max_samples=0.25, regressor__n_estimators=50;, score=0.880 total time=   0.9s\n",
      "[CV 10/10] END regressor__max_depth=None, regressor__max_features=auto, regressor__max_samples=0.25, regressor__n_estimators=50;, score=0.870 total time=   0.9s\n"
     ]
    },
    {
     "name": "stderr",
     "output_type": "stream",
     "text": [
      "/Users/vivektyagi/miniconda3/envs/envDS/lib/python3.9/site-packages/sklearn/ensemble/_forest.py:414: FutureWarning: `max_features='auto'` has been deprecated in 1.1 and will be removed in 1.3. To keep the past behaviour, explicitly set `max_features=1.0` or remove this parameter as it is also the default value for RandomForestRegressors and ExtraTreesRegressors.\n",
      "  warn(\n",
      "/Users/vivektyagi/miniconda3/envs/envDS/lib/python3.9/site-packages/sklearn/ensemble/_forest.py:414: FutureWarning: `max_features='auto'` has been deprecated in 1.1 and will be removed in 1.3. To keep the past behaviour, explicitly set `max_features=1.0` or remove this parameter as it is also the default value for RandomForestRegressors and ExtraTreesRegressors.\n",
      "  warn(\n",
      "/Users/vivektyagi/miniconda3/envs/envDS/lib/python3.9/site-packages/sklearn/ensemble/_forest.py:414: FutureWarning: `max_features='auto'` has been deprecated in 1.1 and will be removed in 1.3. To keep the past behaviour, explicitly set `max_features=1.0` or remove this parameter as it is also the default value for RandomForestRegressors and ExtraTreesRegressors.\n",
      "  warn(\n",
      "/Users/vivektyagi/miniconda3/envs/envDS/lib/python3.9/site-packages/sklearn/ensemble/_forest.py:414: FutureWarning: `max_features='auto'` has been deprecated in 1.1 and will be removed in 1.3. To keep the past behaviour, explicitly set `max_features=1.0` or remove this parameter as it is also the default value for RandomForestRegressors and ExtraTreesRegressors.\n",
      "  warn(\n"
     ]
    },
    {
     "name": "stdout",
     "output_type": "stream",
     "text": [
      "[CV 9/10] END regressor__max_depth=None, regressor__max_features=auto, regressor__max_samples=0.1, regressor__n_estimators=300;, score=0.846 total time=   2.7s\n",
      "[CV 10/10] END regressor__max_depth=None, regressor__max_features=auto, regressor__max_samples=0.1, regressor__n_estimators=300;, score=0.865 total time=   2.6s\n"
     ]
    },
    {
     "name": "stderr",
     "output_type": "stream",
     "text": [
      "/Users/vivektyagi/miniconda3/envs/envDS/lib/python3.9/site-packages/sklearn/ensemble/_forest.py:414: FutureWarning: `max_features='auto'` has been deprecated in 1.1 and will be removed in 1.3. To keep the past behaviour, explicitly set `max_features=1.0` or remove this parameter as it is also the default value for RandomForestRegressors and ExtraTreesRegressors.\n",
      "  warn(\n",
      "/Users/vivektyagi/miniconda3/envs/envDS/lib/python3.9/site-packages/sklearn/ensemble/_forest.py:414: FutureWarning: `max_features='auto'` has been deprecated in 1.1 and will be removed in 1.3. To keep the past behaviour, explicitly set `max_features=1.0` or remove this parameter as it is also the default value for RandomForestRegressors and ExtraTreesRegressors.\n",
      "  warn(\n"
     ]
    },
    {
     "name": "stdout",
     "output_type": "stream",
     "text": [
      "[CV 1/10] END regressor__max_depth=None, regressor__max_features=auto, regressor__max_samples=0.25, regressor__n_estimators=100;, score=0.888 total time=   1.4s\n",
      "[CV 2/10] END regressor__max_depth=None, regressor__max_features=auto, regressor__max_samples=0.25, regressor__n_estimators=100;, score=0.917 total time=   1.3s\n"
     ]
    },
    {
     "name": "stderr",
     "output_type": "stream",
     "text": [
      "/Users/vivektyagi/miniconda3/envs/envDS/lib/python3.9/site-packages/sklearn/ensemble/_forest.py:414: FutureWarning: `max_features='auto'` has been deprecated in 1.1 and will be removed in 1.3. To keep the past behaviour, explicitly set `max_features=1.0` or remove this parameter as it is also the default value for RandomForestRegressors and ExtraTreesRegressors.\n",
      "  warn(\n",
      "/Users/vivektyagi/miniconda3/envs/envDS/lib/python3.9/site-packages/sklearn/ensemble/_forest.py:414: FutureWarning: `max_features='auto'` has been deprecated in 1.1 and will be removed in 1.3. To keep the past behaviour, explicitly set `max_features=1.0` or remove this parameter as it is also the default value for RandomForestRegressors and ExtraTreesRegressors.\n",
      "  warn(\n"
     ]
    },
    {
     "name": "stdout",
     "output_type": "stream",
     "text": [
      "[CV 3/10] END regressor__max_depth=None, regressor__max_features=auto, regressor__max_samples=0.25, regressor__n_estimators=100;, score=0.907 total time=   1.2s\n",
      "[CV 5/10] END regressor__max_depth=None, regressor__max_features=auto, regressor__max_samples=0.25, regressor__n_estimators=100;, score=0.890 total time=   1.2s\n",
      "[CV 4/10] END regressor__max_depth=None, regressor__max_features=auto, regressor__max_samples=0.25, regressor__n_estimators=100;, score=0.899 total time=   1.2s\n",
      "[CV 6/10] END regressor__max_depth=None, regressor__max_features=auto, regressor__max_samples=0.25, regressor__n_estimators=100;, score=0.875 total time=   1.2s\n"
     ]
    },
    {
     "name": "stderr",
     "output_type": "stream",
     "text": [
      "/Users/vivektyagi/miniconda3/envs/envDS/lib/python3.9/site-packages/sklearn/ensemble/_forest.py:414: FutureWarning: `max_features='auto'` has been deprecated in 1.1 and will be removed in 1.3. To keep the past behaviour, explicitly set `max_features=1.0` or remove this parameter as it is also the default value for RandomForestRegressors and ExtraTreesRegressors.\n",
      "  warn(\n",
      "/Users/vivektyagi/miniconda3/envs/envDS/lib/python3.9/site-packages/sklearn/ensemble/_forest.py:414: FutureWarning: `max_features='auto'` has been deprecated in 1.1 and will be removed in 1.3. To keep the past behaviour, explicitly set `max_features=1.0` or remove this parameter as it is also the default value for RandomForestRegressors and ExtraTreesRegressors.\n",
      "  warn(\n",
      "/Users/vivektyagi/miniconda3/envs/envDS/lib/python3.9/site-packages/sklearn/ensemble/_forest.py:414: FutureWarning: `max_features='auto'` has been deprecated in 1.1 and will be removed in 1.3. To keep the past behaviour, explicitly set `max_features=1.0` or remove this parameter as it is also the default value for RandomForestRegressors and ExtraTreesRegressors.\n",
      "  warn(\n",
      "/Users/vivektyagi/miniconda3/envs/envDS/lib/python3.9/site-packages/sklearn/ensemble/_forest.py:414: FutureWarning: `max_features='auto'` has been deprecated in 1.1 and will be removed in 1.3. To keep the past behaviour, explicitly set `max_features=1.0` or remove this parameter as it is also the default value for RandomForestRegressors and ExtraTreesRegressors.\n",
      "  warn(\n"
     ]
    },
    {
     "name": "stdout",
     "output_type": "stream",
     "text": [
      "[CV 7/10] END regressor__max_depth=None, regressor__max_features=auto, regressor__max_samples=0.25, regressor__n_estimators=100;, score=0.883 total time=   1.2s\n",
      "[CV 8/10] END regressor__max_depth=None, regressor__max_features=auto, regressor__max_samples=0.25, regressor__n_estimators=100;, score=0.883 total time=   1.2s\n"
     ]
    },
    {
     "name": "stderr",
     "output_type": "stream",
     "text": [
      "/Users/vivektyagi/miniconda3/envs/envDS/lib/python3.9/site-packages/sklearn/ensemble/_forest.py:414: FutureWarning: `max_features='auto'` has been deprecated in 1.1 and will be removed in 1.3. To keep the past behaviour, explicitly set `max_features=1.0` or remove this parameter as it is also the default value for RandomForestRegressors and ExtraTreesRegressors.\n",
      "  warn(\n",
      "/Users/vivektyagi/miniconda3/envs/envDS/lib/python3.9/site-packages/sklearn/ensemble/_forest.py:414: FutureWarning: `max_features='auto'` has been deprecated in 1.1 and will be removed in 1.3. To keep the past behaviour, explicitly set `max_features=1.0` or remove this parameter as it is also the default value for RandomForestRegressors and ExtraTreesRegressors.\n",
      "  warn(\n"
     ]
    },
    {
     "name": "stdout",
     "output_type": "stream",
     "text": [
      "[CV 9/10] END regressor__max_depth=None, regressor__max_features=auto, regressor__max_samples=0.25, regressor__n_estimators=100;, score=0.863 total time=   1.4s\n",
      "[CV 10/10] END regressor__max_depth=None, regressor__max_features=auto, regressor__max_samples=0.25, regressor__n_estimators=100;, score=0.872 total time=   1.4s\n"
     ]
    },
    {
     "name": "stderr",
     "output_type": "stream",
     "text": [
      "/Users/vivektyagi/miniconda3/envs/envDS/lib/python3.9/site-packages/sklearn/ensemble/_forest.py:414: FutureWarning: `max_features='auto'` has been deprecated in 1.1 and will be removed in 1.3. To keep the past behaviour, explicitly set `max_features=1.0` or remove this parameter as it is also the default value for RandomForestRegressors and ExtraTreesRegressors.\n",
      "  warn(\n",
      "/Users/vivektyagi/miniconda3/envs/envDS/lib/python3.9/site-packages/sklearn/ensemble/_forest.py:414: FutureWarning: `max_features='auto'` has been deprecated in 1.1 and will be removed in 1.3. To keep the past behaviour, explicitly set `max_features=1.0` or remove this parameter as it is also the default value for RandomForestRegressors and ExtraTreesRegressors.\n",
      "  warn(\n"
     ]
    },
    {
     "name": "stdout",
     "output_type": "stream",
     "text": [
      "[CV 1/10] END regressor__max_depth=None, regressor__max_features=auto, regressor__max_samples=0.25, regressor__n_estimators=200;, score=0.893 total time=   2.3s\n",
      "[CV 3/10] END regressor__max_depth=None, regressor__max_features=auto, regressor__max_samples=0.25, regressor__n_estimators=200;, score=0.910 total time=   2.3s\n",
      "[CV 2/10] END regressor__max_depth=None, regressor__max_features=auto, regressor__max_samples=0.25, regressor__n_estimators=200;, score=0.919 total time=   2.4s\n",
      "[CV 4/10] END regressor__max_depth=None, regressor__max_features=auto, regressor__max_samples=0.25, regressor__n_estimators=200;, score=0.897 total time=   2.3s\n",
      "[CV 6/10] END regressor__max_depth=None, regressor__max_features=auto, regressor__max_samples=0.25, regressor__n_estimators=200;, score=0.872 total time=   2.2s\n"
     ]
    },
    {
     "name": "stderr",
     "output_type": "stream",
     "text": [
      "/Users/vivektyagi/miniconda3/envs/envDS/lib/python3.9/site-packages/sklearn/ensemble/_forest.py:414: FutureWarning: `max_features='auto'` has been deprecated in 1.1 and will be removed in 1.3. To keep the past behaviour, explicitly set `max_features=1.0` or remove this parameter as it is also the default value for RandomForestRegressors and ExtraTreesRegressors.\n",
      "  warn(\n",
      "/Users/vivektyagi/miniconda3/envs/envDS/lib/python3.9/site-packages/sklearn/ensemble/_forest.py:414: FutureWarning: `max_features='auto'` has been deprecated in 1.1 and will be removed in 1.3. To keep the past behaviour, explicitly set `max_features=1.0` or remove this parameter as it is also the default value for RandomForestRegressors and ExtraTreesRegressors.\n",
      "  warn(\n",
      "/Users/vivektyagi/miniconda3/envs/envDS/lib/python3.9/site-packages/sklearn/ensemble/_forest.py:414: FutureWarning: `max_features='auto'` has been deprecated in 1.1 and will be removed in 1.3. To keep the past behaviour, explicitly set `max_features=1.0` or remove this parameter as it is also the default value for RandomForestRegressors and ExtraTreesRegressors.\n",
      "  warn(\n",
      "/Users/vivektyagi/miniconda3/envs/envDS/lib/python3.9/site-packages/sklearn/ensemble/_forest.py:414: FutureWarning: `max_features='auto'` has been deprecated in 1.1 and will be removed in 1.3. To keep the past behaviour, explicitly set `max_features=1.0` or remove this parameter as it is also the default value for RandomForestRegressors and ExtraTreesRegressors.\n",
      "  warn(\n"
     ]
    },
    {
     "name": "stdout",
     "output_type": "stream",
     "text": [
      "[CV 5/10] END regressor__max_depth=None, regressor__max_features=auto, regressor__max_samples=0.25, regressor__n_estimators=200;, score=0.889 total time=   2.3s\n"
     ]
    },
    {
     "name": "stderr",
     "output_type": "stream",
     "text": [
      "/Users/vivektyagi/miniconda3/envs/envDS/lib/python3.9/site-packages/sklearn/ensemble/_forest.py:414: FutureWarning: `max_features='auto'` has been deprecated in 1.1 and will be removed in 1.3. To keep the past behaviour, explicitly set `max_features=1.0` or remove this parameter as it is also the default value for RandomForestRegressors and ExtraTreesRegressors.\n",
      "  warn(\n",
      "/Users/vivektyagi/miniconda3/envs/envDS/lib/python3.9/site-packages/sklearn/ensemble/_forest.py:414: FutureWarning: `max_features='auto'` has been deprecated in 1.1 and will be removed in 1.3. To keep the past behaviour, explicitly set `max_features=1.0` or remove this parameter as it is also the default value for RandomForestRegressors and ExtraTreesRegressors.\n",
      "  warn(\n"
     ]
    },
    {
     "name": "stdout",
     "output_type": "stream",
     "text": [
      "[CV 7/10] END regressor__max_depth=None, regressor__max_features=auto, regressor__max_samples=0.25, regressor__n_estimators=200;, score=0.887 total time=   2.2s\n",
      "[CV 8/10] END regressor__max_depth=None, regressor__max_features=auto, regressor__max_samples=0.25, regressor__n_estimators=200;, score=0.885 total time=   2.1s\n"
     ]
    },
    {
     "name": "stderr",
     "output_type": "stream",
     "text": [
      "/Users/vivektyagi/miniconda3/envs/envDS/lib/python3.9/site-packages/sklearn/ensemble/_forest.py:414: FutureWarning: `max_features='auto'` has been deprecated in 1.1 and will be removed in 1.3. To keep the past behaviour, explicitly set `max_features=1.0` or remove this parameter as it is also the default value for RandomForestRegressors and ExtraTreesRegressors.\n",
      "  warn(\n",
      "/Users/vivektyagi/miniconda3/envs/envDS/lib/python3.9/site-packages/sklearn/ensemble/_forest.py:414: FutureWarning: `max_features='auto'` has been deprecated in 1.1 and will be removed in 1.3. To keep the past behaviour, explicitly set `max_features=1.0` or remove this parameter as it is also the default value for RandomForestRegressors and ExtraTreesRegressors.\n",
      "  warn(\n"
     ]
    },
    {
     "name": "stdout",
     "output_type": "stream",
     "text": [
      "[CV 9/10] END regressor__max_depth=None, regressor__max_features=auto, regressor__max_samples=0.25, regressor__n_estimators=200;, score=0.858 total time=   1.9s\n",
      "[CV 10/10] END regressor__max_depth=None, regressor__max_features=auto, regressor__max_samples=0.25, regressor__n_estimators=200;, score=0.875 total time=   1.9s\n"
     ]
    },
    {
     "name": "stderr",
     "output_type": "stream",
     "text": [
      "/Users/vivektyagi/miniconda3/envs/envDS/lib/python3.9/site-packages/sklearn/ensemble/_forest.py:414: FutureWarning: `max_features='auto'` has been deprecated in 1.1 and will be removed in 1.3. To keep the past behaviour, explicitly set `max_features=1.0` or remove this parameter as it is also the default value for RandomForestRegressors and ExtraTreesRegressors.\n",
      "  warn(\n",
      "/Users/vivektyagi/miniconda3/envs/envDS/lib/python3.9/site-packages/sklearn/ensemble/_forest.py:414: FutureWarning: `max_features='auto'` has been deprecated in 1.1 and will be removed in 1.3. To keep the past behaviour, explicitly set `max_features=1.0` or remove this parameter as it is also the default value for RandomForestRegressors and ExtraTreesRegressors.\n",
      "  warn(\n"
     ]
    },
    {
     "name": "stdout",
     "output_type": "stream",
     "text": [
      "[CV 1/10] END regressor__max_depth=None, regressor__max_features=auto, regressor__max_samples=0.25, regressor__n_estimators=300;, score=0.890 total time=   2.8s\n",
      "[CV 2/10] END regressor__max_depth=None, regressor__max_features=auto, regressor__max_samples=0.25, regressor__n_estimators=300;, score=0.918 total time=   2.8s\n",
      "[CV 3/10] END regressor__max_depth=None, regressor__max_features=auto, regressor__max_samples=0.25, regressor__n_estimators=300;, score=0.910 total time=   2.7s\n",
      "[CV 4/10] END regressor__max_depth=None, regressor__max_features=auto, regressor__max_samples=0.25, regressor__n_estimators=300;, score=0.897 total time=   2.7s\n"
     ]
    },
    {
     "name": "stderr",
     "output_type": "stream",
     "text": [
      "/Users/vivektyagi/miniconda3/envs/envDS/lib/python3.9/site-packages/sklearn/ensemble/_forest.py:414: FutureWarning: `max_features='auto'` has been deprecated in 1.1 and will be removed in 1.3. To keep the past behaviour, explicitly set `max_features=1.0` or remove this parameter as it is also the default value for RandomForestRegressors and ExtraTreesRegressors.\n",
      "  warn(\n",
      "/Users/vivektyagi/miniconda3/envs/envDS/lib/python3.9/site-packages/sklearn/ensemble/_forest.py:414: FutureWarning: `max_features='auto'` has been deprecated in 1.1 and will be removed in 1.3. To keep the past behaviour, explicitly set `max_features=1.0` or remove this parameter as it is also the default value for RandomForestRegressors and ExtraTreesRegressors.\n",
      "  warn(\n",
      "/Users/vivektyagi/miniconda3/envs/envDS/lib/python3.9/site-packages/sklearn/ensemble/_forest.py:414: FutureWarning: `max_features='auto'` has been deprecated in 1.1 and will be removed in 1.3. To keep the past behaviour, explicitly set `max_features=1.0` or remove this parameter as it is also the default value for RandomForestRegressors and ExtraTreesRegressors.\n",
      "  warn(\n",
      "/Users/vivektyagi/miniconda3/envs/envDS/lib/python3.9/site-packages/sklearn/ensemble/_forest.py:414: FutureWarning: `max_features='auto'` has been deprecated in 1.1 and will be removed in 1.3. To keep the past behaviour, explicitly set `max_features=1.0` or remove this parameter as it is also the default value for RandomForestRegressors and ExtraTreesRegressors.\n",
      "  warn(\n"
     ]
    },
    {
     "name": "stdout",
     "output_type": "stream",
     "text": [
      "[CV 5/10] END regressor__max_depth=None, regressor__max_features=auto, regressor__max_samples=0.25, regressor__n_estimators=300;, score=0.890 total time=   2.6s\n",
      "[CV 6/10] END regressor__max_depth=None, regressor__max_features=auto, regressor__max_samples=0.25, regressor__n_estimators=300;, score=0.876 total time=   2.6s\n"
     ]
    },
    {
     "name": "stderr",
     "output_type": "stream",
     "text": [
      "/Users/vivektyagi/miniconda3/envs/envDS/lib/python3.9/site-packages/sklearn/ensemble/_forest.py:414: FutureWarning: `max_features='auto'` has been deprecated in 1.1 and will be removed in 1.3. To keep the past behaviour, explicitly set `max_features=1.0` or remove this parameter as it is also the default value for RandomForestRegressors and ExtraTreesRegressors.\n",
      "  warn(\n",
      "/Users/vivektyagi/miniconda3/envs/envDS/lib/python3.9/site-packages/sklearn/ensemble/_forest.py:414: FutureWarning: `max_features='auto'` has been deprecated in 1.1 and will be removed in 1.3. To keep the past behaviour, explicitly set `max_features=1.0` or remove this parameter as it is also the default value for RandomForestRegressors and ExtraTreesRegressors.\n",
      "  warn(\n"
     ]
    },
    {
     "name": "stdout",
     "output_type": "stream",
     "text": [
      "[CV 1/10] END regressor__max_depth=None, regressor__max_features=auto, regressor__max_samples=0.5, regressor__n_estimators=50;, score=0.892 total time=   0.7s\n",
      "[CV 2/10] END regressor__max_depth=None, regressor__max_features=auto, regressor__max_samples=0.5, regressor__n_estimators=50;, score=0.921 total time=   0.7s\n"
     ]
    },
    {
     "name": "stderr",
     "output_type": "stream",
     "text": [
      "/Users/vivektyagi/miniconda3/envs/envDS/lib/python3.9/site-packages/sklearn/ensemble/_forest.py:414: FutureWarning: `max_features='auto'` has been deprecated in 1.1 and will be removed in 1.3. To keep the past behaviour, explicitly set `max_features=1.0` or remove this parameter as it is also the default value for RandomForestRegressors and ExtraTreesRegressors.\n",
      "  warn(\n",
      "/Users/vivektyagi/miniconda3/envs/envDS/lib/python3.9/site-packages/sklearn/ensemble/_forest.py:414: FutureWarning: `max_features='auto'` has been deprecated in 1.1 and will be removed in 1.3. To keep the past behaviour, explicitly set `max_features=1.0` or remove this parameter as it is also the default value for RandomForestRegressors and ExtraTreesRegressors.\n",
      "  warn(\n"
     ]
    },
    {
     "name": "stdout",
     "output_type": "stream",
     "text": [
      "[CV 3/10] END regressor__max_depth=None, regressor__max_features=auto, regressor__max_samples=0.5, regressor__n_estimators=50;, score=0.914 total time=   0.7s\n",
      "[CV 4/10] END regressor__max_depth=None, regressor__max_features=auto, regressor__max_samples=0.5, regressor__n_estimators=50;, score=0.900 total time=   0.7s\n"
     ]
    },
    {
     "name": "stderr",
     "output_type": "stream",
     "text": [
      "/Users/vivektyagi/miniconda3/envs/envDS/lib/python3.9/site-packages/sklearn/ensemble/_forest.py:414: FutureWarning: `max_features='auto'` has been deprecated in 1.1 and will be removed in 1.3. To keep the past behaviour, explicitly set `max_features=1.0` or remove this parameter as it is also the default value for RandomForestRegressors and ExtraTreesRegressors.\n",
      "  warn(\n",
      "/Users/vivektyagi/miniconda3/envs/envDS/lib/python3.9/site-packages/sklearn/ensemble/_forest.py:414: FutureWarning: `max_features='auto'` has been deprecated in 1.1 and will be removed in 1.3. To keep the past behaviour, explicitly set `max_features=1.0` or remove this parameter as it is also the default value for RandomForestRegressors and ExtraTreesRegressors.\n",
      "  warn(\n"
     ]
    },
    {
     "name": "stdout",
     "output_type": "stream",
     "text": [
      "[CV 5/10] END regressor__max_depth=None, regressor__max_features=auto, regressor__max_samples=0.5, regressor__n_estimators=50;, score=0.896 total time=   0.7s\n",
      "[CV 6/10] END regressor__max_depth=None, regressor__max_features=auto, regressor__max_samples=0.5, regressor__n_estimators=50;, score=0.873 total time=   0.7s\n",
      "[CV 7/10] END regressor__max_depth=None, regressor__max_features=auto, regressor__max_samples=0.25, regressor__n_estimators=300;, score=0.885 total time=   2.6s\n",
      "[CV 8/10] END regressor__max_depth=None, regressor__max_features=auto, regressor__max_samples=0.25, regressor__n_estimators=300;, score=0.882 total time=   2.6s\n"
     ]
    },
    {
     "name": "stderr",
     "output_type": "stream",
     "text": [
      "/Users/vivektyagi/miniconda3/envs/envDS/lib/python3.9/site-packages/sklearn/ensemble/_forest.py:414: FutureWarning: `max_features='auto'` has been deprecated in 1.1 and will be removed in 1.3. To keep the past behaviour, explicitly set `max_features=1.0` or remove this parameter as it is also the default value for RandomForestRegressors and ExtraTreesRegressors.\n",
      "  warn(\n",
      "/Users/vivektyagi/miniconda3/envs/envDS/lib/python3.9/site-packages/sklearn/ensemble/_forest.py:414: FutureWarning: `max_features='auto'` has been deprecated in 1.1 and will be removed in 1.3. To keep the past behaviour, explicitly set `max_features=1.0` or remove this parameter as it is also the default value for RandomForestRegressors and ExtraTreesRegressors.\n",
      "  warn(\n",
      "/Users/vivektyagi/miniconda3/envs/envDS/lib/python3.9/site-packages/sklearn/ensemble/_forest.py:414: FutureWarning: `max_features='auto'` has been deprecated in 1.1 and will be removed in 1.3. To keep the past behaviour, explicitly set `max_features=1.0` or remove this parameter as it is also the default value for RandomForestRegressors and ExtraTreesRegressors.\n",
      "  warn(\n",
      "/Users/vivektyagi/miniconda3/envs/envDS/lib/python3.9/site-packages/sklearn/ensemble/_forest.py:414: FutureWarning: `max_features='auto'` has been deprecated in 1.1 and will be removed in 1.3. To keep the past behaviour, explicitly set `max_features=1.0` or remove this parameter as it is also the default value for RandomForestRegressors and ExtraTreesRegressors.\n",
      "  warn(\n",
      "/Users/vivektyagi/miniconda3/envs/envDS/lib/python3.9/site-packages/sklearn/ensemble/_forest.py:414: FutureWarning: `max_features='auto'` has been deprecated in 1.1 and will be removed in 1.3. To keep the past behaviour, explicitly set `max_features=1.0` or remove this parameter as it is also the default value for RandomForestRegressors and ExtraTreesRegressors.\n",
      "  warn(\n",
      "/Users/vivektyagi/miniconda3/envs/envDS/lib/python3.9/site-packages/sklearn/ensemble/_forest.py:414: FutureWarning: `max_features='auto'` has been deprecated in 1.1 and will be removed in 1.3. To keep the past behaviour, explicitly set `max_features=1.0` or remove this parameter as it is also the default value for RandomForestRegressors and ExtraTreesRegressors.\n",
      "  warn(\n"
     ]
    },
    {
     "name": "stdout",
     "output_type": "stream",
     "text": [
      "[CV 7/10] END regressor__max_depth=None, regressor__max_features=auto, regressor__max_samples=0.5, regressor__n_estimators=50;, score=0.891 total time=   0.8s\n",
      "[CV 8/10] END regressor__max_depth=None, regressor__max_features=auto, regressor__max_samples=0.5, regressor__n_estimators=50;, score=0.887 total time=   0.8s\n",
      "[CV 9/10] END regressor__max_depth=None, regressor__max_features=auto, regressor__max_samples=0.5, regressor__n_estimators=50;, score=0.868 total time=   0.8s\n",
      "[CV 10/10] END regressor__max_depth=None, regressor__max_features=auto, regressor__max_samples=0.5, regressor__n_estimators=50;, score=0.875 total time=   0.8s\n"
     ]
    },
    {
     "name": "stderr",
     "output_type": "stream",
     "text": [
      "/Users/vivektyagi/miniconda3/envs/envDS/lib/python3.9/site-packages/sklearn/ensemble/_forest.py:414: FutureWarning: `max_features='auto'` has been deprecated in 1.1 and will be removed in 1.3. To keep the past behaviour, explicitly set `max_features=1.0` or remove this parameter as it is also the default value for RandomForestRegressors and ExtraTreesRegressors.\n",
      "  warn(\n",
      "/Users/vivektyagi/miniconda3/envs/envDS/lib/python3.9/site-packages/sklearn/ensemble/_forest.py:414: FutureWarning: `max_features='auto'` has been deprecated in 1.1 and will be removed in 1.3. To keep the past behaviour, explicitly set `max_features=1.0` or remove this parameter as it is also the default value for RandomForestRegressors and ExtraTreesRegressors.\n",
      "  warn(\n"
     ]
    },
    {
     "name": "stdout",
     "output_type": "stream",
     "text": [
      "[CV 10/10] END regressor__max_depth=None, regressor__max_features=auto, regressor__max_samples=0.25, regressor__n_estimators=300;, score=0.876 total time=   2.6s\n",
      "[CV 9/10] END regressor__max_depth=None, regressor__max_features=auto, regressor__max_samples=0.25, regressor__n_estimators=300;, score=0.860 total time=   2.7s\n"
     ]
    },
    {
     "name": "stderr",
     "output_type": "stream",
     "text": [
      "/Users/vivektyagi/miniconda3/envs/envDS/lib/python3.9/site-packages/sklearn/ensemble/_forest.py:414: FutureWarning: `max_features='auto'` has been deprecated in 1.1 and will be removed in 1.3. To keep the past behaviour, explicitly set `max_features=1.0` or remove this parameter as it is also the default value for RandomForestRegressors and ExtraTreesRegressors.\n",
      "  warn(\n",
      "/Users/vivektyagi/miniconda3/envs/envDS/lib/python3.9/site-packages/sklearn/ensemble/_forest.py:414: FutureWarning: `max_features='auto'` has been deprecated in 1.1 and will be removed in 1.3. To keep the past behaviour, explicitly set `max_features=1.0` or remove this parameter as it is also the default value for RandomForestRegressors and ExtraTreesRegressors.\n",
      "  warn(\n"
     ]
    },
    {
     "name": "stdout",
     "output_type": "stream",
     "text": [
      "[CV 1/10] END regressor__max_depth=None, regressor__max_features=auto, regressor__max_samples=0.5, regressor__n_estimators=100;, score=0.897 total time=   1.4s\n",
      "[CV 2/10] END regressor__max_depth=None, regressor__max_features=auto, regressor__max_samples=0.5, regressor__n_estimators=100;, score=0.925 total time=   1.4s\n"
     ]
    },
    {
     "name": "stderr",
     "output_type": "stream",
     "text": [
      "/Users/vivektyagi/miniconda3/envs/envDS/lib/python3.9/site-packages/sklearn/ensemble/_forest.py:414: FutureWarning: `max_features='auto'` has been deprecated in 1.1 and will be removed in 1.3. To keep the past behaviour, explicitly set `max_features=1.0` or remove this parameter as it is also the default value for RandomForestRegressors and ExtraTreesRegressors.\n",
      "  warn(\n",
      "/Users/vivektyagi/miniconda3/envs/envDS/lib/python3.9/site-packages/sklearn/ensemble/_forest.py:414: FutureWarning: `max_features='auto'` has been deprecated in 1.1 and will be removed in 1.3. To keep the past behaviour, explicitly set `max_features=1.0` or remove this parameter as it is also the default value for RandomForestRegressors and ExtraTreesRegressors.\n",
      "  warn(\n"
     ]
    },
    {
     "name": "stdout",
     "output_type": "stream",
     "text": [
      "[CV 3/10] END regressor__max_depth=None, regressor__max_features=auto, regressor__max_samples=0.5, regressor__n_estimators=100;, score=0.917 total time=   1.4s\n",
      "[CV 4/10] END regressor__max_depth=None, regressor__max_features=auto, regressor__max_samples=0.5, regressor__n_estimators=100;, score=0.901 total time=   1.3s\n"
     ]
    },
    {
     "name": "stderr",
     "output_type": "stream",
     "text": [
      "/Users/vivektyagi/miniconda3/envs/envDS/lib/python3.9/site-packages/sklearn/ensemble/_forest.py:414: FutureWarning: `max_features='auto'` has been deprecated in 1.1 and will be removed in 1.3. To keep the past behaviour, explicitly set `max_features=1.0` or remove this parameter as it is also the default value for RandomForestRegressors and ExtraTreesRegressors.\n",
      "  warn(\n",
      "/Users/vivektyagi/miniconda3/envs/envDS/lib/python3.9/site-packages/sklearn/ensemble/_forest.py:414: FutureWarning: `max_features='auto'` has been deprecated in 1.1 and will be removed in 1.3. To keep the past behaviour, explicitly set `max_features=1.0` or remove this parameter as it is also the default value for RandomForestRegressors and ExtraTreesRegressors.\n",
      "  warn(\n"
     ]
    },
    {
     "name": "stdout",
     "output_type": "stream",
     "text": [
      "[CV 5/10] END regressor__max_depth=None, regressor__max_features=auto, regressor__max_samples=0.5, regressor__n_estimators=100;, score=0.901 total time=   1.5s\n",
      "[CV 6/10] END regressor__max_depth=None, regressor__max_features=auto, regressor__max_samples=0.5, regressor__n_estimators=100;, score=0.876 total time=   1.5s\n"
     ]
    },
    {
     "name": "stderr",
     "output_type": "stream",
     "text": [
      "/Users/vivektyagi/miniconda3/envs/envDS/lib/python3.9/site-packages/sklearn/ensemble/_forest.py:414: FutureWarning: `max_features='auto'` has been deprecated in 1.1 and will be removed in 1.3. To keep the past behaviour, explicitly set `max_features=1.0` or remove this parameter as it is also the default value for RandomForestRegressors and ExtraTreesRegressors.\n",
      "  warn(\n",
      "/Users/vivektyagi/miniconda3/envs/envDS/lib/python3.9/site-packages/sklearn/ensemble/_forest.py:414: FutureWarning: `max_features='auto'` has been deprecated in 1.1 and will be removed in 1.3. To keep the past behaviour, explicitly set `max_features=1.0` or remove this parameter as it is also the default value for RandomForestRegressors and ExtraTreesRegressors.\n",
      "  warn(\n"
     ]
    },
    {
     "name": "stdout",
     "output_type": "stream",
     "text": [
      "[CV 7/10] END regressor__max_depth=None, regressor__max_features=auto, regressor__max_samples=0.5, regressor__n_estimators=100;, score=0.887 total time=   1.5s\n",
      "[CV 8/10] END regressor__max_depth=None, regressor__max_features=auto, regressor__max_samples=0.5, regressor__n_estimators=100;, score=0.884 total time=   1.5s\n"
     ]
    },
    {
     "name": "stderr",
     "output_type": "stream",
     "text": [
      "/Users/vivektyagi/miniconda3/envs/envDS/lib/python3.9/site-packages/sklearn/ensemble/_forest.py:414: FutureWarning: `max_features='auto'` has been deprecated in 1.1 and will be removed in 1.3. To keep the past behaviour, explicitly set `max_features=1.0` or remove this parameter as it is also the default value for RandomForestRegressors and ExtraTreesRegressors.\n",
      "  warn(\n",
      "/Users/vivektyagi/miniconda3/envs/envDS/lib/python3.9/site-packages/sklearn/ensemble/_forest.py:414: FutureWarning: `max_features='auto'` has been deprecated in 1.1 and will be removed in 1.3. To keep the past behaviour, explicitly set `max_features=1.0` or remove this parameter as it is also the default value for RandomForestRegressors and ExtraTreesRegressors.\n",
      "  warn(\n"
     ]
    },
    {
     "name": "stdout",
     "output_type": "stream",
     "text": [
      "[CV 9/10] END regressor__max_depth=None, regressor__max_features=auto, regressor__max_samples=0.5, regressor__n_estimators=100;, score=0.867 total time=   1.5s\n",
      "[CV 10/10] END regressor__max_depth=None, regressor__max_features=auto, regressor__max_samples=0.5, regressor__n_estimators=100;, score=0.877 total time=   1.5s\n"
     ]
    },
    {
     "name": "stderr",
     "output_type": "stream",
     "text": [
      "/Users/vivektyagi/miniconda3/envs/envDS/lib/python3.9/site-packages/sklearn/ensemble/_forest.py:414: FutureWarning: `max_features='auto'` has been deprecated in 1.1 and will be removed in 1.3. To keep the past behaviour, explicitly set `max_features=1.0` or remove this parameter as it is also the default value for RandomForestRegressors and ExtraTreesRegressors.\n",
      "  warn(\n",
      "/Users/vivektyagi/miniconda3/envs/envDS/lib/python3.9/site-packages/sklearn/ensemble/_forest.py:414: FutureWarning: `max_features='auto'` has been deprecated in 1.1 and will be removed in 1.3. To keep the past behaviour, explicitly set `max_features=1.0` or remove this parameter as it is also the default value for RandomForestRegressors and ExtraTreesRegressors.\n",
      "  warn(\n"
     ]
    },
    {
     "name": "stdout",
     "output_type": "stream",
     "text": [
      "[CV 1/10] END regressor__max_depth=None, regressor__max_features=auto, regressor__max_samples=0.5, regressor__n_estimators=200;, score=0.895 total time=   2.7s\n",
      "[CV 2/10] END regressor__max_depth=None, regressor__max_features=auto, regressor__max_samples=0.5, regressor__n_estimators=200;, score=0.925 total time=   2.7s\n"
     ]
    },
    {
     "name": "stderr",
     "output_type": "stream",
     "text": [
      "/Users/vivektyagi/miniconda3/envs/envDS/lib/python3.9/site-packages/sklearn/ensemble/_forest.py:414: FutureWarning: `max_features='auto'` has been deprecated in 1.1 and will be removed in 1.3. To keep the past behaviour, explicitly set `max_features=1.0` or remove this parameter as it is also the default value for RandomForestRegressors and ExtraTreesRegressors.\n",
      "  warn(\n",
      "/Users/vivektyagi/miniconda3/envs/envDS/lib/python3.9/site-packages/sklearn/ensemble/_forest.py:414: FutureWarning: `max_features='auto'` has been deprecated in 1.1 and will be removed in 1.3. To keep the past behaviour, explicitly set `max_features=1.0` or remove this parameter as it is also the default value for RandomForestRegressors and ExtraTreesRegressors.\n",
      "  warn(\n"
     ]
    },
    {
     "name": "stdout",
     "output_type": "stream",
     "text": [
      "[CV 3/10] END regressor__max_depth=None, regressor__max_features=auto, regressor__max_samples=0.5, regressor__n_estimators=200;, score=0.920 total time=   2.6s\n",
      "[CV 4/10] END regressor__max_depth=None, regressor__max_features=auto, regressor__max_samples=0.5, regressor__n_estimators=200;, score=0.902 total time=   2.6s\n"
     ]
    },
    {
     "name": "stderr",
     "output_type": "stream",
     "text": [
      "/Users/vivektyagi/miniconda3/envs/envDS/lib/python3.9/site-packages/sklearn/ensemble/_forest.py:414: FutureWarning: `max_features='auto'` has been deprecated in 1.1 and will be removed in 1.3. To keep the past behaviour, explicitly set `max_features=1.0` or remove this parameter as it is also the default value for RandomForestRegressors and ExtraTreesRegressors.\n",
      "  warn(\n",
      "/Users/vivektyagi/miniconda3/envs/envDS/lib/python3.9/site-packages/sklearn/ensemble/_forest.py:414: FutureWarning: `max_features='auto'` has been deprecated in 1.1 and will be removed in 1.3. To keep the past behaviour, explicitly set `max_features=1.0` or remove this parameter as it is also the default value for RandomForestRegressors and ExtraTreesRegressors.\n",
      "  warn(\n"
     ]
    },
    {
     "name": "stdout",
     "output_type": "stream",
     "text": [
      "[CV 5/10] END regressor__max_depth=None, regressor__max_features=auto, regressor__max_samples=0.5, regressor__n_estimators=200;, score=0.897 total time=   2.6s\n",
      "[CV 6/10] END regressor__max_depth=None, regressor__max_features=auto, regressor__max_samples=0.5, regressor__n_estimators=200;, score=0.877 total time=   2.6s\n"
     ]
    },
    {
     "name": "stderr",
     "output_type": "stream",
     "text": [
      "/Users/vivektyagi/miniconda3/envs/envDS/lib/python3.9/site-packages/sklearn/ensemble/_forest.py:414: FutureWarning: `max_features='auto'` has been deprecated in 1.1 and will be removed in 1.3. To keep the past behaviour, explicitly set `max_features=1.0` or remove this parameter as it is also the default value for RandomForestRegressors and ExtraTreesRegressors.\n",
      "  warn(\n",
      "/Users/vivektyagi/miniconda3/envs/envDS/lib/python3.9/site-packages/sklearn/ensemble/_forest.py:414: FutureWarning: `max_features='auto'` has been deprecated in 1.1 and will be removed in 1.3. To keep the past behaviour, explicitly set `max_features=1.0` or remove this parameter as it is also the default value for RandomForestRegressors and ExtraTreesRegressors.\n",
      "  warn(\n"
     ]
    },
    {
     "name": "stdout",
     "output_type": "stream",
     "text": [
      "[CV 7/10] END regressor__max_depth=None, regressor__max_features=auto, regressor__max_samples=0.5, regressor__n_estimators=200;, score=0.889 total time=   2.6s\n",
      "[CV 8/10] END regressor__max_depth=None, regressor__max_features=auto, regressor__max_samples=0.5, regressor__n_estimators=200;, score=0.884 total time=   2.6s\n"
     ]
    },
    {
     "name": "stderr",
     "output_type": "stream",
     "text": [
      "/Users/vivektyagi/miniconda3/envs/envDS/lib/python3.9/site-packages/sklearn/ensemble/_forest.py:414: FutureWarning: `max_features='auto'` has been deprecated in 1.1 and will be removed in 1.3. To keep the past behaviour, explicitly set `max_features=1.0` or remove this parameter as it is also the default value for RandomForestRegressors and ExtraTreesRegressors.\n",
      "  warn(\n",
      "/Users/vivektyagi/miniconda3/envs/envDS/lib/python3.9/site-packages/sklearn/ensemble/_forest.py:414: FutureWarning: `max_features='auto'` has been deprecated in 1.1 and will be removed in 1.3. To keep the past behaviour, explicitly set `max_features=1.0` or remove this parameter as it is also the default value for RandomForestRegressors and ExtraTreesRegressors.\n",
      "  warn(\n"
     ]
    },
    {
     "name": "stdout",
     "output_type": "stream",
     "text": [
      "[CV 9/10] END regressor__max_depth=None, regressor__max_features=auto, regressor__max_samples=0.5, regressor__n_estimators=200;, score=0.867 total time=   2.6s\n",
      "[CV 10/10] END regressor__max_depth=None, regressor__max_features=auto, regressor__max_samples=0.5, regressor__n_estimators=200;, score=0.877 total time=   2.6s\n"
     ]
    },
    {
     "name": "stderr",
     "output_type": "stream",
     "text": [
      "/Users/vivektyagi/miniconda3/envs/envDS/lib/python3.9/site-packages/sklearn/ensemble/_forest.py:414: FutureWarning: `max_features='auto'` has been deprecated in 1.1 and will be removed in 1.3. To keep the past behaviour, explicitly set `max_features=1.0` or remove this parameter as it is also the default value for RandomForestRegressors and ExtraTreesRegressors.\n",
      "  warn(\n",
      "/Users/vivektyagi/miniconda3/envs/envDS/lib/python3.9/site-packages/sklearn/ensemble/_forest.py:414: FutureWarning: `max_features='auto'` has been deprecated in 1.1 and will be removed in 1.3. To keep the past behaviour, explicitly set `max_features=1.0` or remove this parameter as it is also the default value for RandomForestRegressors and ExtraTreesRegressors.\n",
      "  warn(\n"
     ]
    },
    {
     "name": "stdout",
     "output_type": "stream",
     "text": [
      "[CV 1/10] END regressor__max_depth=None, regressor__max_features=auto, regressor__max_samples=0.5, regressor__n_estimators=300;, score=0.896 total time=   3.8s\n",
      "[CV 2/10] END regressor__max_depth=None, regressor__max_features=auto, regressor__max_samples=0.5, regressor__n_estimators=300;, score=0.925 total time=   3.8s\n"
     ]
    },
    {
     "name": "stderr",
     "output_type": "stream",
     "text": [
      "/Users/vivektyagi/miniconda3/envs/envDS/lib/python3.9/site-packages/sklearn/ensemble/_forest.py:414: FutureWarning: `max_features='auto'` has been deprecated in 1.1 and will be removed in 1.3. To keep the past behaviour, explicitly set `max_features=1.0` or remove this parameter as it is also the default value for RandomForestRegressors and ExtraTreesRegressors.\n",
      "  warn(\n",
      "/Users/vivektyagi/miniconda3/envs/envDS/lib/python3.9/site-packages/sklearn/ensemble/_forest.py:414: FutureWarning: `max_features='auto'` has been deprecated in 1.1 and will be removed in 1.3. To keep the past behaviour, explicitly set `max_features=1.0` or remove this parameter as it is also the default value for RandomForestRegressors and ExtraTreesRegressors.\n",
      "  warn(\n"
     ]
    },
    {
     "name": "stdout",
     "output_type": "stream",
     "text": [
      "[CV 3/10] END regressor__max_depth=None, regressor__max_features=auto, regressor__max_samples=0.5, regressor__n_estimators=300;, score=0.916 total time=   3.8s\n",
      "[CV 4/10] END regressor__max_depth=None, regressor__max_features=auto, regressor__max_samples=0.5, regressor__n_estimators=300;, score=0.900 total time=   3.8s\n"
     ]
    },
    {
     "name": "stderr",
     "output_type": "stream",
     "text": [
      "/Users/vivektyagi/miniconda3/envs/envDS/lib/python3.9/site-packages/sklearn/ensemble/_forest.py:414: FutureWarning: `max_features='auto'` has been deprecated in 1.1 and will be removed in 1.3. To keep the past behaviour, explicitly set `max_features=1.0` or remove this parameter as it is also the default value for RandomForestRegressors and ExtraTreesRegressors.\n",
      "  warn(\n",
      "/Users/vivektyagi/miniconda3/envs/envDS/lib/python3.9/site-packages/sklearn/ensemble/_forest.py:414: FutureWarning: `max_features='auto'` has been deprecated in 1.1 and will be removed in 1.3. To keep the past behaviour, explicitly set `max_features=1.0` or remove this parameter as it is also the default value for RandomForestRegressors and ExtraTreesRegressors.\n",
      "  warn(\n"
     ]
    },
    {
     "name": "stdout",
     "output_type": "stream",
     "text": [
      "[CV 5/10] END regressor__max_depth=None, regressor__max_features=auto, regressor__max_samples=0.5, regressor__n_estimators=300;, score=0.898 total time=   3.8s\n",
      "[CV 6/10] END regressor__max_depth=None, regressor__max_features=auto, regressor__max_samples=0.5, regressor__n_estimators=300;, score=0.879 total time=   3.8s\n"
     ]
    },
    {
     "name": "stderr",
     "output_type": "stream",
     "text": [
      "/Users/vivektyagi/miniconda3/envs/envDS/lib/python3.9/site-packages/sklearn/ensemble/_forest.py:414: FutureWarning: `max_features='auto'` has been deprecated in 1.1 and will be removed in 1.3. To keep the past behaviour, explicitly set `max_features=1.0` or remove this parameter as it is also the default value for RandomForestRegressors and ExtraTreesRegressors.\n",
      "  warn(\n",
      "/Users/vivektyagi/miniconda3/envs/envDS/lib/python3.9/site-packages/sklearn/ensemble/_forest.py:414: FutureWarning: `max_features='auto'` has been deprecated in 1.1 and will be removed in 1.3. To keep the past behaviour, explicitly set `max_features=1.0` or remove this parameter as it is also the default value for RandomForestRegressors and ExtraTreesRegressors.\n",
      "  warn(\n"
     ]
    },
    {
     "name": "stdout",
     "output_type": "stream",
     "text": [
      "[CV 1/10] END regressor__max_depth=None, regressor__max_features=auto, regressor__max_samples=1.0, regressor__n_estimators=50;, score=0.891 total time=   1.0s\n",
      "[CV 2/10] END regressor__max_depth=None, regressor__max_features=auto, regressor__max_samples=1.0, regressor__n_estimators=50;, score=0.927 total time=   1.0s\n"
     ]
    },
    {
     "name": "stderr",
     "output_type": "stream",
     "text": [
      "/Users/vivektyagi/miniconda3/envs/envDS/lib/python3.9/site-packages/sklearn/ensemble/_forest.py:414: FutureWarning: `max_features='auto'` has been deprecated in 1.1 and will be removed in 1.3. To keep the past behaviour, explicitly set `max_features=1.0` or remove this parameter as it is also the default value for RandomForestRegressors and ExtraTreesRegressors.\n",
      "  warn(\n",
      "/Users/vivektyagi/miniconda3/envs/envDS/lib/python3.9/site-packages/sklearn/ensemble/_forest.py:414: FutureWarning: `max_features='auto'` has been deprecated in 1.1 and will be removed in 1.3. To keep the past behaviour, explicitly set `max_features=1.0` or remove this parameter as it is also the default value for RandomForestRegressors and ExtraTreesRegressors.\n",
      "  warn(\n"
     ]
    },
    {
     "name": "stdout",
     "output_type": "stream",
     "text": [
      "[CV 3/10] END regressor__max_depth=None, regressor__max_features=auto, regressor__max_samples=1.0, regressor__n_estimators=50;, score=0.920 total time=   1.0s\n",
      "[CV 4/10] END regressor__max_depth=None, regressor__max_features=auto, regressor__max_samples=1.0, regressor__n_estimators=50;, score=0.898 total time=   1.0s\n"
     ]
    },
    {
     "name": "stderr",
     "output_type": "stream",
     "text": [
      "/Users/vivektyagi/miniconda3/envs/envDS/lib/python3.9/site-packages/sklearn/ensemble/_forest.py:414: FutureWarning: `max_features='auto'` has been deprecated in 1.1 and will be removed in 1.3. To keep the past behaviour, explicitly set `max_features=1.0` or remove this parameter as it is also the default value for RandomForestRegressors and ExtraTreesRegressors.\n",
      "  warn(\n",
      "/Users/vivektyagi/miniconda3/envs/envDS/lib/python3.9/site-packages/sklearn/ensemble/_forest.py:414: FutureWarning: `max_features='auto'` has been deprecated in 1.1 and will be removed in 1.3. To keep the past behaviour, explicitly set `max_features=1.0` or remove this parameter as it is also the default value for RandomForestRegressors and ExtraTreesRegressors.\n",
      "  warn(\n"
     ]
    },
    {
     "name": "stdout",
     "output_type": "stream",
     "text": [
      "[CV 7/10] END regressor__max_depth=None, regressor__max_features=auto, regressor__max_samples=0.5, regressor__n_estimators=300;, score=0.890 total time=   3.9s\n",
      "[CV 8/10] END regressor__max_depth=None, regressor__max_features=auto, regressor__max_samples=0.5, regressor__n_estimators=300;, score=0.883 total time=   3.9s\n",
      "[CV 5/10] END regressor__max_depth=None, regressor__max_features=auto, regressor__max_samples=1.0, regressor__n_estimators=50;, score=0.902 total time=   1.0s\n",
      "[CV 6/10] END regressor__max_depth=None, regressor__max_features=auto, regressor__max_samples=1.0, regressor__n_estimators=50;, score=0.878 total time=   1.1s\n"
     ]
    },
    {
     "name": "stderr",
     "output_type": "stream",
     "text": [
      "/Users/vivektyagi/miniconda3/envs/envDS/lib/python3.9/site-packages/sklearn/ensemble/_forest.py:414: FutureWarning: `max_features='auto'` has been deprecated in 1.1 and will be removed in 1.3. To keep the past behaviour, explicitly set `max_features=1.0` or remove this parameter as it is also the default value for RandomForestRegressors and ExtraTreesRegressors.\n",
      "  warn(\n",
      "/Users/vivektyagi/miniconda3/envs/envDS/lib/python3.9/site-packages/sklearn/ensemble/_forest.py:414: FutureWarning: `max_features='auto'` has been deprecated in 1.1 and will be removed in 1.3. To keep the past behaviour, explicitly set `max_features=1.0` or remove this parameter as it is also the default value for RandomForestRegressors and ExtraTreesRegressors.\n",
      "  warn(\n",
      "/Users/vivektyagi/miniconda3/envs/envDS/lib/python3.9/site-packages/sklearn/ensemble/_forest.py:414: FutureWarning: `max_features='auto'` has been deprecated in 1.1 and will be removed in 1.3. To keep the past behaviour, explicitly set `max_features=1.0` or remove this parameter as it is also the default value for RandomForestRegressors and ExtraTreesRegressors.\n",
      "  warn(\n",
      "/Users/vivektyagi/miniconda3/envs/envDS/lib/python3.9/site-packages/sklearn/ensemble/_forest.py:414: FutureWarning: `max_features='auto'` has been deprecated in 1.1 and will be removed in 1.3. To keep the past behaviour, explicitly set `max_features=1.0` or remove this parameter as it is also the default value for RandomForestRegressors and ExtraTreesRegressors.\n",
      "  warn(\n"
     ]
    },
    {
     "name": "stdout",
     "output_type": "stream",
     "text": [
      "[CV 7/10] END regressor__max_depth=None, regressor__max_features=auto, regressor__max_samples=1.0, regressor__n_estimators=50;, score=0.880 total time=   1.1s\n",
      "[CV 8/10] END regressor__max_depth=None, regressor__max_features=auto, regressor__max_samples=1.0, regressor__n_estimators=50;, score=0.881 total time=   1.1s\n"
     ]
    },
    {
     "name": "stderr",
     "output_type": "stream",
     "text": [
      "/Users/vivektyagi/miniconda3/envs/envDS/lib/python3.9/site-packages/sklearn/ensemble/_forest.py:414: FutureWarning: `max_features='auto'` has been deprecated in 1.1 and will be removed in 1.3. To keep the past behaviour, explicitly set `max_features=1.0` or remove this parameter as it is also the default value for RandomForestRegressors and ExtraTreesRegressors.\n",
      "  warn(\n",
      "/Users/vivektyagi/miniconda3/envs/envDS/lib/python3.9/site-packages/sklearn/ensemble/_forest.py:414: FutureWarning: `max_features='auto'` has been deprecated in 1.1 and will be removed in 1.3. To keep the past behaviour, explicitly set `max_features=1.0` or remove this parameter as it is also the default value for RandomForestRegressors and ExtraTreesRegressors.\n",
      "  warn(\n"
     ]
    },
    {
     "name": "stdout",
     "output_type": "stream",
     "text": [
      "[CV 10/10] END regressor__max_depth=None, regressor__max_features=auto, regressor__max_samples=1.0, regressor__n_estimators=50;, score=0.878 total time=   1.0s\n",
      "[CV 9/10] END regressor__max_depth=None, regressor__max_features=auto, regressor__max_samples=1.0, regressor__n_estimators=50;, score=0.864 total time=   1.0s\n"
     ]
    },
    {
     "name": "stderr",
     "output_type": "stream",
     "text": [
      "/Users/vivektyagi/miniconda3/envs/envDS/lib/python3.9/site-packages/sklearn/ensemble/_forest.py:414: FutureWarning: `max_features='auto'` has been deprecated in 1.1 and will be removed in 1.3. To keep the past behaviour, explicitly set `max_features=1.0` or remove this parameter as it is also the default value for RandomForestRegressors and ExtraTreesRegressors.\n",
      "  warn(\n",
      "/Users/vivektyagi/miniconda3/envs/envDS/lib/python3.9/site-packages/sklearn/ensemble/_forest.py:414: FutureWarning: `max_features='auto'` has been deprecated in 1.1 and will be removed in 1.3. To keep the past behaviour, explicitly set `max_features=1.0` or remove this parameter as it is also the default value for RandomForestRegressors and ExtraTreesRegressors.\n",
      "  warn(\n"
     ]
    },
    {
     "name": "stdout",
     "output_type": "stream",
     "text": [
      "[CV 9/10] END regressor__max_depth=None, regressor__max_features=auto, regressor__max_samples=0.5, regressor__n_estimators=300;, score=0.865 total time=   4.0s\n",
      "[CV 10/10] END regressor__max_depth=None, regressor__max_features=auto, regressor__max_samples=0.5, regressor__n_estimators=300;, score=0.880 total time=   3.9s\n"
     ]
    },
    {
     "name": "stderr",
     "output_type": "stream",
     "text": [
      "/Users/vivektyagi/miniconda3/envs/envDS/lib/python3.9/site-packages/sklearn/ensemble/_forest.py:414: FutureWarning: `max_features='auto'` has been deprecated in 1.1 and will be removed in 1.3. To keep the past behaviour, explicitly set `max_features=1.0` or remove this parameter as it is also the default value for RandomForestRegressors and ExtraTreesRegressors.\n",
      "  warn(\n",
      "/Users/vivektyagi/miniconda3/envs/envDS/lib/python3.9/site-packages/sklearn/ensemble/_forest.py:414: FutureWarning: `max_features='auto'` has been deprecated in 1.1 and will be removed in 1.3. To keep the past behaviour, explicitly set `max_features=1.0` or remove this parameter as it is also the default value for RandomForestRegressors and ExtraTreesRegressors.\n",
      "  warn(\n"
     ]
    },
    {
     "name": "stdout",
     "output_type": "stream",
     "text": [
      "[CV 1/10] END regressor__max_depth=None, regressor__max_features=auto, regressor__max_samples=1.0, regressor__n_estimators=100;, score=0.895 total time=   1.9s\n",
      "[CV 2/10] END regressor__max_depth=None, regressor__max_features=auto, regressor__max_samples=1.0, regressor__n_estimators=100;, score=0.924 total time=   1.9s\n"
     ]
    },
    {
     "name": "stderr",
     "output_type": "stream",
     "text": [
      "/Users/vivektyagi/miniconda3/envs/envDS/lib/python3.9/site-packages/sklearn/ensemble/_forest.py:414: FutureWarning: `max_features='auto'` has been deprecated in 1.1 and will be removed in 1.3. To keep the past behaviour, explicitly set `max_features=1.0` or remove this parameter as it is also the default value for RandomForestRegressors and ExtraTreesRegressors.\n",
      "  warn(\n",
      "/Users/vivektyagi/miniconda3/envs/envDS/lib/python3.9/site-packages/sklearn/ensemble/_forest.py:414: FutureWarning: `max_features='auto'` has been deprecated in 1.1 and will be removed in 1.3. To keep the past behaviour, explicitly set `max_features=1.0` or remove this parameter as it is also the default value for RandomForestRegressors and ExtraTreesRegressors.\n",
      "  warn(\n"
     ]
    },
    {
     "name": "stdout",
     "output_type": "stream",
     "text": [
      "[CV 3/10] END regressor__max_depth=None, regressor__max_features=auto, regressor__max_samples=1.0, regressor__n_estimators=100;, score=0.922 total time=   1.9s\n"
     ]
    },
    {
     "name": "stderr",
     "output_type": "stream",
     "text": [
      "/Users/vivektyagi/miniconda3/envs/envDS/lib/python3.9/site-packages/sklearn/ensemble/_forest.py:414: FutureWarning: `max_features='auto'` has been deprecated in 1.1 and will be removed in 1.3. To keep the past behaviour, explicitly set `max_features=1.0` or remove this parameter as it is also the default value for RandomForestRegressors and ExtraTreesRegressors.\n",
      "  warn(\n"
     ]
    },
    {
     "name": "stdout",
     "output_type": "stream",
     "text": [
      "[CV 4/10] END regressor__max_depth=None, regressor__max_features=auto, regressor__max_samples=1.0, regressor__n_estimators=100;, score=0.902 total time=   2.0s\n"
     ]
    },
    {
     "name": "stderr",
     "output_type": "stream",
     "text": [
      "/Users/vivektyagi/miniconda3/envs/envDS/lib/python3.9/site-packages/sklearn/ensemble/_forest.py:414: FutureWarning: `max_features='auto'` has been deprecated in 1.1 and will be removed in 1.3. To keep the past behaviour, explicitly set `max_features=1.0` or remove this parameter as it is also the default value for RandomForestRegressors and ExtraTreesRegressors.\n",
      "  warn(\n"
     ]
    },
    {
     "name": "stdout",
     "output_type": "stream",
     "text": [
      "[CV 6/10] END regressor__max_depth=None, regressor__max_features=auto, regressor__max_samples=1.0, regressor__n_estimators=100;, score=0.877 total time=   1.9s\n",
      "[CV 5/10] END regressor__max_depth=None, regressor__max_features=auto, regressor__max_samples=1.0, regressor__n_estimators=100;, score=0.901 total time=   1.9s\n"
     ]
    },
    {
     "name": "stderr",
     "output_type": "stream",
     "text": [
      "/Users/vivektyagi/miniconda3/envs/envDS/lib/python3.9/site-packages/sklearn/ensemble/_forest.py:414: FutureWarning: `max_features='auto'` has been deprecated in 1.1 and will be removed in 1.3. To keep the past behaviour, explicitly set `max_features=1.0` or remove this parameter as it is also the default value for RandomForestRegressors and ExtraTreesRegressors.\n",
      "  warn(\n",
      "/Users/vivektyagi/miniconda3/envs/envDS/lib/python3.9/site-packages/sklearn/ensemble/_forest.py:414: FutureWarning: `max_features='auto'` has been deprecated in 1.1 and will be removed in 1.3. To keep the past behaviour, explicitly set `max_features=1.0` or remove this parameter as it is also the default value for RandomForestRegressors and ExtraTreesRegressors.\n",
      "  warn(\n"
     ]
    },
    {
     "name": "stdout",
     "output_type": "stream",
     "text": [
      "[CV 8/10] END regressor__max_depth=None, regressor__max_features=auto, regressor__max_samples=1.0, regressor__n_estimators=100;, score=0.882 total time=   1.9s\n",
      "[CV 7/10] END regressor__max_depth=None, regressor__max_features=auto, regressor__max_samples=1.0, regressor__n_estimators=100;, score=0.882 total time=   1.9s\n"
     ]
    },
    {
     "name": "stderr",
     "output_type": "stream",
     "text": [
      "/Users/vivektyagi/miniconda3/envs/envDS/lib/python3.9/site-packages/sklearn/ensemble/_forest.py:414: FutureWarning: `max_features='auto'` has been deprecated in 1.1 and will be removed in 1.3. To keep the past behaviour, explicitly set `max_features=1.0` or remove this parameter as it is also the default value for RandomForestRegressors and ExtraTreesRegressors.\n",
      "  warn(\n",
      "/Users/vivektyagi/miniconda3/envs/envDS/lib/python3.9/site-packages/sklearn/ensemble/_forest.py:414: FutureWarning: `max_features='auto'` has been deprecated in 1.1 and will be removed in 1.3. To keep the past behaviour, explicitly set `max_features=1.0` or remove this parameter as it is also the default value for RandomForestRegressors and ExtraTreesRegressors.\n",
      "  warn(\n"
     ]
    },
    {
     "name": "stdout",
     "output_type": "stream",
     "text": [
      "[CV 9/10] END regressor__max_depth=None, regressor__max_features=auto, regressor__max_samples=1.0, regressor__n_estimators=100;, score=0.866 total time=   1.9s\n",
      "[CV 10/10] END regressor__max_depth=None, regressor__max_features=auto, regressor__max_samples=1.0, regressor__n_estimators=100;, score=0.879 total time=   1.9s\n"
     ]
    },
    {
     "name": "stderr",
     "output_type": "stream",
     "text": [
      "/Users/vivektyagi/miniconda3/envs/envDS/lib/python3.9/site-packages/sklearn/ensemble/_forest.py:414: FutureWarning: `max_features='auto'` has been deprecated in 1.1 and will be removed in 1.3. To keep the past behaviour, explicitly set `max_features=1.0` or remove this parameter as it is also the default value for RandomForestRegressors and ExtraTreesRegressors.\n",
      "  warn(\n",
      "/Users/vivektyagi/miniconda3/envs/envDS/lib/python3.9/site-packages/sklearn/ensemble/_forest.py:414: FutureWarning: `max_features='auto'` has been deprecated in 1.1 and will be removed in 1.3. To keep the past behaviour, explicitly set `max_features=1.0` or remove this parameter as it is also the default value for RandomForestRegressors and ExtraTreesRegressors.\n",
      "  warn(\n"
     ]
    },
    {
     "name": "stdout",
     "output_type": "stream",
     "text": [
      "[CV 1/10] END regressor__max_depth=None, regressor__max_features=auto, regressor__max_samples=1.0, regressor__n_estimators=200;, score=0.897 total time=   3.7s\n"
     ]
    },
    {
     "name": "stderr",
     "output_type": "stream",
     "text": [
      "/Users/vivektyagi/miniconda3/envs/envDS/lib/python3.9/site-packages/sklearn/ensemble/_forest.py:414: FutureWarning: `max_features='auto'` has been deprecated in 1.1 and will be removed in 1.3. To keep the past behaviour, explicitly set `max_features=1.0` or remove this parameter as it is also the default value for RandomForestRegressors and ExtraTreesRegressors.\n",
      "  warn(\n"
     ]
    },
    {
     "name": "stdout",
     "output_type": "stream",
     "text": [
      "[CV 2/10] END regressor__max_depth=None, regressor__max_features=auto, regressor__max_samples=1.0, regressor__n_estimators=200;, score=0.930 total time=   3.7s\n"
     ]
    },
    {
     "name": "stderr",
     "output_type": "stream",
     "text": [
      "/Users/vivektyagi/miniconda3/envs/envDS/lib/python3.9/site-packages/sklearn/ensemble/_forest.py:414: FutureWarning: `max_features='auto'` has been deprecated in 1.1 and will be removed in 1.3. To keep the past behaviour, explicitly set `max_features=1.0` or remove this parameter as it is also the default value for RandomForestRegressors and ExtraTreesRegressors.\n",
      "  warn(\n"
     ]
    },
    {
     "name": "stdout",
     "output_type": "stream",
     "text": [
      "[CV 3/10] END regressor__max_depth=None, regressor__max_features=auto, regressor__max_samples=1.0, regressor__n_estimators=200;, score=0.922 total time=   3.7s\n",
      "[CV 4/10] END regressor__max_depth=None, regressor__max_features=auto, regressor__max_samples=1.0, regressor__n_estimators=200;, score=0.900 total time=   3.7s\n"
     ]
    },
    {
     "name": "stderr",
     "output_type": "stream",
     "text": [
      "/Users/vivektyagi/miniconda3/envs/envDS/lib/python3.9/site-packages/sklearn/ensemble/_forest.py:414: FutureWarning: `max_features='auto'` has been deprecated in 1.1 and will be removed in 1.3. To keep the past behaviour, explicitly set `max_features=1.0` or remove this parameter as it is also the default value for RandomForestRegressors and ExtraTreesRegressors.\n",
      "  warn(\n",
      "/Users/vivektyagi/miniconda3/envs/envDS/lib/python3.9/site-packages/sklearn/ensemble/_forest.py:414: FutureWarning: `max_features='auto'` has been deprecated in 1.1 and will be removed in 1.3. To keep the past behaviour, explicitly set `max_features=1.0` or remove this parameter as it is also the default value for RandomForestRegressors and ExtraTreesRegressors.\n",
      "  warn(\n"
     ]
    },
    {
     "name": "stdout",
     "output_type": "stream",
     "text": [
      "[CV 5/10] END regressor__max_depth=None, regressor__max_features=auto, regressor__max_samples=1.0, regressor__n_estimators=200;, score=0.902 total time=   3.8s\n",
      "[CV 6/10] END regressor__max_depth=None, regressor__max_features=auto, regressor__max_samples=1.0, regressor__n_estimators=200;, score=0.879 total time=   3.8s\n"
     ]
    },
    {
     "name": "stderr",
     "output_type": "stream",
     "text": [
      "/Users/vivektyagi/miniconda3/envs/envDS/lib/python3.9/site-packages/sklearn/ensemble/_forest.py:414: FutureWarning: `max_features='auto'` has been deprecated in 1.1 and will be removed in 1.3. To keep the past behaviour, explicitly set `max_features=1.0` or remove this parameter as it is also the default value for RandomForestRegressors and ExtraTreesRegressors.\n",
      "  warn(\n",
      "/Users/vivektyagi/miniconda3/envs/envDS/lib/python3.9/site-packages/sklearn/ensemble/_forest.py:414: FutureWarning: `max_features='auto'` has been deprecated in 1.1 and will be removed in 1.3. To keep the past behaviour, explicitly set `max_features=1.0` or remove this parameter as it is also the default value for RandomForestRegressors and ExtraTreesRegressors.\n",
      "  warn(\n"
     ]
    },
    {
     "name": "stdout",
     "output_type": "stream",
     "text": [
      "[CV 7/10] END regressor__max_depth=None, regressor__max_features=auto, regressor__max_samples=1.0, regressor__n_estimators=200;, score=0.885 total time=   3.7s\n",
      "[CV 8/10] END regressor__max_depth=None, regressor__max_features=auto, regressor__max_samples=1.0, regressor__n_estimators=200;, score=0.882 total time=   3.8s\n"
     ]
    },
    {
     "name": "stderr",
     "output_type": "stream",
     "text": [
      "/Users/vivektyagi/miniconda3/envs/envDS/lib/python3.9/site-packages/sklearn/ensemble/_forest.py:414: FutureWarning: `max_features='auto'` has been deprecated in 1.1 and will be removed in 1.3. To keep the past behaviour, explicitly set `max_features=1.0` or remove this parameter as it is also the default value for RandomForestRegressors and ExtraTreesRegressors.\n",
      "  warn(\n",
      "/Users/vivektyagi/miniconda3/envs/envDS/lib/python3.9/site-packages/sklearn/ensemble/_forest.py:414: FutureWarning: `max_features='auto'` has been deprecated in 1.1 and will be removed in 1.3. To keep the past behaviour, explicitly set `max_features=1.0` or remove this parameter as it is also the default value for RandomForestRegressors and ExtraTreesRegressors.\n",
      "  warn(\n"
     ]
    },
    {
     "name": "stdout",
     "output_type": "stream",
     "text": [
      "[CV 9/10] END regressor__max_depth=None, regressor__max_features=auto, regressor__max_samples=1.0, regressor__n_estimators=200;, score=0.867 total time=   3.7s\n"
     ]
    },
    {
     "name": "stderr",
     "output_type": "stream",
     "text": [
      "/Users/vivektyagi/miniconda3/envs/envDS/lib/python3.9/site-packages/sklearn/ensemble/_forest.py:414: FutureWarning: `max_features='auto'` has been deprecated in 1.1 and will be removed in 1.3. To keep the past behaviour, explicitly set `max_features=1.0` or remove this parameter as it is also the default value for RandomForestRegressors and ExtraTreesRegressors.\n",
      "  warn(\n"
     ]
    },
    {
     "name": "stdout",
     "output_type": "stream",
     "text": [
      "[CV 10/10] END regressor__max_depth=None, regressor__max_features=auto, regressor__max_samples=1.0, regressor__n_estimators=200;, score=0.881 total time=   3.7s\n"
     ]
    },
    {
     "name": "stderr",
     "output_type": "stream",
     "text": [
      "/Users/vivektyagi/miniconda3/envs/envDS/lib/python3.9/site-packages/sklearn/ensemble/_forest.py:414: FutureWarning: `max_features='auto'` has been deprecated in 1.1 and will be removed in 1.3. To keep the past behaviour, explicitly set `max_features=1.0` or remove this parameter as it is also the default value for RandomForestRegressors and ExtraTreesRegressors.\n",
      "  warn(\n"
     ]
    },
    {
     "name": "stdout",
     "output_type": "stream",
     "text": [
      "[CV 2/10] END regressor__max_depth=None, regressor__max_features=auto, regressor__max_samples=1.0, regressor__n_estimators=300;, score=0.928 total time=   6.0s\n",
      "[CV 1/10] END regressor__max_depth=None, regressor__max_features=auto, regressor__max_samples=1.0, regressor__n_estimators=300;, score=0.894 total time=   6.0s\n"
     ]
    },
    {
     "name": "stderr",
     "output_type": "stream",
     "text": [
      "/Users/vivektyagi/miniconda3/envs/envDS/lib/python3.9/site-packages/sklearn/ensemble/_forest.py:414: FutureWarning: `max_features='auto'` has been deprecated in 1.1 and will be removed in 1.3. To keep the past behaviour, explicitly set `max_features=1.0` or remove this parameter as it is also the default value for RandomForestRegressors and ExtraTreesRegressors.\n",
      "  warn(\n",
      "/Users/vivektyagi/miniconda3/envs/envDS/lib/python3.9/site-packages/sklearn/ensemble/_forest.py:414: FutureWarning: `max_features='auto'` has been deprecated in 1.1 and will be removed in 1.3. To keep the past behaviour, explicitly set `max_features=1.0` or remove this parameter as it is also the default value for RandomForestRegressors and ExtraTreesRegressors.\n",
      "  warn(\n"
     ]
    },
    {
     "name": "stdout",
     "output_type": "stream",
     "text": [
      "[CV 4/10] END regressor__max_depth=None, regressor__max_features=auto, regressor__max_samples=1.0, regressor__n_estimators=300;, score=0.900 total time=   6.0s\n",
      "[CV 3/10] END regressor__max_depth=None, regressor__max_features=auto, regressor__max_samples=1.0, regressor__n_estimators=300;, score=0.922 total time=   6.2s\n",
      "[CV 1/10] END regressor__max_depth=None, regressor__max_features=sqrt, regressor__max_samples=0.1, regressor__n_estimators=50;, score=0.880 total time=   0.3s\n",
      "[CV 5/10] END regressor__max_depth=None, regressor__max_features=auto, regressor__max_samples=1.0, regressor__n_estimators=300;, score=0.903 total time=   6.0s\n",
      "[CV 6/10] END regressor__max_depth=None, regressor__max_features=auto, regressor__max_samples=1.0, regressor__n_estimators=300;, score=0.879 total time=   6.1s\n",
      "[CV 2/10] END regressor__max_depth=None, regressor__max_features=sqrt, regressor__max_samples=0.1, regressor__n_estimators=50;, score=0.887 total time=   0.3s\n",
      "[CV 3/10] END regressor__max_depth=None, regressor__max_features=sqrt, regressor__max_samples=0.1, regressor__n_estimators=50;, score=0.875 total time=   0.3s\n",
      "[CV 4/10] END regressor__max_depth=None, regressor__max_features=sqrt, regressor__max_samples=0.1, regressor__n_estimators=50;, score=0.844 total time=   0.3s\n",
      "[CV 6/10] END regressor__max_depth=None, regressor__max_features=sqrt, regressor__max_samples=0.1, regressor__n_estimators=50;, score=0.858 total time=   0.3s\n",
      "[CV 5/10] END regressor__max_depth=None, regressor__max_features=sqrt, regressor__max_samples=0.1, regressor__n_estimators=50;, score=0.855 total time=   0.3s\n",
      "[CV 7/10] END regressor__max_depth=None, regressor__max_features=sqrt, regressor__max_samples=0.1, regressor__n_estimators=50;, score=0.874 total time=   0.3s\n",
      "[CV 8/10] END regressor__max_depth=None, regressor__max_features=sqrt, regressor__max_samples=0.1, regressor__n_estimators=50;, score=0.877 total time=   0.3s\n",
      "[CV 9/10] END regressor__max_depth=None, regressor__max_features=sqrt, regressor__max_samples=0.1, regressor__n_estimators=50;, score=0.842 total time=   0.3s\n",
      "[CV 10/10] END regressor__max_depth=None, regressor__max_features=sqrt, regressor__max_samples=0.1, regressor__n_estimators=50;, score=0.847 total time=   0.3s\n",
      "[CV 1/10] END regressor__max_depth=None, regressor__max_features=sqrt, regressor__max_samples=0.1, regressor__n_estimators=100;, score=0.883 total time=   0.5s\n",
      "[CV 2/10] END regressor__max_depth=None, regressor__max_features=sqrt, regressor__max_samples=0.1, regressor__n_estimators=100;, score=0.895 total time=   0.5s\n",
      "[CV 3/10] END regressor__max_depth=None, regressor__max_features=sqrt, regressor__max_samples=0.1, regressor__n_estimators=100;, score=0.868 total time=   0.5s\n",
      "[CV 4/10] END regressor__max_depth=None, regressor__max_features=sqrt, regressor__max_samples=0.1, regressor__n_estimators=100;, score=0.852 total time=   0.5s\n",
      "[CV 5/10] END regressor__max_depth=None, regressor__max_features=sqrt, regressor__max_samples=0.1, regressor__n_estimators=100;, score=0.865 total time=   0.4s\n",
      "[CV 6/10] END regressor__max_depth=None, regressor__max_features=sqrt, regressor__max_samples=0.1, regressor__n_estimators=100;, score=0.859 total time=   0.4s\n",
      "[CV 7/10] END regressor__max_depth=None, regressor__max_features=sqrt, regressor__max_samples=0.1, regressor__n_estimators=100;, score=0.869 total time=   0.4s\n",
      "[CV 8/10] END regressor__max_depth=None, regressor__max_features=sqrt, regressor__max_samples=0.1, regressor__n_estimators=100;, score=0.868 total time=   0.5s\n",
      "[CV 9/10] END regressor__max_depth=None, regressor__max_features=sqrt, regressor__max_samples=0.1, regressor__n_estimators=100;, score=0.852 total time=   0.5s\n",
      "[CV 10/10] END regressor__max_depth=None, regressor__max_features=sqrt, regressor__max_samples=0.1, regressor__n_estimators=100;, score=0.852 total time=   0.4s\n",
      "[CV 7/10] END regressor__max_depth=None, regressor__max_features=auto, regressor__max_samples=1.0, regressor__n_estimators=300;, score=0.884 total time=   6.2s\n",
      "[CV 1/10] END regressor__max_depth=None, regressor__max_features=sqrt, regressor__max_samples=0.1, regressor__n_estimators=200;, score=0.886 total time=   0.8s\n",
      "[CV 2/10] END regressor__max_depth=None, regressor__max_features=sqrt, regressor__max_samples=0.1, regressor__n_estimators=200;, score=0.891 total time=   0.8s\n",
      "[CV 8/10] END regressor__max_depth=None, regressor__max_features=auto, regressor__max_samples=1.0, regressor__n_estimators=300;, score=0.882 total time=   6.2s\n",
      "[CV 3/10] END regressor__max_depth=None, regressor__max_features=sqrt, regressor__max_samples=0.1, regressor__n_estimators=200;, score=0.870 total time=   0.8s\n",
      "[CV 4/10] END regressor__max_depth=None, regressor__max_features=sqrt, regressor__max_samples=0.1, regressor__n_estimators=200;, score=0.852 total time=   0.8s\n",
      "[CV 5/10] END regressor__max_depth=None, regressor__max_features=sqrt, regressor__max_samples=0.1, regressor__n_estimators=200;, score=0.868 total time=   0.9s\n",
      "[CV 6/10] END regressor__max_depth=None, regressor__max_features=sqrt, regressor__max_samples=0.1, regressor__n_estimators=200;, score=0.857 total time=   0.9s\n",
      "[CV 7/10] END regressor__max_depth=None, regressor__max_features=sqrt, regressor__max_samples=0.1, regressor__n_estimators=200;, score=0.876 total time=   0.9s\n",
      "[CV 8/10] END regressor__max_depth=None, regressor__max_features=sqrt, regressor__max_samples=0.1, regressor__n_estimators=200;, score=0.874 total time=   0.9s\n",
      "[CV 9/10] END regressor__max_depth=None, regressor__max_features=sqrt, regressor__max_samples=0.1, regressor__n_estimators=200;, score=0.850 total time=   0.9s\n",
      "[CV 10/10] END regressor__max_depth=None, regressor__max_features=sqrt, regressor__max_samples=0.1, regressor__n_estimators=200;, score=0.851 total time=   0.9s\n",
      "[CV 1/10] END regressor__max_depth=None, regressor__max_features=sqrt, regressor__max_samples=0.1, regressor__n_estimators=300;, score=0.884 total time=   1.2s\n",
      "[CV 2/10] END regressor__max_depth=None, regressor__max_features=sqrt, regressor__max_samples=0.1, regressor__n_estimators=300;, score=0.891 total time=   1.2s\n",
      "[CV 3/10] END regressor__max_depth=None, regressor__max_features=sqrt, regressor__max_samples=0.1, regressor__n_estimators=300;, score=0.875 total time=   1.2s\n",
      "[CV 4/10] END regressor__max_depth=None, regressor__max_features=sqrt, regressor__max_samples=0.1, regressor__n_estimators=300;, score=0.850 total time=   1.2s\n",
      "[CV 10/10] END regressor__max_depth=None, regressor__max_features=auto, regressor__max_samples=1.0, regressor__n_estimators=300;, score=0.881 total time=   5.6s\n",
      "[CV 9/10] END regressor__max_depth=None, regressor__max_features=auto, regressor__max_samples=1.0, regressor__n_estimators=300;, score=0.866 total time=   5.7s\n",
      "[CV 5/10] END regressor__max_depth=None, regressor__max_features=sqrt, regressor__max_samples=0.1, regressor__n_estimators=300;, score=0.864 total time=   1.2s\n",
      "[CV 6/10] END regressor__max_depth=None, regressor__max_features=sqrt, regressor__max_samples=0.1, regressor__n_estimators=300;, score=0.862 total time=   1.2s\n",
      "[CV 1/10] END regressor__max_depth=None, regressor__max_features=sqrt, regressor__max_samples=0.25, regressor__n_estimators=50;, score=0.890 total time=   0.3s\n",
      "[CV 2/10] END regressor__max_depth=None, regressor__max_features=sqrt, regressor__max_samples=0.25, regressor__n_estimators=50;, score=0.901 total time=   0.3s\n",
      "[CV 3/10] END regressor__max_depth=None, regressor__max_features=sqrt, regressor__max_samples=0.25, regressor__n_estimators=50;, score=0.893 total time=   0.3s\n",
      "[CV 4/10] END regressor__max_depth=None, regressor__max_features=sqrt, regressor__max_samples=0.25, regressor__n_estimators=50;, score=0.864 total time=   0.3s\n",
      "[CV 5/10] END regressor__max_depth=None, regressor__max_features=sqrt, regressor__max_samples=0.25, regressor__n_estimators=50;, score=0.872 total time=   0.3s\n",
      "[CV 6/10] END regressor__max_depth=None, regressor__max_features=sqrt, regressor__max_samples=0.25, regressor__n_estimators=50;, score=0.868 total time=   0.3s\n",
      "[CV 7/10] END regressor__max_depth=None, regressor__max_features=sqrt, regressor__max_samples=0.25, regressor__n_estimators=50;, score=0.884 total time=   0.3s\n",
      "[CV 7/10] END regressor__max_depth=None, regressor__max_features=sqrt, regressor__max_samples=0.1, regressor__n_estimators=300;, score=0.878 total time=   1.3s\n",
      "[CV 8/10] END regressor__max_depth=None, regressor__max_features=sqrt, regressor__max_samples=0.25, regressor__n_estimators=50;, score=0.873 total time=   0.3s\n",
      "[CV 9/10] END regressor__max_depth=None, regressor__max_features=sqrt, regressor__max_samples=0.25, regressor__n_estimators=50;, score=0.868 total time=   0.3s\n",
      "[CV 10/10] END regressor__max_depth=None, regressor__max_features=sqrt, regressor__max_samples=0.25, regressor__n_estimators=50;, score=0.865 total time=   0.3s\n",
      "[CV 8/10] END regressor__max_depth=None, regressor__max_features=sqrt, regressor__max_samples=0.1, regressor__n_estimators=300;, score=0.870 total time=   1.3s\n",
      "[CV 9/10] END regressor__max_depth=None, regressor__max_features=sqrt, regressor__max_samples=0.1, regressor__n_estimators=300;, score=0.856 total time=   1.3s\n",
      "[CV 10/10] END regressor__max_depth=None, regressor__max_features=sqrt, regressor__max_samples=0.1, regressor__n_estimators=300;, score=0.851 total time=   1.3s\n",
      "[CV 1/10] END regressor__max_depth=None, regressor__max_features=sqrt, regressor__max_samples=0.25, regressor__n_estimators=100;, score=0.891 total time=   0.6s\n",
      "[CV 3/10] END regressor__max_depth=None, regressor__max_features=sqrt, regressor__max_samples=0.25, regressor__n_estimators=100;, score=0.881 total time=   0.6s\n",
      "[CV 2/10] END regressor__max_depth=None, regressor__max_features=sqrt, regressor__max_samples=0.25, regressor__n_estimators=100;, score=0.900 total time=   0.6s\n",
      "[CV 4/10] END regressor__max_depth=None, regressor__max_features=sqrt, regressor__max_samples=0.25, regressor__n_estimators=100;, score=0.871 total time=   0.6s\n",
      "[CV 5/10] END regressor__max_depth=None, regressor__max_features=sqrt, regressor__max_samples=0.25, regressor__n_estimators=100;, score=0.881 total time=   0.6s\n",
      "[CV 6/10] END regressor__max_depth=None, regressor__max_features=sqrt, regressor__max_samples=0.25, regressor__n_estimators=100;, score=0.869 total time=   0.6s\n",
      "[CV 7/10] END regressor__max_depth=None, regressor__max_features=sqrt, regressor__max_samples=0.25, regressor__n_estimators=100;, score=0.887 total time=   0.6s\n",
      "[CV 8/10] END regressor__max_depth=None, regressor__max_features=sqrt, regressor__max_samples=0.25, regressor__n_estimators=100;, score=0.880 total time=   0.6s\n",
      "[CV 9/10] END regressor__max_depth=None, regressor__max_features=sqrt, regressor__max_samples=0.25, regressor__n_estimators=100;, score=0.864 total time=   0.6s\n",
      "[CV 10/10] END regressor__max_depth=None, regressor__max_features=sqrt, regressor__max_samples=0.25, regressor__n_estimators=100;, score=0.862 total time=   0.6s\n",
      "[CV 1/10] END regressor__max_depth=None, regressor__max_features=sqrt, regressor__max_samples=0.25, regressor__n_estimators=200;, score=0.896 total time=   1.1s\n",
      "[CV 2/10] END regressor__max_depth=None, regressor__max_features=sqrt, regressor__max_samples=0.25, regressor__n_estimators=200;, score=0.907 total time=   1.1s\n",
      "[CV 3/10] END regressor__max_depth=None, regressor__max_features=sqrt, regressor__max_samples=0.25, regressor__n_estimators=200;, score=0.884 total time=   1.1s\n",
      "[CV 4/10] END regressor__max_depth=None, regressor__max_features=sqrt, regressor__max_samples=0.25, regressor__n_estimators=200;, score=0.870 total time=   1.1s\n",
      "[CV 5/10] END regressor__max_depth=None, regressor__max_features=sqrt, regressor__max_samples=0.25, regressor__n_estimators=200;, score=0.880 total time=   1.1s\n",
      "[CV 6/10] END regressor__max_depth=None, regressor__max_features=sqrt, regressor__max_samples=0.25, regressor__n_estimators=200;, score=0.873 total time=   1.1s\n",
      "[CV 7/10] END regressor__max_depth=None, regressor__max_features=sqrt, regressor__max_samples=0.25, regressor__n_estimators=200;, score=0.886 total time=   1.1s\n",
      "[CV 8/10] END regressor__max_depth=None, regressor__max_features=sqrt, regressor__max_samples=0.25, regressor__n_estimators=200;, score=0.883 total time=   1.1s\n",
      "[CV 9/10] END regressor__max_depth=None, regressor__max_features=sqrt, regressor__max_samples=0.25, regressor__n_estimators=200;, score=0.865 total time=   1.1s\n",
      "[CV 10/10] END regressor__max_depth=None, regressor__max_features=sqrt, regressor__max_samples=0.25, regressor__n_estimators=200;, score=0.863 total time=   1.1s\n",
      "[CV 1/10] END regressor__max_depth=None, regressor__max_features=sqrt, regressor__max_samples=0.25, regressor__n_estimators=300;, score=0.896 total time=   1.6s\n",
      "[CV 2/10] END regressor__max_depth=None, regressor__max_features=sqrt, regressor__max_samples=0.25, regressor__n_estimators=300;, score=0.904 total time=   1.6s\n",
      "[CV 4/10] END regressor__max_depth=None, regressor__max_features=sqrt, regressor__max_samples=0.25, regressor__n_estimators=300;, score=0.872 total time=   1.6s\n",
      "[CV 3/10] END regressor__max_depth=None, regressor__max_features=sqrt, regressor__max_samples=0.25, regressor__n_estimators=300;, score=0.888 total time=   1.7s\n",
      "[CV 5/10] END regressor__max_depth=None, regressor__max_features=sqrt, regressor__max_samples=0.25, regressor__n_estimators=300;, score=0.879 total time=   1.6s\n",
      "[CV 6/10] END regressor__max_depth=None, regressor__max_features=sqrt, regressor__max_samples=0.25, regressor__n_estimators=300;, score=0.873 total time=   1.6s\n",
      "[CV 1/10] END regressor__max_depth=None, regressor__max_features=sqrt, regressor__max_samples=0.5, regressor__n_estimators=50;, score=0.897 total time=   0.4s\n",
      "[CV 2/10] END regressor__max_depth=None, regressor__max_features=sqrt, regressor__max_samples=0.5, regressor__n_estimators=50;, score=0.908 total time=   0.4s\n",
      "[CV 3/10] END regressor__max_depth=None, regressor__max_features=sqrt, regressor__max_samples=0.5, regressor__n_estimators=50;, score=0.897 total time=   0.4s\n",
      "[CV 4/10] END regressor__max_depth=None, regressor__max_features=sqrt, regressor__max_samples=0.5, regressor__n_estimators=50;, score=0.881 total time=   0.4s\n",
      "[CV 5/10] END regressor__max_depth=None, regressor__max_features=sqrt, regressor__max_samples=0.5, regressor__n_estimators=50;, score=0.887 total time=   0.4s\n",
      "[CV 7/10] END regressor__max_depth=None, regressor__max_features=sqrt, regressor__max_samples=0.25, regressor__n_estimators=300;, score=0.886 total time=   1.6s\n",
      "[CV 8/10] END regressor__max_depth=None, regressor__max_features=sqrt, regressor__max_samples=0.25, regressor__n_estimators=300;, score=0.882 total time=   1.6s\n",
      "[CV 6/10] END regressor__max_depth=None, regressor__max_features=sqrt, regressor__max_samples=0.5, regressor__n_estimators=50;, score=0.877 total time=   0.4s\n",
      "[CV 7/10] END regressor__max_depth=None, regressor__max_features=sqrt, regressor__max_samples=0.5, regressor__n_estimators=50;, score=0.888 total time=   0.4s\n",
      "[CV 8/10] END regressor__max_depth=None, regressor__max_features=sqrt, regressor__max_samples=0.5, regressor__n_estimators=50;, score=0.877 total time=   0.4s\n",
      "[CV 9/10] END regressor__max_depth=None, regressor__max_features=sqrt, regressor__max_samples=0.5, regressor__n_estimators=50;, score=0.872 total time=   0.4s\n",
      "[CV 10/10] END regressor__max_depth=None, regressor__max_features=sqrt, regressor__max_samples=0.5, regressor__n_estimators=50;, score=0.871 total time=   0.4s\n",
      "[CV 9/10] END regressor__max_depth=None, regressor__max_features=sqrt, regressor__max_samples=0.25, regressor__n_estimators=300;, score=0.864 total time=   1.6s\n",
      "[CV 10/10] END regressor__max_depth=None, regressor__max_features=sqrt, regressor__max_samples=0.25, regressor__n_estimators=300;, score=0.865 total time=   1.7s\n",
      "[CV 1/10] END regressor__max_depth=None, regressor__max_features=sqrt, regressor__max_samples=0.5, regressor__n_estimators=100;, score=0.899 total time=   0.8s\n",
      "[CV 2/10] END regressor__max_depth=None, regressor__max_features=sqrt, regressor__max_samples=0.5, regressor__n_estimators=100;, score=0.912 total time=   0.8s\n",
      "[CV 3/10] END regressor__max_depth=None, regressor__max_features=sqrt, regressor__max_samples=0.5, regressor__n_estimators=100;, score=0.897 total time=   0.8s\n",
      "[CV 4/10] END regressor__max_depth=None, regressor__max_features=sqrt, regressor__max_samples=0.5, regressor__n_estimators=100;, score=0.885 total time=   0.8s\n",
      "[CV 5/10] END regressor__max_depth=None, regressor__max_features=sqrt, regressor__max_samples=0.5, regressor__n_estimators=100;, score=0.887 total time=   0.8s\n",
      "[CV 6/10] END regressor__max_depth=None, regressor__max_features=sqrt, regressor__max_samples=0.5, regressor__n_estimators=100;, score=0.871 total time=   0.7s\n",
      "[CV 7/10] END regressor__max_depth=None, regressor__max_features=sqrt, regressor__max_samples=0.5, regressor__n_estimators=100;, score=0.889 total time=   0.8s\n",
      "[CV 8/10] END regressor__max_depth=None, regressor__max_features=sqrt, regressor__max_samples=0.5, regressor__n_estimators=100;, score=0.885 total time=   0.8s\n",
      "[CV 9/10] END regressor__max_depth=None, regressor__max_features=sqrt, regressor__max_samples=0.5, regressor__n_estimators=100;, score=0.873 total time=   0.8s\n",
      "[CV 10/10] END regressor__max_depth=None, regressor__max_features=sqrt, regressor__max_samples=0.5, regressor__n_estimators=100;, score=0.867 total time=   0.8s\n",
      "[CV 1/10] END regressor__max_depth=None, regressor__max_features=sqrt, regressor__max_samples=0.5, regressor__n_estimators=200;, score=0.903 total time=   1.4s\n",
      "[CV 2/10] END regressor__max_depth=None, regressor__max_features=sqrt, regressor__max_samples=0.5, regressor__n_estimators=200;, score=0.913 total time=   1.4s\n",
      "[CV 3/10] END regressor__max_depth=None, regressor__max_features=sqrt, regressor__max_samples=0.5, regressor__n_estimators=200;, score=0.895 total time=   1.4s\n",
      "[CV 4/10] END regressor__max_depth=None, regressor__max_features=sqrt, regressor__max_samples=0.5, regressor__n_estimators=200;, score=0.881 total time=   1.4s\n",
      "[CV 5/10] END regressor__max_depth=None, regressor__max_features=sqrt, regressor__max_samples=0.5, regressor__n_estimators=200;, score=0.889 total time=   1.4s\n",
      "[CV 6/10] END regressor__max_depth=None, regressor__max_features=sqrt, regressor__max_samples=0.5, regressor__n_estimators=200;, score=0.879 total time=   1.4s\n",
      "[CV 7/10] END regressor__max_depth=None, regressor__max_features=sqrt, regressor__max_samples=0.5, regressor__n_estimators=200;, score=0.895 total time=   1.4s\n",
      "[CV 8/10] END regressor__max_depth=None, regressor__max_features=sqrt, regressor__max_samples=0.5, regressor__n_estimators=200;, score=0.885 total time=   1.4s\n",
      "[CV 9/10] END regressor__max_depth=None, regressor__max_features=sqrt, regressor__max_samples=0.5, regressor__n_estimators=200;, score=0.873 total time=   1.4s\n",
      "[CV 10/10] END regressor__max_depth=None, regressor__max_features=sqrt, regressor__max_samples=0.5, regressor__n_estimators=200;, score=0.870 total time=   1.4s\n",
      "[CV 1/10] END regressor__max_depth=None, regressor__max_features=sqrt, regressor__max_samples=0.5, regressor__n_estimators=300;, score=0.903 total time=   2.1s\n",
      "[CV 2/10] END regressor__max_depth=None, regressor__max_features=sqrt, regressor__max_samples=0.5, regressor__n_estimators=300;, score=0.911 total time=   2.1s\n",
      "[CV 3/10] END regressor__max_depth=None, regressor__max_features=sqrt, regressor__max_samples=0.5, regressor__n_estimators=300;, score=0.898 total time=   2.0s\n",
      "[CV 5/10] END regressor__max_depth=None, regressor__max_features=sqrt, regressor__max_samples=0.5, regressor__n_estimators=300;, score=0.886 total time=   2.0s\n",
      "[CV 4/10] END regressor__max_depth=None, regressor__max_features=sqrt, regressor__max_samples=0.5, regressor__n_estimators=300;, score=0.884 total time=   2.1s\n",
      "[CV 6/10] END regressor__max_depth=None, regressor__max_features=sqrt, regressor__max_samples=0.5, regressor__n_estimators=300;, score=0.878 total time=   2.0s\n",
      "[CV 1/10] END regressor__max_depth=None, regressor__max_features=sqrt, regressor__max_samples=1.0, regressor__n_estimators=50;, score=0.902 total time=   0.5s\n",
      "[CV 2/10] END regressor__max_depth=None, regressor__max_features=sqrt, regressor__max_samples=1.0, regressor__n_estimators=50;, score=0.917 total time=   0.5s\n",
      "[CV 3/10] END regressor__max_depth=None, regressor__max_features=sqrt, regressor__max_samples=1.0, regressor__n_estimators=50;, score=0.893 total time=   0.5s\n",
      "[CV 4/10] END regressor__max_depth=None, regressor__max_features=sqrt, regressor__max_samples=1.0, regressor__n_estimators=50;, score=0.892 total time=   0.5s\n",
      "[CV 5/10] END regressor__max_depth=None, regressor__max_features=sqrt, regressor__max_samples=1.0, regressor__n_estimators=50;, score=0.897 total time=   0.5s\n",
      "[CV 7/10] END regressor__max_depth=None, regressor__max_features=sqrt, regressor__max_samples=0.5, regressor__n_estimators=300;, score=0.892 total time=   2.1s\n",
      "[CV 8/10] END regressor__max_depth=None, regressor__max_features=sqrt, regressor__max_samples=0.5, regressor__n_estimators=300;, score=0.889 total time=   2.1s\n",
      "[CV 6/10] END regressor__max_depth=None, regressor__max_features=sqrt, regressor__max_samples=1.0, regressor__n_estimators=50;, score=0.876 total time=   0.5s\n",
      "[CV 7/10] END regressor__max_depth=None, regressor__max_features=sqrt, regressor__max_samples=1.0, regressor__n_estimators=50;, score=0.892 total time=   0.5s\n",
      "[CV 8/10] END regressor__max_depth=None, regressor__max_features=sqrt, regressor__max_samples=1.0, regressor__n_estimators=50;, score=0.884 total time=   0.5s\n",
      "[CV 9/10] END regressor__max_depth=None, regressor__max_features=sqrt, regressor__max_samples=1.0, regressor__n_estimators=50;, score=0.872 total time=   0.5s\n",
      "[CV 10/10] END regressor__max_depth=None, regressor__max_features=sqrt, regressor__max_samples=1.0, regressor__n_estimators=50;, score=0.866 total time=   0.5s\n",
      "[CV 9/10] END regressor__max_depth=None, regressor__max_features=sqrt, regressor__max_samples=0.5, regressor__n_estimators=300;, score=0.874 total time=   2.1s\n",
      "[CV 10/10] END regressor__max_depth=None, regressor__max_features=sqrt, regressor__max_samples=0.5, regressor__n_estimators=300;, score=0.871 total time=   2.1s\n",
      "[CV 1/10] END regressor__max_depth=None, regressor__max_features=sqrt, regressor__max_samples=1.0, regressor__n_estimators=100;, score=0.905 total time=   1.0s\n",
      "[CV 2/10] END regressor__max_depth=None, regressor__max_features=sqrt, regressor__max_samples=1.0, regressor__n_estimators=100;, score=0.917 total time=   1.0s\n",
      "[CV 3/10] END regressor__max_depth=None, regressor__max_features=sqrt, regressor__max_samples=1.0, regressor__n_estimators=100;, score=0.904 total time=   1.0s\n",
      "[CV 4/10] END regressor__max_depth=None, regressor__max_features=sqrt, regressor__max_samples=1.0, regressor__n_estimators=100;, score=0.891 total time=   1.0s\n",
      "[CV 5/10] END regressor__max_depth=None, regressor__max_features=sqrt, regressor__max_samples=1.0, regressor__n_estimators=100;, score=0.895 total time=   1.0s\n",
      "[CV 6/10] END regressor__max_depth=None, regressor__max_features=sqrt, regressor__max_samples=1.0, regressor__n_estimators=100;, score=0.879 total time=   0.9s\n",
      "[CV 7/10] END regressor__max_depth=None, regressor__max_features=sqrt, regressor__max_samples=1.0, regressor__n_estimators=100;, score=0.897 total time=   0.9s\n",
      "[CV 8/10] END regressor__max_depth=None, regressor__max_features=sqrt, regressor__max_samples=1.0, regressor__n_estimators=100;, score=0.888 total time=   0.9s\n",
      "[CV 9/10] END regressor__max_depth=None, regressor__max_features=sqrt, regressor__max_samples=1.0, regressor__n_estimators=100;, score=0.873 total time=   0.9s\n",
      "[CV 10/10] END regressor__max_depth=None, regressor__max_features=sqrt, regressor__max_samples=1.0, regressor__n_estimators=100;, score=0.874 total time=   0.9s\n",
      "[CV 1/10] END regressor__max_depth=None, regressor__max_features=sqrt, regressor__max_samples=1.0, regressor__n_estimators=200;, score=0.903 total time=   1.8s\n",
      "[CV 2/10] END regressor__max_depth=None, regressor__max_features=sqrt, regressor__max_samples=1.0, regressor__n_estimators=200;, score=0.918 total time=   1.8s\n",
      "[CV 3/10] END regressor__max_depth=None, regressor__max_features=sqrt, regressor__max_samples=1.0, regressor__n_estimators=200;, score=0.903 total time=   1.7s\n",
      "[CV 4/10] END regressor__max_depth=None, regressor__max_features=sqrt, regressor__max_samples=1.0, regressor__n_estimators=200;, score=0.893 total time=   1.7s\n",
      "[CV 5/10] END regressor__max_depth=None, regressor__max_features=sqrt, regressor__max_samples=1.0, regressor__n_estimators=200;, score=0.897 total time=   1.7s\n",
      "[CV 6/10] END regressor__max_depth=None, regressor__max_features=sqrt, regressor__max_samples=1.0, regressor__n_estimators=200;, score=0.884 total time=   1.7s\n",
      "[CV 7/10] END regressor__max_depth=None, regressor__max_features=sqrt, regressor__max_samples=1.0, regressor__n_estimators=200;, score=0.898 total time=   1.8s\n",
      "[CV 8/10] END regressor__max_depth=None, regressor__max_features=sqrt, regressor__max_samples=1.0, regressor__n_estimators=200;, score=0.889 total time=   1.8s\n",
      "[CV 9/10] END regressor__max_depth=None, regressor__max_features=sqrt, regressor__max_samples=1.0, regressor__n_estimators=200;, score=0.873 total time=   1.8s\n",
      "[CV 10/10] END regressor__max_depth=None, regressor__max_features=sqrt, regressor__max_samples=1.0, regressor__n_estimators=200;, score=0.876 total time=   1.8s\n",
      "[CV 1/10] END regressor__max_depth=None, regressor__max_features=sqrt, regressor__max_samples=1.0, regressor__n_estimators=300;, score=0.904 total time=   2.6s\n",
      "[CV 2/10] END regressor__max_depth=None, regressor__max_features=sqrt, regressor__max_samples=1.0, regressor__n_estimators=300;, score=0.917 total time=   2.6s\n",
      "[CV 3/10] END regressor__max_depth=None, regressor__max_features=sqrt, regressor__max_samples=1.0, regressor__n_estimators=300;, score=0.901 total time=   2.7s\n",
      "[CV 4/10] END regressor__max_depth=None, regressor__max_features=sqrt, regressor__max_samples=1.0, regressor__n_estimators=300;, score=0.888 total time=   2.6s\n",
      "[CV 5/10] END regressor__max_depth=None, regressor__max_features=sqrt, regressor__max_samples=1.0, regressor__n_estimators=300;, score=0.892 total time=   2.7s\n"
     ]
    },
    {
     "name": "stderr",
     "output_type": "stream",
     "text": [
      "/Users/vivektyagi/miniconda3/envs/envDS/lib/python3.9/site-packages/sklearn/ensemble/_forest.py:414: FutureWarning: `max_features='auto'` has been deprecated in 1.1 and will be removed in 1.3. To keep the past behaviour, explicitly set `max_features=1.0` or remove this parameter as it is also the default value for RandomForestRegressors and ExtraTreesRegressors.\n",
      "  warn(\n",
      "/Users/vivektyagi/miniconda3/envs/envDS/lib/python3.9/site-packages/sklearn/ensemble/_forest.py:414: FutureWarning: `max_features='auto'` has been deprecated in 1.1 and will be removed in 1.3. To keep the past behaviour, explicitly set `max_features=1.0` or remove this parameter as it is also the default value for RandomForestRegressors and ExtraTreesRegressors.\n",
      "  warn(\n",
      "/Users/vivektyagi/miniconda3/envs/envDS/lib/python3.9/site-packages/sklearn/ensemble/_forest.py:414: FutureWarning: `max_features='auto'` has been deprecated in 1.1 and will be removed in 1.3. To keep the past behaviour, explicitly set `max_features=1.0` or remove this parameter as it is also the default value for RandomForestRegressors and ExtraTreesRegressors.\n",
      "  warn(\n"
     ]
    },
    {
     "name": "stdout",
     "output_type": "stream",
     "text": [
      "[CV 6/10] END regressor__max_depth=None, regressor__max_features=sqrt, regressor__max_samples=1.0, regressor__n_estimators=300;, score=0.883 total time=   2.7s\n",
      "[CV 1/10] END regressor__max_depth=10, regressor__max_features=auto, regressor__max_samples=0.1, regressor__n_estimators=50;, score=0.879 total time=   0.4s\n",
      "[CV 2/10] END regressor__max_depth=10, regressor__max_features=auto, regressor__max_samples=0.1, regressor__n_estimators=50;, score=0.903 total time=   0.4s\n"
     ]
    },
    {
     "name": "stderr",
     "output_type": "stream",
     "text": [
      "/Users/vivektyagi/miniconda3/envs/envDS/lib/python3.9/site-packages/sklearn/ensemble/_forest.py:414: FutureWarning: `max_features='auto'` has been deprecated in 1.1 and will be removed in 1.3. To keep the past behaviour, explicitly set `max_features=1.0` or remove this parameter as it is also the default value for RandomForestRegressors and ExtraTreesRegressors.\n",
      "  warn(\n",
      "/Users/vivektyagi/miniconda3/envs/envDS/lib/python3.9/site-packages/sklearn/ensemble/_forest.py:414: FutureWarning: `max_features='auto'` has been deprecated in 1.1 and will be removed in 1.3. To keep the past behaviour, explicitly set `max_features=1.0` or remove this parameter as it is also the default value for RandomForestRegressors and ExtraTreesRegressors.\n",
      "  warn(\n",
      "/Users/vivektyagi/miniconda3/envs/envDS/lib/python3.9/site-packages/sklearn/ensemble/_forest.py:414: FutureWarning: `max_features='auto'` has been deprecated in 1.1 and will be removed in 1.3. To keep the past behaviour, explicitly set `max_features=1.0` or remove this parameter as it is also the default value for RandomForestRegressors and ExtraTreesRegressors.\n",
      "  warn(\n"
     ]
    },
    {
     "name": "stdout",
     "output_type": "stream",
     "text": [
      "[CV 3/10] END regressor__max_depth=10, regressor__max_features=auto, regressor__max_samples=0.1, regressor__n_estimators=50;, score=0.893 total time=   0.5s\n",
      "[CV 4/10] END regressor__max_depth=10, regressor__max_features=auto, regressor__max_samples=0.1, regressor__n_estimators=50;, score=0.880 total time=   0.5s\n",
      "[CV 5/10] END regressor__max_depth=10, regressor__max_features=auto, regressor__max_samples=0.1, regressor__n_estimators=50;, score=0.876 total time=   0.5s\n",
      "[CV 6/10] END regressor__max_depth=10, regressor__max_features=auto, regressor__max_samples=0.1, regressor__n_estimators=50;, score=0.864 total time=   0.5s\n"
     ]
    },
    {
     "name": "stderr",
     "output_type": "stream",
     "text": [
      "/Users/vivektyagi/miniconda3/envs/envDS/lib/python3.9/site-packages/sklearn/ensemble/_forest.py:414: FutureWarning: `max_features='auto'` has been deprecated in 1.1 and will be removed in 1.3. To keep the past behaviour, explicitly set `max_features=1.0` or remove this parameter as it is also the default value for RandomForestRegressors and ExtraTreesRegressors.\n",
      "  warn(\n",
      "/Users/vivektyagi/miniconda3/envs/envDS/lib/python3.9/site-packages/sklearn/ensemble/_forest.py:414: FutureWarning: `max_features='auto'` has been deprecated in 1.1 and will be removed in 1.3. To keep the past behaviour, explicitly set `max_features=1.0` or remove this parameter as it is also the default value for RandomForestRegressors and ExtraTreesRegressors.\n",
      "  warn(\n",
      "/Users/vivektyagi/miniconda3/envs/envDS/lib/python3.9/site-packages/sklearn/ensemble/_forest.py:414: FutureWarning: `max_features='auto'` has been deprecated in 1.1 and will be removed in 1.3. To keep the past behaviour, explicitly set `max_features=1.0` or remove this parameter as it is also the default value for RandomForestRegressors and ExtraTreesRegressors.\n",
      "  warn(\n",
      "/Users/vivektyagi/miniconda3/envs/envDS/lib/python3.9/site-packages/sklearn/ensemble/_forest.py:414: FutureWarning: `max_features='auto'` has been deprecated in 1.1 and will be removed in 1.3. To keep the past behaviour, explicitly set `max_features=1.0` or remove this parameter as it is also the default value for RandomForestRegressors and ExtraTreesRegressors.\n",
      "  warn(\n"
     ]
    },
    {
     "name": "stdout",
     "output_type": "stream",
     "text": [
      "[CV 7/10] END regressor__max_depth=10, regressor__max_features=auto, regressor__max_samples=0.1, regressor__n_estimators=50;, score=0.873 total time=   0.4s\n",
      "[CV 8/10] END regressor__max_depth=10, regressor__max_features=auto, regressor__max_samples=0.1, regressor__n_estimators=50;, score=0.878 total time=   0.4s\n",
      "[CV 9/10] END regressor__max_depth=10, regressor__max_features=auto, regressor__max_samples=0.1, regressor__n_estimators=50;, score=0.844 total time=   0.4s\n",
      "[CV 10/10] END regressor__max_depth=10, regressor__max_features=auto, regressor__max_samples=0.1, regressor__n_estimators=50;, score=0.858 total time=   0.4s\n"
     ]
    },
    {
     "name": "stderr",
     "output_type": "stream",
     "text": [
      "/Users/vivektyagi/miniconda3/envs/envDS/lib/python3.9/site-packages/sklearn/ensemble/_forest.py:414: FutureWarning: `max_features='auto'` has been deprecated in 1.1 and will be removed in 1.3. To keep the past behaviour, explicitly set `max_features=1.0` or remove this parameter as it is also the default value for RandomForestRegressors and ExtraTreesRegressors.\n",
      "  warn(\n",
      "/Users/vivektyagi/miniconda3/envs/envDS/lib/python3.9/site-packages/sklearn/ensemble/_forest.py:414: FutureWarning: `max_features='auto'` has been deprecated in 1.1 and will be removed in 1.3. To keep the past behaviour, explicitly set `max_features=1.0` or remove this parameter as it is also the default value for RandomForestRegressors and ExtraTreesRegressors.\n",
      "  warn(\n",
      "/Users/vivektyagi/miniconda3/envs/envDS/lib/python3.9/site-packages/sklearn/ensemble/_forest.py:414: FutureWarning: `max_features='auto'` has been deprecated in 1.1 and will be removed in 1.3. To keep the past behaviour, explicitly set `max_features=1.0` or remove this parameter as it is also the default value for RandomForestRegressors and ExtraTreesRegressors.\n",
      "  warn(\n",
      "/Users/vivektyagi/miniconda3/envs/envDS/lib/python3.9/site-packages/sklearn/ensemble/_forest.py:414: FutureWarning: `max_features='auto'` has been deprecated in 1.1 and will be removed in 1.3. To keep the past behaviour, explicitly set `max_features=1.0` or remove this parameter as it is also the default value for RandomForestRegressors and ExtraTreesRegressors.\n",
      "  warn(\n"
     ]
    },
    {
     "name": "stdout",
     "output_type": "stream",
     "text": [
      "[CV 7/10] END regressor__max_depth=None, regressor__max_features=sqrt, regressor__max_samples=1.0, regressor__n_estimators=300;, score=0.897 total time=   3.2s\n",
      "[CV 8/10] END regressor__max_depth=None, regressor__max_features=sqrt, regressor__max_samples=1.0, regressor__n_estimators=300;, score=0.888 total time=   3.1s\n"
     ]
    },
    {
     "name": "stderr",
     "output_type": "stream",
     "text": [
      "/Users/vivektyagi/miniconda3/envs/envDS/lib/python3.9/site-packages/sklearn/ensemble/_forest.py:414: FutureWarning: `max_features='auto'` has been deprecated in 1.1 and will be removed in 1.3. To keep the past behaviour, explicitly set `max_features=1.0` or remove this parameter as it is also the default value for RandomForestRegressors and ExtraTreesRegressors.\n",
      "  warn(\n",
      "/Users/vivektyagi/miniconda3/envs/envDS/lib/python3.9/site-packages/sklearn/ensemble/_forest.py:414: FutureWarning: `max_features='auto'` has been deprecated in 1.1 and will be removed in 1.3. To keep the past behaviour, explicitly set `max_features=1.0` or remove this parameter as it is also the default value for RandomForestRegressors and ExtraTreesRegressors.\n",
      "  warn(\n"
     ]
    },
    {
     "name": "stdout",
     "output_type": "stream",
     "text": [
      "[CV 1/10] END regressor__max_depth=10, regressor__max_features=auto, regressor__max_samples=0.1, regressor__n_estimators=100;, score=0.881 total time=   0.7s\n"
     ]
    },
    {
     "name": "stderr",
     "output_type": "stream",
     "text": [
      "/Users/vivektyagi/miniconda3/envs/envDS/lib/python3.9/site-packages/sklearn/ensemble/_forest.py:414: FutureWarning: `max_features='auto'` has been deprecated in 1.1 and will be removed in 1.3. To keep the past behaviour, explicitly set `max_features=1.0` or remove this parameter as it is also the default value for RandomForestRegressors and ExtraTreesRegressors.\n",
      "  warn(\n"
     ]
    },
    {
     "name": "stdout",
     "output_type": "stream",
     "text": [
      "[CV 2/10] END regressor__max_depth=10, regressor__max_features=auto, regressor__max_samples=0.1, regressor__n_estimators=100;, score=0.902 total time=   0.7s\n",
      "[CV 3/10] END regressor__max_depth=10, regressor__max_features=auto, regressor__max_samples=0.1, regressor__n_estimators=100;, score=0.896 total time=   0.8s\n",
      "[CV 4/10] END regressor__max_depth=10, regressor__max_features=auto, regressor__max_samples=0.1, regressor__n_estimators=100;, score=0.882 total time=   0.8s\n"
     ]
    },
    {
     "name": "stderr",
     "output_type": "stream",
     "text": [
      "/Users/vivektyagi/miniconda3/envs/envDS/lib/python3.9/site-packages/sklearn/ensemble/_forest.py:414: FutureWarning: `max_features='auto'` has been deprecated in 1.1 and will be removed in 1.3. To keep the past behaviour, explicitly set `max_features=1.0` or remove this parameter as it is also the default value for RandomForestRegressors and ExtraTreesRegressors.\n",
      "  warn(\n",
      "/Users/vivektyagi/miniconda3/envs/envDS/lib/python3.9/site-packages/sklearn/ensemble/_forest.py:414: FutureWarning: `max_features='auto'` has been deprecated in 1.1 and will be removed in 1.3. To keep the past behaviour, explicitly set `max_features=1.0` or remove this parameter as it is also the default value for RandomForestRegressors and ExtraTreesRegressors.\n",
      "  warn(\n",
      "/Users/vivektyagi/miniconda3/envs/envDS/lib/python3.9/site-packages/sklearn/ensemble/_forest.py:414: FutureWarning: `max_features='auto'` has been deprecated in 1.1 and will be removed in 1.3. To keep the past behaviour, explicitly set `max_features=1.0` or remove this parameter as it is also the default value for RandomForestRegressors and ExtraTreesRegressors.\n",
      "  warn(\n"
     ]
    },
    {
     "name": "stdout",
     "output_type": "stream",
     "text": [
      "[CV 6/10] END regressor__max_depth=10, regressor__max_features=auto, regressor__max_samples=0.1, regressor__n_estimators=100;, score=0.861 total time=   0.8s\n",
      "[CV 5/10] END regressor__max_depth=10, regressor__max_features=auto, regressor__max_samples=0.1, regressor__n_estimators=100;, score=0.873 total time=   0.8s\n",
      "[CV 7/10] END regressor__max_depth=10, regressor__max_features=auto, regressor__max_samples=0.1, regressor__n_estimators=100;, score=0.877 total time=   0.8s\n"
     ]
    },
    {
     "name": "stderr",
     "output_type": "stream",
     "text": [
      "/Users/vivektyagi/miniconda3/envs/envDS/lib/python3.9/site-packages/sklearn/ensemble/_forest.py:414: FutureWarning: `max_features='auto'` has been deprecated in 1.1 and will be removed in 1.3. To keep the past behaviour, explicitly set `max_features=1.0` or remove this parameter as it is also the default value for RandomForestRegressors and ExtraTreesRegressors.\n",
      "  warn(\n",
      "/Users/vivektyagi/miniconda3/envs/envDS/lib/python3.9/site-packages/sklearn/ensemble/_forest.py:414: FutureWarning: `max_features='auto'` has been deprecated in 1.1 and will be removed in 1.3. To keep the past behaviour, explicitly set `max_features=1.0` or remove this parameter as it is also the default value for RandomForestRegressors and ExtraTreesRegressors.\n",
      "  warn(\n",
      "/Users/vivektyagi/miniconda3/envs/envDS/lib/python3.9/site-packages/sklearn/ensemble/_forest.py:414: FutureWarning: `max_features='auto'` has been deprecated in 1.1 and will be removed in 1.3. To keep the past behaviour, explicitly set `max_features=1.0` or remove this parameter as it is also the default value for RandomForestRegressors and ExtraTreesRegressors.\n",
      "  warn(\n",
      "/Users/vivektyagi/miniconda3/envs/envDS/lib/python3.9/site-packages/sklearn/ensemble/_forest.py:414: FutureWarning: `max_features='auto'` has been deprecated in 1.1 and will be removed in 1.3. To keep the past behaviour, explicitly set `max_features=1.0` or remove this parameter as it is also the default value for RandomForestRegressors and ExtraTreesRegressors.\n",
      "  warn(\n",
      "/Users/vivektyagi/miniconda3/envs/envDS/lib/python3.9/site-packages/sklearn/ensemble/_forest.py:414: FutureWarning: `max_features='auto'` has been deprecated in 1.1 and will be removed in 1.3. To keep the past behaviour, explicitly set `max_features=1.0` or remove this parameter as it is also the default value for RandomForestRegressors and ExtraTreesRegressors.\n",
      "  warn(\n",
      "/Users/vivektyagi/miniconda3/envs/envDS/lib/python3.9/site-packages/sklearn/ensemble/_forest.py:414: FutureWarning: `max_features='auto'` has been deprecated in 1.1 and will be removed in 1.3. To keep the past behaviour, explicitly set `max_features=1.0` or remove this parameter as it is also the default value for RandomForestRegressors and ExtraTreesRegressors.\n",
      "  warn(\n"
     ]
    },
    {
     "name": "stdout",
     "output_type": "stream",
     "text": [
      "[CV 8/10] END regressor__max_depth=10, regressor__max_features=auto, regressor__max_samples=0.1, regressor__n_estimators=100;, score=0.872 total time=   0.8s\n",
      "[CV 10/10] END regressor__max_depth=10, regressor__max_features=auto, regressor__max_samples=0.1, regressor__n_estimators=100;, score=0.866 total time=   0.7s\n",
      "[CV 9/10] END regressor__max_depth=10, regressor__max_features=auto, regressor__max_samples=0.1, regressor__n_estimators=100;, score=0.844 total time=   0.8s\n",
      "[CV 9/10] END regressor__max_depth=None, regressor__max_features=sqrt, regressor__max_samples=1.0, regressor__n_estimators=300;, score=0.876 total time=   3.5s\n",
      "[CV 10/10] END regressor__max_depth=None, regressor__max_features=sqrt, regressor__max_samples=1.0, regressor__n_estimators=300;, score=0.874 total time=   3.6s\n"
     ]
    },
    {
     "name": "stderr",
     "output_type": "stream",
     "text": [
      "/Users/vivektyagi/miniconda3/envs/envDS/lib/python3.9/site-packages/sklearn/ensemble/_forest.py:414: FutureWarning: `max_features='auto'` has been deprecated in 1.1 and will be removed in 1.3. To keep the past behaviour, explicitly set `max_features=1.0` or remove this parameter as it is also the default value for RandomForestRegressors and ExtraTreesRegressors.\n",
      "  warn(\n",
      "/Users/vivektyagi/miniconda3/envs/envDS/lib/python3.9/site-packages/sklearn/ensemble/_forest.py:414: FutureWarning: `max_features='auto'` has been deprecated in 1.1 and will be removed in 1.3. To keep the past behaviour, explicitly set `max_features=1.0` or remove this parameter as it is also the default value for RandomForestRegressors and ExtraTreesRegressors.\n",
      "  warn(\n"
     ]
    },
    {
     "name": "stdout",
     "output_type": "stream",
     "text": [
      "[CV 1/10] END regressor__max_depth=10, regressor__max_features=auto, regressor__max_samples=0.1, regressor__n_estimators=200;, score=0.885 total time=   1.3s\n",
      "[CV 2/10] END regressor__max_depth=10, regressor__max_features=auto, regressor__max_samples=0.1, regressor__n_estimators=200;, score=0.905 total time=   1.3s\n"
     ]
    },
    {
     "name": "stderr",
     "output_type": "stream",
     "text": [
      "/Users/vivektyagi/miniconda3/envs/envDS/lib/python3.9/site-packages/sklearn/ensemble/_forest.py:414: FutureWarning: `max_features='auto'` has been deprecated in 1.1 and will be removed in 1.3. To keep the past behaviour, explicitly set `max_features=1.0` or remove this parameter as it is also the default value for RandomForestRegressors and ExtraTreesRegressors.\n",
      "  warn(\n",
      "/Users/vivektyagi/miniconda3/envs/envDS/lib/python3.9/site-packages/sklearn/ensemble/_forest.py:414: FutureWarning: `max_features='auto'` has been deprecated in 1.1 and will be removed in 1.3. To keep the past behaviour, explicitly set `max_features=1.0` or remove this parameter as it is also the default value for RandomForestRegressors and ExtraTreesRegressors.\n",
      "  warn(\n"
     ]
    },
    {
     "name": "stdout",
     "output_type": "stream",
     "text": [
      "[CV 3/10] END regressor__max_depth=10, regressor__max_features=auto, regressor__max_samples=0.1, regressor__n_estimators=200;, score=0.894 total time=   1.3s\n",
      "[CV 6/10] END regressor__max_depth=10, regressor__max_features=auto, regressor__max_samples=0.1, regressor__n_estimators=200;, score=0.863 total time=   1.3s\n",
      "[CV 5/10] END regressor__max_depth=10, regressor__max_features=auto, regressor__max_samples=0.1, regressor__n_estimators=200;, score=0.871 total time=   1.3s\n",
      "[CV 4/10] END regressor__max_depth=10, regressor__max_features=auto, regressor__max_samples=0.1, regressor__n_estimators=200;, score=0.883 total time=   1.3s\n"
     ]
    },
    {
     "name": "stderr",
     "output_type": "stream",
     "text": [
      "/Users/vivektyagi/miniconda3/envs/envDS/lib/python3.9/site-packages/sklearn/ensemble/_forest.py:414: FutureWarning: `max_features='auto'` has been deprecated in 1.1 and will be removed in 1.3. To keep the past behaviour, explicitly set `max_features=1.0` or remove this parameter as it is also the default value for RandomForestRegressors and ExtraTreesRegressors.\n",
      "  warn(\n",
      "/Users/vivektyagi/miniconda3/envs/envDS/lib/python3.9/site-packages/sklearn/ensemble/_forest.py:414: FutureWarning: `max_features='auto'` has been deprecated in 1.1 and will be removed in 1.3. To keep the past behaviour, explicitly set `max_features=1.0` or remove this parameter as it is also the default value for RandomForestRegressors and ExtraTreesRegressors.\n",
      "  warn(\n",
      "/Users/vivektyagi/miniconda3/envs/envDS/lib/python3.9/site-packages/sklearn/ensemble/_forest.py:414: FutureWarning: `max_features='auto'` has been deprecated in 1.1 and will be removed in 1.3. To keep the past behaviour, explicitly set `max_features=1.0` or remove this parameter as it is also the default value for RandomForestRegressors and ExtraTreesRegressors.\n",
      "  warn(\n",
      "/Users/vivektyagi/miniconda3/envs/envDS/lib/python3.9/site-packages/sklearn/ensemble/_forest.py:414: FutureWarning: `max_features='auto'` has been deprecated in 1.1 and will be removed in 1.3. To keep the past behaviour, explicitly set `max_features=1.0` or remove this parameter as it is also the default value for RandomForestRegressors and ExtraTreesRegressors.\n",
      "  warn(\n"
     ]
    },
    {
     "name": "stdout",
     "output_type": "stream",
     "text": [
      "[CV 8/10] END regressor__max_depth=10, regressor__max_features=auto, regressor__max_samples=0.1, regressor__n_estimators=200;, score=0.877 total time=   1.4s\n",
      "[CV 7/10] END regressor__max_depth=10, regressor__max_features=auto, regressor__max_samples=0.1, regressor__n_estimators=200;, score=0.874 total time=   1.4s\n"
     ]
    },
    {
     "name": "stderr",
     "output_type": "stream",
     "text": [
      "/Users/vivektyagi/miniconda3/envs/envDS/lib/python3.9/site-packages/sklearn/ensemble/_forest.py:414: FutureWarning: `max_features='auto'` has been deprecated in 1.1 and will be removed in 1.3. To keep the past behaviour, explicitly set `max_features=1.0` or remove this parameter as it is also the default value for RandomForestRegressors and ExtraTreesRegressors.\n",
      "  warn(\n",
      "/Users/vivektyagi/miniconda3/envs/envDS/lib/python3.9/site-packages/sklearn/ensemble/_forest.py:414: FutureWarning: `max_features='auto'` has been deprecated in 1.1 and will be removed in 1.3. To keep the past behaviour, explicitly set `max_features=1.0` or remove this parameter as it is also the default value for RandomForestRegressors and ExtraTreesRegressors.\n",
      "  warn(\n"
     ]
    },
    {
     "name": "stdout",
     "output_type": "stream",
     "text": [
      "[CV 9/10] END regressor__max_depth=10, regressor__max_features=auto, regressor__max_samples=0.1, regressor__n_estimators=200;, score=0.846 total time=   1.3s\n",
      "[CV 10/10] END regressor__max_depth=10, regressor__max_features=auto, regressor__max_samples=0.1, regressor__n_estimators=200;, score=0.864 total time=   1.3s\n"
     ]
    },
    {
     "name": "stderr",
     "output_type": "stream",
     "text": [
      "/Users/vivektyagi/miniconda3/envs/envDS/lib/python3.9/site-packages/sklearn/ensemble/_forest.py:414: FutureWarning: `max_features='auto'` has been deprecated in 1.1 and will be removed in 1.3. To keep the past behaviour, explicitly set `max_features=1.0` or remove this parameter as it is also the default value for RandomForestRegressors and ExtraTreesRegressors.\n",
      "  warn(\n",
      "/Users/vivektyagi/miniconda3/envs/envDS/lib/python3.9/site-packages/sklearn/ensemble/_forest.py:414: FutureWarning: `max_features='auto'` has been deprecated in 1.1 and will be removed in 1.3. To keep the past behaviour, explicitly set `max_features=1.0` or remove this parameter as it is also the default value for RandomForestRegressors and ExtraTreesRegressors.\n",
      "  warn(\n"
     ]
    },
    {
     "name": "stdout",
     "output_type": "stream",
     "text": [
      "[CV 1/10] END regressor__max_depth=10, regressor__max_features=auto, regressor__max_samples=0.1, regressor__n_estimators=300;, score=0.884 total time=   1.8s\n",
      "[CV 2/10] END regressor__max_depth=10, regressor__max_features=auto, regressor__max_samples=0.1, regressor__n_estimators=300;, score=0.906 total time=   1.8s\n",
      "[CV 3/10] END regressor__max_depth=10, regressor__max_features=auto, regressor__max_samples=0.1, regressor__n_estimators=300;, score=0.897 total time=   1.8s\n",
      "[CV 4/10] END regressor__max_depth=10, regressor__max_features=auto, regressor__max_samples=0.1, regressor__n_estimators=300;, score=0.881 total time=   1.8s\n"
     ]
    },
    {
     "name": "stderr",
     "output_type": "stream",
     "text": [
      "/Users/vivektyagi/miniconda3/envs/envDS/lib/python3.9/site-packages/sklearn/ensemble/_forest.py:414: FutureWarning: `max_features='auto'` has been deprecated in 1.1 and will be removed in 1.3. To keep the past behaviour, explicitly set `max_features=1.0` or remove this parameter as it is also the default value for RandomForestRegressors and ExtraTreesRegressors.\n",
      "  warn(\n",
      "/Users/vivektyagi/miniconda3/envs/envDS/lib/python3.9/site-packages/sklearn/ensemble/_forest.py:414: FutureWarning: `max_features='auto'` has been deprecated in 1.1 and will be removed in 1.3. To keep the past behaviour, explicitly set `max_features=1.0` or remove this parameter as it is also the default value for RandomForestRegressors and ExtraTreesRegressors.\n",
      "  warn(\n",
      "/Users/vivektyagi/miniconda3/envs/envDS/lib/python3.9/site-packages/sklearn/ensemble/_forest.py:414: FutureWarning: `max_features='auto'` has been deprecated in 1.1 and will be removed in 1.3. To keep the past behaviour, explicitly set `max_features=1.0` or remove this parameter as it is also the default value for RandomForestRegressors and ExtraTreesRegressors.\n",
      "  warn(\n",
      "/Users/vivektyagi/miniconda3/envs/envDS/lib/python3.9/site-packages/sklearn/ensemble/_forest.py:414: FutureWarning: `max_features='auto'` has been deprecated in 1.1 and will be removed in 1.3. To keep the past behaviour, explicitly set `max_features=1.0` or remove this parameter as it is also the default value for RandomForestRegressors and ExtraTreesRegressors.\n",
      "  warn(\n"
     ]
    },
    {
     "name": "stdout",
     "output_type": "stream",
     "text": [
      "[CV 6/10] END regressor__max_depth=10, regressor__max_features=auto, regressor__max_samples=0.1, regressor__n_estimators=300;, score=0.864 total time=   1.7s\n",
      "[CV 5/10] END regressor__max_depth=10, regressor__max_features=auto, regressor__max_samples=0.1, regressor__n_estimators=300;, score=0.875 total time=   1.8s\n"
     ]
    },
    {
     "name": "stderr",
     "output_type": "stream",
     "text": [
      "/Users/vivektyagi/miniconda3/envs/envDS/lib/python3.9/site-packages/sklearn/ensemble/_forest.py:414: FutureWarning: `max_features='auto'` has been deprecated in 1.1 and will be removed in 1.3. To keep the past behaviour, explicitly set `max_features=1.0` or remove this parameter as it is also the default value for RandomForestRegressors and ExtraTreesRegressors.\n",
      "  warn(\n",
      "/Users/vivektyagi/miniconda3/envs/envDS/lib/python3.9/site-packages/sklearn/ensemble/_forest.py:414: FutureWarning: `max_features='auto'` has been deprecated in 1.1 and will be removed in 1.3. To keep the past behaviour, explicitly set `max_features=1.0` or remove this parameter as it is also the default value for RandomForestRegressors and ExtraTreesRegressors.\n",
      "  warn(\n"
     ]
    },
    {
     "name": "stdout",
     "output_type": "stream",
     "text": [
      "[CV 1/10] END regressor__max_depth=10, regressor__max_features=auto, regressor__max_samples=0.25, regressor__n_estimators=50;, score=0.889 total time=   0.5s\n",
      "[CV 2/10] END regressor__max_depth=10, regressor__max_features=auto, regressor__max_samples=0.25, regressor__n_estimators=50;, score=0.914 total time=   0.5s\n"
     ]
    },
    {
     "name": "stderr",
     "output_type": "stream",
     "text": [
      "/Users/vivektyagi/miniconda3/envs/envDS/lib/python3.9/site-packages/sklearn/ensemble/_forest.py:414: FutureWarning: `max_features='auto'` has been deprecated in 1.1 and will be removed in 1.3. To keep the past behaviour, explicitly set `max_features=1.0` or remove this parameter as it is also the default value for RandomForestRegressors and ExtraTreesRegressors.\n",
      "  warn(\n",
      "/Users/vivektyagi/miniconda3/envs/envDS/lib/python3.9/site-packages/sklearn/ensemble/_forest.py:414: FutureWarning: `max_features='auto'` has been deprecated in 1.1 and will be removed in 1.3. To keep the past behaviour, explicitly set `max_features=1.0` or remove this parameter as it is also the default value for RandomForestRegressors and ExtraTreesRegressors.\n",
      "  warn(\n"
     ]
    },
    {
     "name": "stdout",
     "output_type": "stream",
     "text": [
      "[CV 4/10] END regressor__max_depth=10, regressor__max_features=auto, regressor__max_samples=0.25, regressor__n_estimators=50;, score=0.891 total time=   0.6s\n",
      "[CV 3/10] END regressor__max_depth=10, regressor__max_features=auto, regressor__max_samples=0.25, regressor__n_estimators=50;, score=0.906 total time=   0.6s\n"
     ]
    },
    {
     "name": "stderr",
     "output_type": "stream",
     "text": [
      "/Users/vivektyagi/miniconda3/envs/envDS/lib/python3.9/site-packages/sklearn/ensemble/_forest.py:414: FutureWarning: `max_features='auto'` has been deprecated in 1.1 and will be removed in 1.3. To keep the past behaviour, explicitly set `max_features=1.0` or remove this parameter as it is also the default value for RandomForestRegressors and ExtraTreesRegressors.\n",
      "  warn(\n",
      "/Users/vivektyagi/miniconda3/envs/envDS/lib/python3.9/site-packages/sklearn/ensemble/_forest.py:414: FutureWarning: `max_features='auto'` has been deprecated in 1.1 and will be removed in 1.3. To keep the past behaviour, explicitly set `max_features=1.0` or remove this parameter as it is also the default value for RandomForestRegressors and ExtraTreesRegressors.\n",
      "  warn(\n",
      "/Users/vivektyagi/miniconda3/envs/envDS/lib/python3.9/site-packages/sklearn/ensemble/_forest.py:414: FutureWarning: `max_features='auto'` has been deprecated in 1.1 and will be removed in 1.3. To keep the past behaviour, explicitly set `max_features=1.0` or remove this parameter as it is also the default value for RandomForestRegressors and ExtraTreesRegressors.\n",
      "  warn(\n",
      "/Users/vivektyagi/miniconda3/envs/envDS/lib/python3.9/site-packages/sklearn/ensemble/_forest.py:414: FutureWarning: `max_features='auto'` has been deprecated in 1.1 and will be removed in 1.3. To keep the past behaviour, explicitly set `max_features=1.0` or remove this parameter as it is also the default value for RandomForestRegressors and ExtraTreesRegressors.\n",
      "  warn(\n"
     ]
    },
    {
     "name": "stdout",
     "output_type": "stream",
     "text": [
      "[CV 7/10] END regressor__max_depth=10, regressor__max_features=auto, regressor__max_samples=0.1, regressor__n_estimators=300;, score=0.874 total time=   2.0s\n",
      "[CV 8/10] END regressor__max_depth=10, regressor__max_features=auto, regressor__max_samples=0.1, regressor__n_estimators=300;, score=0.875 total time=   2.0s\n",
      "[CV 6/10] END regressor__max_depth=10, regressor__max_features=auto, regressor__max_samples=0.25, regressor__n_estimators=50;, score=0.868 total time=   0.8s\n",
      "[CV 5/10] END regressor__max_depth=10, regressor__max_features=auto, regressor__max_samples=0.25, regressor__n_estimators=50;, score=0.888 total time=   0.8s\n"
     ]
    },
    {
     "name": "stderr",
     "output_type": "stream",
     "text": [
      "/Users/vivektyagi/miniconda3/envs/envDS/lib/python3.9/site-packages/sklearn/ensemble/_forest.py:414: FutureWarning: `max_features='auto'` has been deprecated in 1.1 and will be removed in 1.3. To keep the past behaviour, explicitly set `max_features=1.0` or remove this parameter as it is also the default value for RandomForestRegressors and ExtraTreesRegressors.\n",
      "  warn(\n",
      "/Users/vivektyagi/miniconda3/envs/envDS/lib/python3.9/site-packages/sklearn/ensemble/_forest.py:414: FutureWarning: `max_features='auto'` has been deprecated in 1.1 and will be removed in 1.3. To keep the past behaviour, explicitly set `max_features=1.0` or remove this parameter as it is also the default value for RandomForestRegressors and ExtraTreesRegressors.\n",
      "  warn(\n",
      "/Users/vivektyagi/miniconda3/envs/envDS/lib/python3.9/site-packages/sklearn/ensemble/_forest.py:414: FutureWarning: `max_features='auto'` has been deprecated in 1.1 and will be removed in 1.3. To keep the past behaviour, explicitly set `max_features=1.0` or remove this parameter as it is also the default value for RandomForestRegressors and ExtraTreesRegressors.\n",
      "  warn(\n"
     ]
    },
    {
     "name": "stdout",
     "output_type": "stream",
     "text": [
      "[CV 8/10] END regressor__max_depth=10, regressor__max_features=auto, regressor__max_samples=0.25, regressor__n_estimators=50;, score=0.880 total time=   0.7s\n",
      "[CV 7/10] END regressor__max_depth=10, regressor__max_features=auto, regressor__max_samples=0.25, regressor__n_estimators=50;, score=0.882 total time=   0.7s\n",
      "[CV 9/10] END regressor__max_depth=10, regressor__max_features=auto, regressor__max_samples=0.25, regressor__n_estimators=50;, score=0.860 total time=   0.5s\n",
      "[CV 10/10] END regressor__max_depth=10, regressor__max_features=auto, regressor__max_samples=0.25, regressor__n_estimators=50;, score=0.871 total time=   0.5s\n"
     ]
    },
    {
     "name": "stderr",
     "output_type": "stream",
     "text": [
      "/Users/vivektyagi/miniconda3/envs/envDS/lib/python3.9/site-packages/sklearn/ensemble/_forest.py:414: FutureWarning: `max_features='auto'` has been deprecated in 1.1 and will be removed in 1.3. To keep the past behaviour, explicitly set `max_features=1.0` or remove this parameter as it is also the default value for RandomForestRegressors and ExtraTreesRegressors.\n",
      "  warn(\n",
      "/Users/vivektyagi/miniconda3/envs/envDS/lib/python3.9/site-packages/sklearn/ensemble/_forest.py:414: FutureWarning: `max_features='auto'` has been deprecated in 1.1 and will be removed in 1.3. To keep the past behaviour, explicitly set `max_features=1.0` or remove this parameter as it is also the default value for RandomForestRegressors and ExtraTreesRegressors.\n",
      "  warn(\n",
      "/Users/vivektyagi/miniconda3/envs/envDS/lib/python3.9/site-packages/sklearn/ensemble/_forest.py:414: FutureWarning: `max_features='auto'` has been deprecated in 1.1 and will be removed in 1.3. To keep the past behaviour, explicitly set `max_features=1.0` or remove this parameter as it is also the default value for RandomForestRegressors and ExtraTreesRegressors.\n",
      "  warn(\n"
     ]
    },
    {
     "name": "stdout",
     "output_type": "stream",
     "text": [
      "[CV 9/10] END regressor__max_depth=10, regressor__max_features=auto, regressor__max_samples=0.1, regressor__n_estimators=300;, score=0.847 total time=   2.2s\n",
      "[CV 10/10] END regressor__max_depth=10, regressor__max_features=auto, regressor__max_samples=0.1, regressor__n_estimators=300;, score=0.866 total time=   2.2s\n"
     ]
    },
    {
     "name": "stderr",
     "output_type": "stream",
     "text": [
      "/Users/vivektyagi/miniconda3/envs/envDS/lib/python3.9/site-packages/sklearn/ensemble/_forest.py:414: FutureWarning: `max_features='auto'` has been deprecated in 1.1 and will be removed in 1.3. To keep the past behaviour, explicitly set `max_features=1.0` or remove this parameter as it is also the default value for RandomForestRegressors and ExtraTreesRegressors.\n",
      "  warn(\n",
      "/Users/vivektyagi/miniconda3/envs/envDS/lib/python3.9/site-packages/sklearn/ensemble/_forest.py:414: FutureWarning: `max_features='auto'` has been deprecated in 1.1 and will be removed in 1.3. To keep the past behaviour, explicitly set `max_features=1.0` or remove this parameter as it is also the default value for RandomForestRegressors and ExtraTreesRegressors.\n",
      "  warn(\n"
     ]
    },
    {
     "name": "stdout",
     "output_type": "stream",
     "text": [
      "[CV 1/10] END regressor__max_depth=10, regressor__max_features=auto, regressor__max_samples=0.25, regressor__n_estimators=100;, score=0.889 total time=   1.0s\n",
      "[CV 2/10] END regressor__max_depth=10, regressor__max_features=auto, regressor__max_samples=0.25, regressor__n_estimators=100;, score=0.914 total time=   1.0s\n"
     ]
    },
    {
     "name": "stderr",
     "output_type": "stream",
     "text": [
      "/Users/vivektyagi/miniconda3/envs/envDS/lib/python3.9/site-packages/sklearn/ensemble/_forest.py:414: FutureWarning: `max_features='auto'` has been deprecated in 1.1 and will be removed in 1.3. To keep the past behaviour, explicitly set `max_features=1.0` or remove this parameter as it is also the default value for RandomForestRegressors and ExtraTreesRegressors.\n",
      "  warn(\n",
      "/Users/vivektyagi/miniconda3/envs/envDS/lib/python3.9/site-packages/sklearn/ensemble/_forest.py:414: FutureWarning: `max_features='auto'` has been deprecated in 1.1 and will be removed in 1.3. To keep the past behaviour, explicitly set `max_features=1.0` or remove this parameter as it is also the default value for RandomForestRegressors and ExtraTreesRegressors.\n",
      "  warn(\n"
     ]
    },
    {
     "name": "stdout",
     "output_type": "stream",
     "text": [
      "[CV 4/10] END regressor__max_depth=10, regressor__max_features=auto, regressor__max_samples=0.25, regressor__n_estimators=100;, score=0.893 total time=   1.0s\n",
      "[CV 3/10] END regressor__max_depth=10, regressor__max_features=auto, regressor__max_samples=0.25, regressor__n_estimators=100;, score=0.906 total time=   1.0s\n",
      "[CV 5/10] END regressor__max_depth=10, regressor__max_features=auto, regressor__max_samples=0.25, regressor__n_estimators=100;, score=0.886 total time=   1.0s\n"
     ]
    },
    {
     "name": "stderr",
     "output_type": "stream",
     "text": [
      "/Users/vivektyagi/miniconda3/envs/envDS/lib/python3.9/site-packages/sklearn/ensemble/_forest.py:414: FutureWarning: `max_features='auto'` has been deprecated in 1.1 and will be removed in 1.3. To keep the past behaviour, explicitly set `max_features=1.0` or remove this parameter as it is also the default value for RandomForestRegressors and ExtraTreesRegressors.\n",
      "  warn(\n",
      "/Users/vivektyagi/miniconda3/envs/envDS/lib/python3.9/site-packages/sklearn/ensemble/_forest.py:414: FutureWarning: `max_features='auto'` has been deprecated in 1.1 and will be removed in 1.3. To keep the past behaviour, explicitly set `max_features=1.0` or remove this parameter as it is also the default value for RandomForestRegressors and ExtraTreesRegressors.\n",
      "  warn(\n",
      "/Users/vivektyagi/miniconda3/envs/envDS/lib/python3.9/site-packages/sklearn/ensemble/_forest.py:414: FutureWarning: `max_features='auto'` has been deprecated in 1.1 and will be removed in 1.3. To keep the past behaviour, explicitly set `max_features=1.0` or remove this parameter as it is also the default value for RandomForestRegressors and ExtraTreesRegressors.\n",
      "  warn(\n"
     ]
    },
    {
     "name": "stdout",
     "output_type": "stream",
     "text": [
      "[CV 6/10] END regressor__max_depth=10, regressor__max_features=auto, regressor__max_samples=0.25, regressor__n_estimators=100;, score=0.870 total time=   1.0s\n"
     ]
    },
    {
     "name": "stderr",
     "output_type": "stream",
     "text": [
      "/Users/vivektyagi/miniconda3/envs/envDS/lib/python3.9/site-packages/sklearn/ensemble/_forest.py:414: FutureWarning: `max_features='auto'` has been deprecated in 1.1 and will be removed in 1.3. To keep the past behaviour, explicitly set `max_features=1.0` or remove this parameter as it is also the default value for RandomForestRegressors and ExtraTreesRegressors.\n",
      "  warn(\n"
     ]
    },
    {
     "name": "stdout",
     "output_type": "stream",
     "text": [
      "[CV 7/10] END regressor__max_depth=10, regressor__max_features=auto, regressor__max_samples=0.25, regressor__n_estimators=100;, score=0.884 total time=   1.1s\n",
      "[CV 8/10] END regressor__max_depth=10, regressor__max_features=auto, regressor__max_samples=0.25, regressor__n_estimators=100;, score=0.881 total time=   1.1s\n"
     ]
    },
    {
     "name": "stderr",
     "output_type": "stream",
     "text": [
      "/Users/vivektyagi/miniconda3/envs/envDS/lib/python3.9/site-packages/sklearn/ensemble/_forest.py:414: FutureWarning: `max_features='auto'` has been deprecated in 1.1 and will be removed in 1.3. To keep the past behaviour, explicitly set `max_features=1.0` or remove this parameter as it is also the default value for RandomForestRegressors and ExtraTreesRegressors.\n",
      "  warn(\n",
      "/Users/vivektyagi/miniconda3/envs/envDS/lib/python3.9/site-packages/sklearn/ensemble/_forest.py:414: FutureWarning: `max_features='auto'` has been deprecated in 1.1 and will be removed in 1.3. To keep the past behaviour, explicitly set `max_features=1.0` or remove this parameter as it is also the default value for RandomForestRegressors and ExtraTreesRegressors.\n",
      "  warn(\n"
     ]
    },
    {
     "name": "stdout",
     "output_type": "stream",
     "text": [
      "[CV 9/10] END regressor__max_depth=10, regressor__max_features=auto, regressor__max_samples=0.25, regressor__n_estimators=100;, score=0.854 total time=   1.1s\n",
      "[CV 10/10] END regressor__max_depth=10, regressor__max_features=auto, regressor__max_samples=0.25, regressor__n_estimators=100;, score=0.870 total time=   1.1s\n"
     ]
    },
    {
     "name": "stderr",
     "output_type": "stream",
     "text": [
      "/Users/vivektyagi/miniconda3/envs/envDS/lib/python3.9/site-packages/sklearn/ensemble/_forest.py:414: FutureWarning: `max_features='auto'` has been deprecated in 1.1 and will be removed in 1.3. To keep the past behaviour, explicitly set `max_features=1.0` or remove this parameter as it is also the default value for RandomForestRegressors and ExtraTreesRegressors.\n",
      "  warn(\n",
      "/Users/vivektyagi/miniconda3/envs/envDS/lib/python3.9/site-packages/sklearn/ensemble/_forest.py:414: FutureWarning: `max_features='auto'` has been deprecated in 1.1 and will be removed in 1.3. To keep the past behaviour, explicitly set `max_features=1.0` or remove this parameter as it is also the default value for RandomForestRegressors and ExtraTreesRegressors.\n",
      "  warn(\n"
     ]
    },
    {
     "name": "stdout",
     "output_type": "stream",
     "text": [
      "[CV 2/10] END regressor__max_depth=10, regressor__max_features=auto, regressor__max_samples=0.25, regressor__n_estimators=200;, score=0.916 total time=   1.9s\n",
      "[CV 1/10] END regressor__max_depth=10, regressor__max_features=auto, regressor__max_samples=0.25, regressor__n_estimators=200;, score=0.886 total time=   1.9s\n",
      "[CV 3/10] END regressor__max_depth=10, regressor__max_features=auto, regressor__max_samples=0.25, regressor__n_estimators=200;, score=0.907 total time=   1.9s\n",
      "[CV 4/10] END regressor__max_depth=10, regressor__max_features=auto, regressor__max_samples=0.25, regressor__n_estimators=200;, score=0.895 total time=   1.8s\n"
     ]
    },
    {
     "name": "stderr",
     "output_type": "stream",
     "text": [
      "/Users/vivektyagi/miniconda3/envs/envDS/lib/python3.9/site-packages/sklearn/ensemble/_forest.py:414: FutureWarning: `max_features='auto'` has been deprecated in 1.1 and will be removed in 1.3. To keep the past behaviour, explicitly set `max_features=1.0` or remove this parameter as it is also the default value for RandomForestRegressors and ExtraTreesRegressors.\n",
      "  warn(\n",
      "/Users/vivektyagi/miniconda3/envs/envDS/lib/python3.9/site-packages/sklearn/ensemble/_forest.py:414: FutureWarning: `max_features='auto'` has been deprecated in 1.1 and will be removed in 1.3. To keep the past behaviour, explicitly set `max_features=1.0` or remove this parameter as it is also the default value for RandomForestRegressors and ExtraTreesRegressors.\n",
      "  warn(\n",
      "/Users/vivektyagi/miniconda3/envs/envDS/lib/python3.9/site-packages/sklearn/ensemble/_forest.py:414: FutureWarning: `max_features='auto'` has been deprecated in 1.1 and will be removed in 1.3. To keep the past behaviour, explicitly set `max_features=1.0` or remove this parameter as it is also the default value for RandomForestRegressors and ExtraTreesRegressors.\n",
      "  warn(\n",
      "/Users/vivektyagi/miniconda3/envs/envDS/lib/python3.9/site-packages/sklearn/ensemble/_forest.py:414: FutureWarning: `max_features='auto'` has been deprecated in 1.1 and will be removed in 1.3. To keep the past behaviour, explicitly set `max_features=1.0` or remove this parameter as it is also the default value for RandomForestRegressors and ExtraTreesRegressors.\n",
      "  warn(\n"
     ]
    },
    {
     "name": "stdout",
     "output_type": "stream",
     "text": [
      "[CV 5/10] END regressor__max_depth=10, regressor__max_features=auto, regressor__max_samples=0.25, regressor__n_estimators=200;, score=0.886 total time=   1.8s\n",
      "[CV 6/10] END regressor__max_depth=10, regressor__max_features=auto, regressor__max_samples=0.25, regressor__n_estimators=200;, score=0.871 total time=   1.7s\n"
     ]
    },
    {
     "name": "stderr",
     "output_type": "stream",
     "text": [
      "/Users/vivektyagi/miniconda3/envs/envDS/lib/python3.9/site-packages/sklearn/ensemble/_forest.py:414: FutureWarning: `max_features='auto'` has been deprecated in 1.1 and will be removed in 1.3. To keep the past behaviour, explicitly set `max_features=1.0` or remove this parameter as it is also the default value for RandomForestRegressors and ExtraTreesRegressors.\n",
      "  warn(\n",
      "/Users/vivektyagi/miniconda3/envs/envDS/lib/python3.9/site-packages/sklearn/ensemble/_forest.py:414: FutureWarning: `max_features='auto'` has been deprecated in 1.1 and will be removed in 1.3. To keep the past behaviour, explicitly set `max_features=1.0` or remove this parameter as it is also the default value for RandomForestRegressors and ExtraTreesRegressors.\n",
      "  warn(\n"
     ]
    },
    {
     "name": "stdout",
     "output_type": "stream",
     "text": [
      "[CV 7/10] END regressor__max_depth=10, regressor__max_features=auto, regressor__max_samples=0.25, regressor__n_estimators=200;, score=0.885 total time=   1.8s\n",
      "[CV 8/10] END regressor__max_depth=10, regressor__max_features=auto, regressor__max_samples=0.25, regressor__n_estimators=200;, score=0.882 total time=   1.8s\n"
     ]
    },
    {
     "name": "stderr",
     "output_type": "stream",
     "text": [
      "/Users/vivektyagi/miniconda3/envs/envDS/lib/python3.9/site-packages/sklearn/ensemble/_forest.py:414: FutureWarning: `max_features='auto'` has been deprecated in 1.1 and will be removed in 1.3. To keep the past behaviour, explicitly set `max_features=1.0` or remove this parameter as it is also the default value for RandomForestRegressors and ExtraTreesRegressors.\n",
      "  warn(\n",
      "/Users/vivektyagi/miniconda3/envs/envDS/lib/python3.9/site-packages/sklearn/ensemble/_forest.py:414: FutureWarning: `max_features='auto'` has been deprecated in 1.1 and will be removed in 1.3. To keep the past behaviour, explicitly set `max_features=1.0` or remove this parameter as it is also the default value for RandomForestRegressors and ExtraTreesRegressors.\n",
      "  warn(\n"
     ]
    },
    {
     "name": "stdout",
     "output_type": "stream",
     "text": [
      "[CV 9/10] END regressor__max_depth=10, regressor__max_features=auto, regressor__max_samples=0.25, regressor__n_estimators=200;, score=0.858 total time=   1.6s\n",
      "[CV 10/10] END regressor__max_depth=10, regressor__max_features=auto, regressor__max_samples=0.25, regressor__n_estimators=200;, score=0.873 total time=   1.6s\n"
     ]
    },
    {
     "name": "stderr",
     "output_type": "stream",
     "text": [
      "/Users/vivektyagi/miniconda3/envs/envDS/lib/python3.9/site-packages/sklearn/ensemble/_forest.py:414: FutureWarning: `max_features='auto'` has been deprecated in 1.1 and will be removed in 1.3. To keep the past behaviour, explicitly set `max_features=1.0` or remove this parameter as it is also the default value for RandomForestRegressors and ExtraTreesRegressors.\n",
      "  warn(\n",
      "/Users/vivektyagi/miniconda3/envs/envDS/lib/python3.9/site-packages/sklearn/ensemble/_forest.py:414: FutureWarning: `max_features='auto'` has been deprecated in 1.1 and will be removed in 1.3. To keep the past behaviour, explicitly set `max_features=1.0` or remove this parameter as it is also the default value for RandomForestRegressors and ExtraTreesRegressors.\n",
      "  warn(\n"
     ]
    },
    {
     "name": "stdout",
     "output_type": "stream",
     "text": [
      "[CV 1/10] END regressor__max_depth=10, regressor__max_features=auto, regressor__max_samples=0.25, regressor__n_estimators=300;, score=0.889 total time=   2.4s\n",
      "[CV 2/10] END regressor__max_depth=10, regressor__max_features=auto, regressor__max_samples=0.25, regressor__n_estimators=300;, score=0.916 total time=   2.4s\n"
     ]
    },
    {
     "name": "stderr",
     "output_type": "stream",
     "text": [
      "/Users/vivektyagi/miniconda3/envs/envDS/lib/python3.9/site-packages/sklearn/ensemble/_forest.py:414: FutureWarning: `max_features='auto'` has been deprecated in 1.1 and will be removed in 1.3. To keep the past behaviour, explicitly set `max_features=1.0` or remove this parameter as it is also the default value for RandomForestRegressors and ExtraTreesRegressors.\n",
      "  warn(\n",
      "/Users/vivektyagi/miniconda3/envs/envDS/lib/python3.9/site-packages/sklearn/ensemble/_forest.py:414: FutureWarning: `max_features='auto'` has been deprecated in 1.1 and will be removed in 1.3. To keep the past behaviour, explicitly set `max_features=1.0` or remove this parameter as it is also the default value for RandomForestRegressors and ExtraTreesRegressors.\n",
      "  warn(\n"
     ]
    },
    {
     "name": "stdout",
     "output_type": "stream",
     "text": [
      "[CV 3/10] END regressor__max_depth=10, regressor__max_features=auto, regressor__max_samples=0.25, regressor__n_estimators=300;, score=0.908 total time=   2.3s\n"
     ]
    },
    {
     "name": "stderr",
     "output_type": "stream",
     "text": [
      "/Users/vivektyagi/miniconda3/envs/envDS/lib/python3.9/site-packages/sklearn/ensemble/_forest.py:414: FutureWarning: `max_features='auto'` has been deprecated in 1.1 and will be removed in 1.3. To keep the past behaviour, explicitly set `max_features=1.0` or remove this parameter as it is also the default value for RandomForestRegressors and ExtraTreesRegressors.\n",
      "  warn(\n",
      "/Users/vivektyagi/miniconda3/envs/envDS/lib/python3.9/site-packages/sklearn/ensemble/_forest.py:414: FutureWarning: `max_features='auto'` has been deprecated in 1.1 and will be removed in 1.3. To keep the past behaviour, explicitly set `max_features=1.0` or remove this parameter as it is also the default value for RandomForestRegressors and ExtraTreesRegressors.\n",
      "  warn(\n"
     ]
    },
    {
     "name": "stdout",
     "output_type": "stream",
     "text": [
      "[CV 4/10] END regressor__max_depth=10, regressor__max_features=auto, regressor__max_samples=0.25, regressor__n_estimators=300;, score=0.894 total time=   2.4s\n",
      "[CV 5/10] END regressor__max_depth=10, regressor__max_features=auto, regressor__max_samples=0.25, regressor__n_estimators=300;, score=0.888 total time=   2.3s\n",
      "[CV 6/10] END regressor__max_depth=10, regressor__max_features=auto, regressor__max_samples=0.25, regressor__n_estimators=300;, score=0.873 total time=   2.4s\n"
     ]
    },
    {
     "name": "stderr",
     "output_type": "stream",
     "text": [
      "/Users/vivektyagi/miniconda3/envs/envDS/lib/python3.9/site-packages/sklearn/ensemble/_forest.py:414: FutureWarning: `max_features='auto'` has been deprecated in 1.1 and will be removed in 1.3. To keep the past behaviour, explicitly set `max_features=1.0` or remove this parameter as it is also the default value for RandomForestRegressors and ExtraTreesRegressors.\n",
      "  warn(\n",
      "/Users/vivektyagi/miniconda3/envs/envDS/lib/python3.9/site-packages/sklearn/ensemble/_forest.py:414: FutureWarning: `max_features='auto'` has been deprecated in 1.1 and will be removed in 1.3. To keep the past behaviour, explicitly set `max_features=1.0` or remove this parameter as it is also the default value for RandomForestRegressors and ExtraTreesRegressors.\n",
      "  warn(\n"
     ]
    },
    {
     "name": "stdout",
     "output_type": "stream",
     "text": [
      "[CV 1/10] END regressor__max_depth=10, regressor__max_features=auto, regressor__max_samples=0.5, regressor__n_estimators=50;, score=0.890 total time=   0.7s\n",
      "[CV 2/10] END regressor__max_depth=10, regressor__max_features=auto, regressor__max_samples=0.5, regressor__n_estimators=50;, score=0.920 total time=   0.7s\n"
     ]
    },
    {
     "name": "stderr",
     "output_type": "stream",
     "text": [
      "/Users/vivektyagi/miniconda3/envs/envDS/lib/python3.9/site-packages/sklearn/ensemble/_forest.py:414: FutureWarning: `max_features='auto'` has been deprecated in 1.1 and will be removed in 1.3. To keep the past behaviour, explicitly set `max_features=1.0` or remove this parameter as it is also the default value for RandomForestRegressors and ExtraTreesRegressors.\n",
      "  warn(\n",
      "/Users/vivektyagi/miniconda3/envs/envDS/lib/python3.9/site-packages/sklearn/ensemble/_forest.py:414: FutureWarning: `max_features='auto'` has been deprecated in 1.1 and will be removed in 1.3. To keep the past behaviour, explicitly set `max_features=1.0` or remove this parameter as it is also the default value for RandomForestRegressors and ExtraTreesRegressors.\n",
      "  warn(\n"
     ]
    },
    {
     "name": "stdout",
     "output_type": "stream",
     "text": [
      "[CV 3/10] END regressor__max_depth=10, regressor__max_features=auto, regressor__max_samples=0.5, regressor__n_estimators=50;, score=0.917 total time=   0.7s\n",
      "[CV 4/10] END regressor__max_depth=10, regressor__max_features=auto, regressor__max_samples=0.5, regressor__n_estimators=50;, score=0.897 total time=   0.7s\n"
     ]
    },
    {
     "name": "stderr",
     "output_type": "stream",
     "text": [
      "/Users/vivektyagi/miniconda3/envs/envDS/lib/python3.9/site-packages/sklearn/ensemble/_forest.py:414: FutureWarning: `max_features='auto'` has been deprecated in 1.1 and will be removed in 1.3. To keep the past behaviour, explicitly set `max_features=1.0` or remove this parameter as it is also the default value for RandomForestRegressors and ExtraTreesRegressors.\n",
      "  warn(\n",
      "/Users/vivektyagi/miniconda3/envs/envDS/lib/python3.9/site-packages/sklearn/ensemble/_forest.py:414: FutureWarning: `max_features='auto'` has been deprecated in 1.1 and will be removed in 1.3. To keep the past behaviour, explicitly set `max_features=1.0` or remove this parameter as it is also the default value for RandomForestRegressors and ExtraTreesRegressors.\n",
      "  warn(\n"
     ]
    },
    {
     "name": "stdout",
     "output_type": "stream",
     "text": [
      "[CV 7/10] END regressor__max_depth=10, regressor__max_features=auto, regressor__max_samples=0.25, regressor__n_estimators=300;, score=0.884 total time=   2.5s\n",
      "[CV 8/10] END regressor__max_depth=10, regressor__max_features=auto, regressor__max_samples=0.25, regressor__n_estimators=300;, score=0.881 total time=   2.6s\n",
      "[CV 5/10] END regressor__max_depth=10, regressor__max_features=auto, regressor__max_samples=0.5, regressor__n_estimators=50;, score=0.889 total time=   0.8s\n"
     ]
    },
    {
     "name": "stderr",
     "output_type": "stream",
     "text": [
      "/Users/vivektyagi/miniconda3/envs/envDS/lib/python3.9/site-packages/sklearn/ensemble/_forest.py:414: FutureWarning: `max_features='auto'` has been deprecated in 1.1 and will be removed in 1.3. To keep the past behaviour, explicitly set `max_features=1.0` or remove this parameter as it is also the default value for RandomForestRegressors and ExtraTreesRegressors.\n",
      "  warn(\n",
      "/Users/vivektyagi/miniconda3/envs/envDS/lib/python3.9/site-packages/sklearn/ensemble/_forest.py:414: FutureWarning: `max_features='auto'` has been deprecated in 1.1 and will be removed in 1.3. To keep the past behaviour, explicitly set `max_features=1.0` or remove this parameter as it is also the default value for RandomForestRegressors and ExtraTreesRegressors.\n",
      "  warn(\n",
      "/Users/vivektyagi/miniconda3/envs/envDS/lib/python3.9/site-packages/sklearn/ensemble/_forest.py:414: FutureWarning: `max_features='auto'` has been deprecated in 1.1 and will be removed in 1.3. To keep the past behaviour, explicitly set `max_features=1.0` or remove this parameter as it is also the default value for RandomForestRegressors and ExtraTreesRegressors.\n",
      "  warn(\n"
     ]
    },
    {
     "name": "stdout",
     "output_type": "stream",
     "text": [
      "[CV 6/10] END regressor__max_depth=10, regressor__max_features=auto, regressor__max_samples=0.5, regressor__n_estimators=50;, score=0.872 total time=   0.8s\n",
      "[CV 7/10] END regressor__max_depth=10, regressor__max_features=auto, regressor__max_samples=0.5, regressor__n_estimators=50;, score=0.886 total time=   0.8s\n"
     ]
    },
    {
     "name": "stderr",
     "output_type": "stream",
     "text": [
      "/Users/vivektyagi/miniconda3/envs/envDS/lib/python3.9/site-packages/sklearn/ensemble/_forest.py:414: FutureWarning: `max_features='auto'` has been deprecated in 1.1 and will be removed in 1.3. To keep the past behaviour, explicitly set `max_features=1.0` or remove this parameter as it is also the default value for RandomForestRegressors and ExtraTreesRegressors.\n",
      "  warn(\n",
      "/Users/vivektyagi/miniconda3/envs/envDS/lib/python3.9/site-packages/sklearn/ensemble/_forest.py:414: FutureWarning: `max_features='auto'` has been deprecated in 1.1 and will be removed in 1.3. To keep the past behaviour, explicitly set `max_features=1.0` or remove this parameter as it is also the default value for RandomForestRegressors and ExtraTreesRegressors.\n",
      "  warn(\n"
     ]
    },
    {
     "name": "stdout",
     "output_type": "stream",
     "text": [
      "[CV 8/10] END regressor__max_depth=10, regressor__max_features=auto, regressor__max_samples=0.5, regressor__n_estimators=50;, score=0.883 total time=   0.8s\n"
     ]
    },
    {
     "name": "stderr",
     "output_type": "stream",
     "text": [
      "/Users/vivektyagi/miniconda3/envs/envDS/lib/python3.9/site-packages/sklearn/ensemble/_forest.py:414: FutureWarning: `max_features='auto'` has been deprecated in 1.1 and will be removed in 1.3. To keep the past behaviour, explicitly set `max_features=1.0` or remove this parameter as it is also the default value for RandomForestRegressors and ExtraTreesRegressors.\n",
      "  warn(\n"
     ]
    },
    {
     "name": "stdout",
     "output_type": "stream",
     "text": [
      "[CV 9/10] END regressor__max_depth=10, regressor__max_features=auto, regressor__max_samples=0.5, regressor__n_estimators=50;, score=0.863 total time=   0.7s\n",
      "[CV 10/10] END regressor__max_depth=10, regressor__max_features=auto, regressor__max_samples=0.5, regressor__n_estimators=50;, score=0.875 total time=   0.7s\n"
     ]
    },
    {
     "name": "stderr",
     "output_type": "stream",
     "text": [
      "/Users/vivektyagi/miniconda3/envs/envDS/lib/python3.9/site-packages/sklearn/ensemble/_forest.py:414: FutureWarning: `max_features='auto'` has been deprecated in 1.1 and will be removed in 1.3. To keep the past behaviour, explicitly set `max_features=1.0` or remove this parameter as it is also the default value for RandomForestRegressors and ExtraTreesRegressors.\n",
      "  warn(\n",
      "/Users/vivektyagi/miniconda3/envs/envDS/lib/python3.9/site-packages/sklearn/ensemble/_forest.py:414: FutureWarning: `max_features='auto'` has been deprecated in 1.1 and will be removed in 1.3. To keep the past behaviour, explicitly set `max_features=1.0` or remove this parameter as it is also the default value for RandomForestRegressors and ExtraTreesRegressors.\n",
      "  warn(\n"
     ]
    },
    {
     "name": "stdout",
     "output_type": "stream",
     "text": [
      "[CV 9/10] END regressor__max_depth=10, regressor__max_features=auto, regressor__max_samples=0.25, regressor__n_estimators=300;, score=0.860 total time=   2.9s\n",
      "[CV 10/10] END regressor__max_depth=10, regressor__max_features=auto, regressor__max_samples=0.25, regressor__n_estimators=300;, score=0.871 total time=   2.9s\n",
      "[CV 1/10] END regressor__max_depth=10, regressor__max_features=auto, regressor__max_samples=0.5, regressor__n_estimators=100;, score=0.887 total time=   1.3s\n"
     ]
    },
    {
     "name": "stderr",
     "output_type": "stream",
     "text": [
      "/Users/vivektyagi/miniconda3/envs/envDS/lib/python3.9/site-packages/sklearn/ensemble/_forest.py:414: FutureWarning: `max_features='auto'` has been deprecated in 1.1 and will be removed in 1.3. To keep the past behaviour, explicitly set `max_features=1.0` or remove this parameter as it is also the default value for RandomForestRegressors and ExtraTreesRegressors.\n",
      "  warn(\n",
      "/Users/vivektyagi/miniconda3/envs/envDS/lib/python3.9/site-packages/sklearn/ensemble/_forest.py:414: FutureWarning: `max_features='auto'` has been deprecated in 1.1 and will be removed in 1.3. To keep the past behaviour, explicitly set `max_features=1.0` or remove this parameter as it is also the default value for RandomForestRegressors and ExtraTreesRegressors.\n",
      "  warn(\n",
      "/Users/vivektyagi/miniconda3/envs/envDS/lib/python3.9/site-packages/sklearn/ensemble/_forest.py:414: FutureWarning: `max_features='auto'` has been deprecated in 1.1 and will be removed in 1.3. To keep the past behaviour, explicitly set `max_features=1.0` or remove this parameter as it is also the default value for RandomForestRegressors and ExtraTreesRegressors.\n",
      "  warn(\n",
      "/Users/vivektyagi/miniconda3/envs/envDS/lib/python3.9/site-packages/sklearn/ensemble/_forest.py:414: FutureWarning: `max_features='auto'` has been deprecated in 1.1 and will be removed in 1.3. To keep the past behaviour, explicitly set `max_features=1.0` or remove this parameter as it is also the default value for RandomForestRegressors and ExtraTreesRegressors.\n",
      "  warn(\n"
     ]
    },
    {
     "name": "stdout",
     "output_type": "stream",
     "text": [
      "[CV 2/10] END regressor__max_depth=10, regressor__max_features=auto, regressor__max_samples=0.5, regressor__n_estimators=100;, score=0.917 total time=   1.4s\n",
      "[CV 3/10] END regressor__max_depth=10, regressor__max_features=auto, regressor__max_samples=0.5, regressor__n_estimators=100;, score=0.916 total time=   1.4s\n",
      "[CV 4/10] END regressor__max_depth=10, regressor__max_features=auto, regressor__max_samples=0.5, regressor__n_estimators=100;, score=0.897 total time=   1.4s\n"
     ]
    },
    {
     "name": "stderr",
     "output_type": "stream",
     "text": [
      "/Users/vivektyagi/miniconda3/envs/envDS/lib/python3.9/site-packages/sklearn/ensemble/_forest.py:414: FutureWarning: `max_features='auto'` has been deprecated in 1.1 and will be removed in 1.3. To keep the past behaviour, explicitly set `max_features=1.0` or remove this parameter as it is also the default value for RandomForestRegressors and ExtraTreesRegressors.\n",
      "  warn(\n",
      "/Users/vivektyagi/miniconda3/envs/envDS/lib/python3.9/site-packages/sklearn/ensemble/_forest.py:414: FutureWarning: `max_features='auto'` has been deprecated in 1.1 and will be removed in 1.3. To keep the past behaviour, explicitly set `max_features=1.0` or remove this parameter as it is also the default value for RandomForestRegressors and ExtraTreesRegressors.\n",
      "  warn(\n"
     ]
    },
    {
     "name": "stdout",
     "output_type": "stream",
     "text": [
      "[CV 5/10] END regressor__max_depth=10, regressor__max_features=auto, regressor__max_samples=0.5, regressor__n_estimators=100;, score=0.892 total time=   1.4s\n",
      "[CV 6/10] END regressor__max_depth=10, regressor__max_features=auto, regressor__max_samples=0.5, regressor__n_estimators=100;, score=0.876 total time=   1.3s\n"
     ]
    },
    {
     "name": "stderr",
     "output_type": "stream",
     "text": [
      "/Users/vivektyagi/miniconda3/envs/envDS/lib/python3.9/site-packages/sklearn/ensemble/_forest.py:414: FutureWarning: `max_features='auto'` has been deprecated in 1.1 and will be removed in 1.3. To keep the past behaviour, explicitly set `max_features=1.0` or remove this parameter as it is also the default value for RandomForestRegressors and ExtraTreesRegressors.\n",
      "  warn(\n",
      "/Users/vivektyagi/miniconda3/envs/envDS/lib/python3.9/site-packages/sklearn/ensemble/_forest.py:414: FutureWarning: `max_features='auto'` has been deprecated in 1.1 and will be removed in 1.3. To keep the past behaviour, explicitly set `max_features=1.0` or remove this parameter as it is also the default value for RandomForestRegressors and ExtraTreesRegressors.\n",
      "  warn(\n"
     ]
    },
    {
     "name": "stdout",
     "output_type": "stream",
     "text": [
      "[CV 7/10] END regressor__max_depth=10, regressor__max_features=auto, regressor__max_samples=0.5, regressor__n_estimators=100;, score=0.888 total time=   1.3s\n",
      "[CV 8/10] END regressor__max_depth=10, regressor__max_features=auto, regressor__max_samples=0.5, regressor__n_estimators=100;, score=0.882 total time=   1.4s\n"
     ]
    },
    {
     "name": "stderr",
     "output_type": "stream",
     "text": [
      "/Users/vivektyagi/miniconda3/envs/envDS/lib/python3.9/site-packages/sklearn/ensemble/_forest.py:414: FutureWarning: `max_features='auto'` has been deprecated in 1.1 and will be removed in 1.3. To keep the past behaviour, explicitly set `max_features=1.0` or remove this parameter as it is also the default value for RandomForestRegressors and ExtraTreesRegressors.\n",
      "  warn(\n",
      "/Users/vivektyagi/miniconda3/envs/envDS/lib/python3.9/site-packages/sklearn/ensemble/_forest.py:414: FutureWarning: `max_features='auto'` has been deprecated in 1.1 and will be removed in 1.3. To keep the past behaviour, explicitly set `max_features=1.0` or remove this parameter as it is also the default value for RandomForestRegressors and ExtraTreesRegressors.\n",
      "  warn(\n"
     ]
    },
    {
     "name": "stdout",
     "output_type": "stream",
     "text": [
      "[CV 9/10] END regressor__max_depth=10, regressor__max_features=auto, regressor__max_samples=0.5, regressor__n_estimators=100;, score=0.862 total time=   1.3s\n"
     ]
    },
    {
     "name": "stderr",
     "output_type": "stream",
     "text": [
      "/Users/vivektyagi/miniconda3/envs/envDS/lib/python3.9/site-packages/sklearn/ensemble/_forest.py:414: FutureWarning: `max_features='auto'` has been deprecated in 1.1 and will be removed in 1.3. To keep the past behaviour, explicitly set `max_features=1.0` or remove this parameter as it is also the default value for RandomForestRegressors and ExtraTreesRegressors.\n",
      "  warn(\n"
     ]
    },
    {
     "name": "stdout",
     "output_type": "stream",
     "text": [
      "[CV 10/10] END regressor__max_depth=10, regressor__max_features=auto, regressor__max_samples=0.5, regressor__n_estimators=100;, score=0.875 total time=   1.3s\n"
     ]
    },
    {
     "name": "stderr",
     "output_type": "stream",
     "text": [
      "/Users/vivektyagi/miniconda3/envs/envDS/lib/python3.9/site-packages/sklearn/ensemble/_forest.py:414: FutureWarning: `max_features='auto'` has been deprecated in 1.1 and will be removed in 1.3. To keep the past behaviour, explicitly set `max_features=1.0` or remove this parameter as it is also the default value for RandomForestRegressors and ExtraTreesRegressors.\n",
      "  warn(\n"
     ]
    },
    {
     "name": "stdout",
     "output_type": "stream",
     "text": [
      "[CV 1/10] END regressor__max_depth=10, regressor__max_features=auto, regressor__max_samples=0.5, regressor__n_estimators=200;, score=0.893 total time=   2.2s\n",
      "[CV 2/10] END regressor__max_depth=10, regressor__max_features=auto, regressor__max_samples=0.5, regressor__n_estimators=200;, score=0.921 total time=   2.2s\n",
      "[CV 3/10] END regressor__max_depth=10, regressor__max_features=auto, regressor__max_samples=0.5, regressor__n_estimators=200;, score=0.915 total time=   2.1s\n"
     ]
    },
    {
     "name": "stderr",
     "output_type": "stream",
     "text": [
      "/Users/vivektyagi/miniconda3/envs/envDS/lib/python3.9/site-packages/sklearn/ensemble/_forest.py:414: FutureWarning: `max_features='auto'` has been deprecated in 1.1 and will be removed in 1.3. To keep the past behaviour, explicitly set `max_features=1.0` or remove this parameter as it is also the default value for RandomForestRegressors and ExtraTreesRegressors.\n",
      "  warn(\n",
      "/Users/vivektyagi/miniconda3/envs/envDS/lib/python3.9/site-packages/sklearn/ensemble/_forest.py:414: FutureWarning: `max_features='auto'` has been deprecated in 1.1 and will be removed in 1.3. To keep the past behaviour, explicitly set `max_features=1.0` or remove this parameter as it is also the default value for RandomForestRegressors and ExtraTreesRegressors.\n",
      "  warn(\n",
      "/Users/vivektyagi/miniconda3/envs/envDS/lib/python3.9/site-packages/sklearn/ensemble/_forest.py:414: FutureWarning: `max_features='auto'` has been deprecated in 1.1 and will be removed in 1.3. To keep the past behaviour, explicitly set `max_features=1.0` or remove this parameter as it is also the default value for RandomForestRegressors and ExtraTreesRegressors.\n",
      "  warn(\n"
     ]
    },
    {
     "name": "stdout",
     "output_type": "stream",
     "text": [
      "[CV 4/10] END regressor__max_depth=10, regressor__max_features=auto, regressor__max_samples=0.5, regressor__n_estimators=200;, score=0.899 total time=   2.2s\n"
     ]
    },
    {
     "name": "stderr",
     "output_type": "stream",
     "text": [
      "/Users/vivektyagi/miniconda3/envs/envDS/lib/python3.9/site-packages/sklearn/ensemble/_forest.py:414: FutureWarning: `max_features='auto'` has been deprecated in 1.1 and will be removed in 1.3. To keep the past behaviour, explicitly set `max_features=1.0` or remove this parameter as it is also the default value for RandomForestRegressors and ExtraTreesRegressors.\n",
      "  warn(\n"
     ]
    },
    {
     "name": "stdout",
     "output_type": "stream",
     "text": [
      "[CV 5/10] END regressor__max_depth=10, regressor__max_features=auto, regressor__max_samples=0.5, regressor__n_estimators=200;, score=0.891 total time=   2.3s\n",
      "[CV 6/10] END regressor__max_depth=10, regressor__max_features=auto, regressor__max_samples=0.5, regressor__n_estimators=200;, score=0.874 total time=   2.3s\n",
      "[CV 7/10] END regressor__max_depth=10, regressor__max_features=auto, regressor__max_samples=0.5, regressor__n_estimators=200;, score=0.888 total time=   2.3s\n"
     ]
    },
    {
     "name": "stderr",
     "output_type": "stream",
     "text": [
      "/Users/vivektyagi/miniconda3/envs/envDS/lib/python3.9/site-packages/sklearn/ensemble/_forest.py:414: FutureWarning: `max_features='auto'` has been deprecated in 1.1 and will be removed in 1.3. To keep the past behaviour, explicitly set `max_features=1.0` or remove this parameter as it is also the default value for RandomForestRegressors and ExtraTreesRegressors.\n",
      "  warn(\n",
      "/Users/vivektyagi/miniconda3/envs/envDS/lib/python3.9/site-packages/sklearn/ensemble/_forest.py:414: FutureWarning: `max_features='auto'` has been deprecated in 1.1 and will be removed in 1.3. To keep the past behaviour, explicitly set `max_features=1.0` or remove this parameter as it is also the default value for RandomForestRegressors and ExtraTreesRegressors.\n",
      "  warn(\n",
      "/Users/vivektyagi/miniconda3/envs/envDS/lib/python3.9/site-packages/sklearn/ensemble/_forest.py:414: FutureWarning: `max_features='auto'` has been deprecated in 1.1 and will be removed in 1.3. To keep the past behaviour, explicitly set `max_features=1.0` or remove this parameter as it is also the default value for RandomForestRegressors and ExtraTreesRegressors.\n",
      "  warn(\n"
     ]
    },
    {
     "name": "stdout",
     "output_type": "stream",
     "text": [
      "[CV 8/10] END regressor__max_depth=10, regressor__max_features=auto, regressor__max_samples=0.5, regressor__n_estimators=200;, score=0.882 total time=   2.3s\n"
     ]
    },
    {
     "name": "stderr",
     "output_type": "stream",
     "text": [
      "/Users/vivektyagi/miniconda3/envs/envDS/lib/python3.9/site-packages/sklearn/ensemble/_forest.py:414: FutureWarning: `max_features='auto'` has been deprecated in 1.1 and will be removed in 1.3. To keep the past behaviour, explicitly set `max_features=1.0` or remove this parameter as it is also the default value for RandomForestRegressors and ExtraTreesRegressors.\n",
      "  warn(\n"
     ]
    },
    {
     "name": "stdout",
     "output_type": "stream",
     "text": [
      "[CV 9/10] END regressor__max_depth=10, regressor__max_features=auto, regressor__max_samples=0.5, regressor__n_estimators=200;, score=0.864 total time=   2.3s\n",
      "[CV 10/10] END regressor__max_depth=10, regressor__max_features=auto, regressor__max_samples=0.5, regressor__n_estimators=200;, score=0.876 total time=   2.3s\n"
     ]
    },
    {
     "name": "stderr",
     "output_type": "stream",
     "text": [
      "/Users/vivektyagi/miniconda3/envs/envDS/lib/python3.9/site-packages/sklearn/ensemble/_forest.py:414: FutureWarning: `max_features='auto'` has been deprecated in 1.1 and will be removed in 1.3. To keep the past behaviour, explicitly set `max_features=1.0` or remove this parameter as it is also the default value for RandomForestRegressors and ExtraTreesRegressors.\n",
      "  warn(\n",
      "/Users/vivektyagi/miniconda3/envs/envDS/lib/python3.9/site-packages/sklearn/ensemble/_forest.py:414: FutureWarning: `max_features='auto'` has been deprecated in 1.1 and will be removed in 1.3. To keep the past behaviour, explicitly set `max_features=1.0` or remove this parameter as it is also the default value for RandomForestRegressors and ExtraTreesRegressors.\n",
      "  warn(\n"
     ]
    },
    {
     "name": "stdout",
     "output_type": "stream",
     "text": [
      "[CV 1/10] END regressor__max_depth=10, regressor__max_features=auto, regressor__max_samples=0.5, regressor__n_estimators=300;, score=0.890 total time=   3.2s\n",
      "[CV 2/10] END regressor__max_depth=10, regressor__max_features=auto, regressor__max_samples=0.5, regressor__n_estimators=300;, score=0.920 total time=   3.2s\n"
     ]
    },
    {
     "name": "stderr",
     "output_type": "stream",
     "text": [
      "/Users/vivektyagi/miniconda3/envs/envDS/lib/python3.9/site-packages/sklearn/ensemble/_forest.py:414: FutureWarning: `max_features='auto'` has been deprecated in 1.1 and will be removed in 1.3. To keep the past behaviour, explicitly set `max_features=1.0` or remove this parameter as it is also the default value for RandomForestRegressors and ExtraTreesRegressors.\n",
      "  warn(\n",
      "/Users/vivektyagi/miniconda3/envs/envDS/lib/python3.9/site-packages/sklearn/ensemble/_forest.py:414: FutureWarning: `max_features='auto'` has been deprecated in 1.1 and will be removed in 1.3. To keep the past behaviour, explicitly set `max_features=1.0` or remove this parameter as it is also the default value for RandomForestRegressors and ExtraTreesRegressors.\n",
      "  warn(\n"
     ]
    },
    {
     "name": "stdout",
     "output_type": "stream",
     "text": [
      "[CV 3/10] END regressor__max_depth=10, regressor__max_features=auto, regressor__max_samples=0.5, regressor__n_estimators=300;, score=0.915 total time=   3.1s\n"
     ]
    },
    {
     "name": "stderr",
     "output_type": "stream",
     "text": [
      "/Users/vivektyagi/miniconda3/envs/envDS/lib/python3.9/site-packages/sklearn/ensemble/_forest.py:414: FutureWarning: `max_features='auto'` has been deprecated in 1.1 and will be removed in 1.3. To keep the past behaviour, explicitly set `max_features=1.0` or remove this parameter as it is also the default value for RandomForestRegressors and ExtraTreesRegressors.\n",
      "  warn(\n"
     ]
    },
    {
     "name": "stdout",
     "output_type": "stream",
     "text": [
      "[CV 5/10] END regressor__max_depth=10, regressor__max_features=auto, regressor__max_samples=0.5, regressor__n_estimators=300;, score=0.894 total time=   3.1s\n",
      "[CV 4/10] END regressor__max_depth=10, regressor__max_features=auto, regressor__max_samples=0.5, regressor__n_estimators=300;, score=0.898 total time=   3.2s\n"
     ]
    },
    {
     "name": "stderr",
     "output_type": "stream",
     "text": [
      "/Users/vivektyagi/miniconda3/envs/envDS/lib/python3.9/site-packages/sklearn/ensemble/_forest.py:414: FutureWarning: `max_features='auto'` has been deprecated in 1.1 and will be removed in 1.3. To keep the past behaviour, explicitly set `max_features=1.0` or remove this parameter as it is also the default value for RandomForestRegressors and ExtraTreesRegressors.\n",
      "  warn(\n",
      "/Users/vivektyagi/miniconda3/envs/envDS/lib/python3.9/site-packages/sklearn/ensemble/_forest.py:414: FutureWarning: `max_features='auto'` has been deprecated in 1.1 and will be removed in 1.3. To keep the past behaviour, explicitly set `max_features=1.0` or remove this parameter as it is also the default value for RandomForestRegressors and ExtraTreesRegressors.\n",
      "  warn(\n"
     ]
    },
    {
     "name": "stdout",
     "output_type": "stream",
     "text": [
      "[CV 6/10] END regressor__max_depth=10, regressor__max_features=auto, regressor__max_samples=0.5, regressor__n_estimators=300;, score=0.874 total time=   3.1s\n"
     ]
    },
    {
     "name": "stderr",
     "output_type": "stream",
     "text": [
      "/Users/vivektyagi/miniconda3/envs/envDS/lib/python3.9/site-packages/sklearn/ensemble/_forest.py:414: FutureWarning: `max_features='auto'` has been deprecated in 1.1 and will be removed in 1.3. To keep the past behaviour, explicitly set `max_features=1.0` or remove this parameter as it is also the default value for RandomForestRegressors and ExtraTreesRegressors.\n",
      "  warn(\n"
     ]
    },
    {
     "name": "stdout",
     "output_type": "stream",
     "text": [
      "[CV 1/10] END regressor__max_depth=10, regressor__max_features=auto, regressor__max_samples=1.0, regressor__n_estimators=50;, score=0.887 total time=   1.0s\n",
      "[CV 2/10] END regressor__max_depth=10, regressor__max_features=auto, regressor__max_samples=1.0, regressor__n_estimators=50;, score=0.920 total time=   1.0s\n",
      "[CV 3/10] END regressor__max_depth=10, regressor__max_features=auto, regressor__max_samples=1.0, regressor__n_estimators=50;, score=0.913 total time=   1.0s\n"
     ]
    },
    {
     "name": "stderr",
     "output_type": "stream",
     "text": [
      "/Users/vivektyagi/miniconda3/envs/envDS/lib/python3.9/site-packages/sklearn/ensemble/_forest.py:414: FutureWarning: `max_features='auto'` has been deprecated in 1.1 and will be removed in 1.3. To keep the past behaviour, explicitly set `max_features=1.0` or remove this parameter as it is also the default value for RandomForestRegressors and ExtraTreesRegressors.\n",
      "  warn(\n",
      "/Users/vivektyagi/miniconda3/envs/envDS/lib/python3.9/site-packages/sklearn/ensemble/_forest.py:414: FutureWarning: `max_features='auto'` has been deprecated in 1.1 and will be removed in 1.3. To keep the past behaviour, explicitly set `max_features=1.0` or remove this parameter as it is also the default value for RandomForestRegressors and ExtraTreesRegressors.\n",
      "  warn(\n",
      "/Users/vivektyagi/miniconda3/envs/envDS/lib/python3.9/site-packages/sklearn/ensemble/_forest.py:414: FutureWarning: `max_features='auto'` has been deprecated in 1.1 and will be removed in 1.3. To keep the past behaviour, explicitly set `max_features=1.0` or remove this parameter as it is also the default value for RandomForestRegressors and ExtraTreesRegressors.\n",
      "  warn(\n",
      "/Users/vivektyagi/miniconda3/envs/envDS/lib/python3.9/site-packages/sklearn/ensemble/_forest.py:414: FutureWarning: `max_features='auto'` has been deprecated in 1.1 and will be removed in 1.3. To keep the past behaviour, explicitly set `max_features=1.0` or remove this parameter as it is also the default value for RandomForestRegressors and ExtraTreesRegressors.\n",
      "  warn(\n"
     ]
    },
    {
     "name": "stdout",
     "output_type": "stream",
     "text": [
      "[CV 4/10] END regressor__max_depth=10, regressor__max_features=auto, regressor__max_samples=1.0, regressor__n_estimators=50;, score=0.893 total time=   1.0s\n",
      "[CV 5/10] END regressor__max_depth=10, regressor__max_features=auto, regressor__max_samples=1.0, regressor__n_estimators=50;, score=0.893 total time=   0.8s\n",
      "[CV 7/10] END regressor__max_depth=10, regressor__max_features=auto, regressor__max_samples=0.5, regressor__n_estimators=300;, score=0.887 total time=   3.4s\n",
      "[CV 8/10] END regressor__max_depth=10, regressor__max_features=auto, regressor__max_samples=0.5, regressor__n_estimators=300;, score=0.882 total time=   3.4s\n",
      "[CV 6/10] END regressor__max_depth=10, regressor__max_features=auto, regressor__max_samples=1.0, regressor__n_estimators=50;, score=0.872 total time=   0.8s\n"
     ]
    },
    {
     "name": "stderr",
     "output_type": "stream",
     "text": [
      "/Users/vivektyagi/miniconda3/envs/envDS/lib/python3.9/site-packages/sklearn/ensemble/_forest.py:414: FutureWarning: `max_features='auto'` has been deprecated in 1.1 and will be removed in 1.3. To keep the past behaviour, explicitly set `max_features=1.0` or remove this parameter as it is also the default value for RandomForestRegressors and ExtraTreesRegressors.\n",
      "  warn(\n",
      "/Users/vivektyagi/miniconda3/envs/envDS/lib/python3.9/site-packages/sklearn/ensemble/_forest.py:414: FutureWarning: `max_features='auto'` has been deprecated in 1.1 and will be removed in 1.3. To keep the past behaviour, explicitly set `max_features=1.0` or remove this parameter as it is also the default value for RandomForestRegressors and ExtraTreesRegressors.\n",
      "  warn(\n",
      "/Users/vivektyagi/miniconda3/envs/envDS/lib/python3.9/site-packages/sklearn/ensemble/_forest.py:414: FutureWarning: `max_features='auto'` has been deprecated in 1.1 and will be removed in 1.3. To keep the past behaviour, explicitly set `max_features=1.0` or remove this parameter as it is also the default value for RandomForestRegressors and ExtraTreesRegressors.\n",
      "  warn(\n",
      "/Users/vivektyagi/miniconda3/envs/envDS/lib/python3.9/site-packages/sklearn/ensemble/_forest.py:414: FutureWarning: `max_features='auto'` has been deprecated in 1.1 and will be removed in 1.3. To keep the past behaviour, explicitly set `max_features=1.0` or remove this parameter as it is also the default value for RandomForestRegressors and ExtraTreesRegressors.\n",
      "  warn(\n"
     ]
    },
    {
     "name": "stdout",
     "output_type": "stream",
     "text": [
      "[CV 7/10] END regressor__max_depth=10, regressor__max_features=auto, regressor__max_samples=1.0, regressor__n_estimators=50;, score=0.881 total time=   0.8s\n",
      "[CV 8/10] END regressor__max_depth=10, regressor__max_features=auto, regressor__max_samples=1.0, regressor__n_estimators=50;, score=0.877 total time=   0.8s\n"
     ]
    },
    {
     "name": "stderr",
     "output_type": "stream",
     "text": [
      "/Users/vivektyagi/miniconda3/envs/envDS/lib/python3.9/site-packages/sklearn/ensemble/_forest.py:414: FutureWarning: `max_features='auto'` has been deprecated in 1.1 and will be removed in 1.3. To keep the past behaviour, explicitly set `max_features=1.0` or remove this parameter as it is also the default value for RandomForestRegressors and ExtraTreesRegressors.\n",
      "  warn(\n",
      "/Users/vivektyagi/miniconda3/envs/envDS/lib/python3.9/site-packages/sklearn/ensemble/_forest.py:414: FutureWarning: `max_features='auto'` has been deprecated in 1.1 and will be removed in 1.3. To keep the past behaviour, explicitly set `max_features=1.0` or remove this parameter as it is also the default value for RandomForestRegressors and ExtraTreesRegressors.\n",
      "  warn(\n"
     ]
    },
    {
     "name": "stdout",
     "output_type": "stream",
     "text": [
      "[CV 10/10] END regressor__max_depth=10, regressor__max_features=auto, regressor__max_samples=1.0, regressor__n_estimators=50;, score=0.874 total time=   0.8s\n",
      "[CV 9/10] END regressor__max_depth=10, regressor__max_features=auto, regressor__max_samples=1.0, regressor__n_estimators=50;, score=0.860 total time=   0.8s\n"
     ]
    },
    {
     "name": "stderr",
     "output_type": "stream",
     "text": [
      "/Users/vivektyagi/miniconda3/envs/envDS/lib/python3.9/site-packages/sklearn/ensemble/_forest.py:414: FutureWarning: `max_features='auto'` has been deprecated in 1.1 and will be removed in 1.3. To keep the past behaviour, explicitly set `max_features=1.0` or remove this parameter as it is also the default value for RandomForestRegressors and ExtraTreesRegressors.\n",
      "  warn(\n",
      "/Users/vivektyagi/miniconda3/envs/envDS/lib/python3.9/site-packages/sklearn/ensemble/_forest.py:414: FutureWarning: `max_features='auto'` has been deprecated in 1.1 and will be removed in 1.3. To keep the past behaviour, explicitly set `max_features=1.0` or remove this parameter as it is also the default value for RandomForestRegressors and ExtraTreesRegressors.\n",
      "  warn(\n"
     ]
    },
    {
     "name": "stdout",
     "output_type": "stream",
     "text": [
      "[CV 9/10] END regressor__max_depth=10, regressor__max_features=auto, regressor__max_samples=0.5, regressor__n_estimators=300;, score=0.863 total time=   3.4s\n",
      "[CV 10/10] END regressor__max_depth=10, regressor__max_features=auto, regressor__max_samples=0.5, regressor__n_estimators=300;, score=0.877 total time=   3.5s\n"
     ]
    },
    {
     "name": "stderr",
     "output_type": "stream",
     "text": [
      "/Users/vivektyagi/miniconda3/envs/envDS/lib/python3.9/site-packages/sklearn/ensemble/_forest.py:414: FutureWarning: `max_features='auto'` has been deprecated in 1.1 and will be removed in 1.3. To keep the past behaviour, explicitly set `max_features=1.0` or remove this parameter as it is also the default value for RandomForestRegressors and ExtraTreesRegressors.\n",
      "  warn(\n",
      "/Users/vivektyagi/miniconda3/envs/envDS/lib/python3.9/site-packages/sklearn/ensemble/_forest.py:414: FutureWarning: `max_features='auto'` has been deprecated in 1.1 and will be removed in 1.3. To keep the past behaviour, explicitly set `max_features=1.0` or remove this parameter as it is also the default value for RandomForestRegressors and ExtraTreesRegressors.\n",
      "  warn(\n"
     ]
    },
    {
     "name": "stdout",
     "output_type": "stream",
     "text": [
      "[CV 1/10] END regressor__max_depth=10, regressor__max_features=auto, regressor__max_samples=1.0, regressor__n_estimators=100;, score=0.893 total time=   1.4s\n",
      "[CV 2/10] END regressor__max_depth=10, regressor__max_features=auto, regressor__max_samples=1.0, regressor__n_estimators=100;, score=0.921 total time=   1.5s\n"
     ]
    },
    {
     "name": "stderr",
     "output_type": "stream",
     "text": [
      "/Users/vivektyagi/miniconda3/envs/envDS/lib/python3.9/site-packages/sklearn/ensemble/_forest.py:414: FutureWarning: `max_features='auto'` has been deprecated in 1.1 and will be removed in 1.3. To keep the past behaviour, explicitly set `max_features=1.0` or remove this parameter as it is also the default value for RandomForestRegressors and ExtraTreesRegressors.\n",
      "  warn(\n"
     ]
    },
    {
     "name": "stdout",
     "output_type": "stream",
     "text": [
      "[CV 3/10] END regressor__max_depth=10, regressor__max_features=auto, regressor__max_samples=1.0, regressor__n_estimators=100;, score=0.919 total time=   1.5s\n",
      "[CV 4/10] END regressor__max_depth=10, regressor__max_features=auto, regressor__max_samples=1.0, regressor__n_estimators=100;, score=0.898 total time=   1.5s\n"
     ]
    },
    {
     "name": "stderr",
     "output_type": "stream",
     "text": [
      "/Users/vivektyagi/miniconda3/envs/envDS/lib/python3.9/site-packages/sklearn/ensemble/_forest.py:414: FutureWarning: `max_features='auto'` has been deprecated in 1.1 and will be removed in 1.3. To keep the past behaviour, explicitly set `max_features=1.0` or remove this parameter as it is also the default value for RandomForestRegressors and ExtraTreesRegressors.\n",
      "  warn(\n",
      "/Users/vivektyagi/miniconda3/envs/envDS/lib/python3.9/site-packages/sklearn/ensemble/_forest.py:414: FutureWarning: `max_features='auto'` has been deprecated in 1.1 and will be removed in 1.3. To keep the past behaviour, explicitly set `max_features=1.0` or remove this parameter as it is also the default value for RandomForestRegressors and ExtraTreesRegressors.\n",
      "  warn(\n",
      "/Users/vivektyagi/miniconda3/envs/envDS/lib/python3.9/site-packages/sklearn/ensemble/_forest.py:414: FutureWarning: `max_features='auto'` has been deprecated in 1.1 and will be removed in 1.3. To keep the past behaviour, explicitly set `max_features=1.0` or remove this parameter as it is also the default value for RandomForestRegressors and ExtraTreesRegressors.\n",
      "  warn(\n"
     ]
    },
    {
     "name": "stdout",
     "output_type": "stream",
     "text": [
      "[CV 5/10] END regressor__max_depth=10, regressor__max_features=auto, regressor__max_samples=1.0, regressor__n_estimators=100;, score=0.894 total time=   1.6s\n",
      "[CV 6/10] END regressor__max_depth=10, regressor__max_features=auto, regressor__max_samples=1.0, regressor__n_estimators=100;, score=0.872 total time=   1.6s\n"
     ]
    },
    {
     "name": "stderr",
     "output_type": "stream",
     "text": [
      "/Users/vivektyagi/miniconda3/envs/envDS/lib/python3.9/site-packages/sklearn/ensemble/_forest.py:414: FutureWarning: `max_features='auto'` has been deprecated in 1.1 and will be removed in 1.3. To keep the past behaviour, explicitly set `max_features=1.0` or remove this parameter as it is also the default value for RandomForestRegressors and ExtraTreesRegressors.\n",
      "  warn(\n",
      "/Users/vivektyagi/miniconda3/envs/envDS/lib/python3.9/site-packages/sklearn/ensemble/_forest.py:414: FutureWarning: `max_features='auto'` has been deprecated in 1.1 and will be removed in 1.3. To keep the past behaviour, explicitly set `max_features=1.0` or remove this parameter as it is also the default value for RandomForestRegressors and ExtraTreesRegressors.\n",
      "  warn(\n"
     ]
    },
    {
     "name": "stdout",
     "output_type": "stream",
     "text": [
      "[CV 7/10] END regressor__max_depth=10, regressor__max_features=auto, regressor__max_samples=1.0, regressor__n_estimators=100;, score=0.882 total time=   1.6s\n",
      "[CV 8/10] END regressor__max_depth=10, regressor__max_features=auto, regressor__max_samples=1.0, regressor__n_estimators=100;, score=0.875 total time=   1.6s\n"
     ]
    },
    {
     "name": "stderr",
     "output_type": "stream",
     "text": [
      "/Users/vivektyagi/miniconda3/envs/envDS/lib/python3.9/site-packages/sklearn/ensemble/_forest.py:414: FutureWarning: `max_features='auto'` has been deprecated in 1.1 and will be removed in 1.3. To keep the past behaviour, explicitly set `max_features=1.0` or remove this parameter as it is also the default value for RandomForestRegressors and ExtraTreesRegressors.\n",
      "  warn(\n",
      "/Users/vivektyagi/miniconda3/envs/envDS/lib/python3.9/site-packages/sklearn/ensemble/_forest.py:414: FutureWarning: `max_features='auto'` has been deprecated in 1.1 and will be removed in 1.3. To keep the past behaviour, explicitly set `max_features=1.0` or remove this parameter as it is also the default value for RandomForestRegressors and ExtraTreesRegressors.\n",
      "  warn(\n"
     ]
    },
    {
     "name": "stdout",
     "output_type": "stream",
     "text": [
      "[CV 9/10] END regressor__max_depth=10, regressor__max_features=auto, regressor__max_samples=1.0, regressor__n_estimators=100;, score=0.863 total time=   1.6s\n"
     ]
    },
    {
     "name": "stderr",
     "output_type": "stream",
     "text": [
      "/Users/vivektyagi/miniconda3/envs/envDS/lib/python3.9/site-packages/sklearn/ensemble/_forest.py:414: FutureWarning: `max_features='auto'` has been deprecated in 1.1 and will be removed in 1.3. To keep the past behaviour, explicitly set `max_features=1.0` or remove this parameter as it is also the default value for RandomForestRegressors and ExtraTreesRegressors.\n",
      "  warn(\n"
     ]
    },
    {
     "name": "stdout",
     "output_type": "stream",
     "text": [
      "[CV 10/10] END regressor__max_depth=10, regressor__max_features=auto, regressor__max_samples=1.0, regressor__n_estimators=100;, score=0.875 total time=   1.7s\n"
     ]
    },
    {
     "name": "stderr",
     "output_type": "stream",
     "text": [
      "/Users/vivektyagi/miniconda3/envs/envDS/lib/python3.9/site-packages/sklearn/ensemble/_forest.py:414: FutureWarning: `max_features='auto'` has been deprecated in 1.1 and will be removed in 1.3. To keep the past behaviour, explicitly set `max_features=1.0` or remove this parameter as it is also the default value for RandomForestRegressors and ExtraTreesRegressors.\n",
      "  warn(\n"
     ]
    },
    {
     "name": "stdout",
     "output_type": "stream",
     "text": [
      "[CV 1/10] END regressor__max_depth=10, regressor__max_features=auto, regressor__max_samples=1.0, regressor__n_estimators=200;, score=0.891 total time=   3.0s\n",
      "[CV 2/10] END regressor__max_depth=10, regressor__max_features=auto, regressor__max_samples=1.0, regressor__n_estimators=200;, score=0.920 total time=   2.9s\n"
     ]
    },
    {
     "name": "stderr",
     "output_type": "stream",
     "text": [
      "/Users/vivektyagi/miniconda3/envs/envDS/lib/python3.9/site-packages/sklearn/ensemble/_forest.py:414: FutureWarning: `max_features='auto'` has been deprecated in 1.1 and will be removed in 1.3. To keep the past behaviour, explicitly set `max_features=1.0` or remove this parameter as it is also the default value for RandomForestRegressors and ExtraTreesRegressors.\n",
      "  warn(\n",
      "/Users/vivektyagi/miniconda3/envs/envDS/lib/python3.9/site-packages/sklearn/ensemble/_forest.py:414: FutureWarning: `max_features='auto'` has been deprecated in 1.1 and will be removed in 1.3. To keep the past behaviour, explicitly set `max_features=1.0` or remove this parameter as it is also the default value for RandomForestRegressors and ExtraTreesRegressors.\n",
      "  warn(\n"
     ]
    },
    {
     "name": "stdout",
     "output_type": "stream",
     "text": [
      "[CV 3/10] END regressor__max_depth=10, regressor__max_features=auto, regressor__max_samples=1.0, regressor__n_estimators=200;, score=0.920 total time=   2.9s\n",
      "[CV 4/10] END regressor__max_depth=10, regressor__max_features=auto, regressor__max_samples=1.0, regressor__n_estimators=200;, score=0.896 total time=   2.9s\n"
     ]
    },
    {
     "name": "stderr",
     "output_type": "stream",
     "text": [
      "/Users/vivektyagi/miniconda3/envs/envDS/lib/python3.9/site-packages/sklearn/ensemble/_forest.py:414: FutureWarning: `max_features='auto'` has been deprecated in 1.1 and will be removed in 1.3. To keep the past behaviour, explicitly set `max_features=1.0` or remove this parameter as it is also the default value for RandomForestRegressors and ExtraTreesRegressors.\n",
      "  warn(\n",
      "/Users/vivektyagi/miniconda3/envs/envDS/lib/python3.9/site-packages/sklearn/ensemble/_forest.py:414: FutureWarning: `max_features='auto'` has been deprecated in 1.1 and will be removed in 1.3. To keep the past behaviour, explicitly set `max_features=1.0` or remove this parameter as it is also the default value for RandomForestRegressors and ExtraTreesRegressors.\n",
      "  warn(\n"
     ]
    },
    {
     "name": "stdout",
     "output_type": "stream",
     "text": [
      "[CV 5/10] END regressor__max_depth=10, regressor__max_features=auto, regressor__max_samples=1.0, regressor__n_estimators=200;, score=0.896 total time=   2.9s\n",
      "[CV 6/10] END regressor__max_depth=10, regressor__max_features=auto, regressor__max_samples=1.0, regressor__n_estimators=200;, score=0.872 total time=   2.9s\n"
     ]
    },
    {
     "name": "stderr",
     "output_type": "stream",
     "text": [
      "/Users/vivektyagi/miniconda3/envs/envDS/lib/python3.9/site-packages/sklearn/ensemble/_forest.py:414: FutureWarning: `max_features='auto'` has been deprecated in 1.1 and will be removed in 1.3. To keep the past behaviour, explicitly set `max_features=1.0` or remove this parameter as it is also the default value for RandomForestRegressors and ExtraTreesRegressors.\n",
      "  warn(\n",
      "/Users/vivektyagi/miniconda3/envs/envDS/lib/python3.9/site-packages/sklearn/ensemble/_forest.py:414: FutureWarning: `max_features='auto'` has been deprecated in 1.1 and will be removed in 1.3. To keep the past behaviour, explicitly set `max_features=1.0` or remove this parameter as it is also the default value for RandomForestRegressors and ExtraTreesRegressors.\n",
      "  warn(\n",
      "/Users/vivektyagi/miniconda3/envs/envDS/lib/python3.9/site-packages/sklearn/ensemble/_forest.py:414: FutureWarning: `max_features='auto'` has been deprecated in 1.1 and will be removed in 1.3. To keep the past behaviour, explicitly set `max_features=1.0` or remove this parameter as it is also the default value for RandomForestRegressors and ExtraTreesRegressors.\n",
      "  warn(\n"
     ]
    },
    {
     "name": "stdout",
     "output_type": "stream",
     "text": [
      "[CV 7/10] END regressor__max_depth=10, regressor__max_features=auto, regressor__max_samples=1.0, regressor__n_estimators=200;, score=0.883 total time=   2.9s\n",
      "[CV 8/10] END regressor__max_depth=10, regressor__max_features=auto, regressor__max_samples=1.0, regressor__n_estimators=200;, score=0.877 total time=   3.0s\n"
     ]
    },
    {
     "name": "stderr",
     "output_type": "stream",
     "text": [
      "/Users/vivektyagi/miniconda3/envs/envDS/lib/python3.9/site-packages/sklearn/ensemble/_forest.py:414: FutureWarning: `max_features='auto'` has been deprecated in 1.1 and will be removed in 1.3. To keep the past behaviour, explicitly set `max_features=1.0` or remove this parameter as it is also the default value for RandomForestRegressors and ExtraTreesRegressors.\n",
      "  warn(\n"
     ]
    },
    {
     "name": "stdout",
     "output_type": "stream",
     "text": [
      "[CV 9/10] END regressor__max_depth=10, regressor__max_features=auto, regressor__max_samples=1.0, regressor__n_estimators=200;, score=0.859 total time=   2.9s\n",
      "[CV 10/10] END regressor__max_depth=10, regressor__max_features=auto, regressor__max_samples=1.0, regressor__n_estimators=200;, score=0.876 total time=   2.9s\n"
     ]
    },
    {
     "name": "stderr",
     "output_type": "stream",
     "text": [
      "/Users/vivektyagi/miniconda3/envs/envDS/lib/python3.9/site-packages/sklearn/ensemble/_forest.py:414: FutureWarning: `max_features='auto'` has been deprecated in 1.1 and will be removed in 1.3. To keep the past behaviour, explicitly set `max_features=1.0` or remove this parameter as it is also the default value for RandomForestRegressors and ExtraTreesRegressors.\n",
      "  warn(\n",
      "/Users/vivektyagi/miniconda3/envs/envDS/lib/python3.9/site-packages/sklearn/ensemble/_forest.py:414: FutureWarning: `max_features='auto'` has been deprecated in 1.1 and will be removed in 1.3. To keep the past behaviour, explicitly set `max_features=1.0` or remove this parameter as it is also the default value for RandomForestRegressors and ExtraTreesRegressors.\n",
      "  warn(\n"
     ]
    },
    {
     "name": "stdout",
     "output_type": "stream",
     "text": [
      "[CV 2/10] END regressor__max_depth=10, regressor__max_features=auto, regressor__max_samples=1.0, regressor__n_estimators=300;, score=0.921 total time=   4.1s\n",
      "[CV 1/10] END regressor__max_depth=10, regressor__max_features=auto, regressor__max_samples=1.0, regressor__n_estimators=300;, score=0.892 total time=   4.1s\n"
     ]
    },
    {
     "name": "stderr",
     "output_type": "stream",
     "text": [
      "/Users/vivektyagi/miniconda3/envs/envDS/lib/python3.9/site-packages/sklearn/ensemble/_forest.py:414: FutureWarning: `max_features='auto'` has been deprecated in 1.1 and will be removed in 1.3. To keep the past behaviour, explicitly set `max_features=1.0` or remove this parameter as it is also the default value for RandomForestRegressors and ExtraTreesRegressors.\n",
      "  warn(\n",
      "/Users/vivektyagi/miniconda3/envs/envDS/lib/python3.9/site-packages/sklearn/ensemble/_forest.py:414: FutureWarning: `max_features='auto'` has been deprecated in 1.1 and will be removed in 1.3. To keep the past behaviour, explicitly set `max_features=1.0` or remove this parameter as it is also the default value for RandomForestRegressors and ExtraTreesRegressors.\n",
      "  warn(\n"
     ]
    },
    {
     "name": "stdout",
     "output_type": "stream",
     "text": [
      "[CV 3/10] END regressor__max_depth=10, regressor__max_features=auto, regressor__max_samples=1.0, regressor__n_estimators=300;, score=0.917 total time=   4.1s\n",
      "[CV 4/10] END regressor__max_depth=10, regressor__max_features=auto, regressor__max_samples=1.0, regressor__n_estimators=300;, score=0.897 total time=   4.3s\n",
      "[CV 5/10] END regressor__max_depth=10, regressor__max_features=auto, regressor__max_samples=1.0, regressor__n_estimators=300;, score=0.896 total time=   4.2s\n",
      "[CV 1/10] END regressor__max_depth=10, regressor__max_features=sqrt, regressor__max_samples=0.1, regressor__n_estimators=50;, score=0.883 total time=   0.4s\n",
      "[CV 2/10] END regressor__max_depth=10, regressor__max_features=sqrt, regressor__max_samples=0.1, regressor__n_estimators=50;, score=0.890 total time=   0.3s\n",
      "[CV 6/10] END regressor__max_depth=10, regressor__max_features=auto, regressor__max_samples=1.0, regressor__n_estimators=300;, score=0.872 total time=   4.1s\n",
      "[CV 3/10] END regressor__max_depth=10, regressor__max_features=sqrt, regressor__max_samples=0.1, regressor__n_estimators=50;, score=0.868 total time=   0.3s\n",
      "[CV 4/10] END regressor__max_depth=10, regressor__max_features=sqrt, regressor__max_samples=0.1, regressor__n_estimators=50;, score=0.841 total time=   0.3s\n",
      "[CV 5/10] END regressor__max_depth=10, regressor__max_features=sqrt, regressor__max_samples=0.1, regressor__n_estimators=50;, score=0.856 total time=   0.3s\n",
      "[CV 6/10] END regressor__max_depth=10, regressor__max_features=sqrt, regressor__max_samples=0.1, regressor__n_estimators=50;, score=0.848 total time=   0.3s\n",
      "[CV 7/10] END regressor__max_depth=10, regressor__max_features=sqrt, regressor__max_samples=0.1, regressor__n_estimators=50;, score=0.874 total time=   0.3s\n",
      "[CV 8/10] END regressor__max_depth=10, regressor__max_features=sqrt, regressor__max_samples=0.1, regressor__n_estimators=50;, score=0.868 total time=   0.3s\n",
      "[CV 9/10] END regressor__max_depth=10, regressor__max_features=sqrt, regressor__max_samples=0.1, regressor__n_estimators=50;, score=0.849 total time=   0.3s\n",
      "[CV 10/10] END regressor__max_depth=10, regressor__max_features=sqrt, regressor__max_samples=0.1, regressor__n_estimators=50;, score=0.845 total time=   0.3s\n",
      "[CV 1/10] END regressor__max_depth=10, regressor__max_features=sqrt, regressor__max_samples=0.1, regressor__n_estimators=100;, score=0.881 total time=   0.5s\n",
      "[CV 2/10] END regressor__max_depth=10, regressor__max_features=sqrt, regressor__max_samples=0.1, regressor__n_estimators=100;, score=0.889 total time=   0.5s\n",
      "[CV 3/10] END regressor__max_depth=10, regressor__max_features=sqrt, regressor__max_samples=0.1, regressor__n_estimators=100;, score=0.866 total time=   0.4s\n",
      "[CV 4/10] END regressor__max_depth=10, regressor__max_features=sqrt, regressor__max_samples=0.1, regressor__n_estimators=100;, score=0.844 total time=   0.4s\n",
      "[CV 5/10] END regressor__max_depth=10, regressor__max_features=sqrt, regressor__max_samples=0.1, regressor__n_estimators=100;, score=0.862 total time=   0.4s\n",
      "[CV 6/10] END regressor__max_depth=10, regressor__max_features=sqrt, regressor__max_samples=0.1, regressor__n_estimators=100;, score=0.847 total time=   0.4s\n",
      "[CV 7/10] END regressor__max_depth=10, regressor__max_features=sqrt, regressor__max_samples=0.1, regressor__n_estimators=100;, score=0.871 total time=   0.4s\n",
      "[CV 7/10] END regressor__max_depth=10, regressor__max_features=auto, regressor__max_samples=1.0, regressor__n_estimators=300;, score=0.885 total time=   4.2s\n",
      "[CV 8/10] END regressor__max_depth=10, regressor__max_features=sqrt, regressor__max_samples=0.1, regressor__n_estimators=100;, score=0.865 total time=   0.4s\n",
      "[CV 8/10] END regressor__max_depth=10, regressor__max_features=auto, regressor__max_samples=1.0, regressor__n_estimators=300;, score=0.877 total time=   4.2s\n",
      "[CV 9/10] END regressor__max_depth=10, regressor__max_features=sqrt, regressor__max_samples=0.1, regressor__n_estimators=100;, score=0.846 total time=   0.5s\n",
      "[CV 10/10] END regressor__max_depth=10, regressor__max_features=sqrt, regressor__max_samples=0.1, regressor__n_estimators=100;, score=0.854 total time=   0.4s\n",
      "[CV 1/10] END regressor__max_depth=10, regressor__max_features=sqrt, regressor__max_samples=0.1, regressor__n_estimators=200;, score=0.880 total time=   0.8s\n",
      "[CV 2/10] END regressor__max_depth=10, regressor__max_features=sqrt, regressor__max_samples=0.1, regressor__n_estimators=200;, score=0.887 total time=   0.8s\n",
      "[CV 3/10] END regressor__max_depth=10, regressor__max_features=sqrt, regressor__max_samples=0.1, regressor__n_estimators=200;, score=0.868 total time=   0.8s\n",
      "[CV 4/10] END regressor__max_depth=10, regressor__max_features=sqrt, regressor__max_samples=0.1, regressor__n_estimators=200;, score=0.851 total time=   0.8s\n",
      "[CV 5/10] END regressor__max_depth=10, regressor__max_features=sqrt, regressor__max_samples=0.1, regressor__n_estimators=200;, score=0.862 total time=   0.8s\n",
      "[CV 6/10] END regressor__max_depth=10, regressor__max_features=sqrt, regressor__max_samples=0.1, regressor__n_estimators=200;, score=0.858 total time=   0.8s\n",
      "[CV 7/10] END regressor__max_depth=10, regressor__max_features=sqrt, regressor__max_samples=0.1, regressor__n_estimators=200;, score=0.873 total time=   0.8s\n",
      "[CV 8/10] END regressor__max_depth=10, regressor__max_features=sqrt, regressor__max_samples=0.1, regressor__n_estimators=200;, score=0.870 total time=   0.8s\n",
      "[CV 9/10] END regressor__max_depth=10, regressor__max_features=sqrt, regressor__max_samples=0.1, regressor__n_estimators=200;, score=0.849 total time=   0.8s\n",
      "[CV 9/10] END regressor__max_depth=10, regressor__max_features=auto, regressor__max_samples=1.0, regressor__n_estimators=300;, score=0.864 total time=   4.2s\n",
      "[CV 10/10] END regressor__max_depth=10, regressor__max_features=sqrt, regressor__max_samples=0.1, regressor__n_estimators=200;, score=0.852 total time=   0.8s\n",
      "[CV 10/10] END regressor__max_depth=10, regressor__max_features=auto, regressor__max_samples=1.0, regressor__n_estimators=300;, score=0.876 total time=   4.2s\n",
      "[CV 1/10] END regressor__max_depth=10, regressor__max_features=sqrt, regressor__max_samples=0.1, regressor__n_estimators=300;, score=0.885 total time=   1.2s\n",
      "[CV 2/10] END regressor__max_depth=10, regressor__max_features=sqrt, regressor__max_samples=0.1, regressor__n_estimators=300;, score=0.887 total time=   1.2s\n",
      "[CV 3/10] END regressor__max_depth=10, regressor__max_features=sqrt, regressor__max_samples=0.1, regressor__n_estimators=300;, score=0.872 total time=   1.2s\n",
      "[CV 4/10] END regressor__max_depth=10, regressor__max_features=sqrt, regressor__max_samples=0.1, regressor__n_estimators=300;, score=0.851 total time=   1.2s\n",
      "[CV 5/10] END regressor__max_depth=10, regressor__max_features=sqrt, regressor__max_samples=0.1, regressor__n_estimators=300;, score=0.864 total time=   1.2s\n",
      "[CV 7/10] END regressor__max_depth=10, regressor__max_features=sqrt, regressor__max_samples=0.1, regressor__n_estimators=300;, score=0.873 total time=   1.2s\n",
      "[CV 6/10] END regressor__max_depth=10, regressor__max_features=sqrt, regressor__max_samples=0.1, regressor__n_estimators=300;, score=0.854 total time=   1.2s\n",
      "[CV 8/10] END regressor__max_depth=10, regressor__max_features=sqrt, regressor__max_samples=0.1, regressor__n_estimators=300;, score=0.871 total time=   1.2s\n",
      "[CV 1/10] END regressor__max_depth=10, regressor__max_features=sqrt, regressor__max_samples=0.25, regressor__n_estimators=50;, score=0.894 total time=   0.3s\n",
      "[CV 2/10] END regressor__max_depth=10, regressor__max_features=sqrt, regressor__max_samples=0.25, regressor__n_estimators=50;, score=0.896 total time=   0.3s\n",
      "[CV 3/10] END regressor__max_depth=10, regressor__max_features=sqrt, regressor__max_samples=0.25, regressor__n_estimators=50;, score=0.881 total time=   0.3s\n",
      "[CV 4/10] END regressor__max_depth=10, regressor__max_features=sqrt, regressor__max_samples=0.25, regressor__n_estimators=50;, score=0.866 total time=   0.3s\n",
      "[CV 5/10] END regressor__max_depth=10, regressor__max_features=sqrt, regressor__max_samples=0.25, regressor__n_estimators=50;, score=0.872 total time=   0.3s\n",
      "[CV 6/10] END regressor__max_depth=10, regressor__max_features=sqrt, regressor__max_samples=0.25, regressor__n_estimators=50;, score=0.868 total time=   0.3s\n",
      "[CV 7/10] END regressor__max_depth=10, regressor__max_features=sqrt, regressor__max_samples=0.25, regressor__n_estimators=50;, score=0.878 total time=   0.3s\n",
      "[CV 8/10] END regressor__max_depth=10, regressor__max_features=sqrt, regressor__max_samples=0.25, regressor__n_estimators=50;, score=0.876 total time=   0.3s\n",
      "[CV 9/10] END regressor__max_depth=10, regressor__max_features=sqrt, regressor__max_samples=0.25, regressor__n_estimators=50;, score=0.863 total time=   0.3s\n",
      "[CV 9/10] END regressor__max_depth=10, regressor__max_features=sqrt, regressor__max_samples=0.1, regressor__n_estimators=300;, score=0.853 total time=   1.2s\n",
      "[CV 10/10] END regressor__max_depth=10, regressor__max_features=sqrt, regressor__max_samples=0.1, regressor__n_estimators=300;, score=0.851 total time=   1.2s\n",
      "[CV 10/10] END regressor__max_depth=10, regressor__max_features=sqrt, regressor__max_samples=0.25, regressor__n_estimators=50;, score=0.858 total time=   0.3s\n",
      "[CV 1/10] END regressor__max_depth=10, regressor__max_features=sqrt, regressor__max_samples=0.25, regressor__n_estimators=100;, score=0.888 total time=   0.6s\n",
      "[CV 2/10] END regressor__max_depth=10, regressor__max_features=sqrt, regressor__max_samples=0.25, regressor__n_estimators=100;, score=0.900 total time=   0.6s\n",
      "[CV 3/10] END regressor__max_depth=10, regressor__max_features=sqrt, regressor__max_samples=0.25, regressor__n_estimators=100;, score=0.883 total time=   0.5s\n",
      "[CV 4/10] END regressor__max_depth=10, regressor__max_features=sqrt, regressor__max_samples=0.25, regressor__n_estimators=100;, score=0.866 total time=   0.5s\n",
      "[CV 5/10] END regressor__max_depth=10, regressor__max_features=sqrt, regressor__max_samples=0.25, regressor__n_estimators=100;, score=0.873 total time=   0.6s\n",
      "[CV 6/10] END regressor__max_depth=10, regressor__max_features=sqrt, regressor__max_samples=0.25, regressor__n_estimators=100;, score=0.871 total time=   0.5s\n",
      "[CV 8/10] END regressor__max_depth=10, regressor__max_features=sqrt, regressor__max_samples=0.25, regressor__n_estimators=100;, score=0.878 total time=   0.5s\n",
      "[CV 7/10] END regressor__max_depth=10, regressor__max_features=sqrt, regressor__max_samples=0.25, regressor__n_estimators=100;, score=0.884 total time=   0.5s\n",
      "[CV 9/10] END regressor__max_depth=10, regressor__max_features=sqrt, regressor__max_samples=0.25, regressor__n_estimators=100;, score=0.856 total time=   0.5s\n",
      "[CV 10/10] END regressor__max_depth=10, regressor__max_features=sqrt, regressor__max_samples=0.25, regressor__n_estimators=100;, score=0.858 total time=   0.5s\n",
      "[CV 1/10] END regressor__max_depth=10, regressor__max_features=sqrt, regressor__max_samples=0.25, regressor__n_estimators=200;, score=0.893 total time=   1.0s\n",
      "[CV 2/10] END regressor__max_depth=10, regressor__max_features=sqrt, regressor__max_samples=0.25, regressor__n_estimators=200;, score=0.898 total time=   1.0s\n",
      "[CV 3/10] END regressor__max_depth=10, regressor__max_features=sqrt, regressor__max_samples=0.25, regressor__n_estimators=200;, score=0.883 total time=   1.0s\n",
      "[CV 4/10] END regressor__max_depth=10, regressor__max_features=sqrt, regressor__max_samples=0.25, regressor__n_estimators=200;, score=0.869 total time=   1.0s\n",
      "[CV 5/10] END regressor__max_depth=10, regressor__max_features=sqrt, regressor__max_samples=0.25, regressor__n_estimators=200;, score=0.873 total time=   1.0s\n",
      "[CV 6/10] END regressor__max_depth=10, regressor__max_features=sqrt, regressor__max_samples=0.25, regressor__n_estimators=200;, score=0.864 total time=   1.0s\n",
      "[CV 7/10] END regressor__max_depth=10, regressor__max_features=sqrt, regressor__max_samples=0.25, regressor__n_estimators=200;, score=0.885 total time=   1.0s\n",
      "[CV 8/10] END regressor__max_depth=10, regressor__max_features=sqrt, regressor__max_samples=0.25, regressor__n_estimators=200;, score=0.878 total time=   1.0s\n",
      "[CV 9/10] END regressor__max_depth=10, regressor__max_features=sqrt, regressor__max_samples=0.25, regressor__n_estimators=200;, score=0.860 total time=   1.0s\n",
      "[CV 10/10] END regressor__max_depth=10, regressor__max_features=sqrt, regressor__max_samples=0.25, regressor__n_estimators=200;, score=0.864 total time=   1.0s\n",
      "[CV 1/10] END regressor__max_depth=10, regressor__max_features=sqrt, regressor__max_samples=0.25, regressor__n_estimators=300;, score=0.890 total time=   1.4s\n",
      "[CV 4/10] END regressor__max_depth=10, regressor__max_features=sqrt, regressor__max_samples=0.25, regressor__n_estimators=300;, score=0.865 total time=   1.4s\n",
      "[CV 3/10] END regressor__max_depth=10, regressor__max_features=sqrt, regressor__max_samples=0.25, regressor__n_estimators=300;, score=0.889 total time=   1.4s\n",
      "[CV 2/10] END regressor__max_depth=10, regressor__max_features=sqrt, regressor__max_samples=0.25, regressor__n_estimators=300;, score=0.898 total time=   1.5s\n",
      "[CV 5/10] END regressor__max_depth=10, regressor__max_features=sqrt, regressor__max_samples=0.25, regressor__n_estimators=300;, score=0.875 total time=   1.4s\n",
      "[CV 6/10] END regressor__max_depth=10, regressor__max_features=sqrt, regressor__max_samples=0.25, regressor__n_estimators=300;, score=0.867 total time=   1.4s\n",
      "[CV 1/10] END regressor__max_depth=10, regressor__max_features=sqrt, regressor__max_samples=0.5, regressor__n_estimators=50;, score=0.892 total time=   0.3s\n",
      "[CV 2/10] END regressor__max_depth=10, regressor__max_features=sqrt, regressor__max_samples=0.5, regressor__n_estimators=50;, score=0.905 total time=   0.3s\n",
      "[CV 3/10] END regressor__max_depth=10, regressor__max_features=sqrt, regressor__max_samples=0.5, regressor__n_estimators=50;, score=0.887 total time=   0.3s\n",
      "[CV 4/10] END regressor__max_depth=10, regressor__max_features=sqrt, regressor__max_samples=0.5, regressor__n_estimators=50;, score=0.877 total time=   0.4s\n",
      "[CV 5/10] END regressor__max_depth=10, regressor__max_features=sqrt, regressor__max_samples=0.5, regressor__n_estimators=50;, score=0.878 total time=   0.4s\n",
      "[CV 7/10] END regressor__max_depth=10, regressor__max_features=sqrt, regressor__max_samples=0.25, regressor__n_estimators=300;, score=0.883 total time=   1.4s\n",
      "[CV 6/10] END regressor__max_depth=10, regressor__max_features=sqrt, regressor__max_samples=0.5, regressor__n_estimators=50;, score=0.865 total time=   0.4s\n",
      "[CV 8/10] END regressor__max_depth=10, regressor__max_features=sqrt, regressor__max_samples=0.25, regressor__n_estimators=300;, score=0.877 total time=   1.4s\n",
      "[CV 7/10] END regressor__max_depth=10, regressor__max_features=sqrt, regressor__max_samples=0.5, regressor__n_estimators=50;, score=0.885 total time=   0.4s\n",
      "[CV 8/10] END regressor__max_depth=10, regressor__max_features=sqrt, regressor__max_samples=0.5, regressor__n_estimators=50;, score=0.874 total time=   0.4s\n",
      "[CV 9/10] END regressor__max_depth=10, regressor__max_features=sqrt, regressor__max_samples=0.5, regressor__n_estimators=50;, score=0.866 total time=   0.4s\n",
      "[CV 10/10] END regressor__max_depth=10, regressor__max_features=sqrt, regressor__max_samples=0.5, regressor__n_estimators=50;, score=0.864 total time=   0.4s\n",
      "[CV 9/10] END regressor__max_depth=10, regressor__max_features=sqrt, regressor__max_samples=0.25, regressor__n_estimators=300;, score=0.863 total time=   1.5s\n",
      "[CV 1/10] END regressor__max_depth=10, regressor__max_features=sqrt, regressor__max_samples=0.5, regressor__n_estimators=100;, score=0.894 total time=   0.6s\n",
      "[CV 10/10] END regressor__max_depth=10, regressor__max_features=sqrt, regressor__max_samples=0.25, regressor__n_estimators=300;, score=0.859 total time=   1.5s\n",
      "[CV 2/10] END regressor__max_depth=10, regressor__max_features=sqrt, regressor__max_samples=0.5, regressor__n_estimators=100;, score=0.903 total time=   0.6s\n",
      "[CV 3/10] END regressor__max_depth=10, regressor__max_features=sqrt, regressor__max_samples=0.5, regressor__n_estimators=100;, score=0.896 total time=   0.6s\n",
      "[CV 4/10] END regressor__max_depth=10, regressor__max_features=sqrt, regressor__max_samples=0.5, regressor__n_estimators=100;, score=0.879 total time=   0.6s\n",
      "[CV 5/10] END regressor__max_depth=10, regressor__max_features=sqrt, regressor__max_samples=0.5, regressor__n_estimators=100;, score=0.880 total time=   0.6s\n",
      "[CV 6/10] END regressor__max_depth=10, regressor__max_features=sqrt, regressor__max_samples=0.5, regressor__n_estimators=100;, score=0.867 total time=   0.6s\n",
      "[CV 7/10] END regressor__max_depth=10, regressor__max_features=sqrt, regressor__max_samples=0.5, regressor__n_estimators=100;, score=0.889 total time=   0.6s\n",
      "[CV 8/10] END regressor__max_depth=10, regressor__max_features=sqrt, regressor__max_samples=0.5, regressor__n_estimators=100;, score=0.881 total time=   0.6s\n",
      "[CV 9/10] END regressor__max_depth=10, regressor__max_features=sqrt, regressor__max_samples=0.5, regressor__n_estimators=100;, score=0.866 total time=   0.6s\n",
      "[CV 10/10] END regressor__max_depth=10, regressor__max_features=sqrt, regressor__max_samples=0.5, regressor__n_estimators=100;, score=0.867 total time=   0.6s\n",
      "[CV 1/10] END regressor__max_depth=10, regressor__max_features=sqrt, regressor__max_samples=0.5, regressor__n_estimators=200;, score=0.892 total time=   1.2s\n",
      "[CV 2/10] END regressor__max_depth=10, regressor__max_features=sqrt, regressor__max_samples=0.5, regressor__n_estimators=200;, score=0.904 total time=   1.2s\n",
      "[CV 3/10] END regressor__max_depth=10, regressor__max_features=sqrt, regressor__max_samples=0.5, regressor__n_estimators=200;, score=0.891 total time=   1.1s\n",
      "[CV 4/10] END regressor__max_depth=10, regressor__max_features=sqrt, regressor__max_samples=0.5, regressor__n_estimators=200;, score=0.878 total time=   1.1s\n",
      "[CV 5/10] END regressor__max_depth=10, regressor__max_features=sqrt, regressor__max_samples=0.5, regressor__n_estimators=200;, score=0.878 total time=   1.1s\n",
      "[CV 6/10] END regressor__max_depth=10, regressor__max_features=sqrt, regressor__max_samples=0.5, regressor__n_estimators=200;, score=0.872 total time=   1.1s\n",
      "[CV 7/10] END regressor__max_depth=10, regressor__max_features=sqrt, regressor__max_samples=0.5, regressor__n_estimators=200;, score=0.889 total time=   1.1s\n",
      "[CV 8/10] END regressor__max_depth=10, regressor__max_features=sqrt, regressor__max_samples=0.5, regressor__n_estimators=200;, score=0.880 total time=   1.1s\n",
      "[CV 9/10] END regressor__max_depth=10, regressor__max_features=sqrt, regressor__max_samples=0.5, regressor__n_estimators=200;, score=0.867 total time=   1.1s\n",
      "[CV 10/10] END regressor__max_depth=10, regressor__max_features=sqrt, regressor__max_samples=0.5, regressor__n_estimators=200;, score=0.866 total time=   1.1s\n",
      "[CV 1/10] END regressor__max_depth=10, regressor__max_features=sqrt, regressor__max_samples=0.5, regressor__n_estimators=300;, score=0.897 total time=   1.6s\n",
      "[CV 2/10] END regressor__max_depth=10, regressor__max_features=sqrt, regressor__max_samples=0.5, regressor__n_estimators=300;, score=0.905 total time=   1.7s\n",
      "[CV 3/10] END regressor__max_depth=10, regressor__max_features=sqrt, regressor__max_samples=0.5, regressor__n_estimators=300;, score=0.890 total time=   1.7s\n",
      "[CV 4/10] END regressor__max_depth=10, regressor__max_features=sqrt, regressor__max_samples=0.5, regressor__n_estimators=300;, score=0.878 total time=   1.7s\n",
      "[CV 5/10] END regressor__max_depth=10, regressor__max_features=sqrt, regressor__max_samples=0.5, regressor__n_estimators=300;, score=0.879 total time=   1.6s\n",
      "[CV 6/10] END regressor__max_depth=10, regressor__max_features=sqrt, regressor__max_samples=0.5, regressor__n_estimators=300;, score=0.873 total time=   1.6s\n",
      "[CV 1/10] END regressor__max_depth=10, regressor__max_features=sqrt, regressor__max_samples=1.0, regressor__n_estimators=50;, score=0.894 total time=   0.4s\n",
      "[CV 3/10] END regressor__max_depth=10, regressor__max_features=sqrt, regressor__max_samples=1.0, regressor__n_estimators=50;, score=0.894 total time=   0.4s\n",
      "[CV 2/10] END regressor__max_depth=10, regressor__max_features=sqrt, regressor__max_samples=1.0, regressor__n_estimators=50;, score=0.902 total time=   0.4s\n",
      "[CV 4/10] END regressor__max_depth=10, regressor__max_features=sqrt, regressor__max_samples=1.0, regressor__n_estimators=50;, score=0.878 total time=   0.4s\n",
      "[CV 7/10] END regressor__max_depth=10, regressor__max_features=sqrt, regressor__max_samples=0.5, regressor__n_estimators=300;, score=0.890 total time=   1.7s\n",
      "[CV 8/10] END regressor__max_depth=10, regressor__max_features=sqrt, regressor__max_samples=0.5, regressor__n_estimators=300;, score=0.882 total time=   1.7s\n",
      "[CV 5/10] END regressor__max_depth=10, regressor__max_features=sqrt, regressor__max_samples=1.0, regressor__n_estimators=50;, score=0.877 total time=   0.4s\n",
      "[CV 7/10] END regressor__max_depth=10, regressor__max_features=sqrt, regressor__max_samples=1.0, regressor__n_estimators=50;, score=0.883 total time=   0.4s\n",
      "[CV 6/10] END regressor__max_depth=10, regressor__max_features=sqrt, regressor__max_samples=1.0, regressor__n_estimators=50;, score=0.874 total time=   0.4s\n",
      "[CV 8/10] END regressor__max_depth=10, regressor__max_features=sqrt, regressor__max_samples=1.0, regressor__n_estimators=50;, score=0.886 total time=   0.4s\n",
      "[CV 9/10] END regressor__max_depth=10, regressor__max_features=sqrt, regressor__max_samples=1.0, regressor__n_estimators=50;, score=0.859 total time=   0.4s\n",
      "[CV 10/10] END regressor__max_depth=10, regressor__max_features=sqrt, regressor__max_samples=1.0, regressor__n_estimators=50;, score=0.862 total time=   0.4s\n",
      "[CV 9/10] END regressor__max_depth=10, regressor__max_features=sqrt, regressor__max_samples=0.5, regressor__n_estimators=300;, score=0.867 total time=   1.7s\n",
      "[CV 10/10] END regressor__max_depth=10, regressor__max_features=sqrt, regressor__max_samples=0.5, regressor__n_estimators=300;, score=0.866 total time=   1.7s\n",
      "[CV 1/10] END regressor__max_depth=10, regressor__max_features=sqrt, regressor__max_samples=1.0, regressor__n_estimators=100;, score=0.894 total time=   0.7s\n",
      "[CV 2/10] END regressor__max_depth=10, regressor__max_features=sqrt, regressor__max_samples=1.0, regressor__n_estimators=100;, score=0.905 total time=   0.7s\n",
      "[CV 3/10] END regressor__max_depth=10, regressor__max_features=sqrt, regressor__max_samples=1.0, regressor__n_estimators=100;, score=0.896 total time=   0.7s\n",
      "[CV 4/10] END regressor__max_depth=10, regressor__max_features=sqrt, regressor__max_samples=1.0, regressor__n_estimators=100;, score=0.883 total time=   0.7s\n",
      "[CV 5/10] END regressor__max_depth=10, regressor__max_features=sqrt, regressor__max_samples=1.0, regressor__n_estimators=100;, score=0.883 total time=   0.7s\n",
      "[CV 6/10] END regressor__max_depth=10, regressor__max_features=sqrt, regressor__max_samples=1.0, regressor__n_estimators=100;, score=0.874 total time=   0.7s\n",
      "[CV 7/10] END regressor__max_depth=10, regressor__max_features=sqrt, regressor__max_samples=1.0, regressor__n_estimators=100;, score=0.889 total time=   0.7s\n",
      "[CV 8/10] END regressor__max_depth=10, regressor__max_features=sqrt, regressor__max_samples=1.0, regressor__n_estimators=100;, score=0.884 total time=   0.7s\n",
      "[CV 9/10] END regressor__max_depth=10, regressor__max_features=sqrt, regressor__max_samples=1.0, regressor__n_estimators=100;, score=0.864 total time=   0.7s\n",
      "[CV 10/10] END regressor__max_depth=10, regressor__max_features=sqrt, regressor__max_samples=1.0, regressor__n_estimators=100;, score=0.863 total time=   0.7s\n",
      "[CV 1/10] END regressor__max_depth=10, regressor__max_features=sqrt, regressor__max_samples=1.0, regressor__n_estimators=200;, score=0.896 total time=   1.3s\n",
      "[CV 2/10] END regressor__max_depth=10, regressor__max_features=sqrt, regressor__max_samples=1.0, regressor__n_estimators=200;, score=0.908 total time=   1.3s\n",
      "[CV 3/10] END regressor__max_depth=10, regressor__max_features=sqrt, regressor__max_samples=1.0, regressor__n_estimators=200;, score=0.894 total time=   1.3s\n",
      "[CV 4/10] END regressor__max_depth=10, regressor__max_features=sqrt, regressor__max_samples=1.0, regressor__n_estimators=200;, score=0.882 total time=   1.3s\n",
      "[CV 5/10] END regressor__max_depth=10, regressor__max_features=sqrt, regressor__max_samples=1.0, regressor__n_estimators=200;, score=0.881 total time=   1.3s\n",
      "[CV 6/10] END regressor__max_depth=10, regressor__max_features=sqrt, regressor__max_samples=1.0, regressor__n_estimators=200;, score=0.872 total time=   1.3s\n",
      "[CV 7/10] END regressor__max_depth=10, regressor__max_features=sqrt, regressor__max_samples=1.0, regressor__n_estimators=200;, score=0.892 total time=   1.3s\n",
      "[CV 8/10] END regressor__max_depth=10, regressor__max_features=sqrt, regressor__max_samples=1.0, regressor__n_estimators=200;, score=0.884 total time=   1.3s\n",
      "[CV 9/10] END regressor__max_depth=10, regressor__max_features=sqrt, regressor__max_samples=1.0, regressor__n_estimators=200;, score=0.873 total time=   1.3s\n",
      "[CV 10/10] END regressor__max_depth=10, regressor__max_features=sqrt, regressor__max_samples=1.0, regressor__n_estimators=200;, score=0.867 total time=   1.4s\n",
      "[CV 1/10] END regressor__max_depth=10, regressor__max_features=sqrt, regressor__max_samples=1.0, regressor__n_estimators=300;, score=0.896 total time=   1.9s\n",
      "[CV 2/10] END regressor__max_depth=10, regressor__max_features=sqrt, regressor__max_samples=1.0, regressor__n_estimators=300;, score=0.907 total time=   1.9s\n",
      "[CV 3/10] END regressor__max_depth=10, regressor__max_features=sqrt, regressor__max_samples=1.0, regressor__n_estimators=300;, score=0.897 total time=   2.0s\n",
      "[CV 4/10] END regressor__max_depth=10, regressor__max_features=sqrt, regressor__max_samples=1.0, regressor__n_estimators=300;, score=0.881 total time=   2.0s\n"
     ]
    },
    {
     "name": "stderr",
     "output_type": "stream",
     "text": [
      "/Users/vivektyagi/miniconda3/envs/envDS/lib/python3.9/site-packages/sklearn/ensemble/_forest.py:414: FutureWarning: `max_features='auto'` has been deprecated in 1.1 and will be removed in 1.3. To keep the past behaviour, explicitly set `max_features=1.0` or remove this parameter as it is also the default value for RandomForestRegressors and ExtraTreesRegressors.\n",
      "  warn(\n",
      "/Users/vivektyagi/miniconda3/envs/envDS/lib/python3.9/site-packages/sklearn/ensemble/_forest.py:414: FutureWarning: `max_features='auto'` has been deprecated in 1.1 and will be removed in 1.3. To keep the past behaviour, explicitly set `max_features=1.0` or remove this parameter as it is also the default value for RandomForestRegressors and ExtraTreesRegressors.\n",
      "  warn(\n"
     ]
    },
    {
     "name": "stdout",
     "output_type": "stream",
     "text": [
      "[CV 5/10] END regressor__max_depth=10, regressor__max_features=sqrt, regressor__max_samples=1.0, regressor__n_estimators=300;, score=0.883 total time=   2.0s\n",
      "[CV 6/10] END regressor__max_depth=10, regressor__max_features=sqrt, regressor__max_samples=1.0, regressor__n_estimators=300;, score=0.874 total time=   2.0s\n"
     ]
    },
    {
     "name": "stderr",
     "output_type": "stream",
     "text": [
      "/Users/vivektyagi/miniconda3/envs/envDS/lib/python3.9/site-packages/sklearn/ensemble/_forest.py:414: FutureWarning: `max_features='auto'` has been deprecated in 1.1 and will be removed in 1.3. To keep the past behaviour, explicitly set `max_features=1.0` or remove this parameter as it is also the default value for RandomForestRegressors and ExtraTreesRegressors.\n",
      "  warn(\n",
      "/Users/vivektyagi/miniconda3/envs/envDS/lib/python3.9/site-packages/sklearn/ensemble/_forest.py:414: FutureWarning: `max_features='auto'` has been deprecated in 1.1 and will be removed in 1.3. To keep the past behaviour, explicitly set `max_features=1.0` or remove this parameter as it is also the default value for RandomForestRegressors and ExtraTreesRegressors.\n",
      "  warn(\n"
     ]
    },
    {
     "name": "stdout",
     "output_type": "stream",
     "text": [
      "[CV 1/10] END regressor__max_depth=20, regressor__max_features=auto, regressor__max_samples=0.1, regressor__n_estimators=50;, score=0.877 total time=   0.5s\n"
     ]
    },
    {
     "name": "stderr",
     "output_type": "stream",
     "text": [
      "/Users/vivektyagi/miniconda3/envs/envDS/lib/python3.9/site-packages/sklearn/ensemble/_forest.py:414: FutureWarning: `max_features='auto'` has been deprecated in 1.1 and will be removed in 1.3. To keep the past behaviour, explicitly set `max_features=1.0` or remove this parameter as it is also the default value for RandomForestRegressors and ExtraTreesRegressors.\n",
      "  warn(\n"
     ]
    },
    {
     "name": "stdout",
     "output_type": "stream",
     "text": [
      "[CV 2/10] END regressor__max_depth=20, regressor__max_features=auto, regressor__max_samples=0.1, regressor__n_estimators=50;, score=0.905 total time=   0.6s\n",
      "[CV 3/10] END regressor__max_depth=20, regressor__max_features=auto, regressor__max_samples=0.1, regressor__n_estimators=50;, score=0.889 total time=   0.7s\n"
     ]
    },
    {
     "name": "stderr",
     "output_type": "stream",
     "text": [
      "/Users/vivektyagi/miniconda3/envs/envDS/lib/python3.9/site-packages/sklearn/ensemble/_forest.py:414: FutureWarning: `max_features='auto'` has been deprecated in 1.1 and will be removed in 1.3. To keep the past behaviour, explicitly set `max_features=1.0` or remove this parameter as it is also the default value for RandomForestRegressors and ExtraTreesRegressors.\n",
      "  warn(\n",
      "/Users/vivektyagi/miniconda3/envs/envDS/lib/python3.9/site-packages/sklearn/ensemble/_forest.py:414: FutureWarning: `max_features='auto'` has been deprecated in 1.1 and will be removed in 1.3. To keep the past behaviour, explicitly set `max_features=1.0` or remove this parameter as it is also the default value for RandomForestRegressors and ExtraTreesRegressors.\n",
      "  warn(\n",
      "/Users/vivektyagi/miniconda3/envs/envDS/lib/python3.9/site-packages/sklearn/ensemble/_forest.py:414: FutureWarning: `max_features='auto'` has been deprecated in 1.1 and will be removed in 1.3. To keep the past behaviour, explicitly set `max_features=1.0` or remove this parameter as it is also the default value for RandomForestRegressors and ExtraTreesRegressors.\n",
      "  warn(\n"
     ]
    },
    {
     "name": "stdout",
     "output_type": "stream",
     "text": [
      "[CV 4/10] END regressor__max_depth=20, regressor__max_features=auto, regressor__max_samples=0.1, regressor__n_estimators=50;, score=0.881 total time=   0.7s\n",
      "[CV 5/10] END regressor__max_depth=20, regressor__max_features=auto, regressor__max_samples=0.1, regressor__n_estimators=50;, score=0.866 total time=   0.6s\n"
     ]
    },
    {
     "name": "stderr",
     "output_type": "stream",
     "text": [
      "/Users/vivektyagi/miniconda3/envs/envDS/lib/python3.9/site-packages/sklearn/ensemble/_forest.py:414: FutureWarning: `max_features='auto'` has been deprecated in 1.1 and will be removed in 1.3. To keep the past behaviour, explicitly set `max_features=1.0` or remove this parameter as it is also the default value for RandomForestRegressors and ExtraTreesRegressors.\n",
      "  warn(\n",
      "/Users/vivektyagi/miniconda3/envs/envDS/lib/python3.9/site-packages/sklearn/ensemble/_forest.py:414: FutureWarning: `max_features='auto'` has been deprecated in 1.1 and will be removed in 1.3. To keep the past behaviour, explicitly set `max_features=1.0` or remove this parameter as it is also the default value for RandomForestRegressors and ExtraTreesRegressors.\n",
      "  warn(\n",
      "/Users/vivektyagi/miniconda3/envs/envDS/lib/python3.9/site-packages/sklearn/ensemble/_forest.py:414: FutureWarning: `max_features='auto'` has been deprecated in 1.1 and will be removed in 1.3. To keep the past behaviour, explicitly set `max_features=1.0` or remove this parameter as it is also the default value for RandomForestRegressors and ExtraTreesRegressors.\n",
      "  warn(\n"
     ]
    },
    {
     "name": "stdout",
     "output_type": "stream",
     "text": [
      "[CV 6/10] END regressor__max_depth=20, regressor__max_features=auto, regressor__max_samples=0.1, regressor__n_estimators=50;, score=0.861 total time=   0.5s\n",
      "[CV 7/10] END regressor__max_depth=10, regressor__max_features=sqrt, regressor__max_samples=1.0, regressor__n_estimators=300;, score=0.893 total time=   2.4s\n",
      "[CV 7/10] END regressor__max_depth=20, regressor__max_features=auto, regressor__max_samples=0.1, regressor__n_estimators=50;, score=0.880 total time=   0.4s\n",
      "[CV 8/10] END regressor__max_depth=10, regressor__max_features=sqrt, regressor__max_samples=1.0, regressor__n_estimators=300;, score=0.883 total time=   2.4s\n",
      "[CV 8/10] END regressor__max_depth=20, regressor__max_features=auto, regressor__max_samples=0.1, regressor__n_estimators=50;, score=0.874 total time=   0.4s\n"
     ]
    },
    {
     "name": "stderr",
     "output_type": "stream",
     "text": [
      "/Users/vivektyagi/miniconda3/envs/envDS/lib/python3.9/site-packages/sklearn/ensemble/_forest.py:414: FutureWarning: `max_features='auto'` has been deprecated in 1.1 and will be removed in 1.3. To keep the past behaviour, explicitly set `max_features=1.0` or remove this parameter as it is also the default value for RandomForestRegressors and ExtraTreesRegressors.\n",
      "  warn(\n",
      "/Users/vivektyagi/miniconda3/envs/envDS/lib/python3.9/site-packages/sklearn/ensemble/_forest.py:414: FutureWarning: `max_features='auto'` has been deprecated in 1.1 and will be removed in 1.3. To keep the past behaviour, explicitly set `max_features=1.0` or remove this parameter as it is also the default value for RandomForestRegressors and ExtraTreesRegressors.\n",
      "  warn(\n",
      "/Users/vivektyagi/miniconda3/envs/envDS/lib/python3.9/site-packages/sklearn/ensemble/_forest.py:414: FutureWarning: `max_features='auto'` has been deprecated in 1.1 and will be removed in 1.3. To keep the past behaviour, explicitly set `max_features=1.0` or remove this parameter as it is also the default value for RandomForestRegressors and ExtraTreesRegressors.\n",
      "  warn(\n"
     ]
    },
    {
     "name": "stdout",
     "output_type": "stream",
     "text": [
      "[CV 9/10] END regressor__max_depth=20, regressor__max_features=auto, regressor__max_samples=0.1, regressor__n_estimators=50;, score=0.834 total time=   0.5s\n",
      "[CV 10/10] END regressor__max_depth=20, regressor__max_features=auto, regressor__max_samples=0.1, regressor__n_estimators=50;, score=0.866 total time=   0.5s\n"
     ]
    },
    {
     "name": "stderr",
     "output_type": "stream",
     "text": [
      "/Users/vivektyagi/miniconda3/envs/envDS/lib/python3.9/site-packages/sklearn/ensemble/_forest.py:414: FutureWarning: `max_features='auto'` has been deprecated in 1.1 and will be removed in 1.3. To keep the past behaviour, explicitly set `max_features=1.0` or remove this parameter as it is also the default value for RandomForestRegressors and ExtraTreesRegressors.\n",
      "  warn(\n",
      "/Users/vivektyagi/miniconda3/envs/envDS/lib/python3.9/site-packages/sklearn/ensemble/_forest.py:414: FutureWarning: `max_features='auto'` has been deprecated in 1.1 and will be removed in 1.3. To keep the past behaviour, explicitly set `max_features=1.0` or remove this parameter as it is also the default value for RandomForestRegressors and ExtraTreesRegressors.\n",
      "  warn(\n"
     ]
    },
    {
     "name": "stdout",
     "output_type": "stream",
     "text": [
      "[CV 1/10] END regressor__max_depth=20, regressor__max_features=auto, regressor__max_samples=0.1, regressor__n_estimators=100;, score=0.882 total time=   0.8s\n",
      "[CV 2/10] END regressor__max_depth=20, regressor__max_features=auto, regressor__max_samples=0.1, regressor__n_estimators=100;, score=0.905 total time=   0.8s\n",
      "[CV 3/10] END regressor__max_depth=20, regressor__max_features=auto, regressor__max_samples=0.1, regressor__n_estimators=100;, score=0.895 total time=   0.8s\n",
      "[CV 4/10] END regressor__max_depth=20, regressor__max_features=auto, regressor__max_samples=0.1, regressor__n_estimators=100;, score=0.879 total time=   0.8s\n"
     ]
    },
    {
     "name": "stderr",
     "output_type": "stream",
     "text": [
      "/Users/vivektyagi/miniconda3/envs/envDS/lib/python3.9/site-packages/sklearn/ensemble/_forest.py:414: FutureWarning: `max_features='auto'` has been deprecated in 1.1 and will be removed in 1.3. To keep the past behaviour, explicitly set `max_features=1.0` or remove this parameter as it is also the default value for RandomForestRegressors and ExtraTreesRegressors.\n",
      "  warn(\n",
      "/Users/vivektyagi/miniconda3/envs/envDS/lib/python3.9/site-packages/sklearn/ensemble/_forest.py:414: FutureWarning: `max_features='auto'` has been deprecated in 1.1 and will be removed in 1.3. To keep the past behaviour, explicitly set `max_features=1.0` or remove this parameter as it is also the default value for RandomForestRegressors and ExtraTreesRegressors.\n",
      "  warn(\n",
      "/Users/vivektyagi/miniconda3/envs/envDS/lib/python3.9/site-packages/sklearn/ensemble/_forest.py:414: FutureWarning: `max_features='auto'` has been deprecated in 1.1 and will be removed in 1.3. To keep the past behaviour, explicitly set `max_features=1.0` or remove this parameter as it is also the default value for RandomForestRegressors and ExtraTreesRegressors.\n",
      "  warn(\n",
      "/Users/vivektyagi/miniconda3/envs/envDS/lib/python3.9/site-packages/sklearn/ensemble/_forest.py:414: FutureWarning: `max_features='auto'` has been deprecated in 1.1 and will be removed in 1.3. To keep the past behaviour, explicitly set `max_features=1.0` or remove this parameter as it is also the default value for RandomForestRegressors and ExtraTreesRegressors.\n",
      "  warn(\n"
     ]
    },
    {
     "name": "stdout",
     "output_type": "stream",
     "text": [
      "[CV 5/10] END regressor__max_depth=20, regressor__max_features=auto, regressor__max_samples=0.1, regressor__n_estimators=100;, score=0.871 total time=   0.8s\n",
      "[CV 9/10] END regressor__max_depth=10, regressor__max_features=sqrt, regressor__max_samples=1.0, regressor__n_estimators=300;, score=0.869 total time=   2.7s\n",
      "[CV 6/10] END regressor__max_depth=20, regressor__max_features=auto, regressor__max_samples=0.1, regressor__n_estimators=100;, score=0.865 total time=   0.8s\n",
      "[CV 10/10] END regressor__max_depth=10, regressor__max_features=sqrt, regressor__max_samples=1.0, regressor__n_estimators=300;, score=0.867 total time=   2.7s\n"
     ]
    },
    {
     "name": "stderr",
     "output_type": "stream",
     "text": [
      "/Users/vivektyagi/miniconda3/envs/envDS/lib/python3.9/site-packages/sklearn/ensemble/_forest.py:414: FutureWarning: `max_features='auto'` has been deprecated in 1.1 and will be removed in 1.3. To keep the past behaviour, explicitly set `max_features=1.0` or remove this parameter as it is also the default value for RandomForestRegressors and ExtraTreesRegressors.\n",
      "  warn(\n",
      "/Users/vivektyagi/miniconda3/envs/envDS/lib/python3.9/site-packages/sklearn/ensemble/_forest.py:414: FutureWarning: `max_features='auto'` has been deprecated in 1.1 and will be removed in 1.3. To keep the past behaviour, explicitly set `max_features=1.0` or remove this parameter as it is also the default value for RandomForestRegressors and ExtraTreesRegressors.\n",
      "  warn(\n",
      "/Users/vivektyagi/miniconda3/envs/envDS/lib/python3.9/site-packages/sklearn/ensemble/_forest.py:414: FutureWarning: `max_features='auto'` has been deprecated in 1.1 and will be removed in 1.3. To keep the past behaviour, explicitly set `max_features=1.0` or remove this parameter as it is also the default value for RandomForestRegressors and ExtraTreesRegressors.\n",
      "  warn(\n",
      "/Users/vivektyagi/miniconda3/envs/envDS/lib/python3.9/site-packages/sklearn/ensemble/_forest.py:414: FutureWarning: `max_features='auto'` has been deprecated in 1.1 and will be removed in 1.3. To keep the past behaviour, explicitly set `max_features=1.0` or remove this parameter as it is also the default value for RandomForestRegressors and ExtraTreesRegressors.\n",
      "  warn(\n"
     ]
    },
    {
     "name": "stdout",
     "output_type": "stream",
     "text": [
      "[CV 7/10] END regressor__max_depth=20, regressor__max_features=auto, regressor__max_samples=0.1, regressor__n_estimators=100;, score=0.876 total time=   0.8s\n",
      "[CV 8/10] END regressor__max_depth=20, regressor__max_features=auto, regressor__max_samples=0.1, regressor__n_estimators=100;, score=0.871 total time=   0.8s\n",
      "[CV 9/10] END regressor__max_depth=20, regressor__max_features=auto, regressor__max_samples=0.1, regressor__n_estimators=100;, score=0.841 total time=   0.8s\n",
      "[CV 10/10] END regressor__max_depth=20, regressor__max_features=auto, regressor__max_samples=0.1, regressor__n_estimators=100;, score=0.868 total time=   0.8s\n"
     ]
    },
    {
     "name": "stderr",
     "output_type": "stream",
     "text": [
      "/Users/vivektyagi/miniconda3/envs/envDS/lib/python3.9/site-packages/sklearn/ensemble/_forest.py:414: FutureWarning: `max_features='auto'` has been deprecated in 1.1 and will be removed in 1.3. To keep the past behaviour, explicitly set `max_features=1.0` or remove this parameter as it is also the default value for RandomForestRegressors and ExtraTreesRegressors.\n",
      "  warn(\n",
      "/Users/vivektyagi/miniconda3/envs/envDS/lib/python3.9/site-packages/sklearn/ensemble/_forest.py:414: FutureWarning: `max_features='auto'` has been deprecated in 1.1 and will be removed in 1.3. To keep the past behaviour, explicitly set `max_features=1.0` or remove this parameter as it is also the default value for RandomForestRegressors and ExtraTreesRegressors.\n",
      "  warn(\n",
      "/Users/vivektyagi/miniconda3/envs/envDS/lib/python3.9/site-packages/sklearn/ensemble/_forest.py:414: FutureWarning: `max_features='auto'` has been deprecated in 1.1 and will be removed in 1.3. To keep the past behaviour, explicitly set `max_features=1.0` or remove this parameter as it is also the default value for RandomForestRegressors and ExtraTreesRegressors.\n",
      "  warn(\n",
      "/Users/vivektyagi/miniconda3/envs/envDS/lib/python3.9/site-packages/sklearn/ensemble/_forest.py:414: FutureWarning: `max_features='auto'` has been deprecated in 1.1 and will be removed in 1.3. To keep the past behaviour, explicitly set `max_features=1.0` or remove this parameter as it is also the default value for RandomForestRegressors and ExtraTreesRegressors.\n",
      "  warn(\n"
     ]
    },
    {
     "name": "stdout",
     "output_type": "stream",
     "text": [
      "[CV 1/10] END regressor__max_depth=20, regressor__max_features=auto, regressor__max_samples=0.1, regressor__n_estimators=200;, score=0.887 total time=   1.5s\n",
      "[CV 3/10] END regressor__max_depth=20, regressor__max_features=auto, regressor__max_samples=0.1, regressor__n_estimators=200;, score=0.895 total time=   1.4s\n",
      "[CV 4/10] END regressor__max_depth=20, regressor__max_features=auto, regressor__max_samples=0.1, regressor__n_estimators=200;, score=0.883 total time=   1.4s\n",
      "[CV 2/10] END regressor__max_depth=20, regressor__max_features=auto, regressor__max_samples=0.1, regressor__n_estimators=200;, score=0.906 total time=   1.5s\n"
     ]
    },
    {
     "name": "stderr",
     "output_type": "stream",
     "text": [
      "/Users/vivektyagi/miniconda3/envs/envDS/lib/python3.9/site-packages/sklearn/ensemble/_forest.py:414: FutureWarning: `max_features='auto'` has been deprecated in 1.1 and will be removed in 1.3. To keep the past behaviour, explicitly set `max_features=1.0` or remove this parameter as it is also the default value for RandomForestRegressors and ExtraTreesRegressors.\n",
      "  warn(\n",
      "/Users/vivektyagi/miniconda3/envs/envDS/lib/python3.9/site-packages/sklearn/ensemble/_forest.py:414: FutureWarning: `max_features='auto'` has been deprecated in 1.1 and will be removed in 1.3. To keep the past behaviour, explicitly set `max_features=1.0` or remove this parameter as it is also the default value for RandomForestRegressors and ExtraTreesRegressors.\n",
      "  warn(\n",
      "/Users/vivektyagi/miniconda3/envs/envDS/lib/python3.9/site-packages/sklearn/ensemble/_forest.py:414: FutureWarning: `max_features='auto'` has been deprecated in 1.1 and will be removed in 1.3. To keep the past behaviour, explicitly set `max_features=1.0` or remove this parameter as it is also the default value for RandomForestRegressors and ExtraTreesRegressors.\n",
      "  warn(\n",
      "/Users/vivektyagi/miniconda3/envs/envDS/lib/python3.9/site-packages/sklearn/ensemble/_forest.py:414: FutureWarning: `max_features='auto'` has been deprecated in 1.1 and will be removed in 1.3. To keep the past behaviour, explicitly set `max_features=1.0` or remove this parameter as it is also the default value for RandomForestRegressors and ExtraTreesRegressors.\n",
      "  warn(\n"
     ]
    },
    {
     "name": "stdout",
     "output_type": "stream",
     "text": [
      "[CV 5/10] END regressor__max_depth=20, regressor__max_features=auto, regressor__max_samples=0.1, regressor__n_estimators=200;, score=0.876 total time=   1.4s\n",
      "[CV 6/10] END regressor__max_depth=20, regressor__max_features=auto, regressor__max_samples=0.1, regressor__n_estimators=200;, score=0.866 total time=   1.4s\n",
      "[CV 7/10] END regressor__max_depth=20, regressor__max_features=auto, regressor__max_samples=0.1, regressor__n_estimators=200;, score=0.875 total time=   1.4s\n",
      "[CV 8/10] END regressor__max_depth=20, regressor__max_features=auto, regressor__max_samples=0.1, regressor__n_estimators=200;, score=0.872 total time=   1.4s\n"
     ]
    },
    {
     "name": "stderr",
     "output_type": "stream",
     "text": [
      "/Users/vivektyagi/miniconda3/envs/envDS/lib/python3.9/site-packages/sklearn/ensemble/_forest.py:414: FutureWarning: `max_features='auto'` has been deprecated in 1.1 and will be removed in 1.3. To keep the past behaviour, explicitly set `max_features=1.0` or remove this parameter as it is also the default value for RandomForestRegressors and ExtraTreesRegressors.\n",
      "  warn(\n",
      "/Users/vivektyagi/miniconda3/envs/envDS/lib/python3.9/site-packages/sklearn/ensemble/_forest.py:414: FutureWarning: `max_features='auto'` has been deprecated in 1.1 and will be removed in 1.3. To keep the past behaviour, explicitly set `max_features=1.0` or remove this parameter as it is also the default value for RandomForestRegressors and ExtraTreesRegressors.\n",
      "  warn(\n",
      "/Users/vivektyagi/miniconda3/envs/envDS/lib/python3.9/site-packages/sklearn/ensemble/_forest.py:414: FutureWarning: `max_features='auto'` has been deprecated in 1.1 and will be removed in 1.3. To keep the past behaviour, explicitly set `max_features=1.0` or remove this parameter as it is also the default value for RandomForestRegressors and ExtraTreesRegressors.\n",
      "  warn(\n",
      "/Users/vivektyagi/miniconda3/envs/envDS/lib/python3.9/site-packages/sklearn/ensemble/_forest.py:414: FutureWarning: `max_features='auto'` has been deprecated in 1.1 and will be removed in 1.3. To keep the past behaviour, explicitly set `max_features=1.0` or remove this parameter as it is also the default value for RandomForestRegressors and ExtraTreesRegressors.\n",
      "  warn(\n"
     ]
    },
    {
     "name": "stdout",
     "output_type": "stream",
     "text": [
      "[CV 9/10] END regressor__max_depth=20, regressor__max_features=auto, regressor__max_samples=0.1, regressor__n_estimators=200;, score=0.847 total time=   1.4s\n",
      "[CV 10/10] END regressor__max_depth=20, regressor__max_features=auto, regressor__max_samples=0.1, regressor__n_estimators=200;, score=0.868 total time=   1.3s\n"
     ]
    },
    {
     "name": "stderr",
     "output_type": "stream",
     "text": [
      "/Users/vivektyagi/miniconda3/envs/envDS/lib/python3.9/site-packages/sklearn/ensemble/_forest.py:414: FutureWarning: `max_features='auto'` has been deprecated in 1.1 and will be removed in 1.3. To keep the past behaviour, explicitly set `max_features=1.0` or remove this parameter as it is also the default value for RandomForestRegressors and ExtraTreesRegressors.\n",
      "  warn(\n",
      "/Users/vivektyagi/miniconda3/envs/envDS/lib/python3.9/site-packages/sklearn/ensemble/_forest.py:414: FutureWarning: `max_features='auto'` has been deprecated in 1.1 and will be removed in 1.3. To keep the past behaviour, explicitly set `max_features=1.0` or remove this parameter as it is also the default value for RandomForestRegressors and ExtraTreesRegressors.\n",
      "  warn(\n"
     ]
    },
    {
     "name": "stdout",
     "output_type": "stream",
     "text": [
      "[CV 1/10] END regressor__max_depth=20, regressor__max_features=auto, regressor__max_samples=0.1, regressor__n_estimators=300;, score=0.881 total time=   2.0s\n",
      "[CV 2/10] END regressor__max_depth=20, regressor__max_features=auto, regressor__max_samples=0.1, regressor__n_estimators=300;, score=0.906 total time=   2.0s\n"
     ]
    },
    {
     "name": "stderr",
     "output_type": "stream",
     "text": [
      "/Users/vivektyagi/miniconda3/envs/envDS/lib/python3.9/site-packages/sklearn/ensemble/_forest.py:414: FutureWarning: `max_features='auto'` has been deprecated in 1.1 and will be removed in 1.3. To keep the past behaviour, explicitly set `max_features=1.0` or remove this parameter as it is also the default value for RandomForestRegressors and ExtraTreesRegressors.\n",
      "  warn(\n",
      "/Users/vivektyagi/miniconda3/envs/envDS/lib/python3.9/site-packages/sklearn/ensemble/_forest.py:414: FutureWarning: `max_features='auto'` has been deprecated in 1.1 and will be removed in 1.3. To keep the past behaviour, explicitly set `max_features=1.0` or remove this parameter as it is also the default value for RandomForestRegressors and ExtraTreesRegressors.\n",
      "  warn(\n"
     ]
    },
    {
     "name": "stdout",
     "output_type": "stream",
     "text": [
      "[CV 3/10] END regressor__max_depth=20, regressor__max_features=auto, regressor__max_samples=0.1, regressor__n_estimators=300;, score=0.895 total time=   2.0s\n",
      "[CV 4/10] END regressor__max_depth=20, regressor__max_features=auto, regressor__max_samples=0.1, regressor__n_estimators=300;, score=0.884 total time=   2.0s\n",
      "[CV 5/10] END regressor__max_depth=20, regressor__max_features=auto, regressor__max_samples=0.1, regressor__n_estimators=300;, score=0.876 total time=   2.0s\n",
      "[CV 6/10] END regressor__max_depth=20, regressor__max_features=auto, regressor__max_samples=0.1, regressor__n_estimators=300;, score=0.862 total time=   2.0s\n"
     ]
    },
    {
     "name": "stderr",
     "output_type": "stream",
     "text": [
      "/Users/vivektyagi/miniconda3/envs/envDS/lib/python3.9/site-packages/sklearn/ensemble/_forest.py:414: FutureWarning: `max_features='auto'` has been deprecated in 1.1 and will be removed in 1.3. To keep the past behaviour, explicitly set `max_features=1.0` or remove this parameter as it is also the default value for RandomForestRegressors and ExtraTreesRegressors.\n",
      "  warn(\n",
      "/Users/vivektyagi/miniconda3/envs/envDS/lib/python3.9/site-packages/sklearn/ensemble/_forest.py:414: FutureWarning: `max_features='auto'` has been deprecated in 1.1 and will be removed in 1.3. To keep the past behaviour, explicitly set `max_features=1.0` or remove this parameter as it is also the default value for RandomForestRegressors and ExtraTreesRegressors.\n",
      "  warn(\n",
      "/Users/vivektyagi/miniconda3/envs/envDS/lib/python3.9/site-packages/sklearn/ensemble/_forest.py:414: FutureWarning: `max_features='auto'` has been deprecated in 1.1 and will be removed in 1.3. To keep the past behaviour, explicitly set `max_features=1.0` or remove this parameter as it is also the default value for RandomForestRegressors and ExtraTreesRegressors.\n",
      "  warn(\n",
      "/Users/vivektyagi/miniconda3/envs/envDS/lib/python3.9/site-packages/sklearn/ensemble/_forest.py:414: FutureWarning: `max_features='auto'` has been deprecated in 1.1 and will be removed in 1.3. To keep the past behaviour, explicitly set `max_features=1.0` or remove this parameter as it is also the default value for RandomForestRegressors and ExtraTreesRegressors.\n",
      "  warn(\n"
     ]
    },
    {
     "name": "stdout",
     "output_type": "stream",
     "text": [
      "[CV 1/10] END regressor__max_depth=20, regressor__max_features=auto, regressor__max_samples=0.25, regressor__n_estimators=50;, score=0.888 total time=   0.6s\n",
      "[CV 2/10] END regressor__max_depth=20, regressor__max_features=auto, regressor__max_samples=0.25, regressor__n_estimators=50;, score=0.919 total time=   0.6s\n",
      "[CV 3/10] END regressor__max_depth=20, regressor__max_features=auto, regressor__max_samples=0.25, regressor__n_estimators=50;, score=0.907 total time=   0.6s\n",
      "[CV 4/10] END regressor__max_depth=20, regressor__max_features=auto, regressor__max_samples=0.25, regressor__n_estimators=50;, score=0.895 total time=   0.6s\n"
     ]
    },
    {
     "name": "stderr",
     "output_type": "stream",
     "text": [
      "/Users/vivektyagi/miniconda3/envs/envDS/lib/python3.9/site-packages/sklearn/ensemble/_forest.py:414: FutureWarning: `max_features='auto'` has been deprecated in 1.1 and will be removed in 1.3. To keep the past behaviour, explicitly set `max_features=1.0` or remove this parameter as it is also the default value for RandomForestRegressors and ExtraTreesRegressors.\n",
      "  warn(\n",
      "/Users/vivektyagi/miniconda3/envs/envDS/lib/python3.9/site-packages/sklearn/ensemble/_forest.py:414: FutureWarning: `max_features='auto'` has been deprecated in 1.1 and will be removed in 1.3. To keep the past behaviour, explicitly set `max_features=1.0` or remove this parameter as it is also the default value for RandomForestRegressors and ExtraTreesRegressors.\n",
      "  warn(\n",
      "/Users/vivektyagi/miniconda3/envs/envDS/lib/python3.9/site-packages/sklearn/ensemble/_forest.py:414: FutureWarning: `max_features='auto'` has been deprecated in 1.1 and will be removed in 1.3. To keep the past behaviour, explicitly set `max_features=1.0` or remove this parameter as it is also the default value for RandomForestRegressors and ExtraTreesRegressors.\n",
      "  warn(\n",
      "/Users/vivektyagi/miniconda3/envs/envDS/lib/python3.9/site-packages/sklearn/ensemble/_forest.py:414: FutureWarning: `max_features='auto'` has been deprecated in 1.1 and will be removed in 1.3. To keep the past behaviour, explicitly set `max_features=1.0` or remove this parameter as it is also the default value for RandomForestRegressors and ExtraTreesRegressors.\n",
      "  warn(\n"
     ]
    },
    {
     "name": "stdout",
     "output_type": "stream",
     "text": [
      "[CV 7/10] END regressor__max_depth=20, regressor__max_features=auto, regressor__max_samples=0.1, regressor__n_estimators=300;, score=0.878 total time=   2.1s\n",
      "[CV 8/10] END regressor__max_depth=20, regressor__max_features=auto, regressor__max_samples=0.1, regressor__n_estimators=300;, score=0.874 total time=   2.1s\n"
     ]
    },
    {
     "name": "stderr",
     "output_type": "stream",
     "text": [
      "/Users/vivektyagi/miniconda3/envs/envDS/lib/python3.9/site-packages/sklearn/ensemble/_forest.py:414: FutureWarning: `max_features='auto'` has been deprecated in 1.1 and will be removed in 1.3. To keep the past behaviour, explicitly set `max_features=1.0` or remove this parameter as it is also the default value for RandomForestRegressors and ExtraTreesRegressors.\n",
      "  warn(\n",
      "/Users/vivektyagi/miniconda3/envs/envDS/lib/python3.9/site-packages/sklearn/ensemble/_forest.py:414: FutureWarning: `max_features='auto'` has been deprecated in 1.1 and will be removed in 1.3. To keep the past behaviour, explicitly set `max_features=1.0` or remove this parameter as it is also the default value for RandomForestRegressors and ExtraTreesRegressors.\n",
      "  warn(\n"
     ]
    },
    {
     "name": "stdout",
     "output_type": "stream",
     "text": [
      "[CV 5/10] END regressor__max_depth=20, regressor__max_features=auto, regressor__max_samples=0.25, regressor__n_estimators=50;, score=0.889 total time=   0.7s\n",
      "[CV 6/10] END regressor__max_depth=20, regressor__max_features=auto, regressor__max_samples=0.25, regressor__n_estimators=50;, score=0.873 total time=   0.7s\n",
      "[CV 7/10] END regressor__max_depth=20, regressor__max_features=auto, regressor__max_samples=0.25, regressor__n_estimators=50;, score=0.884 total time=   0.7s\n",
      "[CV 8/10] END regressor__max_depth=20, regressor__max_features=auto, regressor__max_samples=0.25, regressor__n_estimators=50;, score=0.878 total time=   0.7s\n"
     ]
    },
    {
     "name": "stderr",
     "output_type": "stream",
     "text": [
      "/Users/vivektyagi/miniconda3/envs/envDS/lib/python3.9/site-packages/sklearn/ensemble/_forest.py:414: FutureWarning: `max_features='auto'` has been deprecated in 1.1 and will be removed in 1.3. To keep the past behaviour, explicitly set `max_features=1.0` or remove this parameter as it is also the default value for RandomForestRegressors and ExtraTreesRegressors.\n",
      "  warn(\n",
      "/Users/vivektyagi/miniconda3/envs/envDS/lib/python3.9/site-packages/sklearn/ensemble/_forest.py:414: FutureWarning: `max_features='auto'` has been deprecated in 1.1 and will be removed in 1.3. To keep the past behaviour, explicitly set `max_features=1.0` or remove this parameter as it is also the default value for RandomForestRegressors and ExtraTreesRegressors.\n",
      "  warn(\n",
      "/Users/vivektyagi/miniconda3/envs/envDS/lib/python3.9/site-packages/sklearn/ensemble/_forest.py:414: FutureWarning: `max_features='auto'` has been deprecated in 1.1 and will be removed in 1.3. To keep the past behaviour, explicitly set `max_features=1.0` or remove this parameter as it is also the default value for RandomForestRegressors and ExtraTreesRegressors.\n",
      "  warn(\n",
      "/Users/vivektyagi/miniconda3/envs/envDS/lib/python3.9/site-packages/sklearn/ensemble/_forest.py:414: FutureWarning: `max_features='auto'` has been deprecated in 1.1 and will be removed in 1.3. To keep the past behaviour, explicitly set `max_features=1.0` or remove this parameter as it is also the default value for RandomForestRegressors and ExtraTreesRegressors.\n",
      "  warn(\n"
     ]
    },
    {
     "name": "stdout",
     "output_type": "stream",
     "text": [
      "[CV 9/10] END regressor__max_depth=20, regressor__max_features=auto, regressor__max_samples=0.25, regressor__n_estimators=50;, score=0.863 total time=   0.7s\n",
      "[CV 10/10] END regressor__max_depth=20, regressor__max_features=auto, regressor__max_samples=0.25, regressor__n_estimators=50;, score=0.872 total time=   0.7s\n",
      "[CV 9/10] END regressor__max_depth=20, regressor__max_features=auto, regressor__max_samples=0.1, regressor__n_estimators=300;, score=0.846 total time=   2.2s\n",
      "[CV 10/10] END regressor__max_depth=20, regressor__max_features=auto, regressor__max_samples=0.1, regressor__n_estimators=300;, score=0.866 total time=   2.2s\n"
     ]
    },
    {
     "name": "stderr",
     "output_type": "stream",
     "text": [
      "/Users/vivektyagi/miniconda3/envs/envDS/lib/python3.9/site-packages/sklearn/ensemble/_forest.py:414: FutureWarning: `max_features='auto'` has been deprecated in 1.1 and will be removed in 1.3. To keep the past behaviour, explicitly set `max_features=1.0` or remove this parameter as it is also the default value for RandomForestRegressors and ExtraTreesRegressors.\n",
      "  warn(\n",
      "/Users/vivektyagi/miniconda3/envs/envDS/lib/python3.9/site-packages/sklearn/ensemble/_forest.py:414: FutureWarning: `max_features='auto'` has been deprecated in 1.1 and will be removed in 1.3. To keep the past behaviour, explicitly set `max_features=1.0` or remove this parameter as it is also the default value for RandomForestRegressors and ExtraTreesRegressors.\n",
      "  warn(\n",
      "/Users/vivektyagi/miniconda3/envs/envDS/lib/python3.9/site-packages/sklearn/ensemble/_forest.py:414: FutureWarning: `max_features='auto'` has been deprecated in 1.1 and will be removed in 1.3. To keep the past behaviour, explicitly set `max_features=1.0` or remove this parameter as it is also the default value for RandomForestRegressors and ExtraTreesRegressors.\n",
      "  warn(\n",
      "/Users/vivektyagi/miniconda3/envs/envDS/lib/python3.9/site-packages/sklearn/ensemble/_forest.py:414: FutureWarning: `max_features='auto'` has been deprecated in 1.1 and will be removed in 1.3. To keep the past behaviour, explicitly set `max_features=1.0` or remove this parameter as it is also the default value for RandomForestRegressors and ExtraTreesRegressors.\n",
      "  warn(\n"
     ]
    },
    {
     "name": "stdout",
     "output_type": "stream",
     "text": [
      "[CV 2/10] END regressor__max_depth=20, regressor__max_features=auto, regressor__max_samples=0.25, regressor__n_estimators=100;, score=0.919 total time=   1.1s\n",
      "[CV 3/10] END regressor__max_depth=20, regressor__max_features=auto, regressor__max_samples=0.25, regressor__n_estimators=100;, score=0.907 total time=   1.1s\n",
      "[CV 1/10] END regressor__max_depth=20, regressor__max_features=auto, regressor__max_samples=0.25, regressor__n_estimators=100;, score=0.893 total time=   1.2s\n",
      "[CV 4/10] END regressor__max_depth=20, regressor__max_features=auto, regressor__max_samples=0.25, regressor__n_estimators=100;, score=0.899 total time=   1.1s\n"
     ]
    },
    {
     "name": "stderr",
     "output_type": "stream",
     "text": [
      "/Users/vivektyagi/miniconda3/envs/envDS/lib/python3.9/site-packages/sklearn/ensemble/_forest.py:414: FutureWarning: `max_features='auto'` has been deprecated in 1.1 and will be removed in 1.3. To keep the past behaviour, explicitly set `max_features=1.0` or remove this parameter as it is also the default value for RandomForestRegressors and ExtraTreesRegressors.\n",
      "  warn(\n",
      "/Users/vivektyagi/miniconda3/envs/envDS/lib/python3.9/site-packages/sklearn/ensemble/_forest.py:414: FutureWarning: `max_features='auto'` has been deprecated in 1.1 and will be removed in 1.3. To keep the past behaviour, explicitly set `max_features=1.0` or remove this parameter as it is also the default value for RandomForestRegressors and ExtraTreesRegressors.\n",
      "  warn(\n",
      "/Users/vivektyagi/miniconda3/envs/envDS/lib/python3.9/site-packages/sklearn/ensemble/_forest.py:414: FutureWarning: `max_features='auto'` has been deprecated in 1.1 and will be removed in 1.3. To keep the past behaviour, explicitly set `max_features=1.0` or remove this parameter as it is also the default value for RandomForestRegressors and ExtraTreesRegressors.\n",
      "  warn(\n",
      "/Users/vivektyagi/miniconda3/envs/envDS/lib/python3.9/site-packages/sklearn/ensemble/_forest.py:414: FutureWarning: `max_features='auto'` has been deprecated in 1.1 and will be removed in 1.3. To keep the past behaviour, explicitly set `max_features=1.0` or remove this parameter as it is also the default value for RandomForestRegressors and ExtraTreesRegressors.\n",
      "  warn(\n"
     ]
    },
    {
     "name": "stdout",
     "output_type": "stream",
     "text": [
      "[CV 5/10] END regressor__max_depth=20, regressor__max_features=auto, regressor__max_samples=0.25, regressor__n_estimators=100;, score=0.890 total time=   1.0s\n",
      "[CV 6/10] END regressor__max_depth=20, regressor__max_features=auto, regressor__max_samples=0.25, regressor__n_estimators=100;, score=0.871 total time=   1.0s\n",
      "[CV 7/10] END regressor__max_depth=20, regressor__max_features=auto, regressor__max_samples=0.25, regressor__n_estimators=100;, score=0.886 total time=   1.1s\n"
     ]
    },
    {
     "name": "stderr",
     "output_type": "stream",
     "text": [
      "/Users/vivektyagi/miniconda3/envs/envDS/lib/python3.9/site-packages/sklearn/ensemble/_forest.py:414: FutureWarning: `max_features='auto'` has been deprecated in 1.1 and will be removed in 1.3. To keep the past behaviour, explicitly set `max_features=1.0` or remove this parameter as it is also the default value for RandomForestRegressors and ExtraTreesRegressors.\n",
      "  warn(\n",
      "/Users/vivektyagi/miniconda3/envs/envDS/lib/python3.9/site-packages/sklearn/ensemble/_forest.py:414: FutureWarning: `max_features='auto'` has been deprecated in 1.1 and will be removed in 1.3. To keep the past behaviour, explicitly set `max_features=1.0` or remove this parameter as it is also the default value for RandomForestRegressors and ExtraTreesRegressors.\n",
      "  warn(\n",
      "/Users/vivektyagi/miniconda3/envs/envDS/lib/python3.9/site-packages/sklearn/ensemble/_forest.py:414: FutureWarning: `max_features='auto'` has been deprecated in 1.1 and will be removed in 1.3. To keep the past behaviour, explicitly set `max_features=1.0` or remove this parameter as it is also the default value for RandomForestRegressors and ExtraTreesRegressors.\n",
      "  warn(\n"
     ]
    },
    {
     "name": "stdout",
     "output_type": "stream",
     "text": [
      "[CV 8/10] END regressor__max_depth=20, regressor__max_features=auto, regressor__max_samples=0.25, regressor__n_estimators=100;, score=0.884 total time=   1.0s\n"
     ]
    },
    {
     "name": "stderr",
     "output_type": "stream",
     "text": [
      "/Users/vivektyagi/miniconda3/envs/envDS/lib/python3.9/site-packages/sklearn/ensemble/_forest.py:414: FutureWarning: `max_features='auto'` has been deprecated in 1.1 and will be removed in 1.3. To keep the past behaviour, explicitly set `max_features=1.0` or remove this parameter as it is also the default value for RandomForestRegressors and ExtraTreesRegressors.\n",
      "  warn(\n"
     ]
    },
    {
     "name": "stdout",
     "output_type": "stream",
     "text": [
      "[CV 9/10] END regressor__max_depth=20, regressor__max_features=auto, regressor__max_samples=0.25, regressor__n_estimators=100;, score=0.863 total time=   1.1s\n",
      "[CV 10/10] END regressor__max_depth=20, regressor__max_features=auto, regressor__max_samples=0.25, regressor__n_estimators=100;, score=0.874 total time=   1.1s\n"
     ]
    },
    {
     "name": "stderr",
     "output_type": "stream",
     "text": [
      "/Users/vivektyagi/miniconda3/envs/envDS/lib/python3.9/site-packages/sklearn/ensemble/_forest.py:414: FutureWarning: `max_features='auto'` has been deprecated in 1.1 and will be removed in 1.3. To keep the past behaviour, explicitly set `max_features=1.0` or remove this parameter as it is also the default value for RandomForestRegressors and ExtraTreesRegressors.\n",
      "  warn(\n",
      "/Users/vivektyagi/miniconda3/envs/envDS/lib/python3.9/site-packages/sklearn/ensemble/_forest.py:414: FutureWarning: `max_features='auto'` has been deprecated in 1.1 and will be removed in 1.3. To keep the past behaviour, explicitly set `max_features=1.0` or remove this parameter as it is also the default value for RandomForestRegressors and ExtraTreesRegressors.\n",
      "  warn(\n"
     ]
    },
    {
     "name": "stdout",
     "output_type": "stream",
     "text": [
      "[CV 1/10] END regressor__max_depth=20, regressor__max_features=auto, regressor__max_samples=0.25, regressor__n_estimators=200;, score=0.888 total time=   2.1s\n",
      "[CV 2/10] END regressor__max_depth=20, regressor__max_features=auto, regressor__max_samples=0.25, regressor__n_estimators=200;, score=0.919 total time=   2.1s\n",
      "[CV 3/10] END regressor__max_depth=20, regressor__max_features=auto, regressor__max_samples=0.25, regressor__n_estimators=200;, score=0.909 total time=   2.0s\n",
      "[CV 4/10] END regressor__max_depth=20, regressor__max_features=auto, regressor__max_samples=0.25, regressor__n_estimators=200;, score=0.895 total time=   2.0s\n"
     ]
    },
    {
     "name": "stderr",
     "output_type": "stream",
     "text": [
      "/Users/vivektyagi/miniconda3/envs/envDS/lib/python3.9/site-packages/sklearn/ensemble/_forest.py:414: FutureWarning: `max_features='auto'` has been deprecated in 1.1 and will be removed in 1.3. To keep the past behaviour, explicitly set `max_features=1.0` or remove this parameter as it is also the default value for RandomForestRegressors and ExtraTreesRegressors.\n",
      "  warn(\n",
      "/Users/vivektyagi/miniconda3/envs/envDS/lib/python3.9/site-packages/sklearn/ensemble/_forest.py:414: FutureWarning: `max_features='auto'` has been deprecated in 1.1 and will be removed in 1.3. To keep the past behaviour, explicitly set `max_features=1.0` or remove this parameter as it is also the default value for RandomForestRegressors and ExtraTreesRegressors.\n",
      "  warn(\n",
      "/Users/vivektyagi/miniconda3/envs/envDS/lib/python3.9/site-packages/sklearn/ensemble/_forest.py:414: FutureWarning: `max_features='auto'` has been deprecated in 1.1 and will be removed in 1.3. To keep the past behaviour, explicitly set `max_features=1.0` or remove this parameter as it is also the default value for RandomForestRegressors and ExtraTreesRegressors.\n",
      "  warn(\n",
      "/Users/vivektyagi/miniconda3/envs/envDS/lib/python3.9/site-packages/sklearn/ensemble/_forest.py:414: FutureWarning: `max_features='auto'` has been deprecated in 1.1 and will be removed in 1.3. To keep the past behaviour, explicitly set `max_features=1.0` or remove this parameter as it is also the default value for RandomForestRegressors and ExtraTreesRegressors.\n",
      "  warn(\n"
     ]
    },
    {
     "name": "stdout",
     "output_type": "stream",
     "text": [
      "[CV 5/10] END regressor__max_depth=20, regressor__max_features=auto, regressor__max_samples=0.25, regressor__n_estimators=200;, score=0.887 total time=   2.1s\n",
      "[CV 6/10] END regressor__max_depth=20, regressor__max_features=auto, regressor__max_samples=0.25, regressor__n_estimators=200;, score=0.871 total time=   2.0s\n"
     ]
    },
    {
     "name": "stderr",
     "output_type": "stream",
     "text": [
      "/Users/vivektyagi/miniconda3/envs/envDS/lib/python3.9/site-packages/sklearn/ensemble/_forest.py:414: FutureWarning: `max_features='auto'` has been deprecated in 1.1 and will be removed in 1.3. To keep the past behaviour, explicitly set `max_features=1.0` or remove this parameter as it is also the default value for RandomForestRegressors and ExtraTreesRegressors.\n",
      "  warn(\n",
      "/Users/vivektyagi/miniconda3/envs/envDS/lib/python3.9/site-packages/sklearn/ensemble/_forest.py:414: FutureWarning: `max_features='auto'` has been deprecated in 1.1 and will be removed in 1.3. To keep the past behaviour, explicitly set `max_features=1.0` or remove this parameter as it is also the default value for RandomForestRegressors and ExtraTreesRegressors.\n",
      "  warn(\n"
     ]
    },
    {
     "name": "stdout",
     "output_type": "stream",
     "text": [
      "[CV 7/10] END regressor__max_depth=20, regressor__max_features=auto, regressor__max_samples=0.25, regressor__n_estimators=200;, score=0.885 total time=   1.9s\n",
      "[CV 8/10] END regressor__max_depth=20, regressor__max_features=auto, regressor__max_samples=0.25, regressor__n_estimators=200;, score=0.884 total time=   2.0s\n"
     ]
    },
    {
     "name": "stderr",
     "output_type": "stream",
     "text": [
      "/Users/vivektyagi/miniconda3/envs/envDS/lib/python3.9/site-packages/sklearn/ensemble/_forest.py:414: FutureWarning: `max_features='auto'` has been deprecated in 1.1 and will be removed in 1.3. To keep the past behaviour, explicitly set `max_features=1.0` or remove this parameter as it is also the default value for RandomForestRegressors and ExtraTreesRegressors.\n",
      "  warn(\n",
      "/Users/vivektyagi/miniconda3/envs/envDS/lib/python3.9/site-packages/sklearn/ensemble/_forest.py:414: FutureWarning: `max_features='auto'` has been deprecated in 1.1 and will be removed in 1.3. To keep the past behaviour, explicitly set `max_features=1.0` or remove this parameter as it is also the default value for RandomForestRegressors and ExtraTreesRegressors.\n",
      "  warn(\n"
     ]
    },
    {
     "name": "stdout",
     "output_type": "stream",
     "text": [
      "[CV 10/10] END regressor__max_depth=20, regressor__max_features=auto, regressor__max_samples=0.25, regressor__n_estimators=200;, score=0.873 total time=   1.9s\n",
      "[CV 9/10] END regressor__max_depth=20, regressor__max_features=auto, regressor__max_samples=0.25, regressor__n_estimators=200;, score=0.859 total time=   1.9s\n"
     ]
    },
    {
     "name": "stderr",
     "output_type": "stream",
     "text": [
      "/Users/vivektyagi/miniconda3/envs/envDS/lib/python3.9/site-packages/sklearn/ensemble/_forest.py:414: FutureWarning: `max_features='auto'` has been deprecated in 1.1 and will be removed in 1.3. To keep the past behaviour, explicitly set `max_features=1.0` or remove this parameter as it is also the default value for RandomForestRegressors and ExtraTreesRegressors.\n",
      "  warn(\n",
      "/Users/vivektyagi/miniconda3/envs/envDS/lib/python3.9/site-packages/sklearn/ensemble/_forest.py:414: FutureWarning: `max_features='auto'` has been deprecated in 1.1 and will be removed in 1.3. To keep the past behaviour, explicitly set `max_features=1.0` or remove this parameter as it is also the default value for RandomForestRegressors and ExtraTreesRegressors.\n",
      "  warn(\n"
     ]
    },
    {
     "name": "stdout",
     "output_type": "stream",
     "text": [
      "[CV 1/10] END regressor__max_depth=20, regressor__max_features=auto, regressor__max_samples=0.25, regressor__n_estimators=300;, score=0.889 total time=   2.7s\n",
      "[CV 2/10] END regressor__max_depth=20, regressor__max_features=auto, regressor__max_samples=0.25, regressor__n_estimators=300;, score=0.918 total time=   2.7s\n",
      "[CV 4/10] END regressor__max_depth=20, regressor__max_features=auto, regressor__max_samples=0.25, regressor__n_estimators=300;, score=0.897 total time=   2.6s\n"
     ]
    },
    {
     "name": "stderr",
     "output_type": "stream",
     "text": [
      "/Users/vivektyagi/miniconda3/envs/envDS/lib/python3.9/site-packages/sklearn/ensemble/_forest.py:414: FutureWarning: `max_features='auto'` has been deprecated in 1.1 and will be removed in 1.3. To keep the past behaviour, explicitly set `max_features=1.0` or remove this parameter as it is also the default value for RandomForestRegressors and ExtraTreesRegressors.\n",
      "  warn(\n",
      "/Users/vivektyagi/miniconda3/envs/envDS/lib/python3.9/site-packages/sklearn/ensemble/_forest.py:414: FutureWarning: `max_features='auto'` has been deprecated in 1.1 and will be removed in 1.3. To keep the past behaviour, explicitly set `max_features=1.0` or remove this parameter as it is also the default value for RandomForestRegressors and ExtraTreesRegressors.\n",
      "  warn(\n",
      "/Users/vivektyagi/miniconda3/envs/envDS/lib/python3.9/site-packages/sklearn/ensemble/_forest.py:414: FutureWarning: `max_features='auto'` has been deprecated in 1.1 and will be removed in 1.3. To keep the past behaviour, explicitly set `max_features=1.0` or remove this parameter as it is also the default value for RandomForestRegressors and ExtraTreesRegressors.\n",
      "  warn(\n"
     ]
    },
    {
     "name": "stdout",
     "output_type": "stream",
     "text": [
      "[CV 3/10] END regressor__max_depth=20, regressor__max_features=auto, regressor__max_samples=0.25, regressor__n_estimators=300;, score=0.910 total time=   2.8s\n"
     ]
    },
    {
     "name": "stderr",
     "output_type": "stream",
     "text": [
      "/Users/vivektyagi/miniconda3/envs/envDS/lib/python3.9/site-packages/sklearn/ensemble/_forest.py:414: FutureWarning: `max_features='auto'` has been deprecated in 1.1 and will be removed in 1.3. To keep the past behaviour, explicitly set `max_features=1.0` or remove this parameter as it is also the default value for RandomForestRegressors and ExtraTreesRegressors.\n",
      "  warn(\n"
     ]
    },
    {
     "name": "stdout",
     "output_type": "stream",
     "text": [
      "[CV 5/10] END regressor__max_depth=20, regressor__max_features=auto, regressor__max_samples=0.25, regressor__n_estimators=300;, score=0.890 total time=   2.7s\n",
      "[CV 6/10] END regressor__max_depth=20, regressor__max_features=auto, regressor__max_samples=0.25, regressor__n_estimators=300;, score=0.874 total time=   2.7s\n"
     ]
    },
    {
     "name": "stderr",
     "output_type": "stream",
     "text": [
      "/Users/vivektyagi/miniconda3/envs/envDS/lib/python3.9/site-packages/sklearn/ensemble/_forest.py:414: FutureWarning: `max_features='auto'` has been deprecated in 1.1 and will be removed in 1.3. To keep the past behaviour, explicitly set `max_features=1.0` or remove this parameter as it is also the default value for RandomForestRegressors and ExtraTreesRegressors.\n",
      "  warn(\n",
      "/Users/vivektyagi/miniconda3/envs/envDS/lib/python3.9/site-packages/sklearn/ensemble/_forest.py:414: FutureWarning: `max_features='auto'` has been deprecated in 1.1 and will be removed in 1.3. To keep the past behaviour, explicitly set `max_features=1.0` or remove this parameter as it is also the default value for RandomForestRegressors and ExtraTreesRegressors.\n",
      "  warn(\n"
     ]
    },
    {
     "name": "stdout",
     "output_type": "stream",
     "text": [
      "[CV 1/10] END regressor__max_depth=20, regressor__max_features=auto, regressor__max_samples=0.5, regressor__n_estimators=50;, score=0.898 total time=   0.9s\n",
      "[CV 2/10] END regressor__max_depth=20, regressor__max_features=auto, regressor__max_samples=0.5, regressor__n_estimators=50;, score=0.925 total time=   0.9s\n"
     ]
    },
    {
     "name": "stderr",
     "output_type": "stream",
     "text": [
      "/Users/vivektyagi/miniconda3/envs/envDS/lib/python3.9/site-packages/sklearn/ensemble/_forest.py:414: FutureWarning: `max_features='auto'` has been deprecated in 1.1 and will be removed in 1.3. To keep the past behaviour, explicitly set `max_features=1.0` or remove this parameter as it is also the default value for RandomForestRegressors and ExtraTreesRegressors.\n",
      "  warn(\n",
      "/Users/vivektyagi/miniconda3/envs/envDS/lib/python3.9/site-packages/sklearn/ensemble/_forest.py:414: FutureWarning: `max_features='auto'` has been deprecated in 1.1 and will be removed in 1.3. To keep the past behaviour, explicitly set `max_features=1.0` or remove this parameter as it is also the default value for RandomForestRegressors and ExtraTreesRegressors.\n",
      "  warn(\n"
     ]
    },
    {
     "name": "stdout",
     "output_type": "stream",
     "text": [
      "[CV 3/10] END regressor__max_depth=20, regressor__max_features=auto, regressor__max_samples=0.5, regressor__n_estimators=50;, score=0.919 total time=   0.9s\n",
      "[CV 4/10] END regressor__max_depth=20, regressor__max_features=auto, regressor__max_samples=0.5, regressor__n_estimators=50;, score=0.900 total time=   0.9s\n"
     ]
    },
    {
     "name": "stderr",
     "output_type": "stream",
     "text": [
      "/Users/vivektyagi/miniconda3/envs/envDS/lib/python3.9/site-packages/sklearn/ensemble/_forest.py:414: FutureWarning: `max_features='auto'` has been deprecated in 1.1 and will be removed in 1.3. To keep the past behaviour, explicitly set `max_features=1.0` or remove this parameter as it is also the default value for RandomForestRegressors and ExtraTreesRegressors.\n",
      "  warn(\n",
      "/Users/vivektyagi/miniconda3/envs/envDS/lib/python3.9/site-packages/sklearn/ensemble/_forest.py:414: FutureWarning: `max_features='auto'` has been deprecated in 1.1 and will be removed in 1.3. To keep the past behaviour, explicitly set `max_features=1.0` or remove this parameter as it is also the default value for RandomForestRegressors and ExtraTreesRegressors.\n",
      "  warn(\n"
     ]
    },
    {
     "name": "stdout",
     "output_type": "stream",
     "text": [
      "[CV 7/10] END regressor__max_depth=20, regressor__max_features=auto, regressor__max_samples=0.25, regressor__n_estimators=300;, score=0.887 total time=   2.8s\n",
      "[CV 8/10] END regressor__max_depth=20, regressor__max_features=auto, regressor__max_samples=0.25, regressor__n_estimators=300;, score=0.884 total time=   2.8s\n",
      "[CV 5/10] END regressor__max_depth=20, regressor__max_features=auto, regressor__max_samples=0.5, regressor__n_estimators=50;, score=0.897 total time=   0.7s\n",
      "[CV 6/10] END regressor__max_depth=20, regressor__max_features=auto, regressor__max_samples=0.5, regressor__n_estimators=50;, score=0.874 total time=   0.8s\n"
     ]
    },
    {
     "name": "stderr",
     "output_type": "stream",
     "text": [
      "/Users/vivektyagi/miniconda3/envs/envDS/lib/python3.9/site-packages/sklearn/ensemble/_forest.py:414: FutureWarning: `max_features='auto'` has been deprecated in 1.1 and will be removed in 1.3. To keep the past behaviour, explicitly set `max_features=1.0` or remove this parameter as it is also the default value for RandomForestRegressors and ExtraTreesRegressors.\n",
      "  warn(\n",
      "/Users/vivektyagi/miniconda3/envs/envDS/lib/python3.9/site-packages/sklearn/ensemble/_forest.py:414: FutureWarning: `max_features='auto'` has been deprecated in 1.1 and will be removed in 1.3. To keep the past behaviour, explicitly set `max_features=1.0` or remove this parameter as it is also the default value for RandomForestRegressors and ExtraTreesRegressors.\n",
      "  warn(\n",
      "/Users/vivektyagi/miniconda3/envs/envDS/lib/python3.9/site-packages/sklearn/ensemble/_forest.py:414: FutureWarning: `max_features='auto'` has been deprecated in 1.1 and will be removed in 1.3. To keep the past behaviour, explicitly set `max_features=1.0` or remove this parameter as it is also the default value for RandomForestRegressors and ExtraTreesRegressors.\n",
      "  warn(\n",
      "/Users/vivektyagi/miniconda3/envs/envDS/lib/python3.9/site-packages/sklearn/ensemble/_forest.py:414: FutureWarning: `max_features='auto'` has been deprecated in 1.1 and will be removed in 1.3. To keep the past behaviour, explicitly set `max_features=1.0` or remove this parameter as it is also the default value for RandomForestRegressors and ExtraTreesRegressors.\n",
      "  warn(\n"
     ]
    },
    {
     "name": "stdout",
     "output_type": "stream",
     "text": [
      "[CV 7/10] END regressor__max_depth=20, regressor__max_features=auto, regressor__max_samples=0.5, regressor__n_estimators=50;, score=0.883 total time=   0.8s\n",
      "[CV 8/10] END regressor__max_depth=20, regressor__max_features=auto, regressor__max_samples=0.5, regressor__n_estimators=50;, score=0.886 total time=   0.8s\n"
     ]
    },
    {
     "name": "stderr",
     "output_type": "stream",
     "text": [
      "/Users/vivektyagi/miniconda3/envs/envDS/lib/python3.9/site-packages/sklearn/ensemble/_forest.py:414: FutureWarning: `max_features='auto'` has been deprecated in 1.1 and will be removed in 1.3. To keep the past behaviour, explicitly set `max_features=1.0` or remove this parameter as it is also the default value for RandomForestRegressors and ExtraTreesRegressors.\n",
      "  warn(\n",
      "/Users/vivektyagi/miniconda3/envs/envDS/lib/python3.9/site-packages/sklearn/ensemble/_forest.py:414: FutureWarning: `max_features='auto'` has been deprecated in 1.1 and will be removed in 1.3. To keep the past behaviour, explicitly set `max_features=1.0` or remove this parameter as it is also the default value for RandomForestRegressors and ExtraTreesRegressors.\n",
      "  warn(\n"
     ]
    },
    {
     "name": "stdout",
     "output_type": "stream",
     "text": [
      "[CV 9/10] END regressor__max_depth=20, regressor__max_features=auto, regressor__max_samples=0.5, regressor__n_estimators=50;, score=0.864 total time=   0.9s\n",
      "[CV 10/10] END regressor__max_depth=20, regressor__max_features=auto, regressor__max_samples=0.5, regressor__n_estimators=50;, score=0.881 total time=   0.9s\n"
     ]
    },
    {
     "name": "stderr",
     "output_type": "stream",
     "text": [
      "/Users/vivektyagi/miniconda3/envs/envDS/lib/python3.9/site-packages/sklearn/ensemble/_forest.py:414: FutureWarning: `max_features='auto'` has been deprecated in 1.1 and will be removed in 1.3. To keep the past behaviour, explicitly set `max_features=1.0` or remove this parameter as it is also the default value for RandomForestRegressors and ExtraTreesRegressors.\n",
      "  warn(\n",
      "/Users/vivektyagi/miniconda3/envs/envDS/lib/python3.9/site-packages/sklearn/ensemble/_forest.py:414: FutureWarning: `max_features='auto'` has been deprecated in 1.1 and will be removed in 1.3. To keep the past behaviour, explicitly set `max_features=1.0` or remove this parameter as it is also the default value for RandomForestRegressors and ExtraTreesRegressors.\n",
      "  warn(\n"
     ]
    },
    {
     "name": "stdout",
     "output_type": "stream",
     "text": [
      "[CV 9/10] END regressor__max_depth=20, regressor__max_features=auto, regressor__max_samples=0.25, regressor__n_estimators=300;, score=0.859 total time=   3.1s\n",
      "[CV 10/10] END regressor__max_depth=20, regressor__max_features=auto, regressor__max_samples=0.25, regressor__n_estimators=300;, score=0.873 total time=   3.1s\n"
     ]
    },
    {
     "name": "stderr",
     "output_type": "stream",
     "text": [
      "/Users/vivektyagi/miniconda3/envs/envDS/lib/python3.9/site-packages/sklearn/ensemble/_forest.py:414: FutureWarning: `max_features='auto'` has been deprecated in 1.1 and will be removed in 1.3. To keep the past behaviour, explicitly set `max_features=1.0` or remove this parameter as it is also the default value for RandomForestRegressors and ExtraTreesRegressors.\n",
      "  warn(\n",
      "/Users/vivektyagi/miniconda3/envs/envDS/lib/python3.9/site-packages/sklearn/ensemble/_forest.py:414: FutureWarning: `max_features='auto'` has been deprecated in 1.1 and will be removed in 1.3. To keep the past behaviour, explicitly set `max_features=1.0` or remove this parameter as it is also the default value for RandomForestRegressors and ExtraTreesRegressors.\n",
      "  warn(\n"
     ]
    },
    {
     "name": "stdout",
     "output_type": "stream",
     "text": [
      "[CV 1/10] END regressor__max_depth=20, regressor__max_features=auto, regressor__max_samples=0.5, regressor__n_estimators=100;, score=0.897 total time=   1.6s\n",
      "[CV 2/10] END regressor__max_depth=20, regressor__max_features=auto, regressor__max_samples=0.5, regressor__n_estimators=100;, score=0.923 total time=   1.6s\n"
     ]
    },
    {
     "name": "stderr",
     "output_type": "stream",
     "text": [
      "/Users/vivektyagi/miniconda3/envs/envDS/lib/python3.9/site-packages/sklearn/ensemble/_forest.py:414: FutureWarning: `max_features='auto'` has been deprecated in 1.1 and will be removed in 1.3. To keep the past behaviour, explicitly set `max_features=1.0` or remove this parameter as it is also the default value for RandomForestRegressors and ExtraTreesRegressors.\n",
      "  warn(\n",
      "/Users/vivektyagi/miniconda3/envs/envDS/lib/python3.9/site-packages/sklearn/ensemble/_forest.py:414: FutureWarning: `max_features='auto'` has been deprecated in 1.1 and will be removed in 1.3. To keep the past behaviour, explicitly set `max_features=1.0` or remove this parameter as it is also the default value for RandomForestRegressors and ExtraTreesRegressors.\n",
      "  warn(\n"
     ]
    },
    {
     "name": "stdout",
     "output_type": "stream",
     "text": [
      "[CV 3/10] END regressor__max_depth=20, regressor__max_features=auto, regressor__max_samples=0.5, regressor__n_estimators=100;, score=0.919 total time=   1.6s\n",
      "[CV 4/10] END regressor__max_depth=20, regressor__max_features=auto, regressor__max_samples=0.5, regressor__n_estimators=100;, score=0.901 total time=   1.6s\n"
     ]
    },
    {
     "name": "stderr",
     "output_type": "stream",
     "text": [
      "/Users/vivektyagi/miniconda3/envs/envDS/lib/python3.9/site-packages/sklearn/ensemble/_forest.py:414: FutureWarning: `max_features='auto'` has been deprecated in 1.1 and will be removed in 1.3. To keep the past behaviour, explicitly set `max_features=1.0` or remove this parameter as it is also the default value for RandomForestRegressors and ExtraTreesRegressors.\n",
      "  warn(\n",
      "/Users/vivektyagi/miniconda3/envs/envDS/lib/python3.9/site-packages/sklearn/ensemble/_forest.py:414: FutureWarning: `max_features='auto'` has been deprecated in 1.1 and will be removed in 1.3. To keep the past behaviour, explicitly set `max_features=1.0` or remove this parameter as it is also the default value for RandomForestRegressors and ExtraTreesRegressors.\n",
      "  warn(\n"
     ]
    },
    {
     "name": "stdout",
     "output_type": "stream",
     "text": [
      "[CV 5/10] END regressor__max_depth=20, regressor__max_features=auto, regressor__max_samples=0.5, regressor__n_estimators=100;, score=0.897 total time=   1.7s\n",
      "[CV 6/10] END regressor__max_depth=20, regressor__max_features=auto, regressor__max_samples=0.5, regressor__n_estimators=100;, score=0.880 total time=   1.7s\n"
     ]
    },
    {
     "name": "stderr",
     "output_type": "stream",
     "text": [
      "/Users/vivektyagi/miniconda3/envs/envDS/lib/python3.9/site-packages/sklearn/ensemble/_forest.py:414: FutureWarning: `max_features='auto'` has been deprecated in 1.1 and will be removed in 1.3. To keep the past behaviour, explicitly set `max_features=1.0` or remove this parameter as it is also the default value for RandomForestRegressors and ExtraTreesRegressors.\n",
      "  warn(\n",
      "/Users/vivektyagi/miniconda3/envs/envDS/lib/python3.9/site-packages/sklearn/ensemble/_forest.py:414: FutureWarning: `max_features='auto'` has been deprecated in 1.1 and will be removed in 1.3. To keep the past behaviour, explicitly set `max_features=1.0` or remove this parameter as it is also the default value for RandomForestRegressors and ExtraTreesRegressors.\n",
      "  warn(\n"
     ]
    },
    {
     "name": "stdout",
     "output_type": "stream",
     "text": [
      "[CV 7/10] END regressor__max_depth=20, regressor__max_features=auto, regressor__max_samples=0.5, regressor__n_estimators=100;, score=0.887 total time=   1.6s\n",
      "[CV 8/10] END regressor__max_depth=20, regressor__max_features=auto, regressor__max_samples=0.5, regressor__n_estimators=100;, score=0.888 total time=   1.6s\n"
     ]
    },
    {
     "name": "stderr",
     "output_type": "stream",
     "text": [
      "/Users/vivektyagi/miniconda3/envs/envDS/lib/python3.9/site-packages/sklearn/ensemble/_forest.py:414: FutureWarning: `max_features='auto'` has been deprecated in 1.1 and will be removed in 1.3. To keep the past behaviour, explicitly set `max_features=1.0` or remove this parameter as it is also the default value for RandomForestRegressors and ExtraTreesRegressors.\n",
      "  warn(\n",
      "/Users/vivektyagi/miniconda3/envs/envDS/lib/python3.9/site-packages/sklearn/ensemble/_forest.py:414: FutureWarning: `max_features='auto'` has been deprecated in 1.1 and will be removed in 1.3. To keep the past behaviour, explicitly set `max_features=1.0` or remove this parameter as it is also the default value for RandomForestRegressors and ExtraTreesRegressors.\n",
      "  warn(\n"
     ]
    },
    {
     "name": "stdout",
     "output_type": "stream",
     "text": [
      "[CV 9/10] END regressor__max_depth=20, regressor__max_features=auto, regressor__max_samples=0.5, regressor__n_estimators=100;, score=0.862 total time=   1.7s\n",
      "[CV 10/10] END regressor__max_depth=20, regressor__max_features=auto, regressor__max_samples=0.5, regressor__n_estimators=100;, score=0.878 total time=   1.7s\n"
     ]
    },
    {
     "name": "stderr",
     "output_type": "stream",
     "text": [
      "/Users/vivektyagi/miniconda3/envs/envDS/lib/python3.9/site-packages/sklearn/ensemble/_forest.py:414: FutureWarning: `max_features='auto'` has been deprecated in 1.1 and will be removed in 1.3. To keep the past behaviour, explicitly set `max_features=1.0` or remove this parameter as it is also the default value for RandomForestRegressors and ExtraTreesRegressors.\n",
      "  warn(\n",
      "/Users/vivektyagi/miniconda3/envs/envDS/lib/python3.9/site-packages/sklearn/ensemble/_forest.py:414: FutureWarning: `max_features='auto'` has been deprecated in 1.1 and will be removed in 1.3. To keep the past behaviour, explicitly set `max_features=1.0` or remove this parameter as it is also the default value for RandomForestRegressors and ExtraTreesRegressors.\n",
      "  warn(\n"
     ]
    },
    {
     "name": "stdout",
     "output_type": "stream",
     "text": [
      "[CV 1/10] END regressor__max_depth=20, regressor__max_features=auto, regressor__max_samples=0.5, regressor__n_estimators=200;, score=0.897 total time=   2.9s\n",
      "[CV 2/10] END regressor__max_depth=20, regressor__max_features=auto, regressor__max_samples=0.5, regressor__n_estimators=200;, score=0.926 total time=   2.9s\n"
     ]
    },
    {
     "name": "stderr",
     "output_type": "stream",
     "text": [
      "/Users/vivektyagi/miniconda3/envs/envDS/lib/python3.9/site-packages/sklearn/ensemble/_forest.py:414: FutureWarning: `max_features='auto'` has been deprecated in 1.1 and will be removed in 1.3. To keep the past behaviour, explicitly set `max_features=1.0` or remove this parameter as it is also the default value for RandomForestRegressors and ExtraTreesRegressors.\n",
      "  warn(\n",
      "/Users/vivektyagi/miniconda3/envs/envDS/lib/python3.9/site-packages/sklearn/ensemble/_forest.py:414: FutureWarning: `max_features='auto'` has been deprecated in 1.1 and will be removed in 1.3. To keep the past behaviour, explicitly set `max_features=1.0` or remove this parameter as it is also the default value for RandomForestRegressors and ExtraTreesRegressors.\n",
      "  warn(\n"
     ]
    },
    {
     "name": "stdout",
     "output_type": "stream",
     "text": [
      "[CV 3/10] END regressor__max_depth=20, regressor__max_features=auto, regressor__max_samples=0.5, regressor__n_estimators=200;, score=0.919 total time=   2.9s\n",
      "[CV 4/10] END regressor__max_depth=20, regressor__max_features=auto, regressor__max_samples=0.5, regressor__n_estimators=200;, score=0.901 total time=   2.9s\n"
     ]
    },
    {
     "name": "stderr",
     "output_type": "stream",
     "text": [
      "/Users/vivektyagi/miniconda3/envs/envDS/lib/python3.9/site-packages/sklearn/ensemble/_forest.py:414: FutureWarning: `max_features='auto'` has been deprecated in 1.1 and will be removed in 1.3. To keep the past behaviour, explicitly set `max_features=1.0` or remove this parameter as it is also the default value for RandomForestRegressors and ExtraTreesRegressors.\n",
      "  warn(\n",
      "/Users/vivektyagi/miniconda3/envs/envDS/lib/python3.9/site-packages/sklearn/ensemble/_forest.py:414: FutureWarning: `max_features='auto'` has been deprecated in 1.1 and will be removed in 1.3. To keep the past behaviour, explicitly set `max_features=1.0` or remove this parameter as it is also the default value for RandomForestRegressors and ExtraTreesRegressors.\n",
      "  warn(\n"
     ]
    },
    {
     "name": "stdout",
     "output_type": "stream",
     "text": [
      "[CV 5/10] END regressor__max_depth=20, regressor__max_features=auto, regressor__max_samples=0.5, regressor__n_estimators=200;, score=0.897 total time=   3.1s\n",
      "[CV 6/10] END regressor__max_depth=20, regressor__max_features=auto, regressor__max_samples=0.5, regressor__n_estimators=200;, score=0.876 total time=   3.0s\n"
     ]
    },
    {
     "name": "stderr",
     "output_type": "stream",
     "text": [
      "/Users/vivektyagi/miniconda3/envs/envDS/lib/python3.9/site-packages/sklearn/ensemble/_forest.py:414: FutureWarning: `max_features='auto'` has been deprecated in 1.1 and will be removed in 1.3. To keep the past behaviour, explicitly set `max_features=1.0` or remove this parameter as it is also the default value for RandomForestRegressors and ExtraTreesRegressors.\n",
      "  warn(\n",
      "/Users/vivektyagi/miniconda3/envs/envDS/lib/python3.9/site-packages/sklearn/ensemble/_forest.py:414: FutureWarning: `max_features='auto'` has been deprecated in 1.1 and will be removed in 1.3. To keep the past behaviour, explicitly set `max_features=1.0` or remove this parameter as it is also the default value for RandomForestRegressors and ExtraTreesRegressors.\n",
      "  warn(\n"
     ]
    },
    {
     "name": "stdout",
     "output_type": "stream",
     "text": [
      "[CV 7/10] END regressor__max_depth=20, regressor__max_features=auto, regressor__max_samples=0.5, regressor__n_estimators=200;, score=0.891 total time=   3.0s\n",
      "[CV 8/10] END regressor__max_depth=20, regressor__max_features=auto, regressor__max_samples=0.5, regressor__n_estimators=200;, score=0.885 total time=   3.0s\n"
     ]
    },
    {
     "name": "stderr",
     "output_type": "stream",
     "text": [
      "/Users/vivektyagi/miniconda3/envs/envDS/lib/python3.9/site-packages/sklearn/ensemble/_forest.py:414: FutureWarning: `max_features='auto'` has been deprecated in 1.1 and will be removed in 1.3. To keep the past behaviour, explicitly set `max_features=1.0` or remove this parameter as it is also the default value for RandomForestRegressors and ExtraTreesRegressors.\n",
      "  warn(\n",
      "/Users/vivektyagi/miniconda3/envs/envDS/lib/python3.9/site-packages/sklearn/ensemble/_forest.py:414: FutureWarning: `max_features='auto'` has been deprecated in 1.1 and will be removed in 1.3. To keep the past behaviour, explicitly set `max_features=1.0` or remove this parameter as it is also the default value for RandomForestRegressors and ExtraTreesRegressors.\n",
      "  warn(\n"
     ]
    },
    {
     "name": "stdout",
     "output_type": "stream",
     "text": [
      "[CV 9/10] END regressor__max_depth=20, regressor__max_features=auto, regressor__max_samples=0.5, regressor__n_estimators=200;, score=0.863 total time=   2.9s\n",
      "[CV 10/10] END regressor__max_depth=20, regressor__max_features=auto, regressor__max_samples=0.5, regressor__n_estimators=200;, score=0.880 total time=   3.0s\n"
     ]
    },
    {
     "name": "stderr",
     "output_type": "stream",
     "text": [
      "/Users/vivektyagi/miniconda3/envs/envDS/lib/python3.9/site-packages/sklearn/ensemble/_forest.py:414: FutureWarning: `max_features='auto'` has been deprecated in 1.1 and will be removed in 1.3. To keep the past behaviour, explicitly set `max_features=1.0` or remove this parameter as it is also the default value for RandomForestRegressors and ExtraTreesRegressors.\n",
      "  warn(\n",
      "/Users/vivektyagi/miniconda3/envs/envDS/lib/python3.9/site-packages/sklearn/ensemble/_forest.py:414: FutureWarning: `max_features='auto'` has been deprecated in 1.1 and will be removed in 1.3. To keep the past behaviour, explicitly set `max_features=1.0` or remove this parameter as it is also the default value for RandomForestRegressors and ExtraTreesRegressors.\n",
      "  warn(\n"
     ]
    },
    {
     "name": "stdout",
     "output_type": "stream",
     "text": [
      "[CV 1/10] END regressor__max_depth=20, regressor__max_features=auto, regressor__max_samples=0.5, regressor__n_estimators=300;, score=0.895 total time=   4.2s\n",
      "[CV 2/10] END regressor__max_depth=20, regressor__max_features=auto, regressor__max_samples=0.5, regressor__n_estimators=300;, score=0.926 total time=   4.2s\n",
      "[CV 3/10] END regressor__max_depth=20, regressor__max_features=auto, regressor__max_samples=0.5, regressor__n_estimators=300;, score=0.918 total time=   3.9s\n"
     ]
    },
    {
     "name": "stderr",
     "output_type": "stream",
     "text": [
      "/Users/vivektyagi/miniconda3/envs/envDS/lib/python3.9/site-packages/sklearn/ensemble/_forest.py:414: FutureWarning: `max_features='auto'` has been deprecated in 1.1 and will be removed in 1.3. To keep the past behaviour, explicitly set `max_features=1.0` or remove this parameter as it is also the default value for RandomForestRegressors and ExtraTreesRegressors.\n",
      "  warn(\n",
      "/Users/vivektyagi/miniconda3/envs/envDS/lib/python3.9/site-packages/sklearn/ensemble/_forest.py:414: FutureWarning: `max_features='auto'` has been deprecated in 1.1 and will be removed in 1.3. To keep the past behaviour, explicitly set `max_features=1.0` or remove this parameter as it is also the default value for RandomForestRegressors and ExtraTreesRegressors.\n",
      "  warn(\n",
      "/Users/vivektyagi/miniconda3/envs/envDS/lib/python3.9/site-packages/sklearn/ensemble/_forest.py:414: FutureWarning: `max_features='auto'` has been deprecated in 1.1 and will be removed in 1.3. To keep the past behaviour, explicitly set `max_features=1.0` or remove this parameter as it is also the default value for RandomForestRegressors and ExtraTreesRegressors.\n",
      "  warn(\n"
     ]
    },
    {
     "name": "stdout",
     "output_type": "stream",
     "text": [
      "[CV 4/10] END regressor__max_depth=20, regressor__max_features=auto, regressor__max_samples=0.5, regressor__n_estimators=300;, score=0.901 total time=   4.1s\n"
     ]
    },
    {
     "name": "stderr",
     "output_type": "stream",
     "text": [
      "/Users/vivektyagi/miniconda3/envs/envDS/lib/python3.9/site-packages/sklearn/ensemble/_forest.py:414: FutureWarning: `max_features='auto'` has been deprecated in 1.1 and will be removed in 1.3. To keep the past behaviour, explicitly set `max_features=1.0` or remove this parameter as it is also the default value for RandomForestRegressors and ExtraTreesRegressors.\n",
      "  warn(\n"
     ]
    },
    {
     "name": "stdout",
     "output_type": "stream",
     "text": [
      "[CV 5/10] END regressor__max_depth=20, regressor__max_features=auto, regressor__max_samples=0.5, regressor__n_estimators=300;, score=0.899 total time=   4.2s\n",
      "[CV 6/10] END regressor__max_depth=20, regressor__max_features=auto, regressor__max_samples=0.5, regressor__n_estimators=300;, score=0.879 total time=   4.2s\n"
     ]
    },
    {
     "name": "stderr",
     "output_type": "stream",
     "text": [
      "/Users/vivektyagi/miniconda3/envs/envDS/lib/python3.9/site-packages/sklearn/ensemble/_forest.py:414: FutureWarning: `max_features='auto'` has been deprecated in 1.1 and will be removed in 1.3. To keep the past behaviour, explicitly set `max_features=1.0` or remove this parameter as it is also the default value for RandomForestRegressors and ExtraTreesRegressors.\n",
      "  warn(\n",
      "/Users/vivektyagi/miniconda3/envs/envDS/lib/python3.9/site-packages/sklearn/ensemble/_forest.py:414: FutureWarning: `max_features='auto'` has been deprecated in 1.1 and will be removed in 1.3. To keep the past behaviour, explicitly set `max_features=1.0` or remove this parameter as it is also the default value for RandomForestRegressors and ExtraTreesRegressors.\n",
      "  warn(\n"
     ]
    },
    {
     "name": "stdout",
     "output_type": "stream",
     "text": [
      "[CV 1/10] END regressor__max_depth=20, regressor__max_features=auto, regressor__max_samples=1.0, regressor__n_estimators=50;, score=0.893 total time=   1.3s\n",
      "[CV 2/10] END regressor__max_depth=20, regressor__max_features=auto, regressor__max_samples=1.0, regressor__n_estimators=50;, score=0.926 total time=   1.2s\n"
     ]
    },
    {
     "name": "stderr",
     "output_type": "stream",
     "text": [
      "/Users/vivektyagi/miniconda3/envs/envDS/lib/python3.9/site-packages/sklearn/ensemble/_forest.py:414: FutureWarning: `max_features='auto'` has been deprecated in 1.1 and will be removed in 1.3. To keep the past behaviour, explicitly set `max_features=1.0` or remove this parameter as it is also the default value for RandomForestRegressors and ExtraTreesRegressors.\n",
      "  warn(\n",
      "/Users/vivektyagi/miniconda3/envs/envDS/lib/python3.9/site-packages/sklearn/ensemble/_forest.py:414: FutureWarning: `max_features='auto'` has been deprecated in 1.1 and will be removed in 1.3. To keep the past behaviour, explicitly set `max_features=1.0` or remove this parameter as it is also the default value for RandomForestRegressors and ExtraTreesRegressors.\n",
      "  warn(\n"
     ]
    },
    {
     "name": "stdout",
     "output_type": "stream",
     "text": [
      "[CV 3/10] END regressor__max_depth=20, regressor__max_features=auto, regressor__max_samples=1.0, regressor__n_estimators=50;, score=0.920 total time=   1.2s\n",
      "[CV 4/10] END regressor__max_depth=20, regressor__max_features=auto, regressor__max_samples=1.0, regressor__n_estimators=50;, score=0.902 total time=   1.2s\n"
     ]
    },
    {
     "name": "stderr",
     "output_type": "stream",
     "text": [
      "/Users/vivektyagi/miniconda3/envs/envDS/lib/python3.9/site-packages/sklearn/ensemble/_forest.py:414: FutureWarning: `max_features='auto'` has been deprecated in 1.1 and will be removed in 1.3. To keep the past behaviour, explicitly set `max_features=1.0` or remove this parameter as it is also the default value for RandomForestRegressors and ExtraTreesRegressors.\n",
      "  warn(\n",
      "/Users/vivektyagi/miniconda3/envs/envDS/lib/python3.9/site-packages/sklearn/ensemble/_forest.py:414: FutureWarning: `max_features='auto'` has been deprecated in 1.1 and will be removed in 1.3. To keep the past behaviour, explicitly set `max_features=1.0` or remove this parameter as it is also the default value for RandomForestRegressors and ExtraTreesRegressors.\n",
      "  warn(\n"
     ]
    },
    {
     "name": "stdout",
     "output_type": "stream",
     "text": [
      "[CV 5/10] END regressor__max_depth=20, regressor__max_features=auto, regressor__max_samples=1.0, regressor__n_estimators=50;, score=0.901 total time=   1.2s\n",
      "[CV 7/10] END regressor__max_depth=20, regressor__max_features=auto, regressor__max_samples=0.5, regressor__n_estimators=300;, score=0.890 total time=   4.3s\n",
      "[CV 6/10] END regressor__max_depth=20, regressor__max_features=auto, regressor__max_samples=1.0, regressor__n_estimators=50;, score=0.877 total time=   1.2s\n"
     ]
    },
    {
     "name": "stderr",
     "output_type": "stream",
     "text": [
      "/Users/vivektyagi/miniconda3/envs/envDS/lib/python3.9/site-packages/sklearn/ensemble/_forest.py:414: FutureWarning: `max_features='auto'` has been deprecated in 1.1 and will be removed in 1.3. To keep the past behaviour, explicitly set `max_features=1.0` or remove this parameter as it is also the default value for RandomForestRegressors and ExtraTreesRegressors.\n",
      "  warn(\n",
      "/Users/vivektyagi/miniconda3/envs/envDS/lib/python3.9/site-packages/sklearn/ensemble/_forest.py:414: FutureWarning: `max_features='auto'` has been deprecated in 1.1 and will be removed in 1.3. To keep the past behaviour, explicitly set `max_features=1.0` or remove this parameter as it is also the default value for RandomForestRegressors and ExtraTreesRegressors.\n",
      "  warn(\n",
      "/Users/vivektyagi/miniconda3/envs/envDS/lib/python3.9/site-packages/sklearn/ensemble/_forest.py:414: FutureWarning: `max_features='auto'` has been deprecated in 1.1 and will be removed in 1.3. To keep the past behaviour, explicitly set `max_features=1.0` or remove this parameter as it is also the default value for RandomForestRegressors and ExtraTreesRegressors.\n",
      "  warn(\n",
      "/Users/vivektyagi/miniconda3/envs/envDS/lib/python3.9/site-packages/sklearn/ensemble/_forest.py:414: FutureWarning: `max_features='auto'` has been deprecated in 1.1 and will be removed in 1.3. To keep the past behaviour, explicitly set `max_features=1.0` or remove this parameter as it is also the default value for RandomForestRegressors and ExtraTreesRegressors.\n",
      "  warn(\n"
     ]
    },
    {
     "name": "stdout",
     "output_type": "stream",
     "text": [
      "[CV 8/10] END regressor__max_depth=20, regressor__max_features=auto, regressor__max_samples=0.5, regressor__n_estimators=300;, score=0.884 total time=   4.4s\n",
      "[CV 7/10] END regressor__max_depth=20, regressor__max_features=auto, regressor__max_samples=1.0, regressor__n_estimators=50;, score=0.878 total time=   1.1s\n",
      "[CV 8/10] END regressor__max_depth=20, regressor__max_features=auto, regressor__max_samples=1.0, regressor__n_estimators=50;, score=0.881 total time=   1.1s\n"
     ]
    },
    {
     "name": "stderr",
     "output_type": "stream",
     "text": [
      "/Users/vivektyagi/miniconda3/envs/envDS/lib/python3.9/site-packages/sklearn/ensemble/_forest.py:414: FutureWarning: `max_features='auto'` has been deprecated in 1.1 and will be removed in 1.3. To keep the past behaviour, explicitly set `max_features=1.0` or remove this parameter as it is also the default value for RandomForestRegressors and ExtraTreesRegressors.\n",
      "  warn(\n",
      "/Users/vivektyagi/miniconda3/envs/envDS/lib/python3.9/site-packages/sklearn/ensemble/_forest.py:414: FutureWarning: `max_features='auto'` has been deprecated in 1.1 and will be removed in 1.3. To keep the past behaviour, explicitly set `max_features=1.0` or remove this parameter as it is also the default value for RandomForestRegressors and ExtraTreesRegressors.\n",
      "  warn(\n"
     ]
    },
    {
     "name": "stdout",
     "output_type": "stream",
     "text": [
      "[CV 9/10] END regressor__max_depth=20, regressor__max_features=auto, regressor__max_samples=1.0, regressor__n_estimators=50;, score=0.862 total time=   1.2s\n",
      "[CV 10/10] END regressor__max_depth=20, regressor__max_features=auto, regressor__max_samples=1.0, regressor__n_estimators=50;, score=0.880 total time=   1.2s\n"
     ]
    },
    {
     "name": "stderr",
     "output_type": "stream",
     "text": [
      "/Users/vivektyagi/miniconda3/envs/envDS/lib/python3.9/site-packages/sklearn/ensemble/_forest.py:414: FutureWarning: `max_features='auto'` has been deprecated in 1.1 and will be removed in 1.3. To keep the past behaviour, explicitly set `max_features=1.0` or remove this parameter as it is also the default value for RandomForestRegressors and ExtraTreesRegressors.\n",
      "  warn(\n",
      "/Users/vivektyagi/miniconda3/envs/envDS/lib/python3.9/site-packages/sklearn/ensemble/_forest.py:414: FutureWarning: `max_features='auto'` has been deprecated in 1.1 and will be removed in 1.3. To keep the past behaviour, explicitly set `max_features=1.0` or remove this parameter as it is also the default value for RandomForestRegressors and ExtraTreesRegressors.\n",
      "  warn(\n"
     ]
    },
    {
     "name": "stdout",
     "output_type": "stream",
     "text": [
      "[CV 9/10] END regressor__max_depth=20, regressor__max_features=auto, regressor__max_samples=0.5, regressor__n_estimators=300;, score=0.867 total time=   4.5s\n",
      "[CV 10/10] END regressor__max_depth=20, regressor__max_features=auto, regressor__max_samples=0.5, regressor__n_estimators=300;, score=0.880 total time=   4.5s\n"
     ]
    },
    {
     "name": "stderr",
     "output_type": "stream",
     "text": [
      "/Users/vivektyagi/miniconda3/envs/envDS/lib/python3.9/site-packages/sklearn/ensemble/_forest.py:414: FutureWarning: `max_features='auto'` has been deprecated in 1.1 and will be removed in 1.3. To keep the past behaviour, explicitly set `max_features=1.0` or remove this parameter as it is also the default value for RandomForestRegressors and ExtraTreesRegressors.\n",
      "  warn(\n",
      "/Users/vivektyagi/miniconda3/envs/envDS/lib/python3.9/site-packages/sklearn/ensemble/_forest.py:414: FutureWarning: `max_features='auto'` has been deprecated in 1.1 and will be removed in 1.3. To keep the past behaviour, explicitly set `max_features=1.0` or remove this parameter as it is also the default value for RandomForestRegressors and ExtraTreesRegressors.\n",
      "  warn(\n"
     ]
    },
    {
     "name": "stdout",
     "output_type": "stream",
     "text": [
      "[CV 1/10] END regressor__max_depth=20, regressor__max_features=auto, regressor__max_samples=1.0, regressor__n_estimators=100;, score=0.896 total time=   2.2s\n",
      "[CV 2/10] END regressor__max_depth=20, regressor__max_features=auto, regressor__max_samples=1.0, regressor__n_estimators=100;, score=0.928 total time=   2.1s\n"
     ]
    },
    {
     "name": "stderr",
     "output_type": "stream",
     "text": [
      "/Users/vivektyagi/miniconda3/envs/envDS/lib/python3.9/site-packages/sklearn/ensemble/_forest.py:414: FutureWarning: `max_features='auto'` has been deprecated in 1.1 and will be removed in 1.3. To keep the past behaviour, explicitly set `max_features=1.0` or remove this parameter as it is also the default value for RandomForestRegressors and ExtraTreesRegressors.\n",
      "  warn(\n",
      "/Users/vivektyagi/miniconda3/envs/envDS/lib/python3.9/site-packages/sklearn/ensemble/_forest.py:414: FutureWarning: `max_features='auto'` has been deprecated in 1.1 and will be removed in 1.3. To keep the past behaviour, explicitly set `max_features=1.0` or remove this parameter as it is also the default value for RandomForestRegressors and ExtraTreesRegressors.\n",
      "  warn(\n"
     ]
    },
    {
     "name": "stdout",
     "output_type": "stream",
     "text": [
      "[CV 4/10] END regressor__max_depth=20, regressor__max_features=auto, regressor__max_samples=1.0, regressor__n_estimators=100;, score=0.898 total time=   2.1s\n",
      "[CV 3/10] END regressor__max_depth=20, regressor__max_features=auto, regressor__max_samples=1.0, regressor__n_estimators=100;, score=0.919 total time=   2.3s\n"
     ]
    },
    {
     "name": "stderr",
     "output_type": "stream",
     "text": [
      "/Users/vivektyagi/miniconda3/envs/envDS/lib/python3.9/site-packages/sklearn/ensemble/_forest.py:414: FutureWarning: `max_features='auto'` has been deprecated in 1.1 and will be removed in 1.3. To keep the past behaviour, explicitly set `max_features=1.0` or remove this parameter as it is also the default value for RandomForestRegressors and ExtraTreesRegressors.\n",
      "  warn(\n",
      "/Users/vivektyagi/miniconda3/envs/envDS/lib/python3.9/site-packages/sklearn/ensemble/_forest.py:414: FutureWarning: `max_features='auto'` has been deprecated in 1.1 and will be removed in 1.3. To keep the past behaviour, explicitly set `max_features=1.0` or remove this parameter as it is also the default value for RandomForestRegressors and ExtraTreesRegressors.\n",
      "  warn(\n"
     ]
    },
    {
     "name": "stdout",
     "output_type": "stream",
     "text": [
      "[CV 5/10] END regressor__max_depth=20, regressor__max_features=auto, regressor__max_samples=1.0, regressor__n_estimators=100;, score=0.897 total time=   2.2s\n",
      "[CV 6/10] END regressor__max_depth=20, regressor__max_features=auto, regressor__max_samples=1.0, regressor__n_estimators=100;, score=0.876 total time=   2.2s\n"
     ]
    },
    {
     "name": "stderr",
     "output_type": "stream",
     "text": [
      "/Users/vivektyagi/miniconda3/envs/envDS/lib/python3.9/site-packages/sklearn/ensemble/_forest.py:414: FutureWarning: `max_features='auto'` has been deprecated in 1.1 and will be removed in 1.3. To keep the past behaviour, explicitly set `max_features=1.0` or remove this parameter as it is also the default value for RandomForestRegressors and ExtraTreesRegressors.\n",
      "  warn(\n",
      "/Users/vivektyagi/miniconda3/envs/envDS/lib/python3.9/site-packages/sklearn/ensemble/_forest.py:414: FutureWarning: `max_features='auto'` has been deprecated in 1.1 and will be removed in 1.3. To keep the past behaviour, explicitly set `max_features=1.0` or remove this parameter as it is also the default value for RandomForestRegressors and ExtraTreesRegressors.\n",
      "  warn(\n"
     ]
    },
    {
     "name": "stdout",
     "output_type": "stream",
     "text": [
      "[CV 7/10] END regressor__max_depth=20, regressor__max_features=auto, regressor__max_samples=1.0, regressor__n_estimators=100;, score=0.886 total time=   2.2s\n",
      "[CV 8/10] END regressor__max_depth=20, regressor__max_features=auto, regressor__max_samples=1.0, regressor__n_estimators=100;, score=0.880 total time=   2.2s\n"
     ]
    },
    {
     "name": "stderr",
     "output_type": "stream",
     "text": [
      "/Users/vivektyagi/miniconda3/envs/envDS/lib/python3.9/site-packages/sklearn/ensemble/_forest.py:414: FutureWarning: `max_features='auto'` has been deprecated in 1.1 and will be removed in 1.3. To keep the past behaviour, explicitly set `max_features=1.0` or remove this parameter as it is also the default value for RandomForestRegressors and ExtraTreesRegressors.\n",
      "  warn(\n",
      "/Users/vivektyagi/miniconda3/envs/envDS/lib/python3.9/site-packages/sklearn/ensemble/_forest.py:414: FutureWarning: `max_features='auto'` has been deprecated in 1.1 and will be removed in 1.3. To keep the past behaviour, explicitly set `max_features=1.0` or remove this parameter as it is also the default value for RandomForestRegressors and ExtraTreesRegressors.\n",
      "  warn(\n"
     ]
    },
    {
     "name": "stdout",
     "output_type": "stream",
     "text": [
      "[CV 9/10] END regressor__max_depth=20, regressor__max_features=auto, regressor__max_samples=1.0, regressor__n_estimators=100;, score=0.864 total time=   2.2s\n",
      "[CV 10/10] END regressor__max_depth=20, regressor__max_features=auto, regressor__max_samples=1.0, regressor__n_estimators=100;, score=0.881 total time=   2.2s\n"
     ]
    },
    {
     "name": "stderr",
     "output_type": "stream",
     "text": [
      "/Users/vivektyagi/miniconda3/envs/envDS/lib/python3.9/site-packages/sklearn/ensemble/_forest.py:414: FutureWarning: `max_features='auto'` has been deprecated in 1.1 and will be removed in 1.3. To keep the past behaviour, explicitly set `max_features=1.0` or remove this parameter as it is also the default value for RandomForestRegressors and ExtraTreesRegressors.\n",
      "  warn(\n",
      "/Users/vivektyagi/miniconda3/envs/envDS/lib/python3.9/site-packages/sklearn/ensemble/_forest.py:414: FutureWarning: `max_features='auto'` has been deprecated in 1.1 and will be removed in 1.3. To keep the past behaviour, explicitly set `max_features=1.0` or remove this parameter as it is also the default value for RandomForestRegressors and ExtraTreesRegressors.\n",
      "  warn(\n"
     ]
    },
    {
     "name": "stdout",
     "output_type": "stream",
     "text": [
      "[CV 1/10] END regressor__max_depth=20, regressor__max_features=auto, regressor__max_samples=1.0, regressor__n_estimators=200;, score=0.898 total time=   4.0s\n",
      "[CV 2/10] END regressor__max_depth=20, regressor__max_features=auto, regressor__max_samples=1.0, regressor__n_estimators=200;, score=0.927 total time=   4.1s\n"
     ]
    },
    {
     "name": "stderr",
     "output_type": "stream",
     "text": [
      "/Users/vivektyagi/miniconda3/envs/envDS/lib/python3.9/site-packages/sklearn/ensemble/_forest.py:414: FutureWarning: `max_features='auto'` has been deprecated in 1.1 and will be removed in 1.3. To keep the past behaviour, explicitly set `max_features=1.0` or remove this parameter as it is also the default value for RandomForestRegressors and ExtraTreesRegressors.\n",
      "  warn(\n",
      "/Users/vivektyagi/miniconda3/envs/envDS/lib/python3.9/site-packages/sklearn/ensemble/_forest.py:414: FutureWarning: `max_features='auto'` has been deprecated in 1.1 and will be removed in 1.3. To keep the past behaviour, explicitly set `max_features=1.0` or remove this parameter as it is also the default value for RandomForestRegressors and ExtraTreesRegressors.\n",
      "  warn(\n"
     ]
    },
    {
     "name": "stdout",
     "output_type": "stream",
     "text": [
      "[CV 3/10] END regressor__max_depth=20, regressor__max_features=auto, regressor__max_samples=1.0, regressor__n_estimators=200;, score=0.922 total time=   4.0s\n",
      "[CV 4/10] END regressor__max_depth=20, regressor__max_features=auto, regressor__max_samples=1.0, regressor__n_estimators=200;, score=0.899 total time=   4.0s\n"
     ]
    },
    {
     "name": "stderr",
     "output_type": "stream",
     "text": [
      "/Users/vivektyagi/miniconda3/envs/envDS/lib/python3.9/site-packages/sklearn/ensemble/_forest.py:414: FutureWarning: `max_features='auto'` has been deprecated in 1.1 and will be removed in 1.3. To keep the past behaviour, explicitly set `max_features=1.0` or remove this parameter as it is also the default value for RandomForestRegressors and ExtraTreesRegressors.\n",
      "  warn(\n",
      "/Users/vivektyagi/miniconda3/envs/envDS/lib/python3.9/site-packages/sklearn/ensemble/_forest.py:414: FutureWarning: `max_features='auto'` has been deprecated in 1.1 and will be removed in 1.3. To keep the past behaviour, explicitly set `max_features=1.0` or remove this parameter as it is also the default value for RandomForestRegressors and ExtraTreesRegressors.\n",
      "  warn(\n"
     ]
    },
    {
     "name": "stdout",
     "output_type": "stream",
     "text": [
      "[CV 5/10] END regressor__max_depth=20, regressor__max_features=auto, regressor__max_samples=1.0, regressor__n_estimators=200;, score=0.904 total time=   4.0s\n",
      "[CV 6/10] END regressor__max_depth=20, regressor__max_features=auto, regressor__max_samples=1.0, regressor__n_estimators=200;, score=0.876 total time=   4.0s\n"
     ]
    },
    {
     "name": "stderr",
     "output_type": "stream",
     "text": [
      "/Users/vivektyagi/miniconda3/envs/envDS/lib/python3.9/site-packages/sklearn/ensemble/_forest.py:414: FutureWarning: `max_features='auto'` has been deprecated in 1.1 and will be removed in 1.3. To keep the past behaviour, explicitly set `max_features=1.0` or remove this parameter as it is also the default value for RandomForestRegressors and ExtraTreesRegressors.\n",
      "  warn(\n",
      "/Users/vivektyagi/miniconda3/envs/envDS/lib/python3.9/site-packages/sklearn/ensemble/_forest.py:414: FutureWarning: `max_features='auto'` has been deprecated in 1.1 and will be removed in 1.3. To keep the past behaviour, explicitly set `max_features=1.0` or remove this parameter as it is also the default value for RandomForestRegressors and ExtraTreesRegressors.\n",
      "  warn(\n"
     ]
    },
    {
     "name": "stdout",
     "output_type": "stream",
     "text": [
      "[CV 7/10] END regressor__max_depth=20, regressor__max_features=auto, regressor__max_samples=1.0, regressor__n_estimators=200;, score=0.882 total time=   4.0s\n",
      "[CV 8/10] END regressor__max_depth=20, regressor__max_features=auto, regressor__max_samples=1.0, regressor__n_estimators=200;, score=0.880 total time=   4.0s\n"
     ]
    },
    {
     "name": "stderr",
     "output_type": "stream",
     "text": [
      "/Users/vivektyagi/miniconda3/envs/envDS/lib/python3.9/site-packages/sklearn/ensemble/_forest.py:414: FutureWarning: `max_features='auto'` has been deprecated in 1.1 and will be removed in 1.3. To keep the past behaviour, explicitly set `max_features=1.0` or remove this parameter as it is also the default value for RandomForestRegressors and ExtraTreesRegressors.\n",
      "  warn(\n",
      "/Users/vivektyagi/miniconda3/envs/envDS/lib/python3.9/site-packages/sklearn/ensemble/_forest.py:414: FutureWarning: `max_features='auto'` has been deprecated in 1.1 and will be removed in 1.3. To keep the past behaviour, explicitly set `max_features=1.0` or remove this parameter as it is also the default value for RandomForestRegressors and ExtraTreesRegressors.\n",
      "  warn(\n"
     ]
    },
    {
     "name": "stdout",
     "output_type": "stream",
     "text": [
      "[CV 9/10] END regressor__max_depth=20, regressor__max_features=auto, regressor__max_samples=1.0, regressor__n_estimators=200;, score=0.864 total time=   4.0s\n",
      "[CV 10/10] END regressor__max_depth=20, regressor__max_features=auto, regressor__max_samples=1.0, regressor__n_estimators=200;, score=0.881 total time=   4.0s\n"
     ]
    },
    {
     "name": "stderr",
     "output_type": "stream",
     "text": [
      "/Users/vivektyagi/miniconda3/envs/envDS/lib/python3.9/site-packages/sklearn/ensemble/_forest.py:414: FutureWarning: `max_features='auto'` has been deprecated in 1.1 and will be removed in 1.3. To keep the past behaviour, explicitly set `max_features=1.0` or remove this parameter as it is also the default value for RandomForestRegressors and ExtraTreesRegressors.\n",
      "  warn(\n",
      "/Users/vivektyagi/miniconda3/envs/envDS/lib/python3.9/site-packages/sklearn/ensemble/_forest.py:414: FutureWarning: `max_features='auto'` has been deprecated in 1.1 and will be removed in 1.3. To keep the past behaviour, explicitly set `max_features=1.0` or remove this parameter as it is also the default value for RandomForestRegressors and ExtraTreesRegressors.\n",
      "  warn(\n"
     ]
    },
    {
     "name": "stdout",
     "output_type": "stream",
     "text": [
      "[CV 1/10] END regressor__max_depth=20, regressor__max_features=auto, regressor__max_samples=1.0, regressor__n_estimators=300;, score=0.896 total time=   5.8s\n",
      "[CV 2/10] END regressor__max_depth=20, regressor__max_features=auto, regressor__max_samples=1.0, regressor__n_estimators=300;, score=0.929 total time=   5.8s\n"
     ]
    },
    {
     "name": "stderr",
     "output_type": "stream",
     "text": [
      "/Users/vivektyagi/miniconda3/envs/envDS/lib/python3.9/site-packages/sklearn/ensemble/_forest.py:414: FutureWarning: `max_features='auto'` has been deprecated in 1.1 and will be removed in 1.3. To keep the past behaviour, explicitly set `max_features=1.0` or remove this parameter as it is also the default value for RandomForestRegressors and ExtraTreesRegressors.\n",
      "  warn(\n",
      "/Users/vivektyagi/miniconda3/envs/envDS/lib/python3.9/site-packages/sklearn/ensemble/_forest.py:414: FutureWarning: `max_features='auto'` has been deprecated in 1.1 and will be removed in 1.3. To keep the past behaviour, explicitly set `max_features=1.0` or remove this parameter as it is also the default value for RandomForestRegressors and ExtraTreesRegressors.\n",
      "  warn(\n"
     ]
    },
    {
     "name": "stdout",
     "output_type": "stream",
     "text": [
      "[CV 3/10] END regressor__max_depth=20, regressor__max_features=auto, regressor__max_samples=1.0, regressor__n_estimators=300;, score=0.922 total time=   5.8s\n",
      "[CV 4/10] END regressor__max_depth=20, regressor__max_features=auto, regressor__max_samples=1.0, regressor__n_estimators=300;, score=0.899 total time=   5.8s\n",
      "[CV 1/10] END regressor__max_depth=20, regressor__max_features=sqrt, regressor__max_samples=0.1, regressor__n_estimators=50;, score=0.887 total time=   0.3s\n",
      "[CV 2/10] END regressor__max_depth=20, regressor__max_features=sqrt, regressor__max_samples=0.1, regressor__n_estimators=50;, score=0.886 total time=   0.3s\n",
      "[CV 5/10] END regressor__max_depth=20, regressor__max_features=auto, regressor__max_samples=1.0, regressor__n_estimators=300;, score=0.903 total time=   5.8s\n",
      "[CV 3/10] END regressor__max_depth=20, regressor__max_features=sqrt, regressor__max_samples=0.1, regressor__n_estimators=50;, score=0.868 total time=   0.3s\n",
      "[CV 6/10] END regressor__max_depth=20, regressor__max_features=auto, regressor__max_samples=1.0, regressor__n_estimators=300;, score=0.881 total time=   5.8s\n",
      "[CV 4/10] END regressor__max_depth=20, regressor__max_features=sqrt, regressor__max_samples=0.1, regressor__n_estimators=50;, score=0.854 total time=   0.3s\n",
      "[CV 5/10] END regressor__max_depth=20, regressor__max_features=sqrt, regressor__max_samples=0.1, regressor__n_estimators=50;, score=0.857 total time=   0.3s\n",
      "[CV 6/10] END regressor__max_depth=20, regressor__max_features=sqrt, regressor__max_samples=0.1, regressor__n_estimators=50;, score=0.857 total time=   0.3s\n",
      "[CV 7/10] END regressor__max_depth=20, regressor__max_features=sqrt, regressor__max_samples=0.1, regressor__n_estimators=50;, score=0.873 total time=   0.3s\n",
      "[CV 8/10] END regressor__max_depth=20, regressor__max_features=sqrt, regressor__max_samples=0.1, regressor__n_estimators=50;, score=0.864 total time=   0.3s\n",
      "[CV 9/10] END regressor__max_depth=20, regressor__max_features=sqrt, regressor__max_samples=0.1, regressor__n_estimators=50;, score=0.851 total time=   0.3s\n",
      "[CV 10/10] END regressor__max_depth=20, regressor__max_features=sqrt, regressor__max_samples=0.1, regressor__n_estimators=50;, score=0.844 total time=   0.3s\n",
      "[CV 1/10] END regressor__max_depth=20, regressor__max_features=sqrt, regressor__max_samples=0.1, regressor__n_estimators=100;, score=0.883 total time=   0.4s\n",
      "[CV 2/10] END regressor__max_depth=20, regressor__max_features=sqrt, regressor__max_samples=0.1, regressor__n_estimators=100;, score=0.892 total time=   0.5s\n",
      "[CV 3/10] END regressor__max_depth=20, regressor__max_features=sqrt, regressor__max_samples=0.1, regressor__n_estimators=100;, score=0.866 total time=   0.5s\n",
      "[CV 4/10] END regressor__max_depth=20, regressor__max_features=sqrt, regressor__max_samples=0.1, regressor__n_estimators=100;, score=0.852 total time=   0.4s\n",
      "[CV 5/10] END regressor__max_depth=20, regressor__max_features=sqrt, regressor__max_samples=0.1, regressor__n_estimators=100;, score=0.866 total time=   0.4s\n",
      "[CV 6/10] END regressor__max_depth=20, regressor__max_features=sqrt, regressor__max_samples=0.1, regressor__n_estimators=100;, score=0.857 total time=   0.4s\n",
      "[CV 7/10] END regressor__max_depth=20, regressor__max_features=sqrt, regressor__max_samples=0.1, regressor__n_estimators=100;, score=0.875 total time=   0.4s\n",
      "[CV 8/10] END regressor__max_depth=20, regressor__max_features=sqrt, regressor__max_samples=0.1, regressor__n_estimators=100;, score=0.871 total time=   0.4s\n",
      "[CV 9/10] END regressor__max_depth=20, regressor__max_features=sqrt, regressor__max_samples=0.1, regressor__n_estimators=100;, score=0.855 total time=   0.4s\n",
      "[CV 10/10] END regressor__max_depth=20, regressor__max_features=sqrt, regressor__max_samples=0.1, regressor__n_estimators=100;, score=0.850 total time=   0.4s\n",
      "[CV 7/10] END regressor__max_depth=20, regressor__max_features=auto, regressor__max_samples=1.0, regressor__n_estimators=300;, score=0.885 total time=   5.6s\n",
      "[CV 1/10] END regressor__max_depth=20, regressor__max_features=sqrt, regressor__max_samples=0.1, regressor__n_estimators=200;, score=0.883 total time=   0.8s\n",
      "[CV 8/10] END regressor__max_depth=20, regressor__max_features=auto, regressor__max_samples=1.0, regressor__n_estimators=300;, score=0.883 total time=   5.6s\n",
      "[CV 2/10] END regressor__max_depth=20, regressor__max_features=sqrt, regressor__max_samples=0.1, regressor__n_estimators=200;, score=0.891 total time=   0.8s\n",
      "[CV 3/10] END regressor__max_depth=20, regressor__max_features=sqrt, regressor__max_samples=0.1, regressor__n_estimators=200;, score=0.873 total time=   0.8s\n",
      "[CV 4/10] END regressor__max_depth=20, regressor__max_features=sqrt, regressor__max_samples=0.1, regressor__n_estimators=200;, score=0.853 total time=   0.9s\n",
      "[CV 5/10] END regressor__max_depth=20, regressor__max_features=sqrt, regressor__max_samples=0.1, regressor__n_estimators=200;, score=0.864 total time=   0.9s\n",
      "[CV 6/10] END regressor__max_depth=20, regressor__max_features=sqrt, regressor__max_samples=0.1, regressor__n_estimators=200;, score=0.857 total time=   0.9s\n",
      "[CV 7/10] END regressor__max_depth=20, regressor__max_features=sqrt, regressor__max_samples=0.1, regressor__n_estimators=200;, score=0.870 total time=   0.9s\n",
      "[CV 8/10] END regressor__max_depth=20, regressor__max_features=sqrt, regressor__max_samples=0.1, regressor__n_estimators=200;, score=0.871 total time=   0.9s\n",
      "[CV 9/10] END regressor__max_depth=20, regressor__max_features=sqrt, regressor__max_samples=0.1, regressor__n_estimators=200;, score=0.854 total time=   0.9s\n",
      "[CV 10/10] END regressor__max_depth=20, regressor__max_features=sqrt, regressor__max_samples=0.1, regressor__n_estimators=200;, score=0.855 total time=   0.9s\n",
      "[CV 1/10] END regressor__max_depth=20, regressor__max_features=sqrt, regressor__max_samples=0.1, regressor__n_estimators=300;, score=0.886 total time=   1.2s\n",
      "[CV 2/10] END regressor__max_depth=20, regressor__max_features=sqrt, regressor__max_samples=0.1, regressor__n_estimators=300;, score=0.891 total time=   1.2s\n",
      "[CV 3/10] END regressor__max_depth=20, regressor__max_features=sqrt, regressor__max_samples=0.1, regressor__n_estimators=300;, score=0.870 total time=   1.2s\n",
      "[CV 9/10] END regressor__max_depth=20, regressor__max_features=auto, regressor__max_samples=1.0, regressor__n_estimators=300;, score=0.865 total time=   5.7s[CV 4/10] END regressor__max_depth=20, regressor__max_features=sqrt, regressor__max_samples=0.1, regressor__n_estimators=300;, score=0.850 total time=   1.2s\n",
      "\n",
      "[CV 10/10] END regressor__max_depth=20, regressor__max_features=auto, regressor__max_samples=1.0, regressor__n_estimators=300;, score=0.883 total time=   5.7s\n",
      "[CV 5/10] END regressor__max_depth=20, regressor__max_features=sqrt, regressor__max_samples=0.1, regressor__n_estimators=300;, score=0.866 total time=   1.3s\n",
      "[CV 1/10] END regressor__max_depth=20, regressor__max_features=sqrt, regressor__max_samples=0.25, regressor__n_estimators=50;, score=0.890 total time=   0.3s\n",
      "[CV 6/10] END regressor__max_depth=20, regressor__max_features=sqrt, regressor__max_samples=0.1, regressor__n_estimators=300;, score=0.860 total time=   1.3s\n",
      "[CV 2/10] END regressor__max_depth=20, regressor__max_features=sqrt, regressor__max_samples=0.25, regressor__n_estimators=50;, score=0.903 total time=   0.3s\n",
      "[CV 3/10] END regressor__max_depth=20, regressor__max_features=sqrt, regressor__max_samples=0.25, regressor__n_estimators=50;, score=0.882 total time=   0.3s\n",
      "[CV 4/10] END regressor__max_depth=20, regressor__max_features=sqrt, regressor__max_samples=0.25, regressor__n_estimators=50;, score=0.872 total time=   0.3s\n",
      "[CV 5/10] END regressor__max_depth=20, regressor__max_features=sqrt, regressor__max_samples=0.25, regressor__n_estimators=50;, score=0.872 total time=   0.3s\n",
      "[CV 6/10] END regressor__max_depth=20, regressor__max_features=sqrt, regressor__max_samples=0.25, regressor__n_estimators=50;, score=0.860 total time=   0.3s\n",
      "[CV 7/10] END regressor__max_depth=20, regressor__max_features=sqrt, regressor__max_samples=0.25, regressor__n_estimators=50;, score=0.883 total time=   0.3s\n",
      "[CV 7/10] END regressor__max_depth=20, regressor__max_features=sqrt, regressor__max_samples=0.1, regressor__n_estimators=300;, score=0.876 total time=   1.3s\n",
      "[CV 9/10] END regressor__max_depth=20, regressor__max_features=sqrt, regressor__max_samples=0.25, regressor__n_estimators=50;, score=0.868 total time=   0.3s\n",
      "[CV 8/10] END regressor__max_depth=20, regressor__max_features=sqrt, regressor__max_samples=0.25, regressor__n_estimators=50;, score=0.877 total time=   0.4s\n",
      "[CV 10/10] END regressor__max_depth=20, regressor__max_features=sqrt, regressor__max_samples=0.25, regressor__n_estimators=50;, score=0.856 total time=   0.3s\n",
      "[CV 8/10] END regressor__max_depth=20, regressor__max_features=sqrt, regressor__max_samples=0.1, regressor__n_estimators=300;, score=0.872 total time=   1.3s\n",
      "[CV 9/10] END regressor__max_depth=20, regressor__max_features=sqrt, regressor__max_samples=0.1, regressor__n_estimators=300;, score=0.852 total time=   1.3s\n",
      "[CV 10/10] END regressor__max_depth=20, regressor__max_features=sqrt, regressor__max_samples=0.1, regressor__n_estimators=300;, score=0.852 total time=   1.3s\n",
      "[CV 3/10] END regressor__max_depth=20, regressor__max_features=sqrt, regressor__max_samples=0.25, regressor__n_estimators=100;, score=0.884 total time=   0.6s\n",
      "[CV 1/10] END regressor__max_depth=20, regressor__max_features=sqrt, regressor__max_samples=0.25, regressor__n_estimators=100;, score=0.895 total time=   0.6s\n",
      "[CV 4/10] END regressor__max_depth=20, regressor__max_features=sqrt, regressor__max_samples=0.25, regressor__n_estimators=100;, score=0.871 total time=   0.6s\n",
      "[CV 2/10] END regressor__max_depth=20, regressor__max_features=sqrt, regressor__max_samples=0.25, regressor__n_estimators=100;, score=0.904 total time=   0.6s\n",
      "[CV 5/10] END regressor__max_depth=20, regressor__max_features=sqrt, regressor__max_samples=0.25, regressor__n_estimators=100;, score=0.879 total time=   0.6s\n",
      "[CV 6/10] END regressor__max_depth=20, regressor__max_features=sqrt, regressor__max_samples=0.25, regressor__n_estimators=100;, score=0.867 total time=   0.6s\n",
      "[CV 7/10] END regressor__max_depth=20, regressor__max_features=sqrt, regressor__max_samples=0.25, regressor__n_estimators=100;, score=0.884 total time=   0.6s\n",
      "[CV 8/10] END regressor__max_depth=20, regressor__max_features=sqrt, regressor__max_samples=0.25, regressor__n_estimators=100;, score=0.881 total time=   0.6s\n",
      "[CV 9/10] END regressor__max_depth=20, regressor__max_features=sqrt, regressor__max_samples=0.25, regressor__n_estimators=100;, score=0.867 total time=   0.6s\n",
      "[CV 10/10] END regressor__max_depth=20, regressor__max_features=sqrt, regressor__max_samples=0.25, regressor__n_estimators=100;, score=0.860 total time=   0.6s\n",
      "[CV 1/10] END regressor__max_depth=20, regressor__max_features=sqrt, regressor__max_samples=0.25, regressor__n_estimators=200;, score=0.895 total time=   1.1s\n",
      "[CV 2/10] END regressor__max_depth=20, regressor__max_features=sqrt, regressor__max_samples=0.25, regressor__n_estimators=200;, score=0.906 total time=   1.1s\n",
      "[CV 3/10] END regressor__max_depth=20, regressor__max_features=sqrt, regressor__max_samples=0.25, regressor__n_estimators=200;, score=0.889 total time=   1.1s\n",
      "[CV 4/10] END regressor__max_depth=20, regressor__max_features=sqrt, regressor__max_samples=0.25, regressor__n_estimators=200;, score=0.873 total time=   1.1s\n",
      "[CV 5/10] END regressor__max_depth=20, regressor__max_features=sqrt, regressor__max_samples=0.25, regressor__n_estimators=200;, score=0.879 total time=   1.1s\n",
      "[CV 6/10] END regressor__max_depth=20, regressor__max_features=sqrt, regressor__max_samples=0.25, regressor__n_estimators=200;, score=0.871 total time=   1.1s\n",
      "[CV 7/10] END regressor__max_depth=20, regressor__max_features=sqrt, regressor__max_samples=0.25, regressor__n_estimators=200;, score=0.888 total time=   1.1s\n",
      "[CV 8/10] END regressor__max_depth=20, regressor__max_features=sqrt, regressor__max_samples=0.25, regressor__n_estimators=200;, score=0.881 total time=   1.1s\n",
      "[CV 9/10] END regressor__max_depth=20, regressor__max_features=sqrt, regressor__max_samples=0.25, regressor__n_estimators=200;, score=0.864 total time=   1.1s\n",
      "[CV 10/10] END regressor__max_depth=20, regressor__max_features=sqrt, regressor__max_samples=0.25, regressor__n_estimators=200;, score=0.863 total time=   1.1s\n",
      "[CV 1/10] END regressor__max_depth=20, regressor__max_features=sqrt, regressor__max_samples=0.25, regressor__n_estimators=300;, score=0.895 total time=   1.6s\n",
      "[CV 2/10] END regressor__max_depth=20, regressor__max_features=sqrt, regressor__max_samples=0.25, regressor__n_estimators=300;, score=0.905 total time=   1.6s\n",
      "[CV 4/10] END regressor__max_depth=20, regressor__max_features=sqrt, regressor__max_samples=0.25, regressor__n_estimators=300;, score=0.871 total time=   1.6s\n",
      "[CV 3/10] END regressor__max_depth=20, regressor__max_features=sqrt, regressor__max_samples=0.25, regressor__n_estimators=300;, score=0.885 total time=   1.7s\n",
      "[CV 1/10] END regressor__max_depth=20, regressor__max_features=sqrt, regressor__max_samples=0.5, regressor__n_estimators=50;, score=0.905 total time=   0.4s\n",
      "[CV 5/10] END regressor__max_depth=20, regressor__max_features=sqrt, regressor__max_samples=0.25, regressor__n_estimators=300;, score=0.877 total time=   1.6s\n",
      "[CV 6/10] END regressor__max_depth=20, regressor__max_features=sqrt, regressor__max_samples=0.25, regressor__n_estimators=300;, score=0.869 total time=   1.7s\n",
      "[CV 2/10] END regressor__max_depth=20, regressor__max_features=sqrt, regressor__max_samples=0.5, regressor__n_estimators=50;, score=0.911 total time=   0.4s\n",
      "[CV 3/10] END regressor__max_depth=20, regressor__max_features=sqrt, regressor__max_samples=0.5, regressor__n_estimators=50;, score=0.897 total time=   0.4s\n",
      "[CV 4/10] END regressor__max_depth=20, regressor__max_features=sqrt, regressor__max_samples=0.5, regressor__n_estimators=50;, score=0.877 total time=   0.4s\n",
      "[CV 5/10] END regressor__max_depth=20, regressor__max_features=sqrt, regressor__max_samples=0.5, regressor__n_estimators=50;, score=0.880 total time=   0.4s\n",
      "[CV 6/10] END regressor__max_depth=20, regressor__max_features=sqrt, regressor__max_samples=0.5, regressor__n_estimators=50;, score=0.868 total time=   0.4s\n",
      "[CV 7/10] END regressor__max_depth=20, regressor__max_features=sqrt, regressor__max_samples=0.25, regressor__n_estimators=300;, score=0.885 total time=   1.7s\n",
      "[CV 8/10] END regressor__max_depth=20, regressor__max_features=sqrt, regressor__max_samples=0.25, regressor__n_estimators=300;, score=0.882 total time=   1.7s\n",
      "[CV 7/10] END regressor__max_depth=20, regressor__max_features=sqrt, regressor__max_samples=0.5, regressor__n_estimators=50;, score=0.893 total time=   0.4s\n",
      "[CV 8/10] END regressor__max_depth=20, regressor__max_features=sqrt, regressor__max_samples=0.5, regressor__n_estimators=50;, score=0.883 total time=   0.4s\n",
      "[CV 9/10] END regressor__max_depth=20, regressor__max_features=sqrt, regressor__max_samples=0.5, regressor__n_estimators=50;, score=0.865 total time=   0.4s\n",
      "[CV 10/10] END regressor__max_depth=20, regressor__max_features=sqrt, regressor__max_samples=0.5, regressor__n_estimators=50;, score=0.871 total time=   0.4s\n",
      "[CV 9/10] END regressor__max_depth=20, regressor__max_features=sqrt, regressor__max_samples=0.25, regressor__n_estimators=300;, score=0.866 total time=   1.7s\n",
      "[CV 10/10] END regressor__max_depth=20, regressor__max_features=sqrt, regressor__max_samples=0.25, regressor__n_estimators=300;, score=0.862 total time=   1.7s\n",
      "[CV 1/10] END regressor__max_depth=20, regressor__max_features=sqrt, regressor__max_samples=0.5, regressor__n_estimators=100;, score=0.901 total time=   0.8s\n",
      "[CV 2/10] END regressor__max_depth=20, regressor__max_features=sqrt, regressor__max_samples=0.5, regressor__n_estimators=100;, score=0.913 total time=   0.8s\n",
      "[CV 3/10] END regressor__max_depth=20, regressor__max_features=sqrt, regressor__max_samples=0.5, regressor__n_estimators=100;, score=0.896 total time=   0.8s\n",
      "[CV 4/10] END regressor__max_depth=20, regressor__max_features=sqrt, regressor__max_samples=0.5, regressor__n_estimators=100;, score=0.881 total time=   0.8s\n",
      "[CV 6/10] END regressor__max_depth=20, regressor__max_features=sqrt, regressor__max_samples=0.5, regressor__n_estimators=100;, score=0.876 total time=   0.8s\n",
      "[CV 5/10] END regressor__max_depth=20, regressor__max_features=sqrt, regressor__max_samples=0.5, regressor__n_estimators=100;, score=0.886 total time=   0.8s\n",
      "[CV 7/10] END regressor__max_depth=20, regressor__max_features=sqrt, regressor__max_samples=0.5, regressor__n_estimators=100;, score=0.891 total time=   0.8s\n",
      "[CV 8/10] END regressor__max_depth=20, regressor__max_features=sqrt, regressor__max_samples=0.5, regressor__n_estimators=100;, score=0.889 total time=   0.8s\n",
      "[CV 9/10] END regressor__max_depth=20, regressor__max_features=sqrt, regressor__max_samples=0.5, regressor__n_estimators=100;, score=0.866 total time=   0.8s\n",
      "[CV 10/10] END regressor__max_depth=20, regressor__max_features=sqrt, regressor__max_samples=0.5, regressor__n_estimators=100;, score=0.869 total time=   0.9s\n",
      "[CV 1/10] END regressor__max_depth=20, regressor__max_features=sqrt, regressor__max_samples=0.5, regressor__n_estimators=200;, score=0.900 total time=   1.5s\n",
      "[CV 3/10] END regressor__max_depth=20, regressor__max_features=sqrt, regressor__max_samples=0.5, regressor__n_estimators=200;, score=0.898 total time=   1.5s\n",
      "[CV 2/10] END regressor__max_depth=20, regressor__max_features=sqrt, regressor__max_samples=0.5, regressor__n_estimators=200;, score=0.915 total time=   1.5s\n",
      "[CV 4/10] END regressor__max_depth=20, regressor__max_features=sqrt, regressor__max_samples=0.5, regressor__n_estimators=200;, score=0.881 total time=   1.5s\n",
      "[CV 5/10] END regressor__max_depth=20, regressor__max_features=sqrt, regressor__max_samples=0.5, regressor__n_estimators=200;, score=0.885 total time=   1.5s\n",
      "[CV 6/10] END regressor__max_depth=20, regressor__max_features=sqrt, regressor__max_samples=0.5, regressor__n_estimators=200;, score=0.879 total time=   1.5s\n",
      "[CV 7/10] END regressor__max_depth=20, regressor__max_features=sqrt, regressor__max_samples=0.5, regressor__n_estimators=200;, score=0.891 total time=   1.4s\n",
      "[CV 8/10] END regressor__max_depth=20, regressor__max_features=sqrt, regressor__max_samples=0.5, regressor__n_estimators=200;, score=0.887 total time=   1.4s\n",
      "[CV 9/10] END regressor__max_depth=20, regressor__max_features=sqrt, regressor__max_samples=0.5, regressor__n_estimators=200;, score=0.870 total time=   1.5s\n",
      "[CV 10/10] END regressor__max_depth=20, regressor__max_features=sqrt, regressor__max_samples=0.5, regressor__n_estimators=200;, score=0.872 total time=   1.4s\n",
      "[CV 1/10] END regressor__max_depth=20, regressor__max_features=sqrt, regressor__max_samples=0.5, regressor__n_estimators=300;, score=0.900 total time=   2.1s\n",
      "[CV 2/10] END regressor__max_depth=20, regressor__max_features=sqrt, regressor__max_samples=0.5, regressor__n_estimators=300;, score=0.912 total time=   2.1s\n",
      "[CV 3/10] END regressor__max_depth=20, regressor__max_features=sqrt, regressor__max_samples=0.5, regressor__n_estimators=300;, score=0.896 total time=   2.1s\n",
      "[CV 4/10] END regressor__max_depth=20, regressor__max_features=sqrt, regressor__max_samples=0.5, regressor__n_estimators=300;, score=0.881 total time=   2.1s\n",
      "[CV 5/10] END regressor__max_depth=20, regressor__max_features=sqrt, regressor__max_samples=0.5, regressor__n_estimators=300;, score=0.887 total time=   2.1s\n",
      "[CV 6/10] END regressor__max_depth=20, regressor__max_features=sqrt, regressor__max_samples=0.5, regressor__n_estimators=300;, score=0.878 total time=   2.1s\n",
      "[CV 1/10] END regressor__max_depth=20, regressor__max_features=sqrt, regressor__max_samples=1.0, regressor__n_estimators=50;, score=0.902 total time=   0.6s\n",
      "[CV 2/10] END regressor__max_depth=20, regressor__max_features=sqrt, regressor__max_samples=1.0, regressor__n_estimators=50;, score=0.918 total time=   0.5s\n",
      "[CV 3/10] END regressor__max_depth=20, regressor__max_features=sqrt, regressor__max_samples=1.0, regressor__n_estimators=50;, score=0.897 total time=   0.5s\n",
      "[CV 4/10] END regressor__max_depth=20, regressor__max_features=sqrt, regressor__max_samples=1.0, regressor__n_estimators=50;, score=0.888 total time=   0.5s\n",
      "[CV 5/10] END regressor__max_depth=20, regressor__max_features=sqrt, regressor__max_samples=1.0, regressor__n_estimators=50;, score=0.896 total time=   0.5s\n",
      "[CV 6/10] END regressor__max_depth=20, regressor__max_features=sqrt, regressor__max_samples=1.0, regressor__n_estimators=50;, score=0.881 total time=   0.5s\n",
      "[CV 7/10] END regressor__max_depth=20, regressor__max_features=sqrt, regressor__max_samples=0.5, regressor__n_estimators=300;, score=0.891 total time=   2.1s\n",
      "[CV 8/10] END regressor__max_depth=20, regressor__max_features=sqrt, regressor__max_samples=0.5, regressor__n_estimators=300;, score=0.886 total time=   2.1s\n",
      "[CV 7/10] END regressor__max_depth=20, regressor__max_features=sqrt, regressor__max_samples=1.0, regressor__n_estimators=50;, score=0.897 total time=   0.5s\n",
      "[CV 8/10] END regressor__max_depth=20, regressor__max_features=sqrt, regressor__max_samples=1.0, regressor__n_estimators=50;, score=0.886 total time=   0.5s\n",
      "[CV 9/10] END regressor__max_depth=20, regressor__max_features=sqrt, regressor__max_samples=1.0, regressor__n_estimators=50;, score=0.870 total time=   0.5s\n",
      "[CV 10/10] END regressor__max_depth=20, regressor__max_features=sqrt, regressor__max_samples=1.0, regressor__n_estimators=50;, score=0.869 total time=   0.5s\n",
      "[CV 9/10] END regressor__max_depth=20, regressor__max_features=sqrt, regressor__max_samples=0.5, regressor__n_estimators=300;, score=0.873 total time=   2.1s\n",
      "[CV 10/10] END regressor__max_depth=20, regressor__max_features=sqrt, regressor__max_samples=0.5, regressor__n_estimators=300;, score=0.872 total time=   2.1s\n",
      "[CV 1/10] END regressor__max_depth=20, regressor__max_features=sqrt, regressor__max_samples=1.0, regressor__n_estimators=100;, score=0.903 total time=   0.9s\n",
      "[CV 2/10] END regressor__max_depth=20, regressor__max_features=sqrt, regressor__max_samples=1.0, regressor__n_estimators=100;, score=0.918 total time=   1.0s\n",
      "[CV 3/10] END regressor__max_depth=20, regressor__max_features=sqrt, regressor__max_samples=1.0, regressor__n_estimators=100;, score=0.904 total time=   1.0s\n",
      "[CV 4/10] END regressor__max_depth=20, regressor__max_features=sqrt, regressor__max_samples=1.0, regressor__n_estimators=100;, score=0.890 total time=   0.9s\n",
      "[CV 5/10] END regressor__max_depth=20, regressor__max_features=sqrt, regressor__max_samples=1.0, regressor__n_estimators=100;, score=0.896 total time=   0.9s\n",
      "[CV 6/10] END regressor__max_depth=20, regressor__max_features=sqrt, regressor__max_samples=1.0, regressor__n_estimators=100;, score=0.879 total time=   0.9s\n",
      "[CV 7/10] END regressor__max_depth=20, regressor__max_features=sqrt, regressor__max_samples=1.0, regressor__n_estimators=100;, score=0.892 total time=   0.9s\n",
      "[CV 8/10] END regressor__max_depth=20, regressor__max_features=sqrt, regressor__max_samples=1.0, regressor__n_estimators=100;, score=0.885 total time=   1.0s\n",
      "[CV 9/10] END regressor__max_depth=20, regressor__max_features=sqrt, regressor__max_samples=1.0, regressor__n_estimators=100;, score=0.872 total time=   0.9s\n",
      "[CV 10/10] END regressor__max_depth=20, regressor__max_features=sqrt, regressor__max_samples=1.0, regressor__n_estimators=100;, score=0.875 total time=   1.0s\n",
      "[CV 1/10] END regressor__max_depth=20, regressor__max_features=sqrt, regressor__max_samples=1.0, regressor__n_estimators=200;, score=0.905 total time=   1.8s\n",
      "[CV 2/10] END regressor__max_depth=20, regressor__max_features=sqrt, regressor__max_samples=1.0, regressor__n_estimators=200;, score=0.919 total time=   1.8s\n",
      "[CV 3/10] END regressor__max_depth=20, regressor__max_features=sqrt, regressor__max_samples=1.0, regressor__n_estimators=200;, score=0.902 total time=   1.8s\n",
      "[CV 4/10] END regressor__max_depth=20, regressor__max_features=sqrt, regressor__max_samples=1.0, regressor__n_estimators=200;, score=0.889 total time=   1.8s\n",
      "[CV 5/10] END regressor__max_depth=20, regressor__max_features=sqrt, regressor__max_samples=1.0, regressor__n_estimators=200;, score=0.893 total time=   1.8s\n",
      "[CV 6/10] END regressor__max_depth=20, regressor__max_features=sqrt, regressor__max_samples=1.0, regressor__n_estimators=200;, score=0.880 total time=   1.8s\n",
      "[CV 7/10] END regressor__max_depth=20, regressor__max_features=sqrt, regressor__max_samples=1.0, regressor__n_estimators=200;, score=0.897 total time=   1.8s\n",
      "[CV 8/10] END regressor__max_depth=20, regressor__max_features=sqrt, regressor__max_samples=1.0, regressor__n_estimators=200;, score=0.887 total time=   1.8s\n",
      "[CV 9/10] END regressor__max_depth=20, regressor__max_features=sqrt, regressor__max_samples=1.0, regressor__n_estimators=200;, score=0.875 total time=   1.8s\n",
      "[CV 10/10] END regressor__max_depth=20, regressor__max_features=sqrt, regressor__max_samples=1.0, regressor__n_estimators=200;, score=0.874 total time=   1.8s\n",
      "[CV 1/10] END regressor__max_depth=20, regressor__max_features=sqrt, regressor__max_samples=1.0, regressor__n_estimators=300;, score=0.904 total time=   2.6s\n",
      "[CV 2/10] END regressor__max_depth=20, regressor__max_features=sqrt, regressor__max_samples=1.0, regressor__n_estimators=300;, score=0.919 total time=   2.6s\n",
      "[CV 3/10] END regressor__max_depth=20, regressor__max_features=sqrt, regressor__max_samples=1.0, regressor__n_estimators=300;, score=0.900 total time=   2.6s\n",
      "[CV 4/10] END regressor__max_depth=20, regressor__max_features=sqrt, regressor__max_samples=1.0, regressor__n_estimators=300;, score=0.889 total time=   2.6s\n"
     ]
    },
    {
     "name": "stderr",
     "output_type": "stream",
     "text": [
      "/Users/vivektyagi/miniconda3/envs/envDS/lib/python3.9/site-packages/sklearn/ensemble/_forest.py:414: FutureWarning: `max_features='auto'` has been deprecated in 1.1 and will be removed in 1.3. To keep the past behaviour, explicitly set `max_features=1.0` or remove this parameter as it is also the default value for RandomForestRegressors and ExtraTreesRegressors.\n",
      "  warn(\n",
      "/Users/vivektyagi/miniconda3/envs/envDS/lib/python3.9/site-packages/sklearn/ensemble/_forest.py:414: FutureWarning: `max_features='auto'` has been deprecated in 1.1 and will be removed in 1.3. To keep the past behaviour, explicitly set `max_features=1.0` or remove this parameter as it is also the default value for RandomForestRegressors and ExtraTreesRegressors.\n",
      "  warn(\n"
     ]
    },
    {
     "name": "stdout",
     "output_type": "stream",
     "text": [
      "[CV 5/10] END regressor__max_depth=20, regressor__max_features=sqrt, regressor__max_samples=1.0, regressor__n_estimators=300;, score=0.893 total time=   2.7s\n",
      "[CV 6/10] END regressor__max_depth=20, regressor__max_features=sqrt, regressor__max_samples=1.0, regressor__n_estimators=300;, score=0.881 total time=   2.7s\n"
     ]
    },
    {
     "name": "stderr",
     "output_type": "stream",
     "text": [
      "/Users/vivektyagi/miniconda3/envs/envDS/lib/python3.9/site-packages/sklearn/ensemble/_forest.py:414: FutureWarning: `max_features='auto'` has been deprecated in 1.1 and will be removed in 1.3. To keep the past behaviour, explicitly set `max_features=1.0` or remove this parameter as it is also the default value for RandomForestRegressors and ExtraTreesRegressors.\n",
      "  warn(\n",
      "/Users/vivektyagi/miniconda3/envs/envDS/lib/python3.9/site-packages/sklearn/ensemble/_forest.py:414: FutureWarning: `max_features='auto'` has been deprecated in 1.1 and will be removed in 1.3. To keep the past behaviour, explicitly set `max_features=1.0` or remove this parameter as it is also the default value for RandomForestRegressors and ExtraTreesRegressors.\n",
      "  warn(\n"
     ]
    },
    {
     "name": "stdout",
     "output_type": "stream",
     "text": [
      "[CV 1/10] END regressor__max_depth=30, regressor__max_features=auto, regressor__max_samples=0.1, regressor__n_estimators=50;, score=0.882 total time=   0.4s\n",
      "[CV 2/10] END regressor__max_depth=30, regressor__max_features=auto, regressor__max_samples=0.1, regressor__n_estimators=50;, score=0.901 total time=   0.5s\n"
     ]
    },
    {
     "name": "stderr",
     "output_type": "stream",
     "text": [
      "/Users/vivektyagi/miniconda3/envs/envDS/lib/python3.9/site-packages/sklearn/ensemble/_forest.py:414: FutureWarning: `max_features='auto'` has been deprecated in 1.1 and will be removed in 1.3. To keep the past behaviour, explicitly set `max_features=1.0` or remove this parameter as it is also the default value for RandomForestRegressors and ExtraTreesRegressors.\n",
      "  warn(\n",
      "/Users/vivektyagi/miniconda3/envs/envDS/lib/python3.9/site-packages/sklearn/ensemble/_forest.py:414: FutureWarning: `max_features='auto'` has been deprecated in 1.1 and will be removed in 1.3. To keep the past behaviour, explicitly set `max_features=1.0` or remove this parameter as it is also the default value for RandomForestRegressors and ExtraTreesRegressors.\n",
      "  warn(\n"
     ]
    },
    {
     "name": "stdout",
     "output_type": "stream",
     "text": [
      "[CV 3/10] END regressor__max_depth=30, regressor__max_features=auto, regressor__max_samples=0.1, regressor__n_estimators=50;, score=0.894 total time=   0.6s\n",
      "[CV 4/10] END regressor__max_depth=30, regressor__max_features=auto, regressor__max_samples=0.1, regressor__n_estimators=50;, score=0.880 total time=   0.5s\n"
     ]
    },
    {
     "name": "stderr",
     "output_type": "stream",
     "text": [
      "/Users/vivektyagi/miniconda3/envs/envDS/lib/python3.9/site-packages/sklearn/ensemble/_forest.py:414: FutureWarning: `max_features='auto'` has been deprecated in 1.1 and will be removed in 1.3. To keep the past behaviour, explicitly set `max_features=1.0` or remove this parameter as it is also the default value for RandomForestRegressors and ExtraTreesRegressors.\n",
      "  warn(\n",
      "/Users/vivektyagi/miniconda3/envs/envDS/lib/python3.9/site-packages/sklearn/ensemble/_forest.py:414: FutureWarning: `max_features='auto'` has been deprecated in 1.1 and will be removed in 1.3. To keep the past behaviour, explicitly set `max_features=1.0` or remove this parameter as it is also the default value for RandomForestRegressors and ExtraTreesRegressors.\n",
      "  warn(\n",
      "/Users/vivektyagi/miniconda3/envs/envDS/lib/python3.9/site-packages/sklearn/ensemble/_forest.py:414: FutureWarning: `max_features='auto'` has been deprecated in 1.1 and will be removed in 1.3. To keep the past behaviour, explicitly set `max_features=1.0` or remove this parameter as it is also the default value for RandomForestRegressors and ExtraTreesRegressors.\n",
      "  warn(\n",
      "/Users/vivektyagi/miniconda3/envs/envDS/lib/python3.9/site-packages/sklearn/ensemble/_forest.py:414: FutureWarning: `max_features='auto'` has been deprecated in 1.1 and will be removed in 1.3. To keep the past behaviour, explicitly set `max_features=1.0` or remove this parameter as it is also the default value for RandomForestRegressors and ExtraTreesRegressors.\n",
      "  warn(\n"
     ]
    },
    {
     "name": "stdout",
     "output_type": "stream",
     "text": [
      "[CV 5/10] END regressor__max_depth=30, regressor__max_features=auto, regressor__max_samples=0.1, regressor__n_estimators=50;, score=0.872 total time=   0.7s\n",
      "[CV 6/10] END regressor__max_depth=30, regressor__max_features=auto, regressor__max_samples=0.1, regressor__n_estimators=50;, score=0.861 total time=   0.6s\n",
      "[CV 7/10] END regressor__max_depth=30, regressor__max_features=auto, regressor__max_samples=0.1, regressor__n_estimators=50;, score=0.876 total time=   0.6s\n",
      "[CV 8/10] END regressor__max_depth=30, regressor__max_features=auto, regressor__max_samples=0.1, regressor__n_estimators=50;, score=0.871 total time=   0.5s\n",
      "[CV 9/10] END regressor__max_depth=30, regressor__max_features=auto, regressor__max_samples=0.1, regressor__n_estimators=50;, score=0.835 total time=   0.4s\n"
     ]
    },
    {
     "name": "stderr",
     "output_type": "stream",
     "text": [
      "/Users/vivektyagi/miniconda3/envs/envDS/lib/python3.9/site-packages/sklearn/ensemble/_forest.py:414: FutureWarning: `max_features='auto'` has been deprecated in 1.1 and will be removed in 1.3. To keep the past behaviour, explicitly set `max_features=1.0` or remove this parameter as it is also the default value for RandomForestRegressors and ExtraTreesRegressors.\n",
      "  warn(\n",
      "/Users/vivektyagi/miniconda3/envs/envDS/lib/python3.9/site-packages/sklearn/ensemble/_forest.py:414: FutureWarning: `max_features='auto'` has been deprecated in 1.1 and will be removed in 1.3. To keep the past behaviour, explicitly set `max_features=1.0` or remove this parameter as it is also the default value for RandomForestRegressors and ExtraTreesRegressors.\n",
      "  warn(\n"
     ]
    },
    {
     "name": "stdout",
     "output_type": "stream",
     "text": [
      "[CV 10/10] END regressor__max_depth=30, regressor__max_features=auto, regressor__max_samples=0.1, regressor__n_estimators=50;, score=0.864 total time=   0.5s\n",
      "[CV 7/10] END regressor__max_depth=20, regressor__max_features=sqrt, regressor__max_samples=1.0, regressor__n_estimators=300;, score=0.895 total time=   3.3s\n"
     ]
    },
    {
     "name": "stderr",
     "output_type": "stream",
     "text": [
      "/Users/vivektyagi/miniconda3/envs/envDS/lib/python3.9/site-packages/sklearn/ensemble/_forest.py:414: FutureWarning: `max_features='auto'` has been deprecated in 1.1 and will be removed in 1.3. To keep the past behaviour, explicitly set `max_features=1.0` or remove this parameter as it is also the default value for RandomForestRegressors and ExtraTreesRegressors.\n",
      "  warn(\n",
      "/Users/vivektyagi/miniconda3/envs/envDS/lib/python3.9/site-packages/sklearn/ensemble/_forest.py:414: FutureWarning: `max_features='auto'` has been deprecated in 1.1 and will be removed in 1.3. To keep the past behaviour, explicitly set `max_features=1.0` or remove this parameter as it is also the default value for RandomForestRegressors and ExtraTreesRegressors.\n",
      "  warn(\n"
     ]
    },
    {
     "name": "stdout",
     "output_type": "stream",
     "text": [
      "[CV 8/10] END regressor__max_depth=20, regressor__max_features=sqrt, regressor__max_samples=1.0, regressor__n_estimators=300;, score=0.890 total time=   3.3s\n"
     ]
    },
    {
     "name": "stderr",
     "output_type": "stream",
     "text": [
      "/Users/vivektyagi/miniconda3/envs/envDS/lib/python3.9/site-packages/sklearn/ensemble/_forest.py:414: FutureWarning: `max_features='auto'` has been deprecated in 1.1 and will be removed in 1.3. To keep the past behaviour, explicitly set `max_features=1.0` or remove this parameter as it is also the default value for RandomForestRegressors and ExtraTreesRegressors.\n",
      "  warn(\n",
      "/Users/vivektyagi/miniconda3/envs/envDS/lib/python3.9/site-packages/sklearn/ensemble/_forest.py:414: FutureWarning: `max_features='auto'` has been deprecated in 1.1 and will be removed in 1.3. To keep the past behaviour, explicitly set `max_features=1.0` or remove this parameter as it is also the default value for RandomForestRegressors and ExtraTreesRegressors.\n",
      "  warn(\n"
     ]
    },
    {
     "name": "stdout",
     "output_type": "stream",
     "text": [
      "[CV 1/10] END regressor__max_depth=30, regressor__max_features=auto, regressor__max_samples=0.1, regressor__n_estimators=100;, score=0.883 total time=   0.8s\n",
      "[CV 2/10] END regressor__max_depth=30, regressor__max_features=auto, regressor__max_samples=0.1, regressor__n_estimators=100;, score=0.902 total time=   0.8s\n",
      "[CV 3/10] END regressor__max_depth=30, regressor__max_features=auto, regressor__max_samples=0.1, regressor__n_estimators=100;, score=0.890 total time=   0.8s\n"
     ]
    },
    {
     "name": "stderr",
     "output_type": "stream",
     "text": [
      "/Users/vivektyagi/miniconda3/envs/envDS/lib/python3.9/site-packages/sklearn/ensemble/_forest.py:414: FutureWarning: `max_features='auto'` has been deprecated in 1.1 and will be removed in 1.3. To keep the past behaviour, explicitly set `max_features=1.0` or remove this parameter as it is also the default value for RandomForestRegressors and ExtraTreesRegressors.\n",
      "  warn(\n",
      "/Users/vivektyagi/miniconda3/envs/envDS/lib/python3.9/site-packages/sklearn/ensemble/_forest.py:414: FutureWarning: `max_features='auto'` has been deprecated in 1.1 and will be removed in 1.3. To keep the past behaviour, explicitly set `max_features=1.0` or remove this parameter as it is also the default value for RandomForestRegressors and ExtraTreesRegressors.\n",
      "  warn(\n"
     ]
    },
    {
     "name": "stdout",
     "output_type": "stream",
     "text": [
      "[CV 4/10] END regressor__max_depth=30, regressor__max_features=auto, regressor__max_samples=0.1, regressor__n_estimators=100;, score=0.884 total time=   1.0s\n",
      "[CV 5/10] END regressor__max_depth=30, regressor__max_features=auto, regressor__max_samples=0.1, regressor__n_estimators=100;, score=0.870 total time=   1.0s\n"
     ]
    },
    {
     "name": "stderr",
     "output_type": "stream",
     "text": [
      "/Users/vivektyagi/miniconda3/envs/envDS/lib/python3.9/site-packages/sklearn/ensemble/_forest.py:414: FutureWarning: `max_features='auto'` has been deprecated in 1.1 and will be removed in 1.3. To keep the past behaviour, explicitly set `max_features=1.0` or remove this parameter as it is also the default value for RandomForestRegressors and ExtraTreesRegressors.\n",
      "  warn(\n",
      "/Users/vivektyagi/miniconda3/envs/envDS/lib/python3.9/site-packages/sklearn/ensemble/_forest.py:414: FutureWarning: `max_features='auto'` has been deprecated in 1.1 and will be removed in 1.3. To keep the past behaviour, explicitly set `max_features=1.0` or remove this parameter as it is also the default value for RandomForestRegressors and ExtraTreesRegressors.\n",
      "  warn(\n",
      "/Users/vivektyagi/miniconda3/envs/envDS/lib/python3.9/site-packages/sklearn/ensemble/_forest.py:414: FutureWarning: `max_features='auto'` has been deprecated in 1.1 and will be removed in 1.3. To keep the past behaviour, explicitly set `max_features=1.0` or remove this parameter as it is also the default value for RandomForestRegressors and ExtraTreesRegressors.\n",
      "  warn(\n"
     ]
    },
    {
     "name": "stdout",
     "output_type": "stream",
     "text": [
      "[CV 6/10] END regressor__max_depth=30, regressor__max_features=auto, regressor__max_samples=0.1, regressor__n_estimators=100;, score=0.863 total time=   1.0s\n"
     ]
    },
    {
     "name": "stderr",
     "output_type": "stream",
     "text": [
      "/Users/vivektyagi/miniconda3/envs/envDS/lib/python3.9/site-packages/sklearn/ensemble/_forest.py:414: FutureWarning: `max_features='auto'` has been deprecated in 1.1 and will be removed in 1.3. To keep the past behaviour, explicitly set `max_features=1.0` or remove this parameter as it is also the default value for RandomForestRegressors and ExtraTreesRegressors.\n",
      "  warn(\n"
     ]
    },
    {
     "name": "stdout",
     "output_type": "stream",
     "text": [
      "[CV 7/10] END regressor__max_depth=30, regressor__max_features=auto, regressor__max_samples=0.1, regressor__n_estimators=100;, score=0.870 total time=   1.0s\n",
      "[CV 8/10] END regressor__max_depth=30, regressor__max_features=auto, regressor__max_samples=0.1, regressor__n_estimators=100;, score=0.873 total time=   1.0s\n"
     ]
    },
    {
     "name": "stderr",
     "output_type": "stream",
     "text": [
      "/Users/vivektyagi/miniconda3/envs/envDS/lib/python3.9/site-packages/sklearn/ensemble/_forest.py:414: FutureWarning: `max_features='auto'` has been deprecated in 1.1 and will be removed in 1.3. To keep the past behaviour, explicitly set `max_features=1.0` or remove this parameter as it is also the default value for RandomForestRegressors and ExtraTreesRegressors.\n",
      "  warn(\n",
      "/Users/vivektyagi/miniconda3/envs/envDS/lib/python3.9/site-packages/sklearn/ensemble/_forest.py:414: FutureWarning: `max_features='auto'` has been deprecated in 1.1 and will be removed in 1.3. To keep the past behaviour, explicitly set `max_features=1.0` or remove this parameter as it is also the default value for RandomForestRegressors and ExtraTreesRegressors.\n",
      "  warn(\n"
     ]
    },
    {
     "name": "stdout",
     "output_type": "stream",
     "text": [
      "[CV 9/10] END regressor__max_depth=30, regressor__max_features=auto, regressor__max_samples=0.1, regressor__n_estimators=100;, score=0.852 total time=   1.0s\n",
      "[CV 10/10] END regressor__max_depth=30, regressor__max_features=auto, regressor__max_samples=0.1, regressor__n_estimators=100;, score=0.862 total time=   0.9s\n"
     ]
    },
    {
     "name": "stderr",
     "output_type": "stream",
     "text": [
      "/Users/vivektyagi/miniconda3/envs/envDS/lib/python3.9/site-packages/sklearn/ensemble/_forest.py:414: FutureWarning: `max_features='auto'` has been deprecated in 1.1 and will be removed in 1.3. To keep the past behaviour, explicitly set `max_features=1.0` or remove this parameter as it is also the default value for RandomForestRegressors and ExtraTreesRegressors.\n",
      "  warn(\n",
      "/Users/vivektyagi/miniconda3/envs/envDS/lib/python3.9/site-packages/sklearn/ensemble/_forest.py:414: FutureWarning: `max_features='auto'` has been deprecated in 1.1 and will be removed in 1.3. To keep the past behaviour, explicitly set `max_features=1.0` or remove this parameter as it is also the default value for RandomForestRegressors and ExtraTreesRegressors.\n",
      "  warn(\n"
     ]
    },
    {
     "name": "stdout",
     "output_type": "stream",
     "text": [
      "[CV 9/10] END regressor__max_depth=20, regressor__max_features=sqrt, regressor__max_samples=1.0, regressor__n_estimators=300;, score=0.878 total time=   4.0s\n",
      "[CV 10/10] END regressor__max_depth=20, regressor__max_features=sqrt, regressor__max_samples=1.0, regressor__n_estimators=300;, score=0.872 total time=   4.1s\n"
     ]
    },
    {
     "name": "stderr",
     "output_type": "stream",
     "text": [
      "/Users/vivektyagi/miniconda3/envs/envDS/lib/python3.9/site-packages/sklearn/ensemble/_forest.py:414: FutureWarning: `max_features='auto'` has been deprecated in 1.1 and will be removed in 1.3. To keep the past behaviour, explicitly set `max_features=1.0` or remove this parameter as it is also the default value for RandomForestRegressors and ExtraTreesRegressors.\n",
      "  warn(\n",
      "/Users/vivektyagi/miniconda3/envs/envDS/lib/python3.9/site-packages/sklearn/ensemble/_forest.py:414: FutureWarning: `max_features='auto'` has been deprecated in 1.1 and will be removed in 1.3. To keep the past behaviour, explicitly set `max_features=1.0` or remove this parameter as it is also the default value for RandomForestRegressors and ExtraTreesRegressors.\n",
      "  warn(\n"
     ]
    },
    {
     "name": "stdout",
     "output_type": "stream",
     "text": [
      "[CV 1/10] END regressor__max_depth=30, regressor__max_features=auto, regressor__max_samples=0.1, regressor__n_estimators=200;, score=0.883 total time=   1.6s\n",
      "[CV 2/10] END regressor__max_depth=30, regressor__max_features=auto, regressor__max_samples=0.1, regressor__n_estimators=200;, score=0.906 total time=   1.5s\n"
     ]
    },
    {
     "name": "stderr",
     "output_type": "stream",
     "text": [
      "/Users/vivektyagi/miniconda3/envs/envDS/lib/python3.9/site-packages/sklearn/ensemble/_forest.py:414: FutureWarning: `max_features='auto'` has been deprecated in 1.1 and will be removed in 1.3. To keep the past behaviour, explicitly set `max_features=1.0` or remove this parameter as it is also the default value for RandomForestRegressors and ExtraTreesRegressors.\n",
      "  warn(\n",
      "/Users/vivektyagi/miniconda3/envs/envDS/lib/python3.9/site-packages/sklearn/ensemble/_forest.py:414: FutureWarning: `max_features='auto'` has been deprecated in 1.1 and will be removed in 1.3. To keep the past behaviour, explicitly set `max_features=1.0` or remove this parameter as it is also the default value for RandomForestRegressors and ExtraTreesRegressors.\n",
      "  warn(\n"
     ]
    },
    {
     "name": "stdout",
     "output_type": "stream",
     "text": [
      "[CV 3/10] END regressor__max_depth=30, regressor__max_features=auto, regressor__max_samples=0.1, regressor__n_estimators=200;, score=0.896 total time=   1.6s\n",
      "[CV 4/10] END regressor__max_depth=30, regressor__max_features=auto, regressor__max_samples=0.1, regressor__n_estimators=200;, score=0.881 total time=   1.5s\n"
     ]
    },
    {
     "name": "stderr",
     "output_type": "stream",
     "text": [
      "/Users/vivektyagi/miniconda3/envs/envDS/lib/python3.9/site-packages/sklearn/ensemble/_forest.py:414: FutureWarning: `max_features='auto'` has been deprecated in 1.1 and will be removed in 1.3. To keep the past behaviour, explicitly set `max_features=1.0` or remove this parameter as it is also the default value for RandomForestRegressors and ExtraTreesRegressors.\n",
      "  warn(\n",
      "/Users/vivektyagi/miniconda3/envs/envDS/lib/python3.9/site-packages/sklearn/ensemble/_forest.py:414: FutureWarning: `max_features='auto'` has been deprecated in 1.1 and will be removed in 1.3. To keep the past behaviour, explicitly set `max_features=1.0` or remove this parameter as it is also the default value for RandomForestRegressors and ExtraTreesRegressors.\n",
      "  warn(\n"
     ]
    },
    {
     "name": "stdout",
     "output_type": "stream",
     "text": [
      "[CV 5/10] END regressor__max_depth=30, regressor__max_features=auto, regressor__max_samples=0.1, regressor__n_estimators=200;, score=0.875 total time=   1.6s\n",
      "[CV 6/10] END regressor__max_depth=30, regressor__max_features=auto, regressor__max_samples=0.1, regressor__n_estimators=200;, score=0.864 total time=   1.6s\n"
     ]
    },
    {
     "name": "stderr",
     "output_type": "stream",
     "text": [
      "/Users/vivektyagi/miniconda3/envs/envDS/lib/python3.9/site-packages/sklearn/ensemble/_forest.py:414: FutureWarning: `max_features='auto'` has been deprecated in 1.1 and will be removed in 1.3. To keep the past behaviour, explicitly set `max_features=1.0` or remove this parameter as it is also the default value for RandomForestRegressors and ExtraTreesRegressors.\n",
      "  warn(\n",
      "/Users/vivektyagi/miniconda3/envs/envDS/lib/python3.9/site-packages/sklearn/ensemble/_forest.py:414: FutureWarning: `max_features='auto'` has been deprecated in 1.1 and will be removed in 1.3. To keep the past behaviour, explicitly set `max_features=1.0` or remove this parameter as it is also the default value for RandomForestRegressors and ExtraTreesRegressors.\n",
      "  warn(\n"
     ]
    },
    {
     "name": "stdout",
     "output_type": "stream",
     "text": [
      "[CV 7/10] END regressor__max_depth=30, regressor__max_features=auto, regressor__max_samples=0.1, regressor__n_estimators=200;, score=0.874 total time=   1.6s\n",
      "[CV 8/10] END regressor__max_depth=30, regressor__max_features=auto, regressor__max_samples=0.1, regressor__n_estimators=200;, score=0.875 total time=   1.6s\n"
     ]
    },
    {
     "name": "stderr",
     "output_type": "stream",
     "text": [
      "/Users/vivektyagi/miniconda3/envs/envDS/lib/python3.9/site-packages/sklearn/ensemble/_forest.py:414: FutureWarning: `max_features='auto'` has been deprecated in 1.1 and will be removed in 1.3. To keep the past behaviour, explicitly set `max_features=1.0` or remove this parameter as it is also the default value for RandomForestRegressors and ExtraTreesRegressors.\n",
      "  warn(\n",
      "/Users/vivektyagi/miniconda3/envs/envDS/lib/python3.9/site-packages/sklearn/ensemble/_forest.py:414: FutureWarning: `max_features='auto'` has been deprecated in 1.1 and will be removed in 1.3. To keep the past behaviour, explicitly set `max_features=1.0` or remove this parameter as it is also the default value for RandomForestRegressors and ExtraTreesRegressors.\n",
      "  warn(\n"
     ]
    },
    {
     "name": "stdout",
     "output_type": "stream",
     "text": [
      "[CV 9/10] END regressor__max_depth=30, regressor__max_features=auto, regressor__max_samples=0.1, regressor__n_estimators=200;, score=0.845 total time=   1.6s\n",
      "[CV 10/10] END regressor__max_depth=30, regressor__max_features=auto, regressor__max_samples=0.1, regressor__n_estimators=200;, score=0.864 total time=   1.6s\n"
     ]
    },
    {
     "name": "stderr",
     "output_type": "stream",
     "text": [
      "/Users/vivektyagi/miniconda3/envs/envDS/lib/python3.9/site-packages/sklearn/ensemble/_forest.py:414: FutureWarning: `max_features='auto'` has been deprecated in 1.1 and will be removed in 1.3. To keep the past behaviour, explicitly set `max_features=1.0` or remove this parameter as it is also the default value for RandomForestRegressors and ExtraTreesRegressors.\n",
      "  warn(\n",
      "/Users/vivektyagi/miniconda3/envs/envDS/lib/python3.9/site-packages/sklearn/ensemble/_forest.py:414: FutureWarning: `max_features='auto'` has been deprecated in 1.1 and will be removed in 1.3. To keep the past behaviour, explicitly set `max_features=1.0` or remove this parameter as it is also the default value for RandomForestRegressors and ExtraTreesRegressors.\n",
      "  warn(\n"
     ]
    },
    {
     "name": "stdout",
     "output_type": "stream",
     "text": [
      "[CV 1/10] END regressor__max_depth=30, regressor__max_features=auto, regressor__max_samples=0.1, regressor__n_estimators=300;, score=0.884 total time=   2.1s\n",
      "[CV 2/10] END regressor__max_depth=30, regressor__max_features=auto, regressor__max_samples=0.1, regressor__n_estimators=300;, score=0.905 total time=   2.1s\n"
     ]
    },
    {
     "name": "stderr",
     "output_type": "stream",
     "text": [
      "/Users/vivektyagi/miniconda3/envs/envDS/lib/python3.9/site-packages/sklearn/ensemble/_forest.py:414: FutureWarning: `max_features='auto'` has been deprecated in 1.1 and will be removed in 1.3. To keep the past behaviour, explicitly set `max_features=1.0` or remove this parameter as it is also the default value for RandomForestRegressors and ExtraTreesRegressors.\n",
      "  warn(\n",
      "/Users/vivektyagi/miniconda3/envs/envDS/lib/python3.9/site-packages/sklearn/ensemble/_forest.py:414: FutureWarning: `max_features='auto'` has been deprecated in 1.1 and will be removed in 1.3. To keep the past behaviour, explicitly set `max_features=1.0` or remove this parameter as it is also the default value for RandomForestRegressors and ExtraTreesRegressors.\n",
      "  warn(\n"
     ]
    },
    {
     "name": "stdout",
     "output_type": "stream",
     "text": [
      "[CV 3/10] END regressor__max_depth=30, regressor__max_features=auto, regressor__max_samples=0.1, regressor__n_estimators=300;, score=0.895 total time=   2.1s\n",
      "[CV 4/10] END regressor__max_depth=30, regressor__max_features=auto, regressor__max_samples=0.1, regressor__n_estimators=300;, score=0.882 total time=   2.1s\n"
     ]
    },
    {
     "name": "stderr",
     "output_type": "stream",
     "text": [
      "/Users/vivektyagi/miniconda3/envs/envDS/lib/python3.9/site-packages/sklearn/ensemble/_forest.py:414: FutureWarning: `max_features='auto'` has been deprecated in 1.1 and will be removed in 1.3. To keep the past behaviour, explicitly set `max_features=1.0` or remove this parameter as it is also the default value for RandomForestRegressors and ExtraTreesRegressors.\n",
      "  warn(\n",
      "/Users/vivektyagi/miniconda3/envs/envDS/lib/python3.9/site-packages/sklearn/ensemble/_forest.py:414: FutureWarning: `max_features='auto'` has been deprecated in 1.1 and will be removed in 1.3. To keep the past behaviour, explicitly set `max_features=1.0` or remove this parameter as it is also the default value for RandomForestRegressors and ExtraTreesRegressors.\n",
      "  warn(\n",
      "/Users/vivektyagi/miniconda3/envs/envDS/lib/python3.9/site-packages/sklearn/ensemble/_forest.py:414: FutureWarning: `max_features='auto'` has been deprecated in 1.1 and will be removed in 1.3. To keep the past behaviour, explicitly set `max_features=1.0` or remove this parameter as it is also the default value for RandomForestRegressors and ExtraTreesRegressors.\n",
      "  warn(\n"
     ]
    },
    {
     "name": "stdout",
     "output_type": "stream",
     "text": [
      "[CV 5/10] END regressor__max_depth=30, regressor__max_features=auto, regressor__max_samples=0.1, regressor__n_estimators=300;, score=0.876 total time=   2.1s\n",
      "[CV 6/10] END regressor__max_depth=30, regressor__max_features=auto, regressor__max_samples=0.1, regressor__n_estimators=300;, score=0.863 total time=   2.1s\n"
     ]
    },
    {
     "name": "stderr",
     "output_type": "stream",
     "text": [
      "/Users/vivektyagi/miniconda3/envs/envDS/lib/python3.9/site-packages/sklearn/ensemble/_forest.py:414: FutureWarning: `max_features='auto'` has been deprecated in 1.1 and will be removed in 1.3. To keep the past behaviour, explicitly set `max_features=1.0` or remove this parameter as it is also the default value for RandomForestRegressors and ExtraTreesRegressors.\n",
      "  warn(\n"
     ]
    },
    {
     "name": "stdout",
     "output_type": "stream",
     "text": [
      "[CV 1/10] END regressor__max_depth=30, regressor__max_features=auto, regressor__max_samples=0.25, regressor__n_estimators=50;, score=0.891 total time=   0.7s\n",
      "[CV 2/10] END regressor__max_depth=30, regressor__max_features=auto, regressor__max_samples=0.25, regressor__n_estimators=50;, score=0.919 total time=   0.7s\n",
      "[CV 3/10] END regressor__max_depth=30, regressor__max_features=auto, regressor__max_samples=0.25, regressor__n_estimators=50;, score=0.909 total time=   0.7s\n",
      "[CV 4/10] END regressor__max_depth=30, regressor__max_features=auto, regressor__max_samples=0.25, regressor__n_estimators=50;, score=0.893 total time=   0.6s\n",
      "[CV 7/10] END regressor__max_depth=30, regressor__max_features=auto, regressor__max_samples=0.1, regressor__n_estimators=300;, score=0.878 total time=   2.1s\n"
     ]
    },
    {
     "name": "stderr",
     "output_type": "stream",
     "text": [
      "/Users/vivektyagi/miniconda3/envs/envDS/lib/python3.9/site-packages/sklearn/ensemble/_forest.py:414: FutureWarning: `max_features='auto'` has been deprecated in 1.1 and will be removed in 1.3. To keep the past behaviour, explicitly set `max_features=1.0` or remove this parameter as it is also the default value for RandomForestRegressors and ExtraTreesRegressors.\n",
      "  warn(\n",
      "/Users/vivektyagi/miniconda3/envs/envDS/lib/python3.9/site-packages/sklearn/ensemble/_forest.py:414: FutureWarning: `max_features='auto'` has been deprecated in 1.1 and will be removed in 1.3. To keep the past behaviour, explicitly set `max_features=1.0` or remove this parameter as it is also the default value for RandomForestRegressors and ExtraTreesRegressors.\n",
      "  warn(\n"
     ]
    },
    {
     "name": "stdout",
     "output_type": "stream",
     "text": [
      "[CV 8/10] END regressor__max_depth=30, regressor__max_features=auto, regressor__max_samples=0.1, regressor__n_estimators=300;, score=0.875 total time=   2.1s\n"
     ]
    },
    {
     "name": "stderr",
     "output_type": "stream",
     "text": [
      "/Users/vivektyagi/miniconda3/envs/envDS/lib/python3.9/site-packages/sklearn/ensemble/_forest.py:414: FutureWarning: `max_features='auto'` has been deprecated in 1.1 and will be removed in 1.3. To keep the past behaviour, explicitly set `max_features=1.0` or remove this parameter as it is also the default value for RandomForestRegressors and ExtraTreesRegressors.\n",
      "  warn(\n",
      "/Users/vivektyagi/miniconda3/envs/envDS/lib/python3.9/site-packages/sklearn/ensemble/_forest.py:414: FutureWarning: `max_features='auto'` has been deprecated in 1.1 and will be removed in 1.3. To keep the past behaviour, explicitly set `max_features=1.0` or remove this parameter as it is also the default value for RandomForestRegressors and ExtraTreesRegressors.\n",
      "  warn(\n",
      "/Users/vivektyagi/miniconda3/envs/envDS/lib/python3.9/site-packages/sklearn/ensemble/_forest.py:414: FutureWarning: `max_features='auto'` has been deprecated in 1.1 and will be removed in 1.3. To keep the past behaviour, explicitly set `max_features=1.0` or remove this parameter as it is also the default value for RandomForestRegressors and ExtraTreesRegressors.\n",
      "  warn(\n",
      "/Users/vivektyagi/miniconda3/envs/envDS/lib/python3.9/site-packages/sklearn/ensemble/_forest.py:414: FutureWarning: `max_features='auto'` has been deprecated in 1.1 and will be removed in 1.3. To keep the past behaviour, explicitly set `max_features=1.0` or remove this parameter as it is also the default value for RandomForestRegressors and ExtraTreesRegressors.\n",
      "  warn(\n"
     ]
    },
    {
     "name": "stdout",
     "output_type": "stream",
     "text": [
      "[CV 5/10] END regressor__max_depth=30, regressor__max_features=auto, regressor__max_samples=0.25, regressor__n_estimators=50;, score=0.887 total time=   0.6s\n",
      "[CV 6/10] END regressor__max_depth=30, regressor__max_features=auto, regressor__max_samples=0.25, regressor__n_estimators=50;, score=0.872 total time=   0.7s\n",
      "[CV 7/10] END regressor__max_depth=30, regressor__max_features=auto, regressor__max_samples=0.25, regressor__n_estimators=50;, score=0.885 total time=   0.6s\n",
      "[CV 9/10] END regressor__max_depth=30, regressor__max_features=auto, regressor__max_samples=0.25, regressor__n_estimators=50;, score=0.854 total time=   0.6s\n",
      "[CV 8/10] END regressor__max_depth=30, regressor__max_features=auto, regressor__max_samples=0.25, regressor__n_estimators=50;, score=0.879 total time=   0.6s\n"
     ]
    },
    {
     "name": "stderr",
     "output_type": "stream",
     "text": [
      "/Users/vivektyagi/miniconda3/envs/envDS/lib/python3.9/site-packages/sklearn/ensemble/_forest.py:414: FutureWarning: `max_features='auto'` has been deprecated in 1.1 and will be removed in 1.3. To keep the past behaviour, explicitly set `max_features=1.0` or remove this parameter as it is also the default value for RandomForestRegressors and ExtraTreesRegressors.\n",
      "  warn(\n",
      "/Users/vivektyagi/miniconda3/envs/envDS/lib/python3.9/site-packages/sklearn/ensemble/_forest.py:414: FutureWarning: `max_features='auto'` has been deprecated in 1.1 and will be removed in 1.3. To keep the past behaviour, explicitly set `max_features=1.0` or remove this parameter as it is also the default value for RandomForestRegressors and ExtraTreesRegressors.\n",
      "  warn(\n"
     ]
    },
    {
     "name": "stdout",
     "output_type": "stream",
     "text": [
      "[CV 10/10] END regressor__max_depth=30, regressor__max_features=auto, regressor__max_samples=0.25, regressor__n_estimators=50;, score=0.878 total time=   0.7s\n"
     ]
    },
    {
     "name": "stderr",
     "output_type": "stream",
     "text": [
      "/Users/vivektyagi/miniconda3/envs/envDS/lib/python3.9/site-packages/sklearn/ensemble/_forest.py:414: FutureWarning: `max_features='auto'` has been deprecated in 1.1 and will be removed in 1.3. To keep the past behaviour, explicitly set `max_features=1.0` or remove this parameter as it is also the default value for RandomForestRegressors and ExtraTreesRegressors.\n",
      "  warn(\n",
      "/Users/vivektyagi/miniconda3/envs/envDS/lib/python3.9/site-packages/sklearn/ensemble/_forest.py:414: FutureWarning: `max_features='auto'` has been deprecated in 1.1 and will be removed in 1.3. To keep the past behaviour, explicitly set `max_features=1.0` or remove this parameter as it is also the default value for RandomForestRegressors and ExtraTreesRegressors.\n",
      "  warn(\n",
      "/Users/vivektyagi/miniconda3/envs/envDS/lib/python3.9/site-packages/sklearn/ensemble/_forest.py:414: FutureWarning: `max_features='auto'` has been deprecated in 1.1 and will be removed in 1.3. To keep the past behaviour, explicitly set `max_features=1.0` or remove this parameter as it is also the default value for RandomForestRegressors and ExtraTreesRegressors.\n",
      "  warn(\n",
      "/Users/vivektyagi/miniconda3/envs/envDS/lib/python3.9/site-packages/sklearn/ensemble/_forest.py:414: FutureWarning: `max_features='auto'` has been deprecated in 1.1 and will be removed in 1.3. To keep the past behaviour, explicitly set `max_features=1.0` or remove this parameter as it is also the default value for RandomForestRegressors and ExtraTreesRegressors.\n",
      "  warn(\n"
     ]
    },
    {
     "name": "stdout",
     "output_type": "stream",
     "text": [
      "[CV 9/10] END regressor__max_depth=30, regressor__max_features=auto, regressor__max_samples=0.1, regressor__n_estimators=300;, score=0.848 total time=   2.3s\n",
      "[CV 10/10] END regressor__max_depth=30, regressor__max_features=auto, regressor__max_samples=0.1, regressor__n_estimators=300;, score=0.866 total time=   2.4s\n"
     ]
    },
    {
     "name": "stderr",
     "output_type": "stream",
     "text": [
      "/Users/vivektyagi/miniconda3/envs/envDS/lib/python3.9/site-packages/sklearn/ensemble/_forest.py:414: FutureWarning: `max_features='auto'` has been deprecated in 1.1 and will be removed in 1.3. To keep the past behaviour, explicitly set `max_features=1.0` or remove this parameter as it is also the default value for RandomForestRegressors and ExtraTreesRegressors.\n",
      "  warn(\n",
      "/Users/vivektyagi/miniconda3/envs/envDS/lib/python3.9/site-packages/sklearn/ensemble/_forest.py:414: FutureWarning: `max_features='auto'` has been deprecated in 1.1 and will be removed in 1.3. To keep the past behaviour, explicitly set `max_features=1.0` or remove this parameter as it is also the default value for RandomForestRegressors and ExtraTreesRegressors.\n",
      "  warn(\n"
     ]
    },
    {
     "name": "stdout",
     "output_type": "stream",
     "text": [
      "[CV 1/10] END regressor__max_depth=30, regressor__max_features=auto, regressor__max_samples=0.25, regressor__n_estimators=100;, score=0.887 total time=   1.3s\n",
      "[CV 2/10] END regressor__max_depth=30, regressor__max_features=auto, regressor__max_samples=0.25, regressor__n_estimators=100;, score=0.915 total time=   1.3s\n",
      "[CV 4/10] END regressor__max_depth=30, regressor__max_features=auto, regressor__max_samples=0.25, regressor__n_estimators=100;, score=0.894 total time=   1.3s\n",
      "[CV 5/10] END regressor__max_depth=30, regressor__max_features=auto, regressor__max_samples=0.25, regressor__n_estimators=100;, score=0.891 total time=   1.3s\n",
      "[CV 3/10] END regressor__max_depth=30, regressor__max_features=auto, regressor__max_samples=0.25, regressor__n_estimators=100;, score=0.909 total time=   1.3s\n"
     ]
    },
    {
     "name": "stderr",
     "output_type": "stream",
     "text": [
      "/Users/vivektyagi/miniconda3/envs/envDS/lib/python3.9/site-packages/sklearn/ensemble/_forest.py:414: FutureWarning: `max_features='auto'` has been deprecated in 1.1 and will be removed in 1.3. To keep the past behaviour, explicitly set `max_features=1.0` or remove this parameter as it is also the default value for RandomForestRegressors and ExtraTreesRegressors.\n",
      "  warn(\n",
      "/Users/vivektyagi/miniconda3/envs/envDS/lib/python3.9/site-packages/sklearn/ensemble/_forest.py:414: FutureWarning: `max_features='auto'` has been deprecated in 1.1 and will be removed in 1.3. To keep the past behaviour, explicitly set `max_features=1.0` or remove this parameter as it is also the default value for RandomForestRegressors and ExtraTreesRegressors.\n",
      "  warn(\n",
      "/Users/vivektyagi/miniconda3/envs/envDS/lib/python3.9/site-packages/sklearn/ensemble/_forest.py:414: FutureWarning: `max_features='auto'` has been deprecated in 1.1 and will be removed in 1.3. To keep the past behaviour, explicitly set `max_features=1.0` or remove this parameter as it is also the default value for RandomForestRegressors and ExtraTreesRegressors.\n",
      "  warn(\n",
      "/Users/vivektyagi/miniconda3/envs/envDS/lib/python3.9/site-packages/sklearn/ensemble/_forest.py:414: FutureWarning: `max_features='auto'` has been deprecated in 1.1 and will be removed in 1.3. To keep the past behaviour, explicitly set `max_features=1.0` or remove this parameter as it is also the default value for RandomForestRegressors and ExtraTreesRegressors.\n",
      "  warn(\n",
      "/Users/vivektyagi/miniconda3/envs/envDS/lib/python3.9/site-packages/sklearn/ensemble/_forest.py:414: FutureWarning: `max_features='auto'` has been deprecated in 1.1 and will be removed in 1.3. To keep the past behaviour, explicitly set `max_features=1.0` or remove this parameter as it is also the default value for RandomForestRegressors and ExtraTreesRegressors.\n",
      "  warn(\n"
     ]
    },
    {
     "name": "stdout",
     "output_type": "stream",
     "text": [
      "[CV 6/10] END regressor__max_depth=30, regressor__max_features=auto, regressor__max_samples=0.25, regressor__n_estimators=100;, score=0.871 total time=   1.3s\n"
     ]
    },
    {
     "name": "stderr",
     "output_type": "stream",
     "text": [
      "/Users/vivektyagi/miniconda3/envs/envDS/lib/python3.9/site-packages/sklearn/ensemble/_forest.py:414: FutureWarning: `max_features='auto'` has been deprecated in 1.1 and will be removed in 1.3. To keep the past behaviour, explicitly set `max_features=1.0` or remove this parameter as it is also the default value for RandomForestRegressors and ExtraTreesRegressors.\n",
      "  warn(\n"
     ]
    },
    {
     "name": "stdout",
     "output_type": "stream",
     "text": [
      "[CV 7/10] END regressor__max_depth=30, regressor__max_features=auto, regressor__max_samples=0.25, regressor__n_estimators=100;, score=0.886 total time=   1.2s\n",
      "[CV 8/10] END regressor__max_depth=30, regressor__max_features=auto, regressor__max_samples=0.25, regressor__n_estimators=100;, score=0.884 total time=   1.2s\n"
     ]
    },
    {
     "name": "stderr",
     "output_type": "stream",
     "text": [
      "/Users/vivektyagi/miniconda3/envs/envDS/lib/python3.9/site-packages/sklearn/ensemble/_forest.py:414: FutureWarning: `max_features='auto'` has been deprecated in 1.1 and will be removed in 1.3. To keep the past behaviour, explicitly set `max_features=1.0` or remove this parameter as it is also the default value for RandomForestRegressors and ExtraTreesRegressors.\n",
      "  warn(\n",
      "/Users/vivektyagi/miniconda3/envs/envDS/lib/python3.9/site-packages/sklearn/ensemble/_forest.py:414: FutureWarning: `max_features='auto'` has been deprecated in 1.1 and will be removed in 1.3. To keep the past behaviour, explicitly set `max_features=1.0` or remove this parameter as it is also the default value for RandomForestRegressors and ExtraTreesRegressors.\n",
      "  warn(\n"
     ]
    },
    {
     "name": "stdout",
     "output_type": "stream",
     "text": [
      "[CV 9/10] END regressor__max_depth=30, regressor__max_features=auto, regressor__max_samples=0.25, regressor__n_estimators=100;, score=0.859 total time=   1.1s\n",
      "[CV 10/10] END regressor__max_depth=30, regressor__max_features=auto, regressor__max_samples=0.25, regressor__n_estimators=100;, score=0.875 total time=   1.1s\n"
     ]
    },
    {
     "name": "stderr",
     "output_type": "stream",
     "text": [
      "/Users/vivektyagi/miniconda3/envs/envDS/lib/python3.9/site-packages/sklearn/ensemble/_forest.py:414: FutureWarning: `max_features='auto'` has been deprecated in 1.1 and will be removed in 1.3. To keep the past behaviour, explicitly set `max_features=1.0` or remove this parameter as it is also the default value for RandomForestRegressors and ExtraTreesRegressors.\n",
      "  warn(\n",
      "/Users/vivektyagi/miniconda3/envs/envDS/lib/python3.9/site-packages/sklearn/ensemble/_forest.py:414: FutureWarning: `max_features='auto'` has been deprecated in 1.1 and will be removed in 1.3. To keep the past behaviour, explicitly set `max_features=1.0` or remove this parameter as it is also the default value for RandomForestRegressors and ExtraTreesRegressors.\n",
      "  warn(\n"
     ]
    },
    {
     "name": "stdout",
     "output_type": "stream",
     "text": [
      "[CV 3/10] END regressor__max_depth=30, regressor__max_features=auto, regressor__max_samples=0.25, regressor__n_estimators=200;, score=0.910 total time=   2.0s\n",
      "[CV 1/10] END regressor__max_depth=30, regressor__max_features=auto, regressor__max_samples=0.25, regressor__n_estimators=200;, score=0.891 total time=   2.0s\n",
      "[CV 2/10] END regressor__max_depth=30, regressor__max_features=auto, regressor__max_samples=0.25, regressor__n_estimators=200;, score=0.917 total time=   2.0s\n",
      "[CV 4/10] END regressor__max_depth=30, regressor__max_features=auto, regressor__max_samples=0.25, regressor__n_estimators=200;, score=0.896 total time=   2.0s\n"
     ]
    },
    {
     "name": "stderr",
     "output_type": "stream",
     "text": [
      "/Users/vivektyagi/miniconda3/envs/envDS/lib/python3.9/site-packages/sklearn/ensemble/_forest.py:414: FutureWarning: `max_features='auto'` has been deprecated in 1.1 and will be removed in 1.3. To keep the past behaviour, explicitly set `max_features=1.0` or remove this parameter as it is also the default value for RandomForestRegressors and ExtraTreesRegressors.\n",
      "  warn(\n",
      "/Users/vivektyagi/miniconda3/envs/envDS/lib/python3.9/site-packages/sklearn/ensemble/_forest.py:414: FutureWarning: `max_features='auto'` has been deprecated in 1.1 and will be removed in 1.3. To keep the past behaviour, explicitly set `max_features=1.0` or remove this parameter as it is also the default value for RandomForestRegressors and ExtraTreesRegressors.\n",
      "  warn(\n",
      "/Users/vivektyagi/miniconda3/envs/envDS/lib/python3.9/site-packages/sklearn/ensemble/_forest.py:414: FutureWarning: `max_features='auto'` has been deprecated in 1.1 and will be removed in 1.3. To keep the past behaviour, explicitly set `max_features=1.0` or remove this parameter as it is also the default value for RandomForestRegressors and ExtraTreesRegressors.\n",
      "  warn(\n",
      "/Users/vivektyagi/miniconda3/envs/envDS/lib/python3.9/site-packages/sklearn/ensemble/_forest.py:414: FutureWarning: `max_features='auto'` has been deprecated in 1.1 and will be removed in 1.3. To keep the past behaviour, explicitly set `max_features=1.0` or remove this parameter as it is also the default value for RandomForestRegressors and ExtraTreesRegressors.\n",
      "  warn(\n"
     ]
    },
    {
     "name": "stdout",
     "output_type": "stream",
     "text": [
      "[CV 5/10] END regressor__max_depth=30, regressor__max_features=auto, regressor__max_samples=0.25, regressor__n_estimators=200;, score=0.890 total time=   1.9s\n",
      "[CV 6/10] END regressor__max_depth=30, regressor__max_features=auto, regressor__max_samples=0.25, regressor__n_estimators=200;, score=0.873 total time=   1.9s\n"
     ]
    },
    {
     "name": "stderr",
     "output_type": "stream",
     "text": [
      "/Users/vivektyagi/miniconda3/envs/envDS/lib/python3.9/site-packages/sklearn/ensemble/_forest.py:414: FutureWarning: `max_features='auto'` has been deprecated in 1.1 and will be removed in 1.3. To keep the past behaviour, explicitly set `max_features=1.0` or remove this parameter as it is also the default value for RandomForestRegressors and ExtraTreesRegressors.\n",
      "  warn(\n",
      "/Users/vivektyagi/miniconda3/envs/envDS/lib/python3.9/site-packages/sklearn/ensemble/_forest.py:414: FutureWarning: `max_features='auto'` has been deprecated in 1.1 and will be removed in 1.3. To keep the past behaviour, explicitly set `max_features=1.0` or remove this parameter as it is also the default value for RandomForestRegressors and ExtraTreesRegressors.\n",
      "  warn(\n"
     ]
    },
    {
     "name": "stdout",
     "output_type": "stream",
     "text": [
      "[CV 7/10] END regressor__max_depth=30, regressor__max_features=auto, regressor__max_samples=0.25, regressor__n_estimators=200;, score=0.886 total time=   1.9s\n",
      "[CV 8/10] END regressor__max_depth=30, regressor__max_features=auto, regressor__max_samples=0.25, regressor__n_estimators=200;, score=0.884 total time=   1.9s\n"
     ]
    },
    {
     "name": "stderr",
     "output_type": "stream",
     "text": [
      "/Users/vivektyagi/miniconda3/envs/envDS/lib/python3.9/site-packages/sklearn/ensemble/_forest.py:414: FutureWarning: `max_features='auto'` has been deprecated in 1.1 and will be removed in 1.3. To keep the past behaviour, explicitly set `max_features=1.0` or remove this parameter as it is also the default value for RandomForestRegressors and ExtraTreesRegressors.\n",
      "  warn(\n",
      "/Users/vivektyagi/miniconda3/envs/envDS/lib/python3.9/site-packages/sklearn/ensemble/_forest.py:414: FutureWarning: `max_features='auto'` has been deprecated in 1.1 and will be removed in 1.3. To keep the past behaviour, explicitly set `max_features=1.0` or remove this parameter as it is also the default value for RandomForestRegressors and ExtraTreesRegressors.\n",
      "  warn(\n"
     ]
    },
    {
     "name": "stdout",
     "output_type": "stream",
     "text": [
      "[CV 9/10] END regressor__max_depth=30, regressor__max_features=auto, regressor__max_samples=0.25, regressor__n_estimators=200;, score=0.862 total time=   1.9s\n",
      "[CV 10/10] END regressor__max_depth=30, regressor__max_features=auto, regressor__max_samples=0.25, regressor__n_estimators=200;, score=0.874 total time=   1.9s\n"
     ]
    },
    {
     "name": "stderr",
     "output_type": "stream",
     "text": [
      "/Users/vivektyagi/miniconda3/envs/envDS/lib/python3.9/site-packages/sklearn/ensemble/_forest.py:414: FutureWarning: `max_features='auto'` has been deprecated in 1.1 and will be removed in 1.3. To keep the past behaviour, explicitly set `max_features=1.0` or remove this parameter as it is also the default value for RandomForestRegressors and ExtraTreesRegressors.\n",
      "  warn(\n",
      "/Users/vivektyagi/miniconda3/envs/envDS/lib/python3.9/site-packages/sklearn/ensemble/_forest.py:414: FutureWarning: `max_features='auto'` has been deprecated in 1.1 and will be removed in 1.3. To keep the past behaviour, explicitly set `max_features=1.0` or remove this parameter as it is also the default value for RandomForestRegressors and ExtraTreesRegressors.\n",
      "  warn(\n"
     ]
    },
    {
     "name": "stdout",
     "output_type": "stream",
     "text": [
      "[CV 1/10] END regressor__max_depth=30, regressor__max_features=auto, regressor__max_samples=0.25, regressor__n_estimators=300;, score=0.892 total time=   2.7s\n",
      "[CV 2/10] END regressor__max_depth=30, regressor__max_features=auto, regressor__max_samples=0.25, regressor__n_estimators=300;, score=0.918 total time=   2.8s\n"
     ]
    },
    {
     "name": "stderr",
     "output_type": "stream",
     "text": [
      "/Users/vivektyagi/miniconda3/envs/envDS/lib/python3.9/site-packages/sklearn/ensemble/_forest.py:414: FutureWarning: `max_features='auto'` has been deprecated in 1.1 and will be removed in 1.3. To keep the past behaviour, explicitly set `max_features=1.0` or remove this parameter as it is also the default value for RandomForestRegressors and ExtraTreesRegressors.\n",
      "  warn(\n",
      "/Users/vivektyagi/miniconda3/envs/envDS/lib/python3.9/site-packages/sklearn/ensemble/_forest.py:414: FutureWarning: `max_features='auto'` has been deprecated in 1.1 and will be removed in 1.3. To keep the past behaviour, explicitly set `max_features=1.0` or remove this parameter as it is also the default value for RandomForestRegressors and ExtraTreesRegressors.\n",
      "  warn(\n"
     ]
    },
    {
     "name": "stdout",
     "output_type": "stream",
     "text": [
      "[CV 3/10] END regressor__max_depth=30, regressor__max_features=auto, regressor__max_samples=0.25, regressor__n_estimators=300;, score=0.910 total time=   2.8s\n",
      "[CV 4/10] END regressor__max_depth=30, regressor__max_features=auto, regressor__max_samples=0.25, regressor__n_estimators=300;, score=0.897 total time=   2.8s\n"
     ]
    },
    {
     "name": "stderr",
     "output_type": "stream",
     "text": [
      "/Users/vivektyagi/miniconda3/envs/envDS/lib/python3.9/site-packages/sklearn/ensemble/_forest.py:414: FutureWarning: `max_features='auto'` has been deprecated in 1.1 and will be removed in 1.3. To keep the past behaviour, explicitly set `max_features=1.0` or remove this parameter as it is also the default value for RandomForestRegressors and ExtraTreesRegressors.\n",
      "  warn(\n",
      "/Users/vivektyagi/miniconda3/envs/envDS/lib/python3.9/site-packages/sklearn/ensemble/_forest.py:414: FutureWarning: `max_features='auto'` has been deprecated in 1.1 and will be removed in 1.3. To keep the past behaviour, explicitly set `max_features=1.0` or remove this parameter as it is also the default value for RandomForestRegressors and ExtraTreesRegressors.\n",
      "  warn(\n"
     ]
    },
    {
     "name": "stdout",
     "output_type": "stream",
     "text": [
      "[CV 6/10] END regressor__max_depth=30, regressor__max_features=auto, regressor__max_samples=0.25, regressor__n_estimators=300;, score=0.871 total time=   2.9s\n",
      "[CV 5/10] END regressor__max_depth=30, regressor__max_features=auto, regressor__max_samples=0.25, regressor__n_estimators=300;, score=0.888 total time=   2.9s\n"
     ]
    },
    {
     "name": "stderr",
     "output_type": "stream",
     "text": [
      "/Users/vivektyagi/miniconda3/envs/envDS/lib/python3.9/site-packages/sklearn/ensemble/_forest.py:414: FutureWarning: `max_features='auto'` has been deprecated in 1.1 and will be removed in 1.3. To keep the past behaviour, explicitly set `max_features=1.0` or remove this parameter as it is also the default value for RandomForestRegressors and ExtraTreesRegressors.\n",
      "  warn(\n",
      "/Users/vivektyagi/miniconda3/envs/envDS/lib/python3.9/site-packages/sklearn/ensemble/_forest.py:414: FutureWarning: `max_features='auto'` has been deprecated in 1.1 and will be removed in 1.3. To keep the past behaviour, explicitly set `max_features=1.0` or remove this parameter as it is also the default value for RandomForestRegressors and ExtraTreesRegressors.\n",
      "  warn(\n"
     ]
    },
    {
     "name": "stdout",
     "output_type": "stream",
     "text": [
      "[CV 1/10] END regressor__max_depth=30, regressor__max_features=auto, regressor__max_samples=0.5, regressor__n_estimators=50;, score=0.896 total time=   0.9s\n",
      "[CV 2/10] END regressor__max_depth=30, regressor__max_features=auto, regressor__max_samples=0.5, regressor__n_estimators=50;, score=0.923 total time=   0.9s\n"
     ]
    },
    {
     "name": "stderr",
     "output_type": "stream",
     "text": [
      "/Users/vivektyagi/miniconda3/envs/envDS/lib/python3.9/site-packages/sklearn/ensemble/_forest.py:414: FutureWarning: `max_features='auto'` has been deprecated in 1.1 and will be removed in 1.3. To keep the past behaviour, explicitly set `max_features=1.0` or remove this parameter as it is also the default value for RandomForestRegressors and ExtraTreesRegressors.\n",
      "  warn(\n",
      "/Users/vivektyagi/miniconda3/envs/envDS/lib/python3.9/site-packages/sklearn/ensemble/_forest.py:414: FutureWarning: `max_features='auto'` has been deprecated in 1.1 and will be removed in 1.3. To keep the past behaviour, explicitly set `max_features=1.0` or remove this parameter as it is also the default value for RandomForestRegressors and ExtraTreesRegressors.\n",
      "  warn(\n"
     ]
    },
    {
     "name": "stdout",
     "output_type": "stream",
     "text": [
      "[CV 3/10] END regressor__max_depth=30, regressor__max_features=auto, regressor__max_samples=0.5, regressor__n_estimators=50;, score=0.914 total time=   0.9s\n",
      "[CV 4/10] END regressor__max_depth=30, regressor__max_features=auto, regressor__max_samples=0.5, regressor__n_estimators=50;, score=0.896 total time=   0.8s\n"
     ]
    },
    {
     "name": "stderr",
     "output_type": "stream",
     "text": [
      "/Users/vivektyagi/miniconda3/envs/envDS/lib/python3.9/site-packages/sklearn/ensemble/_forest.py:414: FutureWarning: `max_features='auto'` has been deprecated in 1.1 and will be removed in 1.3. To keep the past behaviour, explicitly set `max_features=1.0` or remove this parameter as it is also the default value for RandomForestRegressors and ExtraTreesRegressors.\n",
      "  warn(\n",
      "/Users/vivektyagi/miniconda3/envs/envDS/lib/python3.9/site-packages/sklearn/ensemble/_forest.py:414: FutureWarning: `max_features='auto'` has been deprecated in 1.1 and will be removed in 1.3. To keep the past behaviour, explicitly set `max_features=1.0` or remove this parameter as it is also the default value for RandomForestRegressors and ExtraTreesRegressors.\n",
      "  warn(\n"
     ]
    },
    {
     "name": "stdout",
     "output_type": "stream",
     "text": [
      "[CV 5/10] END regressor__max_depth=30, regressor__max_features=auto, regressor__max_samples=0.5, regressor__n_estimators=50;, score=0.898 total time=   0.9s\n",
      "[CV 8/10] END regressor__max_depth=30, regressor__max_features=auto, regressor__max_samples=0.25, regressor__n_estimators=300;, score=0.884 total time=   3.1s\n",
      "[CV 7/10] END regressor__max_depth=30, regressor__max_features=auto, regressor__max_samples=0.25, regressor__n_estimators=300;, score=0.888 total time=   3.1s\n",
      "[CV 6/10] END regressor__max_depth=30, regressor__max_features=auto, regressor__max_samples=0.5, regressor__n_estimators=50;, score=0.882 total time=   0.9s\n"
     ]
    },
    {
     "name": "stderr",
     "output_type": "stream",
     "text": [
      "/Users/vivektyagi/miniconda3/envs/envDS/lib/python3.9/site-packages/sklearn/ensemble/_forest.py:414: FutureWarning: `max_features='auto'` has been deprecated in 1.1 and will be removed in 1.3. To keep the past behaviour, explicitly set `max_features=1.0` or remove this parameter as it is also the default value for RandomForestRegressors and ExtraTreesRegressors.\n",
      "  warn(\n",
      "/Users/vivektyagi/miniconda3/envs/envDS/lib/python3.9/site-packages/sklearn/ensemble/_forest.py:414: FutureWarning: `max_features='auto'` has been deprecated in 1.1 and will be removed in 1.3. To keep the past behaviour, explicitly set `max_features=1.0` or remove this parameter as it is also the default value for RandomForestRegressors and ExtraTreesRegressors.\n",
      "  warn(\n",
      "/Users/vivektyagi/miniconda3/envs/envDS/lib/python3.9/site-packages/sklearn/ensemble/_forest.py:414: FutureWarning: `max_features='auto'` has been deprecated in 1.1 and will be removed in 1.3. To keep the past behaviour, explicitly set `max_features=1.0` or remove this parameter as it is also the default value for RandomForestRegressors and ExtraTreesRegressors.\n",
      "  warn(\n",
      "/Users/vivektyagi/miniconda3/envs/envDS/lib/python3.9/site-packages/sklearn/ensemble/_forest.py:414: FutureWarning: `max_features='auto'` has been deprecated in 1.1 and will be removed in 1.3. To keep the past behaviour, explicitly set `max_features=1.0` or remove this parameter as it is also the default value for RandomForestRegressors and ExtraTreesRegressors.\n",
      "  warn(\n"
     ]
    },
    {
     "name": "stdout",
     "output_type": "stream",
     "text": [
      "[CV 7/10] END regressor__max_depth=30, regressor__max_features=auto, regressor__max_samples=0.5, regressor__n_estimators=50;, score=0.892 total time=   0.9s\n",
      "[CV 8/10] END regressor__max_depth=30, regressor__max_features=auto, regressor__max_samples=0.5, regressor__n_estimators=50;, score=0.884 total time=   0.9s\n"
     ]
    },
    {
     "name": "stderr",
     "output_type": "stream",
     "text": [
      "/Users/vivektyagi/miniconda3/envs/envDS/lib/python3.9/site-packages/sklearn/ensemble/_forest.py:414: FutureWarning: `max_features='auto'` has been deprecated in 1.1 and will be removed in 1.3. To keep the past behaviour, explicitly set `max_features=1.0` or remove this parameter as it is also the default value for RandomForestRegressors and ExtraTreesRegressors.\n",
      "  warn(\n",
      "/Users/vivektyagi/miniconda3/envs/envDS/lib/python3.9/site-packages/sklearn/ensemble/_forest.py:414: FutureWarning: `max_features='auto'` has been deprecated in 1.1 and will be removed in 1.3. To keep the past behaviour, explicitly set `max_features=1.0` or remove this parameter as it is also the default value for RandomForestRegressors and ExtraTreesRegressors.\n",
      "  warn(\n"
     ]
    },
    {
     "name": "stdout",
     "output_type": "stream",
     "text": [
      "[CV 9/10] END regressor__max_depth=30, regressor__max_features=auto, regressor__max_samples=0.5, regressor__n_estimators=50;, score=0.862 total time=   0.8s\n",
      "[CV 10/10] END regressor__max_depth=30, regressor__max_features=auto, regressor__max_samples=0.5, regressor__n_estimators=50;, score=0.880 total time=   0.8s\n",
      "[CV 9/10] END regressor__max_depth=30, regressor__max_features=auto, regressor__max_samples=0.25, regressor__n_estimators=300;, score=0.862 total time=   3.2s\n"
     ]
    },
    {
     "name": "stderr",
     "output_type": "stream",
     "text": [
      "/Users/vivektyagi/miniconda3/envs/envDS/lib/python3.9/site-packages/sklearn/ensemble/_forest.py:414: FutureWarning: `max_features='auto'` has been deprecated in 1.1 and will be removed in 1.3. To keep the past behaviour, explicitly set `max_features=1.0` or remove this parameter as it is also the default value for RandomForestRegressors and ExtraTreesRegressors.\n",
      "  warn(\n",
      "/Users/vivektyagi/miniconda3/envs/envDS/lib/python3.9/site-packages/sklearn/ensemble/_forest.py:414: FutureWarning: `max_features='auto'` has been deprecated in 1.1 and will be removed in 1.3. To keep the past behaviour, explicitly set `max_features=1.0` or remove this parameter as it is also the default value for RandomForestRegressors and ExtraTreesRegressors.\n",
      "  warn(\n",
      "/Users/vivektyagi/miniconda3/envs/envDS/lib/python3.9/site-packages/sklearn/ensemble/_forest.py:414: FutureWarning: `max_features='auto'` has been deprecated in 1.1 and will be removed in 1.3. To keep the past behaviour, explicitly set `max_features=1.0` or remove this parameter as it is also the default value for RandomForestRegressors and ExtraTreesRegressors.\n",
      "  warn(\n"
     ]
    },
    {
     "name": "stdout",
     "output_type": "stream",
     "text": [
      "[CV 10/10] END regressor__max_depth=30, regressor__max_features=auto, regressor__max_samples=0.25, regressor__n_estimators=300;, score=0.873 total time=   3.4s\n"
     ]
    },
    {
     "name": "stderr",
     "output_type": "stream",
     "text": [
      "/Users/vivektyagi/miniconda3/envs/envDS/lib/python3.9/site-packages/sklearn/ensemble/_forest.py:414: FutureWarning: `max_features='auto'` has been deprecated in 1.1 and will be removed in 1.3. To keep the past behaviour, explicitly set `max_features=1.0` or remove this parameter as it is also the default value for RandomForestRegressors and ExtraTreesRegressors.\n",
      "  warn(\n"
     ]
    },
    {
     "name": "stdout",
     "output_type": "stream",
     "text": [
      "[CV 1/10] END regressor__max_depth=30, regressor__max_features=auto, regressor__max_samples=0.5, regressor__n_estimators=100;, score=0.894 total time=   1.8s\n",
      "[CV 2/10] END regressor__max_depth=30, regressor__max_features=auto, regressor__max_samples=0.5, regressor__n_estimators=100;, score=0.925 total time=   1.8s\n"
     ]
    },
    {
     "name": "stderr",
     "output_type": "stream",
     "text": [
      "/Users/vivektyagi/miniconda3/envs/envDS/lib/python3.9/site-packages/sklearn/ensemble/_forest.py:414: FutureWarning: `max_features='auto'` has been deprecated in 1.1 and will be removed in 1.3. To keep the past behaviour, explicitly set `max_features=1.0` or remove this parameter as it is also the default value for RandomForestRegressors and ExtraTreesRegressors.\n",
      "  warn(\n",
      "/Users/vivektyagi/miniconda3/envs/envDS/lib/python3.9/site-packages/sklearn/ensemble/_forest.py:414: FutureWarning: `max_features='auto'` has been deprecated in 1.1 and will be removed in 1.3. To keep the past behaviour, explicitly set `max_features=1.0` or remove this parameter as it is also the default value for RandomForestRegressors and ExtraTreesRegressors.\n",
      "  warn(\n"
     ]
    },
    {
     "name": "stdout",
     "output_type": "stream",
     "text": [
      "[CV 3/10] END regressor__max_depth=30, regressor__max_features=auto, regressor__max_samples=0.5, regressor__n_estimators=100;, score=0.914 total time=   1.7s\n",
      "[CV 4/10] END regressor__max_depth=30, regressor__max_features=auto, regressor__max_samples=0.5, regressor__n_estimators=100;, score=0.902 total time=   1.8s\n"
     ]
    },
    {
     "name": "stderr",
     "output_type": "stream",
     "text": [
      "/Users/vivektyagi/miniconda3/envs/envDS/lib/python3.9/site-packages/sklearn/ensemble/_forest.py:414: FutureWarning: `max_features='auto'` has been deprecated in 1.1 and will be removed in 1.3. To keep the past behaviour, explicitly set `max_features=1.0` or remove this parameter as it is also the default value for RandomForestRegressors and ExtraTreesRegressors.\n",
      "  warn(\n",
      "/Users/vivektyagi/miniconda3/envs/envDS/lib/python3.9/site-packages/sklearn/ensemble/_forest.py:414: FutureWarning: `max_features='auto'` has been deprecated in 1.1 and will be removed in 1.3. To keep the past behaviour, explicitly set `max_features=1.0` or remove this parameter as it is also the default value for RandomForestRegressors and ExtraTreesRegressors.\n",
      "  warn(\n"
     ]
    },
    {
     "name": "stdout",
     "output_type": "stream",
     "text": [
      "[CV 5/10] END regressor__max_depth=30, regressor__max_features=auto, regressor__max_samples=0.5, regressor__n_estimators=100;, score=0.895 total time=   1.8s\n",
      "[CV 6/10] END regressor__max_depth=30, regressor__max_features=auto, regressor__max_samples=0.5, regressor__n_estimators=100;, score=0.875 total time=   1.8s\n",
      "[CV 7/10] END regressor__max_depth=30, regressor__max_features=auto, regressor__max_samples=0.5, regressor__n_estimators=100;, score=0.885 total time=   1.7s\n"
     ]
    },
    {
     "name": "stderr",
     "output_type": "stream",
     "text": [
      "/Users/vivektyagi/miniconda3/envs/envDS/lib/python3.9/site-packages/sklearn/ensemble/_forest.py:414: FutureWarning: `max_features='auto'` has been deprecated in 1.1 and will be removed in 1.3. To keep the past behaviour, explicitly set `max_features=1.0` or remove this parameter as it is also the default value for RandomForestRegressors and ExtraTreesRegressors.\n",
      "  warn(\n",
      "/Users/vivektyagi/miniconda3/envs/envDS/lib/python3.9/site-packages/sklearn/ensemble/_forest.py:414: FutureWarning: `max_features='auto'` has been deprecated in 1.1 and will be removed in 1.3. To keep the past behaviour, explicitly set `max_features=1.0` or remove this parameter as it is also the default value for RandomForestRegressors and ExtraTreesRegressors.\n",
      "  warn(\n",
      "/Users/vivektyagi/miniconda3/envs/envDS/lib/python3.9/site-packages/sklearn/ensemble/_forest.py:414: FutureWarning: `max_features='auto'` has been deprecated in 1.1 and will be removed in 1.3. To keep the past behaviour, explicitly set `max_features=1.0` or remove this parameter as it is also the default value for RandomForestRegressors and ExtraTreesRegressors.\n",
      "  warn(\n"
     ]
    },
    {
     "name": "stdout",
     "output_type": "stream",
     "text": [
      "[CV 8/10] END regressor__max_depth=30, regressor__max_features=auto, regressor__max_samples=0.5, regressor__n_estimators=100;, score=0.884 total time=   1.7s\n"
     ]
    },
    {
     "name": "stderr",
     "output_type": "stream",
     "text": [
      "/Users/vivektyagi/miniconda3/envs/envDS/lib/python3.9/site-packages/sklearn/ensemble/_forest.py:414: FutureWarning: `max_features='auto'` has been deprecated in 1.1 and will be removed in 1.3. To keep the past behaviour, explicitly set `max_features=1.0` or remove this parameter as it is also the default value for RandomForestRegressors and ExtraTreesRegressors.\n",
      "  warn(\n"
     ]
    },
    {
     "name": "stdout",
     "output_type": "stream",
     "text": [
      "[CV 9/10] END regressor__max_depth=30, regressor__max_features=auto, regressor__max_samples=0.5, regressor__n_estimators=100;, score=0.868 total time=   1.6s\n",
      "[CV 10/10] END regressor__max_depth=30, regressor__max_features=auto, regressor__max_samples=0.5, regressor__n_estimators=100;, score=0.879 total time=   1.6s\n"
     ]
    },
    {
     "name": "stderr",
     "output_type": "stream",
     "text": [
      "/Users/vivektyagi/miniconda3/envs/envDS/lib/python3.9/site-packages/sklearn/ensemble/_forest.py:414: FutureWarning: `max_features='auto'` has been deprecated in 1.1 and will be removed in 1.3. To keep the past behaviour, explicitly set `max_features=1.0` or remove this parameter as it is also the default value for RandomForestRegressors and ExtraTreesRegressors.\n",
      "  warn(\n",
      "/Users/vivektyagi/miniconda3/envs/envDS/lib/python3.9/site-packages/sklearn/ensemble/_forest.py:414: FutureWarning: `max_features='auto'` has been deprecated in 1.1 and will be removed in 1.3. To keep the past behaviour, explicitly set `max_features=1.0` or remove this parameter as it is also the default value for RandomForestRegressors and ExtraTreesRegressors.\n",
      "  warn(\n"
     ]
    },
    {
     "name": "stdout",
     "output_type": "stream",
     "text": [
      "[CV 1/10] END regressor__max_depth=30, regressor__max_features=auto, regressor__max_samples=0.5, regressor__n_estimators=200;, score=0.895 total time=   3.1s\n",
      "[CV 2/10] END regressor__max_depth=30, regressor__max_features=auto, regressor__max_samples=0.5, regressor__n_estimators=200;, score=0.926 total time=   3.0s\n"
     ]
    },
    {
     "name": "stderr",
     "output_type": "stream",
     "text": [
      "/Users/vivektyagi/miniconda3/envs/envDS/lib/python3.9/site-packages/sklearn/ensemble/_forest.py:414: FutureWarning: `max_features='auto'` has been deprecated in 1.1 and will be removed in 1.3. To keep the past behaviour, explicitly set `max_features=1.0` or remove this parameter as it is also the default value for RandomForestRegressors and ExtraTreesRegressors.\n",
      "  warn(\n",
      "/Users/vivektyagi/miniconda3/envs/envDS/lib/python3.9/site-packages/sklearn/ensemble/_forest.py:414: FutureWarning: `max_features='auto'` has been deprecated in 1.1 and will be removed in 1.3. To keep the past behaviour, explicitly set `max_features=1.0` or remove this parameter as it is also the default value for RandomForestRegressors and ExtraTreesRegressors.\n",
      "  warn(\n"
     ]
    },
    {
     "name": "stdout",
     "output_type": "stream",
     "text": [
      "[CV 3/10] END regressor__max_depth=30, regressor__max_features=auto, regressor__max_samples=0.5, regressor__n_estimators=200;, score=0.919 total time=   3.1s\n",
      "[CV 4/10] END regressor__max_depth=30, regressor__max_features=auto, regressor__max_samples=0.5, regressor__n_estimators=200;, score=0.901 total time=   3.0s\n",
      "[CV 5/10] END regressor__max_depth=30, regressor__max_features=auto, regressor__max_samples=0.5, regressor__n_estimators=200;, score=0.897 total time=   3.0s\n"
     ]
    },
    {
     "name": "stderr",
     "output_type": "stream",
     "text": [
      "/Users/vivektyagi/miniconda3/envs/envDS/lib/python3.9/site-packages/sklearn/ensemble/_forest.py:414: FutureWarning: `max_features='auto'` has been deprecated in 1.1 and will be removed in 1.3. To keep the past behaviour, explicitly set `max_features=1.0` or remove this parameter as it is also the default value for RandomForestRegressors and ExtraTreesRegressors.\n",
      "  warn(\n",
      "/Users/vivektyagi/miniconda3/envs/envDS/lib/python3.9/site-packages/sklearn/ensemble/_forest.py:414: FutureWarning: `max_features='auto'` has been deprecated in 1.1 and will be removed in 1.3. To keep the past behaviour, explicitly set `max_features=1.0` or remove this parameter as it is also the default value for RandomForestRegressors and ExtraTreesRegressors.\n",
      "  warn(\n",
      "/Users/vivektyagi/miniconda3/envs/envDS/lib/python3.9/site-packages/sklearn/ensemble/_forest.py:414: FutureWarning: `max_features='auto'` has been deprecated in 1.1 and will be removed in 1.3. To keep the past behaviour, explicitly set `max_features=1.0` or remove this parameter as it is also the default value for RandomForestRegressors and ExtraTreesRegressors.\n",
      "  warn(\n"
     ]
    },
    {
     "name": "stdout",
     "output_type": "stream",
     "text": [
      "[CV 6/10] END regressor__max_depth=30, regressor__max_features=auto, regressor__max_samples=0.5, regressor__n_estimators=200;, score=0.876 total time=   3.0s\n"
     ]
    },
    {
     "name": "stderr",
     "output_type": "stream",
     "text": [
      "/Users/vivektyagi/miniconda3/envs/envDS/lib/python3.9/site-packages/sklearn/ensemble/_forest.py:414: FutureWarning: `max_features='auto'` has been deprecated in 1.1 and will be removed in 1.3. To keep the past behaviour, explicitly set `max_features=1.0` or remove this parameter as it is also the default value for RandomForestRegressors and ExtraTreesRegressors.\n",
      "  warn(\n"
     ]
    },
    {
     "name": "stdout",
     "output_type": "stream",
     "text": [
      "[CV 7/10] END regressor__max_depth=30, regressor__max_features=auto, regressor__max_samples=0.5, regressor__n_estimators=200;, score=0.888 total time=   2.9s\n",
      "[CV 8/10] END regressor__max_depth=30, regressor__max_features=auto, regressor__max_samples=0.5, regressor__n_estimators=200;, score=0.886 total time=   3.0s\n"
     ]
    },
    {
     "name": "stderr",
     "output_type": "stream",
     "text": [
      "/Users/vivektyagi/miniconda3/envs/envDS/lib/python3.9/site-packages/sklearn/ensemble/_forest.py:414: FutureWarning: `max_features='auto'` has been deprecated in 1.1 and will be removed in 1.3. To keep the past behaviour, explicitly set `max_features=1.0` or remove this parameter as it is also the default value for RandomForestRegressors and ExtraTreesRegressors.\n",
      "  warn(\n",
      "/Users/vivektyagi/miniconda3/envs/envDS/lib/python3.9/site-packages/sklearn/ensemble/_forest.py:414: FutureWarning: `max_features='auto'` has been deprecated in 1.1 and will be removed in 1.3. To keep the past behaviour, explicitly set `max_features=1.0` or remove this parameter as it is also the default value for RandomForestRegressors and ExtraTreesRegressors.\n",
      "  warn(\n"
     ]
    },
    {
     "name": "stdout",
     "output_type": "stream",
     "text": [
      "[CV 9/10] END regressor__max_depth=30, regressor__max_features=auto, regressor__max_samples=0.5, regressor__n_estimators=200;, score=0.866 total time=   2.7s\n",
      "[CV 10/10] END regressor__max_depth=30, regressor__max_features=auto, regressor__max_samples=0.5, regressor__n_estimators=200;, score=0.880 total time=   2.7s\n"
     ]
    },
    {
     "name": "stderr",
     "output_type": "stream",
     "text": [
      "/Users/vivektyagi/miniconda3/envs/envDS/lib/python3.9/site-packages/sklearn/ensemble/_forest.py:414: FutureWarning: `max_features='auto'` has been deprecated in 1.1 and will be removed in 1.3. To keep the past behaviour, explicitly set `max_features=1.0` or remove this parameter as it is also the default value for RandomForestRegressors and ExtraTreesRegressors.\n",
      "  warn(\n",
      "/Users/vivektyagi/miniconda3/envs/envDS/lib/python3.9/site-packages/sklearn/ensemble/_forest.py:414: FutureWarning: `max_features='auto'` has been deprecated in 1.1 and will be removed in 1.3. To keep the past behaviour, explicitly set `max_features=1.0` or remove this parameter as it is also the default value for RandomForestRegressors and ExtraTreesRegressors.\n",
      "  warn(\n"
     ]
    },
    {
     "name": "stdout",
     "output_type": "stream",
     "text": [
      "[CV 1/10] END regressor__max_depth=30, regressor__max_features=auto, regressor__max_samples=0.5, regressor__n_estimators=300;, score=0.896 total time=   4.4s\n",
      "[CV 2/10] END regressor__max_depth=30, regressor__max_features=auto, regressor__max_samples=0.5, regressor__n_estimators=300;, score=0.926 total time=   4.5s\n",
      "[CV 3/10] END regressor__max_depth=30, regressor__max_features=auto, regressor__max_samples=0.5, regressor__n_estimators=300;, score=0.919 total time=   4.5s\n"
     ]
    },
    {
     "name": "stderr",
     "output_type": "stream",
     "text": [
      "/Users/vivektyagi/miniconda3/envs/envDS/lib/python3.9/site-packages/sklearn/ensemble/_forest.py:414: FutureWarning: `max_features='auto'` has been deprecated in 1.1 and will be removed in 1.3. To keep the past behaviour, explicitly set `max_features=1.0` or remove this parameter as it is also the default value for RandomForestRegressors and ExtraTreesRegressors.\n",
      "  warn(\n",
      "/Users/vivektyagi/miniconda3/envs/envDS/lib/python3.9/site-packages/sklearn/ensemble/_forest.py:414: FutureWarning: `max_features='auto'` has been deprecated in 1.1 and will be removed in 1.3. To keep the past behaviour, explicitly set `max_features=1.0` or remove this parameter as it is also the default value for RandomForestRegressors and ExtraTreesRegressors.\n",
      "  warn(\n",
      "/Users/vivektyagi/miniconda3/envs/envDS/lib/python3.9/site-packages/sklearn/ensemble/_forest.py:414: FutureWarning: `max_features='auto'` has been deprecated in 1.1 and will be removed in 1.3. To keep the past behaviour, explicitly set `max_features=1.0` or remove this parameter as it is also the default value for RandomForestRegressors and ExtraTreesRegressors.\n",
      "  warn(\n"
     ]
    },
    {
     "name": "stdout",
     "output_type": "stream",
     "text": [
      "[CV 4/10] END regressor__max_depth=30, regressor__max_features=auto, regressor__max_samples=0.5, regressor__n_estimators=300;, score=0.901 total time=   4.5s\n"
     ]
    },
    {
     "name": "stderr",
     "output_type": "stream",
     "text": [
      "/Users/vivektyagi/miniconda3/envs/envDS/lib/python3.9/site-packages/sklearn/ensemble/_forest.py:414: FutureWarning: `max_features='auto'` has been deprecated in 1.1 and will be removed in 1.3. To keep the past behaviour, explicitly set `max_features=1.0` or remove this parameter as it is also the default value for RandomForestRegressors and ExtraTreesRegressors.\n",
      "  warn(\n"
     ]
    },
    {
     "name": "stdout",
     "output_type": "stream",
     "text": [
      "[CV 5/10] END regressor__max_depth=30, regressor__max_features=auto, regressor__max_samples=0.5, regressor__n_estimators=300;, score=0.898 total time=   4.5s\n",
      "[CV 6/10] END regressor__max_depth=30, regressor__max_features=auto, regressor__max_samples=0.5, regressor__n_estimators=300;, score=0.878 total time=   4.4s\n"
     ]
    },
    {
     "name": "stderr",
     "output_type": "stream",
     "text": [
      "/Users/vivektyagi/miniconda3/envs/envDS/lib/python3.9/site-packages/sklearn/ensemble/_forest.py:414: FutureWarning: `max_features='auto'` has been deprecated in 1.1 and will be removed in 1.3. To keep the past behaviour, explicitly set `max_features=1.0` or remove this parameter as it is also the default value for RandomForestRegressors and ExtraTreesRegressors.\n",
      "  warn(\n",
      "/Users/vivektyagi/miniconda3/envs/envDS/lib/python3.9/site-packages/sklearn/ensemble/_forest.py:414: FutureWarning: `max_features='auto'` has been deprecated in 1.1 and will be removed in 1.3. To keep the past behaviour, explicitly set `max_features=1.0` or remove this parameter as it is also the default value for RandomForestRegressors and ExtraTreesRegressors.\n",
      "  warn(\n"
     ]
    },
    {
     "name": "stdout",
     "output_type": "stream",
     "text": [
      "[CV 1/10] END regressor__max_depth=30, regressor__max_features=auto, regressor__max_samples=1.0, regressor__n_estimators=50;, score=0.890 total time=   1.1s\n",
      "[CV 2/10] END regressor__max_depth=30, regressor__max_features=auto, regressor__max_samples=1.0, regressor__n_estimators=50;, score=0.925 total time=   1.0s\n"
     ]
    },
    {
     "name": "stderr",
     "output_type": "stream",
     "text": [
      "/Users/vivektyagi/miniconda3/envs/envDS/lib/python3.9/site-packages/sklearn/ensemble/_forest.py:414: FutureWarning: `max_features='auto'` has been deprecated in 1.1 and will be removed in 1.3. To keep the past behaviour, explicitly set `max_features=1.0` or remove this parameter as it is also the default value for RandomForestRegressors and ExtraTreesRegressors.\n",
      "  warn(\n",
      "/Users/vivektyagi/miniconda3/envs/envDS/lib/python3.9/site-packages/sklearn/ensemble/_forest.py:414: FutureWarning: `max_features='auto'` has been deprecated in 1.1 and will be removed in 1.3. To keep the past behaviour, explicitly set `max_features=1.0` or remove this parameter as it is also the default value for RandomForestRegressors and ExtraTreesRegressors.\n",
      "  warn(\n"
     ]
    },
    {
     "name": "stdout",
     "output_type": "stream",
     "text": [
      "[CV 3/10] END regressor__max_depth=30, regressor__max_features=auto, regressor__max_samples=1.0, regressor__n_estimators=50;, score=0.915 total time=   1.1s\n",
      "[CV 4/10] END regressor__max_depth=30, regressor__max_features=auto, regressor__max_samples=1.0, regressor__n_estimators=50;, score=0.894 total time=   1.0s\n"
     ]
    },
    {
     "name": "stderr",
     "output_type": "stream",
     "text": [
      "/Users/vivektyagi/miniconda3/envs/envDS/lib/python3.9/site-packages/sklearn/ensemble/_forest.py:414: FutureWarning: `max_features='auto'` has been deprecated in 1.1 and will be removed in 1.3. To keep the past behaviour, explicitly set `max_features=1.0` or remove this parameter as it is also the default value for RandomForestRegressors and ExtraTreesRegressors.\n",
      "  warn(\n",
      "/Users/vivektyagi/miniconda3/envs/envDS/lib/python3.9/site-packages/sklearn/ensemble/_forest.py:414: FutureWarning: `max_features='auto'` has been deprecated in 1.1 and will be removed in 1.3. To keep the past behaviour, explicitly set `max_features=1.0` or remove this parameter as it is also the default value for RandomForestRegressors and ExtraTreesRegressors.\n",
      "  warn(\n"
     ]
    },
    {
     "name": "stdout",
     "output_type": "stream",
     "text": [
      "[CV 5/10] END regressor__max_depth=30, regressor__max_features=auto, regressor__max_samples=1.0, regressor__n_estimators=50;, score=0.902 total time=   1.0s\n",
      "[CV 6/10] END regressor__max_depth=30, regressor__max_features=auto, regressor__max_samples=1.0, regressor__n_estimators=50;, score=0.876 total time=   1.0s\n",
      "[CV 7/10] END regressor__max_depth=30, regressor__max_features=auto, regressor__max_samples=0.5, regressor__n_estimators=300;, score=0.890 total time=   4.5s\n"
     ]
    },
    {
     "name": "stderr",
     "output_type": "stream",
     "text": [
      "/Users/vivektyagi/miniconda3/envs/envDS/lib/python3.9/site-packages/sklearn/ensemble/_forest.py:414: FutureWarning: `max_features='auto'` has been deprecated in 1.1 and will be removed in 1.3. To keep the past behaviour, explicitly set `max_features=1.0` or remove this parameter as it is also the default value for RandomForestRegressors and ExtraTreesRegressors.\n",
      "  warn(\n",
      "/Users/vivektyagi/miniconda3/envs/envDS/lib/python3.9/site-packages/sklearn/ensemble/_forest.py:414: FutureWarning: `max_features='auto'` has been deprecated in 1.1 and will be removed in 1.3. To keep the past behaviour, explicitly set `max_features=1.0` or remove this parameter as it is also the default value for RandomForestRegressors and ExtraTreesRegressors.\n",
      "  warn(\n"
     ]
    },
    {
     "name": "stdout",
     "output_type": "stream",
     "text": [
      "[CV 8/10] END regressor__max_depth=30, regressor__max_features=auto, regressor__max_samples=0.5, regressor__n_estimators=300;, score=0.884 total time=   4.5s\n"
     ]
    },
    {
     "name": "stderr",
     "output_type": "stream",
     "text": [
      "/Users/vivektyagi/miniconda3/envs/envDS/lib/python3.9/site-packages/sklearn/ensemble/_forest.py:414: FutureWarning: `max_features='auto'` has been deprecated in 1.1 and will be removed in 1.3. To keep the past behaviour, explicitly set `max_features=1.0` or remove this parameter as it is also the default value for RandomForestRegressors and ExtraTreesRegressors.\n",
      "  warn(\n",
      "/Users/vivektyagi/miniconda3/envs/envDS/lib/python3.9/site-packages/sklearn/ensemble/_forest.py:414: FutureWarning: `max_features='auto'` has been deprecated in 1.1 and will be removed in 1.3. To keep the past behaviour, explicitly set `max_features=1.0` or remove this parameter as it is also the default value for RandomForestRegressors and ExtraTreesRegressors.\n",
      "  warn(\n"
     ]
    },
    {
     "name": "stdout",
     "output_type": "stream",
     "text": [
      "[CV 7/10] END regressor__max_depth=30, regressor__max_features=auto, regressor__max_samples=1.0, regressor__n_estimators=50;, score=0.882 total time=   1.0s\n",
      "[CV 8/10] END regressor__max_depth=30, regressor__max_features=auto, regressor__max_samples=1.0, regressor__n_estimators=50;, score=0.876 total time=   1.0s\n"
     ]
    },
    {
     "name": "stderr",
     "output_type": "stream",
     "text": [
      "/Users/vivektyagi/miniconda3/envs/envDS/lib/python3.9/site-packages/sklearn/ensemble/_forest.py:414: FutureWarning: `max_features='auto'` has been deprecated in 1.1 and will be removed in 1.3. To keep the past behaviour, explicitly set `max_features=1.0` or remove this parameter as it is also the default value for RandomForestRegressors and ExtraTreesRegressors.\n",
      "  warn(\n",
      "/Users/vivektyagi/miniconda3/envs/envDS/lib/python3.9/site-packages/sklearn/ensemble/_forest.py:414: FutureWarning: `max_features='auto'` has been deprecated in 1.1 and will be removed in 1.3. To keep the past behaviour, explicitly set `max_features=1.0` or remove this parameter as it is also the default value for RandomForestRegressors and ExtraTreesRegressors.\n",
      "  warn(\n"
     ]
    },
    {
     "name": "stdout",
     "output_type": "stream",
     "text": [
      "[CV 9/10] END regressor__max_depth=30, regressor__max_features=auto, regressor__max_samples=1.0, regressor__n_estimators=50;, score=0.869 total time=   1.0s\n",
      "[CV 10/10] END regressor__max_depth=30, regressor__max_features=auto, regressor__max_samples=1.0, regressor__n_estimators=50;, score=0.882 total time=   1.0s\n"
     ]
    },
    {
     "name": "stderr",
     "output_type": "stream",
     "text": [
      "/Users/vivektyagi/miniconda3/envs/envDS/lib/python3.9/site-packages/sklearn/ensemble/_forest.py:414: FutureWarning: `max_features='auto'` has been deprecated in 1.1 and will be removed in 1.3. To keep the past behaviour, explicitly set `max_features=1.0` or remove this parameter as it is also the default value for RandomForestRegressors and ExtraTreesRegressors.\n",
      "  warn(\n",
      "/Users/vivektyagi/miniconda3/envs/envDS/lib/python3.9/site-packages/sklearn/ensemble/_forest.py:414: FutureWarning: `max_features='auto'` has been deprecated in 1.1 and will be removed in 1.3. To keep the past behaviour, explicitly set `max_features=1.0` or remove this parameter as it is also the default value for RandomForestRegressors and ExtraTreesRegressors.\n",
      "  warn(\n"
     ]
    },
    {
     "name": "stdout",
     "output_type": "stream",
     "text": [
      "[CV 9/10] END regressor__max_depth=30, regressor__max_features=auto, regressor__max_samples=0.5, regressor__n_estimators=300;, score=0.865 total time=   4.0s\n",
      "[CV 10/10] END regressor__max_depth=30, regressor__max_features=auto, regressor__max_samples=0.5, regressor__n_estimators=300;, score=0.878 total time=   4.0s\n"
     ]
    },
    {
     "name": "stderr",
     "output_type": "stream",
     "text": [
      "/Users/vivektyagi/miniconda3/envs/envDS/lib/python3.9/site-packages/sklearn/ensemble/_forest.py:414: FutureWarning: `max_features='auto'` has been deprecated in 1.1 and will be removed in 1.3. To keep the past behaviour, explicitly set `max_features=1.0` or remove this parameter as it is also the default value for RandomForestRegressors and ExtraTreesRegressors.\n",
      "  warn(\n",
      "/Users/vivektyagi/miniconda3/envs/envDS/lib/python3.9/site-packages/sklearn/ensemble/_forest.py:414: FutureWarning: `max_features='auto'` has been deprecated in 1.1 and will be removed in 1.3. To keep the past behaviour, explicitly set `max_features=1.0` or remove this parameter as it is also the default value for RandomForestRegressors and ExtraTreesRegressors.\n",
      "  warn(\n"
     ]
    },
    {
     "name": "stdout",
     "output_type": "stream",
     "text": [
      "[CV 1/10] END regressor__max_depth=30, regressor__max_features=auto, regressor__max_samples=1.0, regressor__n_estimators=100;, score=0.896 total time=   1.9s\n",
      "[CV 2/10] END regressor__max_depth=30, regressor__max_features=auto, regressor__max_samples=1.0, regressor__n_estimators=100;, score=0.928 total time=   2.0s\n"
     ]
    },
    {
     "name": "stderr",
     "output_type": "stream",
     "text": [
      "/Users/vivektyagi/miniconda3/envs/envDS/lib/python3.9/site-packages/sklearn/ensemble/_forest.py:414: FutureWarning: `max_features='auto'` has been deprecated in 1.1 and will be removed in 1.3. To keep the past behaviour, explicitly set `max_features=1.0` or remove this parameter as it is also the default value for RandomForestRegressors and ExtraTreesRegressors.\n",
      "  warn(\n",
      "/Users/vivektyagi/miniconda3/envs/envDS/lib/python3.9/site-packages/sklearn/ensemble/_forest.py:414: FutureWarning: `max_features='auto'` has been deprecated in 1.1 and will be removed in 1.3. To keep the past behaviour, explicitly set `max_features=1.0` or remove this parameter as it is also the default value for RandomForestRegressors and ExtraTreesRegressors.\n",
      "  warn(\n"
     ]
    },
    {
     "name": "stdout",
     "output_type": "stream",
     "text": [
      "[CV 3/10] END regressor__max_depth=30, regressor__max_features=auto, regressor__max_samples=1.0, regressor__n_estimators=100;, score=0.920 total time=   2.0s\n",
      "[CV 4/10] END regressor__max_depth=30, regressor__max_features=auto, regressor__max_samples=1.0, regressor__n_estimators=100;, score=0.900 total time=   1.9s\n"
     ]
    },
    {
     "name": "stderr",
     "output_type": "stream",
     "text": [
      "/Users/vivektyagi/miniconda3/envs/envDS/lib/python3.9/site-packages/sklearn/ensemble/_forest.py:414: FutureWarning: `max_features='auto'` has been deprecated in 1.1 and will be removed in 1.3. To keep the past behaviour, explicitly set `max_features=1.0` or remove this parameter as it is also the default value for RandomForestRegressors and ExtraTreesRegressors.\n",
      "  warn(\n",
      "/Users/vivektyagi/miniconda3/envs/envDS/lib/python3.9/site-packages/sklearn/ensemble/_forest.py:414: FutureWarning: `max_features='auto'` has been deprecated in 1.1 and will be removed in 1.3. To keep the past behaviour, explicitly set `max_features=1.0` or remove this parameter as it is also the default value for RandomForestRegressors and ExtraTreesRegressors.\n",
      "  warn(\n"
     ]
    },
    {
     "name": "stdout",
     "output_type": "stream",
     "text": [
      "[CV 5/10] END regressor__max_depth=30, regressor__max_features=auto, regressor__max_samples=1.0, regressor__n_estimators=100;, score=0.899 total time=   1.9s\n",
      "[CV 6/10] END regressor__max_depth=30, regressor__max_features=auto, regressor__max_samples=1.0, regressor__n_estimators=100;, score=0.878 total time=   1.9s\n"
     ]
    },
    {
     "name": "stderr",
     "output_type": "stream",
     "text": [
      "/Users/vivektyagi/miniconda3/envs/envDS/lib/python3.9/site-packages/sklearn/ensemble/_forest.py:414: FutureWarning: `max_features='auto'` has been deprecated in 1.1 and will be removed in 1.3. To keep the past behaviour, explicitly set `max_features=1.0` or remove this parameter as it is also the default value for RandomForestRegressors and ExtraTreesRegressors.\n",
      "  warn(\n",
      "/Users/vivektyagi/miniconda3/envs/envDS/lib/python3.9/site-packages/sklearn/ensemble/_forest.py:414: FutureWarning: `max_features='auto'` has been deprecated in 1.1 and will be removed in 1.3. To keep the past behaviour, explicitly set `max_features=1.0` or remove this parameter as it is also the default value for RandomForestRegressors and ExtraTreesRegressors.\n",
      "  warn(\n"
     ]
    },
    {
     "name": "stdout",
     "output_type": "stream",
     "text": [
      "[CV 7/10] END regressor__max_depth=30, regressor__max_features=auto, regressor__max_samples=1.0, regressor__n_estimators=100;, score=0.884 total time=   1.9s\n",
      "[CV 8/10] END regressor__max_depth=30, regressor__max_features=auto, regressor__max_samples=1.0, regressor__n_estimators=100;, score=0.881 total time=   1.9s\n"
     ]
    },
    {
     "name": "stderr",
     "output_type": "stream",
     "text": [
      "/Users/vivektyagi/miniconda3/envs/envDS/lib/python3.9/site-packages/sklearn/ensemble/_forest.py:414: FutureWarning: `max_features='auto'` has been deprecated in 1.1 and will be removed in 1.3. To keep the past behaviour, explicitly set `max_features=1.0` or remove this parameter as it is also the default value for RandomForestRegressors and ExtraTreesRegressors.\n",
      "  warn(\n",
      "/Users/vivektyagi/miniconda3/envs/envDS/lib/python3.9/site-packages/sklearn/ensemble/_forest.py:414: FutureWarning: `max_features='auto'` has been deprecated in 1.1 and will be removed in 1.3. To keep the past behaviour, explicitly set `max_features=1.0` or remove this parameter as it is also the default value for RandomForestRegressors and ExtraTreesRegressors.\n",
      "  warn(\n"
     ]
    },
    {
     "name": "stdout",
     "output_type": "stream",
     "text": [
      "[CV 9/10] END regressor__max_depth=30, regressor__max_features=auto, regressor__max_samples=1.0, regressor__n_estimators=100;, score=0.871 total time=   1.9s\n",
      "[CV 10/10] END regressor__max_depth=30, regressor__max_features=auto, regressor__max_samples=1.0, regressor__n_estimators=100;, score=0.882 total time=   1.9s\n"
     ]
    },
    {
     "name": "stderr",
     "output_type": "stream",
     "text": [
      "/Users/vivektyagi/miniconda3/envs/envDS/lib/python3.9/site-packages/sklearn/ensemble/_forest.py:414: FutureWarning: `max_features='auto'` has been deprecated in 1.1 and will be removed in 1.3. To keep the past behaviour, explicitly set `max_features=1.0` or remove this parameter as it is also the default value for RandomForestRegressors and ExtraTreesRegressors.\n",
      "  warn(\n",
      "/Users/vivektyagi/miniconda3/envs/envDS/lib/python3.9/site-packages/sklearn/ensemble/_forest.py:414: FutureWarning: `max_features='auto'` has been deprecated in 1.1 and will be removed in 1.3. To keep the past behaviour, explicitly set `max_features=1.0` or remove this parameter as it is also the default value for RandomForestRegressors and ExtraTreesRegressors.\n",
      "  warn(\n"
     ]
    },
    {
     "name": "stdout",
     "output_type": "stream",
     "text": [
      "[CV 1/10] END regressor__max_depth=30, regressor__max_features=auto, regressor__max_samples=1.0, regressor__n_estimators=200;, score=0.897 total time=   3.8s\n",
      "[CV 2/10] END regressor__max_depth=30, regressor__max_features=auto, regressor__max_samples=1.0, regressor__n_estimators=200;, score=0.928 total time=   3.8s\n"
     ]
    },
    {
     "name": "stderr",
     "output_type": "stream",
     "text": [
      "/Users/vivektyagi/miniconda3/envs/envDS/lib/python3.9/site-packages/sklearn/ensemble/_forest.py:414: FutureWarning: `max_features='auto'` has been deprecated in 1.1 and will be removed in 1.3. To keep the past behaviour, explicitly set `max_features=1.0` or remove this parameter as it is also the default value for RandomForestRegressors and ExtraTreesRegressors.\n",
      "  warn(\n",
      "/Users/vivektyagi/miniconda3/envs/envDS/lib/python3.9/site-packages/sklearn/ensemble/_forest.py:414: FutureWarning: `max_features='auto'` has been deprecated in 1.1 and will be removed in 1.3. To keep the past behaviour, explicitly set `max_features=1.0` or remove this parameter as it is also the default value for RandomForestRegressors and ExtraTreesRegressors.\n",
      "  warn(\n"
     ]
    },
    {
     "name": "stdout",
     "output_type": "stream",
     "text": [
      "[CV 3/10] END regressor__max_depth=30, regressor__max_features=auto, regressor__max_samples=1.0, regressor__n_estimators=200;, score=0.921 total time=   3.8s\n",
      "[CV 4/10] END regressor__max_depth=30, regressor__max_features=auto, regressor__max_samples=1.0, regressor__n_estimators=200;, score=0.898 total time=   3.8s\n"
     ]
    },
    {
     "name": "stderr",
     "output_type": "stream",
     "text": [
      "/Users/vivektyagi/miniconda3/envs/envDS/lib/python3.9/site-packages/sklearn/ensemble/_forest.py:414: FutureWarning: `max_features='auto'` has been deprecated in 1.1 and will be removed in 1.3. To keep the past behaviour, explicitly set `max_features=1.0` or remove this parameter as it is also the default value for RandomForestRegressors and ExtraTreesRegressors.\n",
      "  warn(\n",
      "/Users/vivektyagi/miniconda3/envs/envDS/lib/python3.9/site-packages/sklearn/ensemble/_forest.py:414: FutureWarning: `max_features='auto'` has been deprecated in 1.1 and will be removed in 1.3. To keep the past behaviour, explicitly set `max_features=1.0` or remove this parameter as it is also the default value for RandomForestRegressors and ExtraTreesRegressors.\n",
      "  warn(\n"
     ]
    },
    {
     "name": "stdout",
     "output_type": "stream",
     "text": [
      "[CV 5/10] END regressor__max_depth=30, regressor__max_features=auto, regressor__max_samples=1.0, regressor__n_estimators=200;, score=0.902 total time=   3.8s\n",
      "[CV 6/10] END regressor__max_depth=30, regressor__max_features=auto, regressor__max_samples=1.0, regressor__n_estimators=200;, score=0.878 total time=   3.9s\n"
     ]
    },
    {
     "name": "stderr",
     "output_type": "stream",
     "text": [
      "/Users/vivektyagi/miniconda3/envs/envDS/lib/python3.9/site-packages/sklearn/ensemble/_forest.py:414: FutureWarning: `max_features='auto'` has been deprecated in 1.1 and will be removed in 1.3. To keep the past behaviour, explicitly set `max_features=1.0` or remove this parameter as it is also the default value for RandomForestRegressors and ExtraTreesRegressors.\n",
      "  warn(\n",
      "/Users/vivektyagi/miniconda3/envs/envDS/lib/python3.9/site-packages/sklearn/ensemble/_forest.py:414: FutureWarning: `max_features='auto'` has been deprecated in 1.1 and will be removed in 1.3. To keep the past behaviour, explicitly set `max_features=1.0` or remove this parameter as it is also the default value for RandomForestRegressors and ExtraTreesRegressors.\n",
      "  warn(\n"
     ]
    },
    {
     "name": "stdout",
     "output_type": "stream",
     "text": [
      "[CV 7/10] END regressor__max_depth=30, regressor__max_features=auto, regressor__max_samples=1.0, regressor__n_estimators=200;, score=0.885 total time=   3.7s\n",
      "[CV 8/10] END regressor__max_depth=30, regressor__max_features=auto, regressor__max_samples=1.0, regressor__n_estimators=200;, score=0.882 total time=   3.7s\n"
     ]
    },
    {
     "name": "stderr",
     "output_type": "stream",
     "text": [
      "/Users/vivektyagi/miniconda3/envs/envDS/lib/python3.9/site-packages/sklearn/ensemble/_forest.py:414: FutureWarning: `max_features='auto'` has been deprecated in 1.1 and will be removed in 1.3. To keep the past behaviour, explicitly set `max_features=1.0` or remove this parameter as it is also the default value for RandomForestRegressors and ExtraTreesRegressors.\n",
      "  warn(\n",
      "/Users/vivektyagi/miniconda3/envs/envDS/lib/python3.9/site-packages/sklearn/ensemble/_forest.py:414: FutureWarning: `max_features='auto'` has been deprecated in 1.1 and will be removed in 1.3. To keep the past behaviour, explicitly set `max_features=1.0` or remove this parameter as it is also the default value for RandomForestRegressors and ExtraTreesRegressors.\n",
      "  warn(\n"
     ]
    },
    {
     "name": "stdout",
     "output_type": "stream",
     "text": [
      "[CV 9/10] END regressor__max_depth=30, regressor__max_features=auto, regressor__max_samples=1.0, regressor__n_estimators=200;, score=0.868 total time=   3.7s\n",
      "[CV 10/10] END regressor__max_depth=30, regressor__max_features=auto, regressor__max_samples=1.0, regressor__n_estimators=200;, score=0.882 total time=   3.7s\n"
     ]
    },
    {
     "name": "stderr",
     "output_type": "stream",
     "text": [
      "/Users/vivektyagi/miniconda3/envs/envDS/lib/python3.9/site-packages/sklearn/ensemble/_forest.py:414: FutureWarning: `max_features='auto'` has been deprecated in 1.1 and will be removed in 1.3. To keep the past behaviour, explicitly set `max_features=1.0` or remove this parameter as it is also the default value for RandomForestRegressors and ExtraTreesRegressors.\n",
      "  warn(\n",
      "/Users/vivektyagi/miniconda3/envs/envDS/lib/python3.9/site-packages/sklearn/ensemble/_forest.py:414: FutureWarning: `max_features='auto'` has been deprecated in 1.1 and will be removed in 1.3. To keep the past behaviour, explicitly set `max_features=1.0` or remove this parameter as it is also the default value for RandomForestRegressors and ExtraTreesRegressors.\n",
      "  warn(\n"
     ]
    },
    {
     "name": "stdout",
     "output_type": "stream",
     "text": [
      "[CV 1/10] END regressor__max_depth=30, regressor__max_features=auto, regressor__max_samples=1.0, regressor__n_estimators=300;, score=0.898 total time=   5.6s\n",
      "[CV 2/10] END regressor__max_depth=30, regressor__max_features=auto, regressor__max_samples=1.0, regressor__n_estimators=300;, score=0.929 total time=   5.6s\n"
     ]
    },
    {
     "name": "stderr",
     "output_type": "stream",
     "text": [
      "/Users/vivektyagi/miniconda3/envs/envDS/lib/python3.9/site-packages/sklearn/ensemble/_forest.py:414: FutureWarning: `max_features='auto'` has been deprecated in 1.1 and will be removed in 1.3. To keep the past behaviour, explicitly set `max_features=1.0` or remove this parameter as it is also the default value for RandomForestRegressors and ExtraTreesRegressors.\n",
      "  warn(\n",
      "/Users/vivektyagi/miniconda3/envs/envDS/lib/python3.9/site-packages/sklearn/ensemble/_forest.py:414: FutureWarning: `max_features='auto'` has been deprecated in 1.1 and will be removed in 1.3. To keep the past behaviour, explicitly set `max_features=1.0` or remove this parameter as it is also the default value for RandomForestRegressors and ExtraTreesRegressors.\n",
      "  warn(\n"
     ]
    },
    {
     "name": "stdout",
     "output_type": "stream",
     "text": [
      "[CV 3/10] END regressor__max_depth=30, regressor__max_features=auto, regressor__max_samples=1.0, regressor__n_estimators=300;, score=0.921 total time=   5.6s\n",
      "[CV 4/10] END regressor__max_depth=30, regressor__max_features=auto, regressor__max_samples=1.0, regressor__n_estimators=300;, score=0.901 total time=   5.6s\n",
      "[CV 1/10] END regressor__max_depth=30, regressor__max_features=sqrt, regressor__max_samples=0.1, regressor__n_estimators=50;, score=0.879 total time=   0.3s\n",
      "[CV 5/10] END regressor__max_depth=30, regressor__max_features=auto, regressor__max_samples=1.0, regressor__n_estimators=300;, score=0.904 total time=   5.6s\n",
      "[CV 2/10] END regressor__max_depth=30, regressor__max_features=sqrt, regressor__max_samples=0.1, regressor__n_estimators=50;, score=0.889 total time=   0.3s\n",
      "[CV 6/10] END regressor__max_depth=30, regressor__max_features=auto, regressor__max_samples=1.0, regressor__n_estimators=300;, score=0.877 total time=   5.7s\n",
      "[CV 3/10] END regressor__max_depth=30, regressor__max_features=sqrt, regressor__max_samples=0.1, regressor__n_estimators=50;, score=0.868 total time=   0.3s\n",
      "[CV 4/10] END regressor__max_depth=30, regressor__max_features=sqrt, regressor__max_samples=0.1, regressor__n_estimators=50;, score=0.848 total time=   0.3s\n",
      "[CV 5/10] END regressor__max_depth=30, regressor__max_features=sqrt, regressor__max_samples=0.1, regressor__n_estimators=50;, score=0.862 total time=   0.3s\n",
      "[CV 6/10] END regressor__max_depth=30, regressor__max_features=sqrt, regressor__max_samples=0.1, regressor__n_estimators=50;, score=0.857 total time=   0.3s\n",
      "[CV 7/10] END regressor__max_depth=30, regressor__max_features=sqrt, regressor__max_samples=0.1, regressor__n_estimators=50;, score=0.873 total time=   0.3s\n",
      "[CV 8/10] END regressor__max_depth=30, regressor__max_features=sqrt, regressor__max_samples=0.1, regressor__n_estimators=50;, score=0.873 total time=   0.3s\n",
      "[CV 9/10] END regressor__max_depth=30, regressor__max_features=sqrt, regressor__max_samples=0.1, regressor__n_estimators=50;, score=0.846 total time=   0.3s\n",
      "[CV 10/10] END regressor__max_depth=30, regressor__max_features=sqrt, regressor__max_samples=0.1, regressor__n_estimators=50;, score=0.850 total time=   0.3s\n",
      "[CV 1/10] END regressor__max_depth=30, regressor__max_features=sqrt, regressor__max_samples=0.1, regressor__n_estimators=100;, score=0.885 total time=   0.4s\n",
      "[CV 2/10] END regressor__max_depth=30, regressor__max_features=sqrt, regressor__max_samples=0.1, regressor__n_estimators=100;, score=0.888 total time=   0.5s\n",
      "[CV 3/10] END regressor__max_depth=30, regressor__max_features=sqrt, regressor__max_samples=0.1, regressor__n_estimators=100;, score=0.872 total time=   0.4s\n",
      "[CV 4/10] END regressor__max_depth=30, regressor__max_features=sqrt, regressor__max_samples=0.1, regressor__n_estimators=100;, score=0.848 total time=   0.5s\n",
      "[CV 5/10] END regressor__max_depth=30, regressor__max_features=sqrt, regressor__max_samples=0.1, regressor__n_estimators=100;, score=0.858 total time=   0.4s\n",
      "[CV 6/10] END regressor__max_depth=30, regressor__max_features=sqrt, regressor__max_samples=0.1, regressor__n_estimators=100;, score=0.860 total time=   0.5s\n",
      "[CV 7/10] END regressor__max_depth=30, regressor__max_features=sqrt, regressor__max_samples=0.1, regressor__n_estimators=100;, score=0.873 total time=   0.5s\n",
      "[CV 8/10] END regressor__max_depth=30, regressor__max_features=sqrt, regressor__max_samples=0.1, regressor__n_estimators=100;, score=0.871 total time=   0.5s\n",
      "[CV 9/10] END regressor__max_depth=30, regressor__max_features=sqrt, regressor__max_samples=0.1, regressor__n_estimators=100;, score=0.846 total time=   0.5s\n",
      "[CV 10/10] END regressor__max_depth=30, regressor__max_features=sqrt, regressor__max_samples=0.1, regressor__n_estimators=100;, score=0.854 total time=   0.5s\n",
      "[CV 7/10] END regressor__max_depth=30, regressor__max_features=auto, regressor__max_samples=1.0, regressor__n_estimators=300;, score=0.884 total time=   5.6s\n",
      "[CV 8/10] END regressor__max_depth=30, regressor__max_features=auto, regressor__max_samples=1.0, regressor__n_estimators=300;, score=0.881 total time=   5.6s\n",
      "[CV 1/10] END regressor__max_depth=30, regressor__max_features=sqrt, regressor__max_samples=0.1, regressor__n_estimators=200;, score=0.884 total time=   0.8s\n",
      "[CV 2/10] END regressor__max_depth=30, regressor__max_features=sqrt, regressor__max_samples=0.1, regressor__n_estimators=200;, score=0.894 total time=   0.8s\n",
      "[CV 3/10] END regressor__max_depth=30, regressor__max_features=sqrt, regressor__max_samples=0.1, regressor__n_estimators=200;, score=0.867 total time=   0.8s\n",
      "[CV 4/10] END regressor__max_depth=30, regressor__max_features=sqrt, regressor__max_samples=0.1, regressor__n_estimators=200;, score=0.852 total time=   0.9s\n",
      "[CV 5/10] END regressor__max_depth=30, regressor__max_features=sqrt, regressor__max_samples=0.1, regressor__n_estimators=200;, score=0.864 total time=   0.9s\n",
      "[CV 6/10] END regressor__max_depth=30, regressor__max_features=sqrt, regressor__max_samples=0.1, regressor__n_estimators=200;, score=0.857 total time=   0.9s\n",
      "[CV 7/10] END regressor__max_depth=30, regressor__max_features=sqrt, regressor__max_samples=0.1, regressor__n_estimators=200;, score=0.873 total time=   0.9s\n",
      "[CV 8/10] END regressor__max_depth=30, regressor__max_features=sqrt, regressor__max_samples=0.1, regressor__n_estimators=200;, score=0.874 total time=   0.9s\n",
      "[CV 9/10] END regressor__max_depth=30, regressor__max_features=sqrt, regressor__max_samples=0.1, regressor__n_estimators=200;, score=0.849 total time=   1.0s\n",
      "[CV 10/10] END regressor__max_depth=30, regressor__max_features=sqrt, regressor__max_samples=0.1, regressor__n_estimators=200;, score=0.852 total time=   1.0s\n",
      "[CV 1/10] END regressor__max_depth=30, regressor__max_features=sqrt, regressor__max_samples=0.1, regressor__n_estimators=300;, score=0.884 total time=   1.4s\n",
      "[CV 2/10] END regressor__max_depth=30, regressor__max_features=sqrt, regressor__max_samples=0.1, regressor__n_estimators=300;, score=0.889 total time=   1.3s\n",
      "[CV 3/10] END regressor__max_depth=30, regressor__max_features=sqrt, regressor__max_samples=0.1, regressor__n_estimators=300;, score=0.871 total time=   1.3s\n",
      "[CV 9/10] END regressor__max_depth=30, regressor__max_features=auto, regressor__max_samples=1.0, regressor__n_estimators=300;, score=0.866 total time=   5.7s\n",
      "[CV 4/10] END regressor__max_depth=30, regressor__max_features=sqrt, regressor__max_samples=0.1, regressor__n_estimators=300;, score=0.851 total time=   1.3s\n",
      "[CV 10/10] END regressor__max_depth=30, regressor__max_features=auto, regressor__max_samples=1.0, regressor__n_estimators=300;, score=0.881 total time=   5.7s\n",
      "[CV 5/10] END regressor__max_depth=30, regressor__max_features=sqrt, regressor__max_samples=0.1, regressor__n_estimators=300;, score=0.865 total time=   1.2s\n",
      "[CV 1/10] END regressor__max_depth=30, regressor__max_features=sqrt, regressor__max_samples=0.25, regressor__n_estimators=50;, score=0.889 total time=   0.3s\n",
      "[CV 6/10] END regressor__max_depth=30, regressor__max_features=sqrt, regressor__max_samples=0.1, regressor__n_estimators=300;, score=0.859 total time=   1.2s\n",
      "[CV 2/10] END regressor__max_depth=30, regressor__max_features=sqrt, regressor__max_samples=0.25, regressor__n_estimators=50;, score=0.906 total time=   0.3s\n",
      "[CV 3/10] END regressor__max_depth=30, regressor__max_features=sqrt, regressor__max_samples=0.25, regressor__n_estimators=50;, score=0.888 total time=   0.3s\n",
      "[CV 4/10] END regressor__max_depth=30, regressor__max_features=sqrt, regressor__max_samples=0.25, regressor__n_estimators=50;, score=0.873 total time=   0.3s\n",
      "[CV 5/10] END regressor__max_depth=30, regressor__max_features=sqrt, regressor__max_samples=0.25, regressor__n_estimators=50;, score=0.873 total time=   0.3s\n",
      "[CV 6/10] END regressor__max_depth=30, regressor__max_features=sqrt, regressor__max_samples=0.25, regressor__n_estimators=50;, score=0.866 total time=   0.3s\n",
      "[CV 7/10] END regressor__max_depth=30, regressor__max_features=sqrt, regressor__max_samples=0.25, regressor__n_estimators=50;, score=0.884 total time=   0.3s\n",
      "[CV 7/10] END regressor__max_depth=30, regressor__max_features=sqrt, regressor__max_samples=0.1, regressor__n_estimators=300;, score=0.875 total time=   1.2s\n",
      "[CV 8/10] END regressor__max_depth=30, regressor__max_features=sqrt, regressor__max_samples=0.25, regressor__n_estimators=50;, score=0.876 total time=   0.3s\n",
      "[CV 8/10] END regressor__max_depth=30, regressor__max_features=sqrt, regressor__max_samples=0.1, regressor__n_estimators=300;, score=0.873 total time=   1.2s\n",
      "[CV 9/10] END regressor__max_depth=30, regressor__max_features=sqrt, regressor__max_samples=0.25, regressor__n_estimators=50;, score=0.864 total time=   0.3s\n",
      "[CV 9/10] END regressor__max_depth=30, regressor__max_features=sqrt, regressor__max_samples=0.1, regressor__n_estimators=300;, score=0.854 total time=   1.2s\n",
      "[CV 10/10] END regressor__max_depth=30, regressor__max_features=sqrt, regressor__max_samples=0.25, regressor__n_estimators=50;, score=0.862 total time=   0.3s\n",
      "[CV 10/10] END regressor__max_depth=30, regressor__max_features=sqrt, regressor__max_samples=0.1, regressor__n_estimators=300;, score=0.852 total time=   1.2s\n",
      "[CV 1/10] END regressor__max_depth=30, regressor__max_features=sqrt, regressor__max_samples=0.25, regressor__n_estimators=100;, score=0.894 total time=   0.5s\n",
      "[CV 2/10] END regressor__max_depth=30, regressor__max_features=sqrt, regressor__max_samples=0.25, regressor__n_estimators=100;, score=0.904 total time=   0.5s\n",
      "[CV 3/10] END regressor__max_depth=30, regressor__max_features=sqrt, regressor__max_samples=0.25, regressor__n_estimators=100;, score=0.887 total time=   0.6s\n",
      "[CV 4/10] END regressor__max_depth=30, regressor__max_features=sqrt, regressor__max_samples=0.25, regressor__n_estimators=100;, score=0.875 total time=   0.6s\n",
      "[CV 5/10] END regressor__max_depth=30, regressor__max_features=sqrt, regressor__max_samples=0.25, regressor__n_estimators=100;, score=0.875 total time=   0.5s\n",
      "[CV 6/10] END regressor__max_depth=30, regressor__max_features=sqrt, regressor__max_samples=0.25, regressor__n_estimators=100;, score=0.871 total time=   0.5s\n",
      "[CV 7/10] END regressor__max_depth=30, regressor__max_features=sqrt, regressor__max_samples=0.25, regressor__n_estimators=100;, score=0.887 total time=   0.5s\n",
      "[CV 8/10] END regressor__max_depth=30, regressor__max_features=sqrt, regressor__max_samples=0.25, regressor__n_estimators=100;, score=0.882 total time=   0.6s\n",
      "[CV 9/10] END regressor__max_depth=30, regressor__max_features=sqrt, regressor__max_samples=0.25, regressor__n_estimators=100;, score=0.863 total time=   0.6s\n",
      "[CV 10/10] END regressor__max_depth=30, regressor__max_features=sqrt, regressor__max_samples=0.25, regressor__n_estimators=100;, score=0.860 total time=   0.5s\n",
      "[CV 1/10] END regressor__max_depth=30, regressor__max_features=sqrt, regressor__max_samples=0.25, regressor__n_estimators=200;, score=0.897 total time=   1.0s\n",
      "[CV 2/10] END regressor__max_depth=30, regressor__max_features=sqrt, regressor__max_samples=0.25, regressor__n_estimators=200;, score=0.902 total time=   1.0s\n",
      "[CV 3/10] END regressor__max_depth=30, regressor__max_features=sqrt, regressor__max_samples=0.25, regressor__n_estimators=200;, score=0.889 total time=   1.0s\n",
      "[CV 4/10] END regressor__max_depth=30, regressor__max_features=sqrt, regressor__max_samples=0.25, regressor__n_estimators=200;, score=0.869 total time=   1.0s\n",
      "[CV 5/10] END regressor__max_depth=30, regressor__max_features=sqrt, regressor__max_samples=0.25, regressor__n_estimators=200;, score=0.881 total time=   1.0s\n",
      "[CV 6/10] END regressor__max_depth=30, regressor__max_features=sqrt, regressor__max_samples=0.25, regressor__n_estimators=200;, score=0.873 total time=   1.0s\n",
      "[CV 7/10] END regressor__max_depth=30, regressor__max_features=sqrt, regressor__max_samples=0.25, regressor__n_estimators=200;, score=0.885 total time=   1.0s\n",
      "[CV 8/10] END regressor__max_depth=30, regressor__max_features=sqrt, regressor__max_samples=0.25, regressor__n_estimators=200;, score=0.882 total time=   1.0s\n",
      "[CV 10/10] END regressor__max_depth=30, regressor__max_features=sqrt, regressor__max_samples=0.25, regressor__n_estimators=200;, score=0.867 total time=   1.0s\n",
      "[CV 9/10] END regressor__max_depth=30, regressor__max_features=sqrt, regressor__max_samples=0.25, regressor__n_estimators=200;, score=0.863 total time=   1.1s\n",
      "[CV 1/10] END regressor__max_depth=30, regressor__max_features=sqrt, regressor__max_samples=0.25, regressor__n_estimators=300;, score=0.896 total time=   1.5s\n",
      "[CV 2/10] END regressor__max_depth=30, regressor__max_features=sqrt, regressor__max_samples=0.25, regressor__n_estimators=300;, score=0.906 total time=   1.5s\n",
      "[CV 3/10] END regressor__max_depth=30, regressor__max_features=sqrt, regressor__max_samples=0.25, regressor__n_estimators=300;, score=0.891 total time=   1.5s\n",
      "[CV 4/10] END regressor__max_depth=30, regressor__max_features=sqrt, regressor__max_samples=0.25, regressor__n_estimators=300;, score=0.871 total time=   1.5s\n",
      "[CV 5/10] END regressor__max_depth=30, regressor__max_features=sqrt, regressor__max_samples=0.25, regressor__n_estimators=300;, score=0.879 total time=   1.5s\n",
      "[CV 6/10] END regressor__max_depth=30, regressor__max_features=sqrt, regressor__max_samples=0.25, regressor__n_estimators=300;, score=0.869 total time=   1.5s\n",
      "[CV 1/10] END regressor__max_depth=30, regressor__max_features=sqrt, regressor__max_samples=0.5, regressor__n_estimators=50;, score=0.900 total time=   0.4s\n",
      "[CV 2/10] END regressor__max_depth=30, regressor__max_features=sqrt, regressor__max_samples=0.5, regressor__n_estimators=50;, score=0.907 total time=   0.4s\n",
      "[CV 4/10] END regressor__max_depth=30, regressor__max_features=sqrt, regressor__max_samples=0.5, regressor__n_estimators=50;, score=0.880 total time=   0.4s\n",
      "[CV 3/10] END regressor__max_depth=30, regressor__max_features=sqrt, regressor__max_samples=0.5, regressor__n_estimators=50;, score=0.894 total time=   0.5s\n",
      "[CV 5/10] END regressor__max_depth=30, regressor__max_features=sqrt, regressor__max_samples=0.5, regressor__n_estimators=50;, score=0.885 total time=   0.4s\n",
      "[CV 6/10] END regressor__max_depth=30, regressor__max_features=sqrt, regressor__max_samples=0.5, regressor__n_estimators=50;, score=0.874 total time=   0.4s\n",
      "[CV 8/10] END regressor__max_depth=30, regressor__max_features=sqrt, regressor__max_samples=0.25, regressor__n_estimators=300;, score=0.882 total time=   1.5s\n",
      "[CV 7/10] END regressor__max_depth=30, regressor__max_features=sqrt, regressor__max_samples=0.25, regressor__n_estimators=300;, score=0.889 total time=   1.5s\n",
      "[CV 7/10] END regressor__max_depth=30, regressor__max_features=sqrt, regressor__max_samples=0.5, regressor__n_estimators=50;, score=0.889 total time=   0.4s\n",
      "[CV 8/10] END regressor__max_depth=30, regressor__max_features=sqrt, regressor__max_samples=0.5, regressor__n_estimators=50;, score=0.878 total time=   0.4s\n",
      "[CV 9/10] END regressor__max_depth=30, regressor__max_features=sqrt, regressor__max_samples=0.5, regressor__n_estimators=50;, score=0.863 total time=   0.4s\n",
      "[CV 10/10] END regressor__max_depth=30, regressor__max_features=sqrt, regressor__max_samples=0.5, regressor__n_estimators=50;, score=0.871 total time=   0.4s\n",
      "[CV 9/10] END regressor__max_depth=30, regressor__max_features=sqrt, regressor__max_samples=0.25, regressor__n_estimators=300;, score=0.865 total time=   1.5s\n",
      "[CV 10/10] END regressor__max_depth=30, regressor__max_features=sqrt, regressor__max_samples=0.25, regressor__n_estimators=300;, score=0.862 total time=   1.5s\n",
      "[CV 2/10] END regressor__max_depth=30, regressor__max_features=sqrt, regressor__max_samples=0.5, regressor__n_estimators=100;, score=0.910 total time=   0.7s\n",
      "[CV 1/10] END regressor__max_depth=30, regressor__max_features=sqrt, regressor__max_samples=0.5, regressor__n_estimators=100;, score=0.898 total time=   0.7s\n",
      "[CV 3/10] END regressor__max_depth=30, regressor__max_features=sqrt, regressor__max_samples=0.5, regressor__n_estimators=100;, score=0.896 total time=   0.7s\n",
      "[CV 4/10] END regressor__max_depth=30, regressor__max_features=sqrt, regressor__max_samples=0.5, regressor__n_estimators=100;, score=0.879 total time=   0.7s\n",
      "[CV 5/10] END regressor__max_depth=30, regressor__max_features=sqrt, regressor__max_samples=0.5, regressor__n_estimators=100;, score=0.890 total time=   0.7s\n",
      "[CV 6/10] END regressor__max_depth=30, regressor__max_features=sqrt, regressor__max_samples=0.5, regressor__n_estimators=100;, score=0.873 total time=   0.7s\n",
      "[CV 7/10] END regressor__max_depth=30, regressor__max_features=sqrt, regressor__max_samples=0.5, regressor__n_estimators=100;, score=0.892 total time=   0.7s\n",
      "[CV 8/10] END regressor__max_depth=30, regressor__max_features=sqrt, regressor__max_samples=0.5, regressor__n_estimators=100;, score=0.883 total time=   0.7s\n",
      "[CV 9/10] END regressor__max_depth=30, regressor__max_features=sqrt, regressor__max_samples=0.5, regressor__n_estimators=100;, score=0.876 total time=   0.7s\n",
      "[CV 10/10] END regressor__max_depth=30, regressor__max_features=sqrt, regressor__max_samples=0.5, regressor__n_estimators=100;, score=0.866 total time=   0.7s\n",
      "[CV 1/10] END regressor__max_depth=30, regressor__max_features=sqrt, regressor__max_samples=0.5, regressor__n_estimators=200;, score=0.903 total time=   1.3s\n",
      "[CV 2/10] END regressor__max_depth=30, regressor__max_features=sqrt, regressor__max_samples=0.5, regressor__n_estimators=200;, score=0.912 total time=   1.3s\n",
      "[CV 3/10] END regressor__max_depth=30, regressor__max_features=sqrt, regressor__max_samples=0.5, regressor__n_estimators=200;, score=0.897 total time=   1.3s\n",
      "[CV 4/10] END regressor__max_depth=30, regressor__max_features=sqrt, regressor__max_samples=0.5, regressor__n_estimators=200;, score=0.881 total time=   1.3s\n",
      "[CV 5/10] END regressor__max_depth=30, regressor__max_features=sqrt, regressor__max_samples=0.5, regressor__n_estimators=200;, score=0.887 total time=   1.3s\n",
      "[CV 6/10] END regressor__max_depth=30, regressor__max_features=sqrt, regressor__max_samples=0.5, regressor__n_estimators=200;, score=0.878 total time=   1.3s\n",
      "[CV 7/10] END regressor__max_depth=30, regressor__max_features=sqrt, regressor__max_samples=0.5, regressor__n_estimators=200;, score=0.895 total time=   1.3s\n",
      "[CV 8/10] END regressor__max_depth=30, regressor__max_features=sqrt, regressor__max_samples=0.5, regressor__n_estimators=200;, score=0.885 total time=   1.3s\n",
      "[CV 9/10] END regressor__max_depth=30, regressor__max_features=sqrt, regressor__max_samples=0.5, regressor__n_estimators=200;, score=0.871 total time=   1.4s\n",
      "[CV 10/10] END regressor__max_depth=30, regressor__max_features=sqrt, regressor__max_samples=0.5, regressor__n_estimators=200;, score=0.872 total time=   1.4s\n",
      "[CV 2/10] END regressor__max_depth=30, regressor__max_features=sqrt, regressor__max_samples=0.5, regressor__n_estimators=300;, score=0.912 total time=   2.1s\n",
      "[CV 1/10] END regressor__max_depth=30, regressor__max_features=sqrt, regressor__max_samples=0.5, regressor__n_estimators=300;, score=0.900 total time=   2.1s\n",
      "[CV 3/10] END regressor__max_depth=30, regressor__max_features=sqrt, regressor__max_samples=0.5, regressor__n_estimators=300;, score=0.898 total time=   2.1s\n",
      "[CV 4/10] END regressor__max_depth=30, regressor__max_features=sqrt, regressor__max_samples=0.5, regressor__n_estimators=300;, score=0.884 total time=   2.1s\n",
      "[CV 5/10] END regressor__max_depth=30, regressor__max_features=sqrt, regressor__max_samples=0.5, regressor__n_estimators=300;, score=0.886 total time=   2.1s\n",
      "[CV 6/10] END regressor__max_depth=30, regressor__max_features=sqrt, regressor__max_samples=0.5, regressor__n_estimators=300;, score=0.877 total time=   2.1s\n",
      "[CV 1/10] END regressor__max_depth=30, regressor__max_features=sqrt, regressor__max_samples=1.0, regressor__n_estimators=50;, score=0.904 total time=   0.5s\n",
      "[CV 2/10] END regressor__max_depth=30, regressor__max_features=sqrt, regressor__max_samples=1.0, regressor__n_estimators=50;, score=0.909 total time=   0.5s\n",
      "[CV 3/10] END regressor__max_depth=30, regressor__max_features=sqrt, regressor__max_samples=1.0, regressor__n_estimators=50;, score=0.906 total time=   0.5s\n",
      "[CV 4/10] END regressor__max_depth=30, regressor__max_features=sqrt, regressor__max_samples=1.0, regressor__n_estimators=50;, score=0.887 total time=   0.5s\n",
      "[CV 5/10] END regressor__max_depth=30, regressor__max_features=sqrt, regressor__max_samples=1.0, regressor__n_estimators=50;, score=0.891 total time=   0.5s\n",
      "[CV 7/10] END regressor__max_depth=30, regressor__max_features=sqrt, regressor__max_samples=0.5, regressor__n_estimators=300;, score=0.897 total time=   2.1s\n",
      "[CV 6/10] END regressor__max_depth=30, regressor__max_features=sqrt, regressor__max_samples=1.0, regressor__n_estimators=50;, score=0.883 total time=   0.5s\n",
      "[CV 8/10] END regressor__max_depth=30, regressor__max_features=sqrt, regressor__max_samples=0.5, regressor__n_estimators=300;, score=0.887 total time=   2.1s\n",
      "[CV 8/10] END regressor__max_depth=30, regressor__max_features=sqrt, regressor__max_samples=1.0, regressor__n_estimators=50;, score=0.887 total time=   0.5s\n",
      "[CV 7/10] END regressor__max_depth=30, regressor__max_features=sqrt, regressor__max_samples=1.0, regressor__n_estimators=50;, score=0.897 total time=   0.5s\n",
      "[CV 9/10] END regressor__max_depth=30, regressor__max_features=sqrt, regressor__max_samples=1.0, regressor__n_estimators=50;, score=0.878 total time=   0.5s\n",
      "[CV 10/10] END regressor__max_depth=30, regressor__max_features=sqrt, regressor__max_samples=1.0, regressor__n_estimators=50;, score=0.869 total time=   0.5s\n",
      "[CV 9/10] END regressor__max_depth=30, regressor__max_features=sqrt, regressor__max_samples=0.5, regressor__n_estimators=300;, score=0.872 total time=   2.0s\n",
      "[CV 10/10] END regressor__max_depth=30, regressor__max_features=sqrt, regressor__max_samples=0.5, regressor__n_estimators=300;, score=0.873 total time=   2.0s\n",
      "[CV 1/10] END regressor__max_depth=30, regressor__max_features=sqrt, regressor__max_samples=1.0, regressor__n_estimators=100;, score=0.906 total time=   1.0s\n",
      "[CV 2/10] END regressor__max_depth=30, regressor__max_features=sqrt, regressor__max_samples=1.0, regressor__n_estimators=100;, score=0.917 total time=   1.0s\n",
      "[CV 4/10] END regressor__max_depth=30, regressor__max_features=sqrt, regressor__max_samples=1.0, regressor__n_estimators=100;, score=0.885 total time=   1.0s\n",
      "[CV 3/10] END regressor__max_depth=30, regressor__max_features=sqrt, regressor__max_samples=1.0, regressor__n_estimators=100;, score=0.898 total time=   1.0s\n",
      "[CV 5/10] END regressor__max_depth=30, regressor__max_features=sqrt, regressor__max_samples=1.0, regressor__n_estimators=100;, score=0.893 total time=   1.0s\n",
      "[CV 6/10] END regressor__max_depth=30, regressor__max_features=sqrt, regressor__max_samples=1.0, regressor__n_estimators=100;, score=0.882 total time=   1.0s\n",
      "[CV 7/10] END regressor__max_depth=30, regressor__max_features=sqrt, regressor__max_samples=1.0, regressor__n_estimators=100;, score=0.894 total time=   1.0s\n",
      "[CV 8/10] END regressor__max_depth=30, regressor__max_features=sqrt, regressor__max_samples=1.0, regressor__n_estimators=100;, score=0.889 total time=   1.0s\n",
      "[CV 10/10] END regressor__max_depth=30, regressor__max_features=sqrt, regressor__max_samples=1.0, regressor__n_estimators=100;, score=0.874 total time=   1.0s\n",
      "[CV 9/10] END regressor__max_depth=30, regressor__max_features=sqrt, regressor__max_samples=1.0, regressor__n_estimators=100;, score=0.873 total time=   1.0s\n",
      "[CV 1/10] END regressor__max_depth=30, regressor__max_features=sqrt, regressor__max_samples=1.0, regressor__n_estimators=200;, score=0.905 total time=   1.8s\n",
      "[CV 2/10] END regressor__max_depth=30, regressor__max_features=sqrt, regressor__max_samples=1.0, regressor__n_estimators=200;, score=0.915 total time=   1.8s\n",
      "[CV 3/10] END regressor__max_depth=30, regressor__max_features=sqrt, regressor__max_samples=1.0, regressor__n_estimators=200;, score=0.902 total time=   1.8s[CV 4/10] END regressor__max_depth=30, regressor__max_features=sqrt, regressor__max_samples=1.0, regressor__n_estimators=200;, score=0.888 total time=   1.8s\n",
      "\n",
      "[CV 5/10] END regressor__max_depth=30, regressor__max_features=sqrt, regressor__max_samples=1.0, regressor__n_estimators=200;, score=0.895 total time=   1.8s\n",
      "[CV 6/10] END regressor__max_depth=30, regressor__max_features=sqrt, regressor__max_samples=1.0, regressor__n_estimators=200;, score=0.882 total time=   1.8s\n",
      "[CV 7/10] END regressor__max_depth=30, regressor__max_features=sqrt, regressor__max_samples=1.0, regressor__n_estimators=200;, score=0.895 total time=   1.8s\n",
      "[CV 8/10] END regressor__max_depth=30, regressor__max_features=sqrt, regressor__max_samples=1.0, regressor__n_estimators=200;, score=0.888 total time=   1.8s\n",
      "[CV 9/10] END regressor__max_depth=30, regressor__max_features=sqrt, regressor__max_samples=1.0, regressor__n_estimators=200;, score=0.876 total time=   1.8s\n",
      "[CV 10/10] END regressor__max_depth=30, regressor__max_features=sqrt, regressor__max_samples=1.0, regressor__n_estimators=200;, score=0.874 total time=   1.8s\n",
      "[CV 2/10] END regressor__max_depth=30, regressor__max_features=sqrt, regressor__max_samples=1.0, regressor__n_estimators=300;, score=0.919 total time=   2.7s\n",
      "[CV 1/10] END regressor__max_depth=30, regressor__max_features=sqrt, regressor__max_samples=1.0, regressor__n_estimators=300;, score=0.903 total time=   2.7s\n",
      "[CV 3/10] END regressor__max_depth=30, regressor__max_features=sqrt, regressor__max_samples=1.0, regressor__n_estimators=300;, score=0.901 total time=   2.9s\n",
      "[CV 4/10] END regressor__max_depth=30, regressor__max_features=sqrt, regressor__max_samples=1.0, regressor__n_estimators=300;, score=0.890 total time=   2.9s\n",
      "[CV 5/10] END regressor__max_depth=30, regressor__max_features=sqrt, regressor__max_samples=1.0, regressor__n_estimators=300;, score=0.892 total time=   2.8s\n",
      "[CV 6/10] END regressor__max_depth=30, regressor__max_features=sqrt, regressor__max_samples=1.0, regressor__n_estimators=300;, score=0.883 total time=   2.8s\n",
      "[CV 7/10] END regressor__max_depth=30, regressor__max_features=sqrt, regressor__max_samples=1.0, regressor__n_estimators=300;, score=0.897 total time=   2.5s\n",
      "[CV 8/10] END regressor__max_depth=30, regressor__max_features=sqrt, regressor__max_samples=1.0, regressor__n_estimators=300;, score=0.889 total time=   2.5s\n",
      "[CV 9/10] END regressor__max_depth=30, regressor__max_features=sqrt, regressor__max_samples=1.0, regressor__n_estimators=300;, score=0.876 total time=   2.0s\n",
      "[CV 10/10] END regressor__max_depth=30, regressor__max_features=sqrt, regressor__max_samples=1.0, regressor__n_estimators=300;, score=0.875 total time=   2.0s\n"
     ]
    },
    {
     "name": "stderr",
     "output_type": "stream",
     "text": [
      "/Users/vivektyagi/miniconda3/envs/envDS/lib/python3.9/site-packages/sklearn/ensemble/_forest.py:414: FutureWarning: `max_features='auto'` has been deprecated in 1.1 and will be removed in 1.3. To keep the past behaviour, explicitly set `max_features=1.0` or remove this parameter as it is also the default value for RandomForestRegressors and ExtraTreesRegressors.\n",
      "  warn(\n"
     ]
    },
    {
     "data": {
      "text/html": [
       "<style>#sk-container-id-10 {color: black;background-color: white;}#sk-container-id-10 pre{padding: 0;}#sk-container-id-10 div.sk-toggleable {background-color: white;}#sk-container-id-10 label.sk-toggleable__label {cursor: pointer;display: block;width: 100%;margin-bottom: 0;padding: 0.3em;box-sizing: border-box;text-align: center;}#sk-container-id-10 label.sk-toggleable__label-arrow:before {content: \"▸\";float: left;margin-right: 0.25em;color: #696969;}#sk-container-id-10 label.sk-toggleable__label-arrow:hover:before {color: black;}#sk-container-id-10 div.sk-estimator:hover label.sk-toggleable__label-arrow:before {color: black;}#sk-container-id-10 div.sk-toggleable__content {max-height: 0;max-width: 0;overflow: hidden;text-align: left;background-color: #f0f8ff;}#sk-container-id-10 div.sk-toggleable__content pre {margin: 0.2em;color: black;border-radius: 0.25em;background-color: #f0f8ff;}#sk-container-id-10 input.sk-toggleable__control:checked~div.sk-toggleable__content {max-height: 200px;max-width: 100%;overflow: auto;}#sk-container-id-10 input.sk-toggleable__control:checked~label.sk-toggleable__label-arrow:before {content: \"▾\";}#sk-container-id-10 div.sk-estimator input.sk-toggleable__control:checked~label.sk-toggleable__label {background-color: #d4ebff;}#sk-container-id-10 div.sk-label input.sk-toggleable__control:checked~label.sk-toggleable__label {background-color: #d4ebff;}#sk-container-id-10 input.sk-hidden--visually {border: 0;clip: rect(1px 1px 1px 1px);clip: rect(1px, 1px, 1px, 1px);height: 1px;margin: -1px;overflow: hidden;padding: 0;position: absolute;width: 1px;}#sk-container-id-10 div.sk-estimator {font-family: monospace;background-color: #f0f8ff;border: 1px dotted black;border-radius: 0.25em;box-sizing: border-box;margin-bottom: 0.5em;}#sk-container-id-10 div.sk-estimator:hover {background-color: #d4ebff;}#sk-container-id-10 div.sk-parallel-item::after {content: \"\";width: 100%;border-bottom: 1px solid gray;flex-grow: 1;}#sk-container-id-10 div.sk-label:hover label.sk-toggleable__label {background-color: #d4ebff;}#sk-container-id-10 div.sk-serial::before {content: \"\";position: absolute;border-left: 1px solid gray;box-sizing: border-box;top: 0;bottom: 0;left: 50%;z-index: 0;}#sk-container-id-10 div.sk-serial {display: flex;flex-direction: column;align-items: center;background-color: white;padding-right: 0.2em;padding-left: 0.2em;position: relative;}#sk-container-id-10 div.sk-item {position: relative;z-index: 1;}#sk-container-id-10 div.sk-parallel {display: flex;align-items: stretch;justify-content: center;background-color: white;position: relative;}#sk-container-id-10 div.sk-item::before, #sk-container-id-10 div.sk-parallel-item::before {content: \"\";position: absolute;border-left: 1px solid gray;box-sizing: border-box;top: 0;bottom: 0;left: 50%;z-index: -1;}#sk-container-id-10 div.sk-parallel-item {display: flex;flex-direction: column;z-index: 1;position: relative;background-color: white;}#sk-container-id-10 div.sk-parallel-item:first-child::after {align-self: flex-end;width: 50%;}#sk-container-id-10 div.sk-parallel-item:last-child::after {align-self: flex-start;width: 50%;}#sk-container-id-10 div.sk-parallel-item:only-child::after {width: 0;}#sk-container-id-10 div.sk-dashed-wrapped {border: 1px dashed gray;margin: 0 0.4em 0.5em 0.4em;box-sizing: border-box;padding-bottom: 0.4em;background-color: white;}#sk-container-id-10 div.sk-label label {font-family: monospace;font-weight: bold;display: inline-block;line-height: 1.2em;}#sk-container-id-10 div.sk-label-container {text-align: center;}#sk-container-id-10 div.sk-container {/* jupyter's `normalize.less` sets `[hidden] { display: none; }` but bootstrap.min.css set `[hidden] { display: none !important; }` so we also need the `!important` here to be able to override the default hidden behavior on the sphinx rendered scikit-learn.org. See: https://github.com/scikit-learn/scikit-learn/issues/21755 */display: inline-block !important;position: relative;}#sk-container-id-10 div.sk-text-repr-fallback {display: none;}</style><div id=\"sk-container-id-10\" class=\"sk-top-container\"><div class=\"sk-text-repr-fallback\"><pre>GridSearchCV(cv=KFold(n_splits=10, random_state=42, shuffle=True),\n",
       "             estimator=Pipeline(steps=[(&#x27;preprocessor&#x27;,\n",
       "                                        ColumnTransformer(remainder=&#x27;passthrough&#x27;,\n",
       "                                                          transformers=[(&#x27;target&#x27;,\n",
       "                                                                         TargetEncoder(),\n",
       "                                                                         [&#x27;sector&#x27;]),\n",
       "                                                                        (&#x27;num&#x27;,\n",
       "                                                                         StandardScaler(),\n",
       "                                                                         [&#x27;bedRoom&#x27;,\n",
       "                                                                          &#x27;bathroom&#x27;,\n",
       "                                                                          &#x27;built_up_area&#x27;,\n",
       "                                                                          &#x27;servant &#x27;\n",
       "                                                                          &#x27;room&#x27;,\n",
       "                                                                          &#x27;store &#x27;\n",
       "                                                                          &#x27;room&#x27;]),\n",
       "                                                                        (&#x27;cat1&#x27;,\n",
       "                                                                         OrdinalEncoder(),\n",
       "                                                                         [&#x27;property_type&#x27;,\n",
       "                                                                          &#x27;balcony&#x27;,\n",
       "                                                                          &#x27;lux...\n",
       "                                                                        (&#x27;cat2&#x27;,\n",
       "                                                                         OneHotEncoder(drop=&#x27;first&#x27;,\n",
       "                                                                                       sparse_output=False),\n",
       "                                                                         [&#x27;agePossession&#x27;,\n",
       "                                                                          &#x27;furnishing_type&#x27;])])),\n",
       "                                       (&#x27;regressor&#x27;, RandomForestRegressor())]),\n",
       "             n_jobs=-1,\n",
       "             param_grid={&#x27;regressor__max_depth&#x27;: [None, 10, 20, 30],\n",
       "                         &#x27;regressor__max_features&#x27;: [&#x27;auto&#x27;, &#x27;sqrt&#x27;],\n",
       "                         &#x27;regressor__max_samples&#x27;: [0.1, 0.25, 0.5, 1.0],\n",
       "                         &#x27;regressor__n_estimators&#x27;: [50, 100, 200, 300]},\n",
       "             scoring=&#x27;r2&#x27;, verbose=4)</pre><b>In a Jupyter environment, please rerun this cell to show the HTML representation or trust the notebook. <br />On GitHub, the HTML representation is unable to render, please try loading this page with nbviewer.org.</b></div><div class=\"sk-container\" hidden><div class=\"sk-item sk-dashed-wrapped\"><div class=\"sk-label-container\"><div class=\"sk-label sk-toggleable\"><input class=\"sk-toggleable__control sk-hidden--visually\" id=\"sk-estimator-id-82\" type=\"checkbox\" ><label for=\"sk-estimator-id-82\" class=\"sk-toggleable__label sk-toggleable__label-arrow\">GridSearchCV</label><div class=\"sk-toggleable__content\"><pre>GridSearchCV(cv=KFold(n_splits=10, random_state=42, shuffle=True),\n",
       "             estimator=Pipeline(steps=[(&#x27;preprocessor&#x27;,\n",
       "                                        ColumnTransformer(remainder=&#x27;passthrough&#x27;,\n",
       "                                                          transformers=[(&#x27;target&#x27;,\n",
       "                                                                         TargetEncoder(),\n",
       "                                                                         [&#x27;sector&#x27;]),\n",
       "                                                                        (&#x27;num&#x27;,\n",
       "                                                                         StandardScaler(),\n",
       "                                                                         [&#x27;bedRoom&#x27;,\n",
       "                                                                          &#x27;bathroom&#x27;,\n",
       "                                                                          &#x27;built_up_area&#x27;,\n",
       "                                                                          &#x27;servant &#x27;\n",
       "                                                                          &#x27;room&#x27;,\n",
       "                                                                          &#x27;store &#x27;\n",
       "                                                                          &#x27;room&#x27;]),\n",
       "                                                                        (&#x27;cat1&#x27;,\n",
       "                                                                         OrdinalEncoder(),\n",
       "                                                                         [&#x27;property_type&#x27;,\n",
       "                                                                          &#x27;balcony&#x27;,\n",
       "                                                                          &#x27;lux...\n",
       "                                                                        (&#x27;cat2&#x27;,\n",
       "                                                                         OneHotEncoder(drop=&#x27;first&#x27;,\n",
       "                                                                                       sparse_output=False),\n",
       "                                                                         [&#x27;agePossession&#x27;,\n",
       "                                                                          &#x27;furnishing_type&#x27;])])),\n",
       "                                       (&#x27;regressor&#x27;, RandomForestRegressor())]),\n",
       "             n_jobs=-1,\n",
       "             param_grid={&#x27;regressor__max_depth&#x27;: [None, 10, 20, 30],\n",
       "                         &#x27;regressor__max_features&#x27;: [&#x27;auto&#x27;, &#x27;sqrt&#x27;],\n",
       "                         &#x27;regressor__max_samples&#x27;: [0.1, 0.25, 0.5, 1.0],\n",
       "                         &#x27;regressor__n_estimators&#x27;: [50, 100, 200, 300]},\n",
       "             scoring=&#x27;r2&#x27;, verbose=4)</pre></div></div></div><div class=\"sk-parallel\"><div class=\"sk-parallel-item\"><div class=\"sk-item\"><div class=\"sk-label-container\"><div class=\"sk-label sk-toggleable\"><input class=\"sk-toggleable__control sk-hidden--visually\" id=\"sk-estimator-id-83\" type=\"checkbox\" ><label for=\"sk-estimator-id-83\" class=\"sk-toggleable__label sk-toggleable__label-arrow\">estimator: Pipeline</label><div class=\"sk-toggleable__content\"><pre>Pipeline(steps=[(&#x27;preprocessor&#x27;,\n",
       "                 ColumnTransformer(remainder=&#x27;passthrough&#x27;,\n",
       "                                   transformers=[(&#x27;target&#x27;, TargetEncoder(),\n",
       "                                                  [&#x27;sector&#x27;]),\n",
       "                                                 (&#x27;num&#x27;, StandardScaler(),\n",
       "                                                  [&#x27;bedRoom&#x27;, &#x27;bathroom&#x27;,\n",
       "                                                   &#x27;built_up_area&#x27;,\n",
       "                                                   &#x27;servant room&#x27;,\n",
       "                                                   &#x27;store room&#x27;]),\n",
       "                                                 (&#x27;cat1&#x27;, OrdinalEncoder(),\n",
       "                                                  [&#x27;property_type&#x27;, &#x27;balcony&#x27;,\n",
       "                                                   &#x27;luxury_category&#x27;,\n",
       "                                                   &#x27;floor_category&#x27;]),\n",
       "                                                 (&#x27;cat2&#x27;,\n",
       "                                                  OneHotEncoder(drop=&#x27;first&#x27;,\n",
       "                                                                sparse_output=False),\n",
       "                                                  [&#x27;agePossession&#x27;,\n",
       "                                                   &#x27;furnishing_type&#x27;])])),\n",
       "                (&#x27;regressor&#x27;, RandomForestRegressor())])</pre></div></div></div><div class=\"sk-serial\"><div class=\"sk-item\"><div class=\"sk-serial\"><div class=\"sk-item sk-dashed-wrapped\"><div class=\"sk-label-container\"><div class=\"sk-label sk-toggleable\"><input class=\"sk-toggleable__control sk-hidden--visually\" id=\"sk-estimator-id-84\" type=\"checkbox\" ><label for=\"sk-estimator-id-84\" class=\"sk-toggleable__label sk-toggleable__label-arrow\">preprocessor: ColumnTransformer</label><div class=\"sk-toggleable__content\"><pre>ColumnTransformer(remainder=&#x27;passthrough&#x27;,\n",
       "                  transformers=[(&#x27;target&#x27;, TargetEncoder(), [&#x27;sector&#x27;]),\n",
       "                                (&#x27;num&#x27;, StandardScaler(),\n",
       "                                 [&#x27;bedRoom&#x27;, &#x27;bathroom&#x27;, &#x27;built_up_area&#x27;,\n",
       "                                  &#x27;servant room&#x27;, &#x27;store room&#x27;]),\n",
       "                                (&#x27;cat1&#x27;, OrdinalEncoder(),\n",
       "                                 [&#x27;property_type&#x27;, &#x27;balcony&#x27;, &#x27;luxury_category&#x27;,\n",
       "                                  &#x27;floor_category&#x27;]),\n",
       "                                (&#x27;cat2&#x27;,\n",
       "                                 OneHotEncoder(drop=&#x27;first&#x27;,\n",
       "                                               sparse_output=False),\n",
       "                                 [&#x27;agePossession&#x27;, &#x27;furnishing_type&#x27;])])</pre></div></div></div><div class=\"sk-parallel\"><div class=\"sk-parallel-item\"><div class=\"sk-item\"><div class=\"sk-label-container\"><div class=\"sk-label sk-toggleable\"><input class=\"sk-toggleable__control sk-hidden--visually\" id=\"sk-estimator-id-85\" type=\"checkbox\" ><label for=\"sk-estimator-id-85\" class=\"sk-toggleable__label sk-toggleable__label-arrow\">target</label><div class=\"sk-toggleable__content\"><pre>[&#x27;sector&#x27;]</pre></div></div></div><div class=\"sk-serial\"><div class=\"sk-item\"><div class=\"sk-estimator sk-toggleable\"><input class=\"sk-toggleable__control sk-hidden--visually\" id=\"sk-estimator-id-86\" type=\"checkbox\" ><label for=\"sk-estimator-id-86\" class=\"sk-toggleable__label sk-toggleable__label-arrow\">TargetEncoder</label><div class=\"sk-toggleable__content\"><pre>TargetEncoder()</pre></div></div></div></div></div></div><div class=\"sk-parallel-item\"><div class=\"sk-item\"><div class=\"sk-label-container\"><div class=\"sk-label sk-toggleable\"><input class=\"sk-toggleable__control sk-hidden--visually\" id=\"sk-estimator-id-87\" type=\"checkbox\" ><label for=\"sk-estimator-id-87\" class=\"sk-toggleable__label sk-toggleable__label-arrow\">num</label><div class=\"sk-toggleable__content\"><pre>[&#x27;bedRoom&#x27;, &#x27;bathroom&#x27;, &#x27;built_up_area&#x27;, &#x27;servant room&#x27;, &#x27;store room&#x27;]</pre></div></div></div><div class=\"sk-serial\"><div class=\"sk-item\"><div class=\"sk-estimator sk-toggleable\"><input class=\"sk-toggleable__control sk-hidden--visually\" id=\"sk-estimator-id-88\" type=\"checkbox\" ><label for=\"sk-estimator-id-88\" class=\"sk-toggleable__label sk-toggleable__label-arrow\">StandardScaler</label><div class=\"sk-toggleable__content\"><pre>StandardScaler()</pre></div></div></div></div></div></div><div class=\"sk-parallel-item\"><div class=\"sk-item\"><div class=\"sk-label-container\"><div class=\"sk-label sk-toggleable\"><input class=\"sk-toggleable__control sk-hidden--visually\" id=\"sk-estimator-id-89\" type=\"checkbox\" ><label for=\"sk-estimator-id-89\" class=\"sk-toggleable__label sk-toggleable__label-arrow\">cat1</label><div class=\"sk-toggleable__content\"><pre>[&#x27;property_type&#x27;, &#x27;balcony&#x27;, &#x27;luxury_category&#x27;, &#x27;floor_category&#x27;]</pre></div></div></div><div class=\"sk-serial\"><div class=\"sk-item\"><div class=\"sk-estimator sk-toggleable\"><input class=\"sk-toggleable__control sk-hidden--visually\" id=\"sk-estimator-id-90\" type=\"checkbox\" ><label for=\"sk-estimator-id-90\" class=\"sk-toggleable__label sk-toggleable__label-arrow\">OrdinalEncoder</label><div class=\"sk-toggleable__content\"><pre>OrdinalEncoder()</pre></div></div></div></div></div></div><div class=\"sk-parallel-item\"><div class=\"sk-item\"><div class=\"sk-label-container\"><div class=\"sk-label sk-toggleable\"><input class=\"sk-toggleable__control sk-hidden--visually\" id=\"sk-estimator-id-91\" type=\"checkbox\" ><label for=\"sk-estimator-id-91\" class=\"sk-toggleable__label sk-toggleable__label-arrow\">cat2</label><div class=\"sk-toggleable__content\"><pre>[&#x27;agePossession&#x27;, &#x27;furnishing_type&#x27;]</pre></div></div></div><div class=\"sk-serial\"><div class=\"sk-item\"><div class=\"sk-estimator sk-toggleable\"><input class=\"sk-toggleable__control sk-hidden--visually\" id=\"sk-estimator-id-92\" type=\"checkbox\" ><label for=\"sk-estimator-id-92\" class=\"sk-toggleable__label sk-toggleable__label-arrow\">OneHotEncoder</label><div class=\"sk-toggleable__content\"><pre>OneHotEncoder(drop=&#x27;first&#x27;, sparse_output=False)</pre></div></div></div></div></div></div><div class=\"sk-parallel-item\"><div class=\"sk-item\"><div class=\"sk-label-container\"><div class=\"sk-label sk-toggleable\"><input class=\"sk-toggleable__control sk-hidden--visually\" id=\"sk-estimator-id-93\" type=\"checkbox\" ><label for=\"sk-estimator-id-93\" class=\"sk-toggleable__label sk-toggleable__label-arrow\">remainder</label><div class=\"sk-toggleable__content\"><pre></pre></div></div></div><div class=\"sk-serial\"><div class=\"sk-item\"><div class=\"sk-estimator sk-toggleable\"><input class=\"sk-toggleable__control sk-hidden--visually\" id=\"sk-estimator-id-94\" type=\"checkbox\" ><label for=\"sk-estimator-id-94\" class=\"sk-toggleable__label sk-toggleable__label-arrow\">passthrough</label><div class=\"sk-toggleable__content\"><pre>passthrough</pre></div></div></div></div></div></div></div></div><div class=\"sk-item\"><div class=\"sk-estimator sk-toggleable\"><input class=\"sk-toggleable__control sk-hidden--visually\" id=\"sk-estimator-id-95\" type=\"checkbox\" ><label for=\"sk-estimator-id-95\" class=\"sk-toggleable__label sk-toggleable__label-arrow\">RandomForestRegressor</label><div class=\"sk-toggleable__content\"><pre>RandomForestRegressor()</pre></div></div></div></div></div></div></div></div></div></div></div></div>"
      ],
      "text/plain": [
       "GridSearchCV(cv=KFold(n_splits=10, random_state=42, shuffle=True),\n",
       "             estimator=Pipeline(steps=[('preprocessor',\n",
       "                                        ColumnTransformer(remainder='passthrough',\n",
       "                                                          transformers=[('target',\n",
       "                                                                         TargetEncoder(),\n",
       "                                                                         ['sector']),\n",
       "                                                                        ('num',\n",
       "                                                                         StandardScaler(),\n",
       "                                                                         ['bedRoom',\n",
       "                                                                          'bathroom',\n",
       "                                                                          'built_up_area',\n",
       "                                                                          'servant '\n",
       "                                                                          'room',\n",
       "                                                                          'store '\n",
       "                                                                          'room']),\n",
       "                                                                        ('cat1',\n",
       "                                                                         OrdinalEncoder(),\n",
       "                                                                         ['property_type',\n",
       "                                                                          'balcony',\n",
       "                                                                          'lux...\n",
       "                                                                        ('cat2',\n",
       "                                                                         OneHotEncoder(drop='first',\n",
       "                                                                                       sparse_output=False),\n",
       "                                                                         ['agePossession',\n",
       "                                                                          'furnishing_type'])])),\n",
       "                                       ('regressor', RandomForestRegressor())]),\n",
       "             n_jobs=-1,\n",
       "             param_grid={'regressor__max_depth': [None, 10, 20, 30],\n",
       "                         'regressor__max_features': ['auto', 'sqrt'],\n",
       "                         'regressor__max_samples': [0.1, 0.25, 0.5, 1.0],\n",
       "                         'regressor__n_estimators': [50, 100, 200, 300]},\n",
       "             scoring='r2', verbose=4)"
      ]
     },
     "execution_count": 461,
     "metadata": {},
     "output_type": "execute_result"
    }
   ],
   "source": [
    "from sklearn.model_selection import GridSearchCV\n",
    "\n",
    "param_grid = {\n",
    "    'regressor__n_estimators': [50, 100, 200, 300],\n",
    "    'regressor__max_depth': [None, 10, 20, 30],\n",
    "    'regressor__max_samples':[0.1, 0.25, 0.5, 1.0],\n",
    "    'regressor__max_features': ['auto', 'sqrt']\n",
    "}\n",
    "\n",
    "\n",
    "# Creating a column transformer for encoding\n",
    "columns_to_encode_Ord = ['property_type', 'balcony', 'luxury_category', 'floor_category']\n",
    "columns_to_encodeOHE = ['agePossession', 'furnishing_type']\n",
    "columns_to_scale = ['bedRoom', 'bathroom', 'built_up_area', 'servant room', 'store room']\n",
    "column_to_target = ['sector']\n",
    "\n",
    "# Creating a column transformer for preprocessing\n",
    "preprocessor = ColumnTransformer(\n",
    "  transformers = [\n",
    "   ('target', ce.TargetEncoder(), column_to_target),\n",
    "   ('num', StandardScaler(), columns_to_scale),\n",
    "   ('cat1', OrdinalEncoder(), columns_to_encode_Ord),\n",
    "   ('cat2', OneHotEncoder(drop='first',sparse_output=False), columns_to_encodeOHE),\n",
    "  ],remainder='passthrough'\n",
    ") \n",
    "\n",
    "#create a pipeline using this preprocessor and model\n",
    "pipeline = Pipeline([\n",
    "    ('preprocessor', preprocessor),\n",
    "    ('regressor', RandomForestRegressor())\n",
    "])\n",
    "\n",
    "# k-fold cross validation\n",
    "kfold = KFold(n_splits=10, shuffle=True, random_state=42)\n",
    "# GridSearch CV for hyperparameter tuning\n",
    "search = GridSearchCV(pipeline, param_grid=param_grid, cv=kfold, scoring='r2', n_jobs=-1, verbose=4)\n",
    "search.fit(X, y_transformed)"
   ]
  },
  {
   "cell_type": "code",
   "execution_count": 464,
   "metadata": {},
   "outputs": [],
   "source": [
    "final_pipe = search.best_estimator_"
   ]
  },
  {
   "cell_type": "code",
   "execution_count": 465,
   "metadata": {},
   "outputs": [
    {
     "data": {
      "text/plain": [
       "{'regressor__max_depth': 20,\n",
       " 'regressor__max_features': 'auto',\n",
       " 'regressor__max_samples': 1.0,\n",
       " 'regressor__n_estimators': 300}"
      ]
     },
     "execution_count": 465,
     "metadata": {},
     "output_type": "execute_result"
    }
   ],
   "source": [
    "search.best_params_"
   ]
  },
  {
   "cell_type": "code",
   "execution_count": 466,
   "metadata": {},
   "outputs": [
    {
     "data": {
      "text/plain": [
       "0.8944590324143109"
      ]
     },
     "execution_count": 466,
     "metadata": {},
     "output_type": "execute_result"
    }
   ],
   "source": [
    "search.best_score_"
   ]
  },
  {
   "cell_type": "code",
   "execution_count": 468,
   "metadata": {},
   "outputs": [
    {
     "name": "stderr",
     "output_type": "stream",
     "text": [
      "/Users/vivektyagi/miniconda3/envs/envDS/lib/python3.9/site-packages/sklearn/ensemble/_forest.py:414: FutureWarning: `max_features='auto'` has been deprecated in 1.1 and will be removed in 1.3. To keep the past behaviour, explicitly set `max_features=1.0` or remove this parameter as it is also the default value for RandomForestRegressors and ExtraTreesRegressors.\n",
      "  warn(\n"
     ]
    },
    {
     "data": {
      "text/html": [
       "<style>#sk-container-id-11 {color: black;background-color: white;}#sk-container-id-11 pre{padding: 0;}#sk-container-id-11 div.sk-toggleable {background-color: white;}#sk-container-id-11 label.sk-toggleable__label {cursor: pointer;display: block;width: 100%;margin-bottom: 0;padding: 0.3em;box-sizing: border-box;text-align: center;}#sk-container-id-11 label.sk-toggleable__label-arrow:before {content: \"▸\";float: left;margin-right: 0.25em;color: #696969;}#sk-container-id-11 label.sk-toggleable__label-arrow:hover:before {color: black;}#sk-container-id-11 div.sk-estimator:hover label.sk-toggleable__label-arrow:before {color: black;}#sk-container-id-11 div.sk-toggleable__content {max-height: 0;max-width: 0;overflow: hidden;text-align: left;background-color: #f0f8ff;}#sk-container-id-11 div.sk-toggleable__content pre {margin: 0.2em;color: black;border-radius: 0.25em;background-color: #f0f8ff;}#sk-container-id-11 input.sk-toggleable__control:checked~div.sk-toggleable__content {max-height: 200px;max-width: 100%;overflow: auto;}#sk-container-id-11 input.sk-toggleable__control:checked~label.sk-toggleable__label-arrow:before {content: \"▾\";}#sk-container-id-11 div.sk-estimator input.sk-toggleable__control:checked~label.sk-toggleable__label {background-color: #d4ebff;}#sk-container-id-11 div.sk-label input.sk-toggleable__control:checked~label.sk-toggleable__label {background-color: #d4ebff;}#sk-container-id-11 input.sk-hidden--visually {border: 0;clip: rect(1px 1px 1px 1px);clip: rect(1px, 1px, 1px, 1px);height: 1px;margin: -1px;overflow: hidden;padding: 0;position: absolute;width: 1px;}#sk-container-id-11 div.sk-estimator {font-family: monospace;background-color: #f0f8ff;border: 1px dotted black;border-radius: 0.25em;box-sizing: border-box;margin-bottom: 0.5em;}#sk-container-id-11 div.sk-estimator:hover {background-color: #d4ebff;}#sk-container-id-11 div.sk-parallel-item::after {content: \"\";width: 100%;border-bottom: 1px solid gray;flex-grow: 1;}#sk-container-id-11 div.sk-label:hover label.sk-toggleable__label {background-color: #d4ebff;}#sk-container-id-11 div.sk-serial::before {content: \"\";position: absolute;border-left: 1px solid gray;box-sizing: border-box;top: 0;bottom: 0;left: 50%;z-index: 0;}#sk-container-id-11 div.sk-serial {display: flex;flex-direction: column;align-items: center;background-color: white;padding-right: 0.2em;padding-left: 0.2em;position: relative;}#sk-container-id-11 div.sk-item {position: relative;z-index: 1;}#sk-container-id-11 div.sk-parallel {display: flex;align-items: stretch;justify-content: center;background-color: white;position: relative;}#sk-container-id-11 div.sk-item::before, #sk-container-id-11 div.sk-parallel-item::before {content: \"\";position: absolute;border-left: 1px solid gray;box-sizing: border-box;top: 0;bottom: 0;left: 50%;z-index: -1;}#sk-container-id-11 div.sk-parallel-item {display: flex;flex-direction: column;z-index: 1;position: relative;background-color: white;}#sk-container-id-11 div.sk-parallel-item:first-child::after {align-self: flex-end;width: 50%;}#sk-container-id-11 div.sk-parallel-item:last-child::after {align-self: flex-start;width: 50%;}#sk-container-id-11 div.sk-parallel-item:only-child::after {width: 0;}#sk-container-id-11 div.sk-dashed-wrapped {border: 1px dashed gray;margin: 0 0.4em 0.5em 0.4em;box-sizing: border-box;padding-bottom: 0.4em;background-color: white;}#sk-container-id-11 div.sk-label label {font-family: monospace;font-weight: bold;display: inline-block;line-height: 1.2em;}#sk-container-id-11 div.sk-label-container {text-align: center;}#sk-container-id-11 div.sk-container {/* jupyter's `normalize.less` sets `[hidden] { display: none; }` but bootstrap.min.css set `[hidden] { display: none !important; }` so we also need the `!important` here to be able to override the default hidden behavior on the sphinx rendered scikit-learn.org. See: https://github.com/scikit-learn/scikit-learn/issues/21755 */display: inline-block !important;position: relative;}#sk-container-id-11 div.sk-text-repr-fallback {display: none;}</style><div id=\"sk-container-id-11\" class=\"sk-top-container\"><div class=\"sk-text-repr-fallback\"><pre>Pipeline(steps=[(&#x27;preprocessor&#x27;,\n",
       "                 ColumnTransformer(remainder=&#x27;passthrough&#x27;,\n",
       "                                   transformers=[(&#x27;target&#x27;, TargetEncoder(),\n",
       "                                                  [&#x27;sector&#x27;]),\n",
       "                                                 (&#x27;num&#x27;, StandardScaler(),\n",
       "                                                  [&#x27;bedRoom&#x27;, &#x27;bathroom&#x27;,\n",
       "                                                   &#x27;built_up_area&#x27;,\n",
       "                                                   &#x27;servant room&#x27;,\n",
       "                                                   &#x27;store room&#x27;]),\n",
       "                                                 (&#x27;cat1&#x27;, OrdinalEncoder(),\n",
       "                                                  [&#x27;property_type&#x27;, &#x27;balcony&#x27;,\n",
       "                                                   &#x27;luxury_category&#x27;,\n",
       "                                                   &#x27;floor_category&#x27;]),\n",
       "                                                 (&#x27;cat2&#x27;,\n",
       "                                                  OneHotEncoder(drop=&#x27;first&#x27;,\n",
       "                                                                sparse_output=False),\n",
       "                                                  [&#x27;agePossession&#x27;,\n",
       "                                                   &#x27;furnishing_type&#x27;])])),\n",
       "                (&#x27;regressor&#x27;,\n",
       "                 RandomForestRegressor(max_depth=20, max_features=&#x27;auto&#x27;,\n",
       "                                       max_samples=1.0, n_estimators=300))])</pre><b>In a Jupyter environment, please rerun this cell to show the HTML representation or trust the notebook. <br />On GitHub, the HTML representation is unable to render, please try loading this page with nbviewer.org.</b></div><div class=\"sk-container\" hidden><div class=\"sk-item sk-dashed-wrapped\"><div class=\"sk-label-container\"><div class=\"sk-label sk-toggleable\"><input class=\"sk-toggleable__control sk-hidden--visually\" id=\"sk-estimator-id-96\" type=\"checkbox\" ><label for=\"sk-estimator-id-96\" class=\"sk-toggleable__label sk-toggleable__label-arrow\">Pipeline</label><div class=\"sk-toggleable__content\"><pre>Pipeline(steps=[(&#x27;preprocessor&#x27;,\n",
       "                 ColumnTransformer(remainder=&#x27;passthrough&#x27;,\n",
       "                                   transformers=[(&#x27;target&#x27;, TargetEncoder(),\n",
       "                                                  [&#x27;sector&#x27;]),\n",
       "                                                 (&#x27;num&#x27;, StandardScaler(),\n",
       "                                                  [&#x27;bedRoom&#x27;, &#x27;bathroom&#x27;,\n",
       "                                                   &#x27;built_up_area&#x27;,\n",
       "                                                   &#x27;servant room&#x27;,\n",
       "                                                   &#x27;store room&#x27;]),\n",
       "                                                 (&#x27;cat1&#x27;, OrdinalEncoder(),\n",
       "                                                  [&#x27;property_type&#x27;, &#x27;balcony&#x27;,\n",
       "                                                   &#x27;luxury_category&#x27;,\n",
       "                                                   &#x27;floor_category&#x27;]),\n",
       "                                                 (&#x27;cat2&#x27;,\n",
       "                                                  OneHotEncoder(drop=&#x27;first&#x27;,\n",
       "                                                                sparse_output=False),\n",
       "                                                  [&#x27;agePossession&#x27;,\n",
       "                                                   &#x27;furnishing_type&#x27;])])),\n",
       "                (&#x27;regressor&#x27;,\n",
       "                 RandomForestRegressor(max_depth=20, max_features=&#x27;auto&#x27;,\n",
       "                                       max_samples=1.0, n_estimators=300))])</pre></div></div></div><div class=\"sk-serial\"><div class=\"sk-item sk-dashed-wrapped\"><div class=\"sk-label-container\"><div class=\"sk-label sk-toggleable\"><input class=\"sk-toggleable__control sk-hidden--visually\" id=\"sk-estimator-id-97\" type=\"checkbox\" ><label for=\"sk-estimator-id-97\" class=\"sk-toggleable__label sk-toggleable__label-arrow\">preprocessor: ColumnTransformer</label><div class=\"sk-toggleable__content\"><pre>ColumnTransformer(remainder=&#x27;passthrough&#x27;,\n",
       "                  transformers=[(&#x27;target&#x27;, TargetEncoder(), [&#x27;sector&#x27;]),\n",
       "                                (&#x27;num&#x27;, StandardScaler(),\n",
       "                                 [&#x27;bedRoom&#x27;, &#x27;bathroom&#x27;, &#x27;built_up_area&#x27;,\n",
       "                                  &#x27;servant room&#x27;, &#x27;store room&#x27;]),\n",
       "                                (&#x27;cat1&#x27;, OrdinalEncoder(),\n",
       "                                 [&#x27;property_type&#x27;, &#x27;balcony&#x27;, &#x27;luxury_category&#x27;,\n",
       "                                  &#x27;floor_category&#x27;]),\n",
       "                                (&#x27;cat2&#x27;,\n",
       "                                 OneHotEncoder(drop=&#x27;first&#x27;,\n",
       "                                               sparse_output=False),\n",
       "                                 [&#x27;agePossession&#x27;, &#x27;furnishing_type&#x27;])])</pre></div></div></div><div class=\"sk-parallel\"><div class=\"sk-parallel-item\"><div class=\"sk-item\"><div class=\"sk-label-container\"><div class=\"sk-label sk-toggleable\"><input class=\"sk-toggleable__control sk-hidden--visually\" id=\"sk-estimator-id-98\" type=\"checkbox\" ><label for=\"sk-estimator-id-98\" class=\"sk-toggleable__label sk-toggleable__label-arrow\">target</label><div class=\"sk-toggleable__content\"><pre>[&#x27;sector&#x27;]</pre></div></div></div><div class=\"sk-serial\"><div class=\"sk-item\"><div class=\"sk-estimator sk-toggleable\"><input class=\"sk-toggleable__control sk-hidden--visually\" id=\"sk-estimator-id-99\" type=\"checkbox\" ><label for=\"sk-estimator-id-99\" class=\"sk-toggleable__label sk-toggleable__label-arrow\">TargetEncoder</label><div class=\"sk-toggleable__content\"><pre>TargetEncoder()</pre></div></div></div></div></div></div><div class=\"sk-parallel-item\"><div class=\"sk-item\"><div class=\"sk-label-container\"><div class=\"sk-label sk-toggleable\"><input class=\"sk-toggleable__control sk-hidden--visually\" id=\"sk-estimator-id-100\" type=\"checkbox\" ><label for=\"sk-estimator-id-100\" class=\"sk-toggleable__label sk-toggleable__label-arrow\">num</label><div class=\"sk-toggleable__content\"><pre>[&#x27;bedRoom&#x27;, &#x27;bathroom&#x27;, &#x27;built_up_area&#x27;, &#x27;servant room&#x27;, &#x27;store room&#x27;]</pre></div></div></div><div class=\"sk-serial\"><div class=\"sk-item\"><div class=\"sk-estimator sk-toggleable\"><input class=\"sk-toggleable__control sk-hidden--visually\" id=\"sk-estimator-id-101\" type=\"checkbox\" ><label for=\"sk-estimator-id-101\" class=\"sk-toggleable__label sk-toggleable__label-arrow\">StandardScaler</label><div class=\"sk-toggleable__content\"><pre>StandardScaler()</pre></div></div></div></div></div></div><div class=\"sk-parallel-item\"><div class=\"sk-item\"><div class=\"sk-label-container\"><div class=\"sk-label sk-toggleable\"><input class=\"sk-toggleable__control sk-hidden--visually\" id=\"sk-estimator-id-102\" type=\"checkbox\" ><label for=\"sk-estimator-id-102\" class=\"sk-toggleable__label sk-toggleable__label-arrow\">cat1</label><div class=\"sk-toggleable__content\"><pre>[&#x27;property_type&#x27;, &#x27;balcony&#x27;, &#x27;luxury_category&#x27;, &#x27;floor_category&#x27;]</pre></div></div></div><div class=\"sk-serial\"><div class=\"sk-item\"><div class=\"sk-estimator sk-toggleable\"><input class=\"sk-toggleable__control sk-hidden--visually\" id=\"sk-estimator-id-103\" type=\"checkbox\" ><label for=\"sk-estimator-id-103\" class=\"sk-toggleable__label sk-toggleable__label-arrow\">OrdinalEncoder</label><div class=\"sk-toggleable__content\"><pre>OrdinalEncoder()</pre></div></div></div></div></div></div><div class=\"sk-parallel-item\"><div class=\"sk-item\"><div class=\"sk-label-container\"><div class=\"sk-label sk-toggleable\"><input class=\"sk-toggleable__control sk-hidden--visually\" id=\"sk-estimator-id-104\" type=\"checkbox\" ><label for=\"sk-estimator-id-104\" class=\"sk-toggleable__label sk-toggleable__label-arrow\">cat2</label><div class=\"sk-toggleable__content\"><pre>[&#x27;agePossession&#x27;, &#x27;furnishing_type&#x27;]</pre></div></div></div><div class=\"sk-serial\"><div class=\"sk-item\"><div class=\"sk-estimator sk-toggleable\"><input class=\"sk-toggleable__control sk-hidden--visually\" id=\"sk-estimator-id-105\" type=\"checkbox\" ><label for=\"sk-estimator-id-105\" class=\"sk-toggleable__label sk-toggleable__label-arrow\">OneHotEncoder</label><div class=\"sk-toggleable__content\"><pre>OneHotEncoder(drop=&#x27;first&#x27;, sparse_output=False)</pre></div></div></div></div></div></div><div class=\"sk-parallel-item\"><div class=\"sk-item\"><div class=\"sk-label-container\"><div class=\"sk-label sk-toggleable\"><input class=\"sk-toggleable__control sk-hidden--visually\" id=\"sk-estimator-id-106\" type=\"checkbox\" ><label for=\"sk-estimator-id-106\" class=\"sk-toggleable__label sk-toggleable__label-arrow\">remainder</label><div class=\"sk-toggleable__content\"><pre>[]</pre></div></div></div><div class=\"sk-serial\"><div class=\"sk-item\"><div class=\"sk-estimator sk-toggleable\"><input class=\"sk-toggleable__control sk-hidden--visually\" id=\"sk-estimator-id-107\" type=\"checkbox\" ><label for=\"sk-estimator-id-107\" class=\"sk-toggleable__label sk-toggleable__label-arrow\">passthrough</label><div class=\"sk-toggleable__content\"><pre>passthrough</pre></div></div></div></div></div></div></div></div><div class=\"sk-item\"><div class=\"sk-estimator sk-toggleable\"><input class=\"sk-toggleable__control sk-hidden--visually\" id=\"sk-estimator-id-108\" type=\"checkbox\" ><label for=\"sk-estimator-id-108\" class=\"sk-toggleable__label sk-toggleable__label-arrow\">RandomForestRegressor</label><div class=\"sk-toggleable__content\"><pre>RandomForestRegressor(max_depth=20, max_features=&#x27;auto&#x27;, max_samples=1.0,\n",
       "                      n_estimators=300)</pre></div></div></div></div></div></div></div>"
      ],
      "text/plain": [
       "Pipeline(steps=[('preprocessor',\n",
       "                 ColumnTransformer(remainder='passthrough',\n",
       "                                   transformers=[('target', TargetEncoder(),\n",
       "                                                  ['sector']),\n",
       "                                                 ('num', StandardScaler(),\n",
       "                                                  ['bedRoom', 'bathroom',\n",
       "                                                   'built_up_area',\n",
       "                                                   'servant room',\n",
       "                                                   'store room']),\n",
       "                                                 ('cat1', OrdinalEncoder(),\n",
       "                                                  ['property_type', 'balcony',\n",
       "                                                   'luxury_category',\n",
       "                                                   'floor_category']),\n",
       "                                                 ('cat2',\n",
       "                                                  OneHotEncoder(drop='first',\n",
       "                                                                sparse_output=False),\n",
       "                                                  ['agePossession',\n",
       "                                                   'furnishing_type'])])),\n",
       "                ('regressor',\n",
       "                 RandomForestRegressor(max_depth=20, max_features='auto',\n",
       "                                       max_samples=1.0, n_estimators=300))])"
      ]
     },
     "execution_count": 468,
     "metadata": {},
     "output_type": "execute_result"
    }
   ],
   "source": [
    "final_pipe.fit(X, y_transformed)"
   ]
  },
  {
   "cell_type": "code",
   "execution_count": 470,
   "metadata": {},
   "outputs": [
    {
     "name": "stderr",
     "output_type": "stream",
     "text": [
      "/Users/vivektyagi/miniconda3/envs/envDS/lib/python3.9/site-packages/sklearn/ensemble/_forest.py:414: FutureWarning: `max_features='auto'` has been deprecated in 1.1 and will be removed in 1.3. To keep the past behaviour, explicitly set `max_features=1.0` or remove this parameter as it is also the default value for RandomForestRegressors and ExtraTreesRegressors.\n",
      "  warn(\n"
     ]
    },
    {
     "data": {
      "text/plain": [
       "0.46420067754349936"
      ]
     },
     "execution_count": 470,
     "metadata": {},
     "output_type": "execute_result"
    }
   ],
   "source": [
    "X_train, X_test, y_train, y_test = train_test_split(X,y_transformed,test_size=0.2,random_state=42)\n",
    "\n",
    "final_pipe.fit(X_train,y_train)\n",
    "y_pred = final_pipe.predict(X_test)\n",
    "y_pred = np.expm1(y_pred)\n",
    "\n",
    "mae = mean_absolute_error(np.expm1(y_test),y_pred)\n",
    "mae"
   ]
  },
  {
   "attachments": {},
   "cell_type": "markdown",
   "metadata": {},
   "source": [
    "# Exporting the model"
   ]
  },
  {
   "cell_type": "code",
   "execution_count": 474,
   "metadata": {},
   "outputs": [
    {
     "name": "stderr",
     "output_type": "stream",
     "text": [
      "/Users/vivektyagi/miniconda3/envs/envDS/lib/python3.9/site-packages/sklearn/ensemble/_forest.py:414: FutureWarning: `max_features='auto'` has been deprecated in 1.1 and will be removed in 1.3. To keep the past behaviour, explicitly set `max_features=1.0` or remove this parameter as it is also the default value for RandomForestRegressors and ExtraTreesRegressors.\n",
      "  warn(\n"
     ]
    },
    {
     "data": {
      "text/html": [
       "<style>#sk-container-id-12 {color: black;background-color: white;}#sk-container-id-12 pre{padding: 0;}#sk-container-id-12 div.sk-toggleable {background-color: white;}#sk-container-id-12 label.sk-toggleable__label {cursor: pointer;display: block;width: 100%;margin-bottom: 0;padding: 0.3em;box-sizing: border-box;text-align: center;}#sk-container-id-12 label.sk-toggleable__label-arrow:before {content: \"▸\";float: left;margin-right: 0.25em;color: #696969;}#sk-container-id-12 label.sk-toggleable__label-arrow:hover:before {color: black;}#sk-container-id-12 div.sk-estimator:hover label.sk-toggleable__label-arrow:before {color: black;}#sk-container-id-12 div.sk-toggleable__content {max-height: 0;max-width: 0;overflow: hidden;text-align: left;background-color: #f0f8ff;}#sk-container-id-12 div.sk-toggleable__content pre {margin: 0.2em;color: black;border-radius: 0.25em;background-color: #f0f8ff;}#sk-container-id-12 input.sk-toggleable__control:checked~div.sk-toggleable__content {max-height: 200px;max-width: 100%;overflow: auto;}#sk-container-id-12 input.sk-toggleable__control:checked~label.sk-toggleable__label-arrow:before {content: \"▾\";}#sk-container-id-12 div.sk-estimator input.sk-toggleable__control:checked~label.sk-toggleable__label {background-color: #d4ebff;}#sk-container-id-12 div.sk-label input.sk-toggleable__control:checked~label.sk-toggleable__label {background-color: #d4ebff;}#sk-container-id-12 input.sk-hidden--visually {border: 0;clip: rect(1px 1px 1px 1px);clip: rect(1px, 1px, 1px, 1px);height: 1px;margin: -1px;overflow: hidden;padding: 0;position: absolute;width: 1px;}#sk-container-id-12 div.sk-estimator {font-family: monospace;background-color: #f0f8ff;border: 1px dotted black;border-radius: 0.25em;box-sizing: border-box;margin-bottom: 0.5em;}#sk-container-id-12 div.sk-estimator:hover {background-color: #d4ebff;}#sk-container-id-12 div.sk-parallel-item::after {content: \"\";width: 100%;border-bottom: 1px solid gray;flex-grow: 1;}#sk-container-id-12 div.sk-label:hover label.sk-toggleable__label {background-color: #d4ebff;}#sk-container-id-12 div.sk-serial::before {content: \"\";position: absolute;border-left: 1px solid gray;box-sizing: border-box;top: 0;bottom: 0;left: 50%;z-index: 0;}#sk-container-id-12 div.sk-serial {display: flex;flex-direction: column;align-items: center;background-color: white;padding-right: 0.2em;padding-left: 0.2em;position: relative;}#sk-container-id-12 div.sk-item {position: relative;z-index: 1;}#sk-container-id-12 div.sk-parallel {display: flex;align-items: stretch;justify-content: center;background-color: white;position: relative;}#sk-container-id-12 div.sk-item::before, #sk-container-id-12 div.sk-parallel-item::before {content: \"\";position: absolute;border-left: 1px solid gray;box-sizing: border-box;top: 0;bottom: 0;left: 50%;z-index: -1;}#sk-container-id-12 div.sk-parallel-item {display: flex;flex-direction: column;z-index: 1;position: relative;background-color: white;}#sk-container-id-12 div.sk-parallel-item:first-child::after {align-self: flex-end;width: 50%;}#sk-container-id-12 div.sk-parallel-item:last-child::after {align-self: flex-start;width: 50%;}#sk-container-id-12 div.sk-parallel-item:only-child::after {width: 0;}#sk-container-id-12 div.sk-dashed-wrapped {border: 1px dashed gray;margin: 0 0.4em 0.5em 0.4em;box-sizing: border-box;padding-bottom: 0.4em;background-color: white;}#sk-container-id-12 div.sk-label label {font-family: monospace;font-weight: bold;display: inline-block;line-height: 1.2em;}#sk-container-id-12 div.sk-label-container {text-align: center;}#sk-container-id-12 div.sk-container {/* jupyter's `normalize.less` sets `[hidden] { display: none; }` but bootstrap.min.css set `[hidden] { display: none !important; }` so we also need the `!important` here to be able to override the default hidden behavior on the sphinx rendered scikit-learn.org. See: https://github.com/scikit-learn/scikit-learn/issues/21755 */display: inline-block !important;position: relative;}#sk-container-id-12 div.sk-text-repr-fallback {display: none;}</style><div id=\"sk-container-id-12\" class=\"sk-top-container\"><div class=\"sk-text-repr-fallback\"><pre>Pipeline(steps=[(&#x27;preprocessor&#x27;,\n",
       "                 ColumnTransformer(remainder=&#x27;passthrough&#x27;,\n",
       "                                   transformers=[(&#x27;target&#x27;, TargetEncoder(),\n",
       "                                                  [&#x27;sector&#x27;]),\n",
       "                                                 (&#x27;num&#x27;, StandardScaler(),\n",
       "                                                  [&#x27;bedRoom&#x27;, &#x27;bathroom&#x27;,\n",
       "                                                   &#x27;built_up_area&#x27;,\n",
       "                                                   &#x27;servant room&#x27;,\n",
       "                                                   &#x27;store room&#x27;]),\n",
       "                                                 (&#x27;cat1&#x27;, OrdinalEncoder(),\n",
       "                                                  [&#x27;property_type&#x27;, &#x27;balcony&#x27;,\n",
       "                                                   &#x27;luxury_category&#x27;,\n",
       "                                                   &#x27;floor_category&#x27;]),\n",
       "                                                 (&#x27;cat2&#x27;,\n",
       "                                                  OneHotEncoder(drop=&#x27;first&#x27;,\n",
       "                                                                sparse_output=False),\n",
       "                                                  [&#x27;agePossession&#x27;,\n",
       "                                                   &#x27;furnishing_type&#x27;])])),\n",
       "                (&#x27;regressor&#x27;,\n",
       "                 RandomForestRegressor(max_depth=20, max_features=&#x27;auto&#x27;,\n",
       "                                       max_samples=1.0, n_estimators=300))])</pre><b>In a Jupyter environment, please rerun this cell to show the HTML representation or trust the notebook. <br />On GitHub, the HTML representation is unable to render, please try loading this page with nbviewer.org.</b></div><div class=\"sk-container\" hidden><div class=\"sk-item sk-dashed-wrapped\"><div class=\"sk-label-container\"><div class=\"sk-label sk-toggleable\"><input class=\"sk-toggleable__control sk-hidden--visually\" id=\"sk-estimator-id-109\" type=\"checkbox\" ><label for=\"sk-estimator-id-109\" class=\"sk-toggleable__label sk-toggleable__label-arrow\">Pipeline</label><div class=\"sk-toggleable__content\"><pre>Pipeline(steps=[(&#x27;preprocessor&#x27;,\n",
       "                 ColumnTransformer(remainder=&#x27;passthrough&#x27;,\n",
       "                                   transformers=[(&#x27;target&#x27;, TargetEncoder(),\n",
       "                                                  [&#x27;sector&#x27;]),\n",
       "                                                 (&#x27;num&#x27;, StandardScaler(),\n",
       "                                                  [&#x27;bedRoom&#x27;, &#x27;bathroom&#x27;,\n",
       "                                                   &#x27;built_up_area&#x27;,\n",
       "                                                   &#x27;servant room&#x27;,\n",
       "                                                   &#x27;store room&#x27;]),\n",
       "                                                 (&#x27;cat1&#x27;, OrdinalEncoder(),\n",
       "                                                  [&#x27;property_type&#x27;, &#x27;balcony&#x27;,\n",
       "                                                   &#x27;luxury_category&#x27;,\n",
       "                                                   &#x27;floor_category&#x27;]),\n",
       "                                                 (&#x27;cat2&#x27;,\n",
       "                                                  OneHotEncoder(drop=&#x27;first&#x27;,\n",
       "                                                                sparse_output=False),\n",
       "                                                  [&#x27;agePossession&#x27;,\n",
       "                                                   &#x27;furnishing_type&#x27;])])),\n",
       "                (&#x27;regressor&#x27;,\n",
       "                 RandomForestRegressor(max_depth=20, max_features=&#x27;auto&#x27;,\n",
       "                                       max_samples=1.0, n_estimators=300))])</pre></div></div></div><div class=\"sk-serial\"><div class=\"sk-item sk-dashed-wrapped\"><div class=\"sk-label-container\"><div class=\"sk-label sk-toggleable\"><input class=\"sk-toggleable__control sk-hidden--visually\" id=\"sk-estimator-id-110\" type=\"checkbox\" ><label for=\"sk-estimator-id-110\" class=\"sk-toggleable__label sk-toggleable__label-arrow\">preprocessor: ColumnTransformer</label><div class=\"sk-toggleable__content\"><pre>ColumnTransformer(remainder=&#x27;passthrough&#x27;,\n",
       "                  transformers=[(&#x27;target&#x27;, TargetEncoder(), [&#x27;sector&#x27;]),\n",
       "                                (&#x27;num&#x27;, StandardScaler(),\n",
       "                                 [&#x27;bedRoom&#x27;, &#x27;bathroom&#x27;, &#x27;built_up_area&#x27;,\n",
       "                                  &#x27;servant room&#x27;, &#x27;store room&#x27;]),\n",
       "                                (&#x27;cat1&#x27;, OrdinalEncoder(),\n",
       "                                 [&#x27;property_type&#x27;, &#x27;balcony&#x27;, &#x27;luxury_category&#x27;,\n",
       "                                  &#x27;floor_category&#x27;]),\n",
       "                                (&#x27;cat2&#x27;,\n",
       "                                 OneHotEncoder(drop=&#x27;first&#x27;,\n",
       "                                               sparse_output=False),\n",
       "                                 [&#x27;agePossession&#x27;, &#x27;furnishing_type&#x27;])])</pre></div></div></div><div class=\"sk-parallel\"><div class=\"sk-parallel-item\"><div class=\"sk-item\"><div class=\"sk-label-container\"><div class=\"sk-label sk-toggleable\"><input class=\"sk-toggleable__control sk-hidden--visually\" id=\"sk-estimator-id-111\" type=\"checkbox\" ><label for=\"sk-estimator-id-111\" class=\"sk-toggleable__label sk-toggleable__label-arrow\">target</label><div class=\"sk-toggleable__content\"><pre>[&#x27;sector&#x27;]</pre></div></div></div><div class=\"sk-serial\"><div class=\"sk-item\"><div class=\"sk-estimator sk-toggleable\"><input class=\"sk-toggleable__control sk-hidden--visually\" id=\"sk-estimator-id-112\" type=\"checkbox\" ><label for=\"sk-estimator-id-112\" class=\"sk-toggleable__label sk-toggleable__label-arrow\">TargetEncoder</label><div class=\"sk-toggleable__content\"><pre>TargetEncoder()</pre></div></div></div></div></div></div><div class=\"sk-parallel-item\"><div class=\"sk-item\"><div class=\"sk-label-container\"><div class=\"sk-label sk-toggleable\"><input class=\"sk-toggleable__control sk-hidden--visually\" id=\"sk-estimator-id-113\" type=\"checkbox\" ><label for=\"sk-estimator-id-113\" class=\"sk-toggleable__label sk-toggleable__label-arrow\">num</label><div class=\"sk-toggleable__content\"><pre>[&#x27;bedRoom&#x27;, &#x27;bathroom&#x27;, &#x27;built_up_area&#x27;, &#x27;servant room&#x27;, &#x27;store room&#x27;]</pre></div></div></div><div class=\"sk-serial\"><div class=\"sk-item\"><div class=\"sk-estimator sk-toggleable\"><input class=\"sk-toggleable__control sk-hidden--visually\" id=\"sk-estimator-id-114\" type=\"checkbox\" ><label for=\"sk-estimator-id-114\" class=\"sk-toggleable__label sk-toggleable__label-arrow\">StandardScaler</label><div class=\"sk-toggleable__content\"><pre>StandardScaler()</pre></div></div></div></div></div></div><div class=\"sk-parallel-item\"><div class=\"sk-item\"><div class=\"sk-label-container\"><div class=\"sk-label sk-toggleable\"><input class=\"sk-toggleable__control sk-hidden--visually\" id=\"sk-estimator-id-115\" type=\"checkbox\" ><label for=\"sk-estimator-id-115\" class=\"sk-toggleable__label sk-toggleable__label-arrow\">cat1</label><div class=\"sk-toggleable__content\"><pre>[&#x27;property_type&#x27;, &#x27;balcony&#x27;, &#x27;luxury_category&#x27;, &#x27;floor_category&#x27;]</pre></div></div></div><div class=\"sk-serial\"><div class=\"sk-item\"><div class=\"sk-estimator sk-toggleable\"><input class=\"sk-toggleable__control sk-hidden--visually\" id=\"sk-estimator-id-116\" type=\"checkbox\" ><label for=\"sk-estimator-id-116\" class=\"sk-toggleable__label sk-toggleable__label-arrow\">OrdinalEncoder</label><div class=\"sk-toggleable__content\"><pre>OrdinalEncoder()</pre></div></div></div></div></div></div><div class=\"sk-parallel-item\"><div class=\"sk-item\"><div class=\"sk-label-container\"><div class=\"sk-label sk-toggleable\"><input class=\"sk-toggleable__control sk-hidden--visually\" id=\"sk-estimator-id-117\" type=\"checkbox\" ><label for=\"sk-estimator-id-117\" class=\"sk-toggleable__label sk-toggleable__label-arrow\">cat2</label><div class=\"sk-toggleable__content\"><pre>[&#x27;agePossession&#x27;, &#x27;furnishing_type&#x27;]</pre></div></div></div><div class=\"sk-serial\"><div class=\"sk-item\"><div class=\"sk-estimator sk-toggleable\"><input class=\"sk-toggleable__control sk-hidden--visually\" id=\"sk-estimator-id-118\" type=\"checkbox\" ><label for=\"sk-estimator-id-118\" class=\"sk-toggleable__label sk-toggleable__label-arrow\">OneHotEncoder</label><div class=\"sk-toggleable__content\"><pre>OneHotEncoder(drop=&#x27;first&#x27;, sparse_output=False)</pre></div></div></div></div></div></div><div class=\"sk-parallel-item\"><div class=\"sk-item\"><div class=\"sk-label-container\"><div class=\"sk-label sk-toggleable\"><input class=\"sk-toggleable__control sk-hidden--visually\" id=\"sk-estimator-id-119\" type=\"checkbox\" ><label for=\"sk-estimator-id-119\" class=\"sk-toggleable__label sk-toggleable__label-arrow\">remainder</label><div class=\"sk-toggleable__content\"><pre>[]</pre></div></div></div><div class=\"sk-serial\"><div class=\"sk-item\"><div class=\"sk-estimator sk-toggleable\"><input class=\"sk-toggleable__control sk-hidden--visually\" id=\"sk-estimator-id-120\" type=\"checkbox\" ><label for=\"sk-estimator-id-120\" class=\"sk-toggleable__label sk-toggleable__label-arrow\">passthrough</label><div class=\"sk-toggleable__content\"><pre>passthrough</pre></div></div></div></div></div></div></div></div><div class=\"sk-item\"><div class=\"sk-estimator sk-toggleable\"><input class=\"sk-toggleable__control sk-hidden--visually\" id=\"sk-estimator-id-121\" type=\"checkbox\" ><label for=\"sk-estimator-id-121\" class=\"sk-toggleable__label sk-toggleable__label-arrow\">RandomForestRegressor</label><div class=\"sk-toggleable__content\"><pre>RandomForestRegressor(max_depth=20, max_features=&#x27;auto&#x27;, max_samples=1.0,\n",
       "                      n_estimators=300)</pre></div></div></div></div></div></div></div>"
      ],
      "text/plain": [
       "Pipeline(steps=[('preprocessor',\n",
       "                 ColumnTransformer(remainder='passthrough',\n",
       "                                   transformers=[('target', TargetEncoder(),\n",
       "                                                  ['sector']),\n",
       "                                                 ('num', StandardScaler(),\n",
       "                                                  ['bedRoom', 'bathroom',\n",
       "                                                   'built_up_area',\n",
       "                                                   'servant room',\n",
       "                                                   'store room']),\n",
       "                                                 ('cat1', OrdinalEncoder(),\n",
       "                                                  ['property_type', 'balcony',\n",
       "                                                   'luxury_category',\n",
       "                                                   'floor_category']),\n",
       "                                                 ('cat2',\n",
       "                                                  OneHotEncoder(drop='first',\n",
       "                                                                sparse_output=False),\n",
       "                                                  ['agePossession',\n",
       "                                                   'furnishing_type'])])),\n",
       "                ('regressor',\n",
       "                 RandomForestRegressor(max_depth=20, max_features='auto',\n",
       "                                       max_samples=1.0, n_estimators=300))])"
      ]
     },
     "execution_count": 474,
     "metadata": {},
     "output_type": "execute_result"
    }
   ],
   "source": [
    "# Create the optimum model so far\n",
    "\n",
    "# Creating a column transformer for encoding\n",
    "columns_to_encode_Ord = ['property_type', 'balcony', 'luxury_category', 'floor_category']\n",
    "columns_to_encodeOHE = ['agePossession', 'furnishing_type']\n",
    "columns_to_scale = ['bedRoom', 'bathroom', 'built_up_area', 'servant room', 'store room']\n",
    "column_to_target = ['sector']\n",
    "\n",
    "# Creating a column transformer for preprocessing\n",
    "preprocessor = ColumnTransformer(\n",
    "  transformers = [\n",
    "   ('target', ce.TargetEncoder(), column_to_target),\n",
    "   ('num', StandardScaler(), columns_to_scale),\n",
    "   ('cat1', OrdinalEncoder(), columns_to_encode_Ord),\n",
    "   ('cat2', OneHotEncoder(drop='first',sparse_output=False), columns_to_encodeOHE),\n",
    "  ],remainder='passthrough'\n",
    ") \n",
    "\n",
    "#create a pipeline using this preprocessor and model\n",
    "pipeline = Pipeline([\n",
    "    ('preprocessor', preprocessor),\n",
    "    ('regressor', RandomForestRegressor(max_depth = 20, max_features = 'auto', max_samples = 1.0, n_estimators = 300))\n",
    "])\n",
    "\n",
    "pipeline.fit(X, y_transformed)"
   ]
  },
  {
   "cell_type": "code",
   "execution_count": 479,
   "metadata": {},
   "outputs": [],
   "source": [
    "import pickle\n",
    "\n",
    "with open('./pickle/pipeline.pkl', 'wb') as file:\n",
    "    pickle.dump(pipeline, file)"
   ]
  },
  {
   "cell_type": "code",
   "execution_count": 480,
   "metadata": {},
   "outputs": [],
   "source": [
    "with open('./pickle/df.pkl', 'wb') as file:\n",
    "    pickle.dump(X, file)"
   ]
  },
  {
   "attachments": {},
   "cell_type": "markdown",
   "metadata": {},
   "source": [
    "# Try prediction"
   ]
  },
  {
   "cell_type": "code",
   "execution_count": 497,
   "metadata": {},
   "outputs": [
    {
     "data": {
      "text/html": [
       "<div>\n",
       "<style scoped>\n",
       "    .dataframe tbody tr th:only-of-type {\n",
       "        vertical-align: middle;\n",
       "    }\n",
       "\n",
       "    .dataframe tbody tr th {\n",
       "        vertical-align: top;\n",
       "    }\n",
       "\n",
       "    .dataframe thead th {\n",
       "        text-align: right;\n",
       "    }\n",
       "</style>\n",
       "<table border=\"1\" class=\"dataframe\">\n",
       "  <thead>\n",
       "    <tr style=\"text-align: right;\">\n",
       "      <th></th>\n",
       "      <th>property_type</th>\n",
       "      <th>sector</th>\n",
       "      <th>bedRoom</th>\n",
       "      <th>bathroom</th>\n",
       "      <th>balcony</th>\n",
       "      <th>agePossession</th>\n",
       "      <th>built_up_area</th>\n",
       "      <th>servant room</th>\n",
       "      <th>store room</th>\n",
       "      <th>furnishing_type</th>\n",
       "      <th>luxury_category</th>\n",
       "      <th>floor_category</th>\n",
       "    </tr>\n",
       "  </thead>\n",
       "  <tbody>\n",
       "    <tr>\n",
       "      <th>0</th>\n",
       "      <td>flat</td>\n",
       "      <td>sector 36</td>\n",
       "      <td>3.0</td>\n",
       "      <td>2.0</td>\n",
       "      <td>2</td>\n",
       "      <td>New Property</td>\n",
       "      <td>850.0</td>\n",
       "      <td>0.0</td>\n",
       "      <td>0.0</td>\n",
       "      <td>unfurnished</td>\n",
       "      <td>Low</td>\n",
       "      <td>Low Floor</td>\n",
       "    </tr>\n",
       "    <tr>\n",
       "      <th>1</th>\n",
       "      <td>flat</td>\n",
       "      <td>sector 89</td>\n",
       "      <td>2.0</td>\n",
       "      <td>2.0</td>\n",
       "      <td>2</td>\n",
       "      <td>New Property</td>\n",
       "      <td>1226.0</td>\n",
       "      <td>1.0</td>\n",
       "      <td>0.0</td>\n",
       "      <td>unfurnished</td>\n",
       "      <td>Low</td>\n",
       "      <td>Mid Floor</td>\n",
       "    </tr>\n",
       "    <tr>\n",
       "      <th>2</th>\n",
       "      <td>flat</td>\n",
       "      <td>sohna road</td>\n",
       "      <td>2.0</td>\n",
       "      <td>2.0</td>\n",
       "      <td>1</td>\n",
       "      <td>New Property</td>\n",
       "      <td>1000.0</td>\n",
       "      <td>0.0</td>\n",
       "      <td>0.0</td>\n",
       "      <td>unfurnished</td>\n",
       "      <td>Low</td>\n",
       "      <td>High Floor</td>\n",
       "    </tr>\n",
       "  </tbody>\n",
       "</table>\n",
       "</div>"
      ],
      "text/plain": [
       "  property_type      sector  bedRoom  bathroom balcony agePossession  \\\n",
       "0          flat   sector 36      3.0       2.0       2  New Property   \n",
       "1          flat   sector 89      2.0       2.0       2  New Property   \n",
       "2          flat  sohna road      2.0       2.0       1  New Property   \n",
       "\n",
       "   built_up_area  servant room  store room furnishing_type luxury_category  \\\n",
       "0          850.0           0.0         0.0     unfurnished             Low   \n",
       "1         1226.0           1.0         0.0     unfurnished             Low   \n",
       "2         1000.0           0.0         0.0     unfurnished             Low   \n",
       "\n",
       "  floor_category  \n",
       "0      Low Floor  \n",
       "1      Mid Floor  \n",
       "2     High Floor  "
      ]
     },
     "execution_count": 497,
     "metadata": {},
     "output_type": "execute_result"
    }
   ],
   "source": [
    "X.iloc[0:3, 0:]"
   ]
  },
  {
   "cell_type": "code",
   "execution_count": 498,
   "metadata": {},
   "outputs": [
    {
     "data": {
      "text/plain": [
       "array([0.78150681, 0.95757116, 0.40166922])"
      ]
     },
     "execution_count": 498,
     "metadata": {},
     "output_type": "execute_result"
    }
   ],
   "source": [
    "import pickle\n",
    "\n",
    "with open('./pickle/pipeline.pkl', 'rb') as file:\n",
    "    model = pickle.load(file)\n",
    "\n",
    "np.expm1(model.predict(X.iloc[0:3, 0:]))\n",
    "# Actual values : np.expm1(y_transformed[0:3])\n",
    "# [0.82, 0.95, 0.32]\n",
    "# Predicted:\n",
    "# [0.78150681, 0.95757116, 0.40166922]"
   ]
  },
  {
   "cell_type": "code",
   "execution_count": 500,
   "metadata": {},
   "outputs": [
    {
     "data": {
      "text/plain": [
       "Index(['property_type', 'sector', 'bedRoom', 'bathroom', 'balcony',\n",
       "       'agePossession', 'built_up_area', 'servant room', 'store room',\n",
       "       'furnishing_type', 'luxury_category', 'floor_category'],\n",
       "      dtype='object')"
      ]
     },
     "execution_count": 500,
     "metadata": {},
     "output_type": "execute_result"
    }
   ],
   "source": [
    "X.columns"
   ]
  }
 ],
 "metadata": {
  "kernelspec": {
   "display_name": "envDS",
   "language": "python",
   "name": "python3"
  },
  "language_info": {
   "codemirror_mode": {
    "name": "ipython",
    "version": 3
   },
   "file_extension": ".py",
   "mimetype": "text/x-python",
   "name": "python",
   "nbconvert_exporter": "python",
   "pygments_lexer": "ipython3",
   "version": "3.9.13"
  },
  "orig_nbformat": 4
 },
 "nbformat": 4,
 "nbformat_minor": 2
}
